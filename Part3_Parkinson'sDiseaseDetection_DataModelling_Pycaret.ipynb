{
  "cells": [
    {
      "cell_type": "markdown",
      "metadata": {
        "id": "c-7cQAHLFsqS"
      },
      "source": [
        "# PART III - Data Modelling for Parkinson's Disease Detection using Ensemble Techniques in ML"
      ]
    },
    {
      "cell_type": "markdown",
      "metadata": {
        "id": "ScH_sKwRFsqT"
      },
      "source": [
        "In the third part of Parkinson's Disease Detection project, we will use the PyCaret library to build various machine learning models, and also use various ensemble techniques to predict Parkinson's disease with good evaluation metrics scores.\n",
        "\n",
        "So let's get started.\n",
        "\n",
        "In this section, we will perform the following steps:\n",
        "- Set the target column\n",
        "- Create Model: create a model, perform stratified cross validation and evaluate classification metrics\n",
        "- Tune Model: tune the hyper-parameters of a classification model\n",
        "- Ensemble Model: uses bagging and boosting techniques to reduce variance and bias respectively\n",
        "- Blend Model: combines different machine learning algorithms and use a majority vote or the average predicted probabilities in case of classification to predict the final outcome\n",
        "- Stacking: builds a meta model that generates the final prediction using the prediction of multiple base estimators\n",
        "- Plot Model: analyze model performance using various plots\n",
        "- Finalize Model: finalize the best model at the end of the experiment\n",
        "- Predict Model: make predictions on new / unseen data\n",
        "- Save / Load Model: save / load a model for future use\n",
        "\n",
        "\n",
        "To begin with, we'll import the necessary libraries and load the dataset."
      ]
    },
    {
      "cell_type": "markdown",
      "metadata": {
        "id": "jF1iG0y4FsqT"
      },
      "source": [
        "## **Loading the libraries**"
      ]
    },
    {
      "cell_type": "code",
      "execution_count": null,
      "metadata": {
        "id": "upAaUrQBFsqT"
      },
      "outputs": [],
      "source": [
        "import numpy as np \n",
        "import pandas as pd \n",
        "from matplotlib import pyplot as plt\n",
        "import seaborn as sns\n",
        "import statsmodels.api as sm\n",
        "import scipy.stats as stats\n",
        "from sklearn.preprocessing import LabelEncoder\n",
        "import copy\n",
        "from pycaret import classification\n",
        "from pycaret.classification import *\n",
        "\n",
        "# to remove future warnings with seaborn\n",
        "import warnings\n",
        "warnings.simplefilter(action='ignore', category=FutureWarning)\n",
        "\n",
        "# to disable INFO LOG messages\n",
        "import logging, sys\n",
        "logging.disable(sys.maxsize)"
      ]
    },
    {
      "cell_type": "markdown",
      "metadata": {
        "id": "QhUJGlvdFsqU"
      },
      "source": [
        "## **Importing the dataset**"
      ]
    },
    {
      "cell_type": "code",
      "execution_count": null,
      "metadata": {
        "id": "2brdA3_kFsqU",
        "outputId": "a2f16f3f-0cc7-4934-e269-7acb9cd31999"
      },
      "outputs": [
        {
          "data": {
            "text/html": [
              "<div>\n",
              "<style scoped>\n",
              "    .dataframe tbody tr th:only-of-type {\n",
              "        vertical-align: middle;\n",
              "    }\n",
              "\n",
              "    .dataframe tbody tr th {\n",
              "        vertical-align: top;\n",
              "    }\n",
              "\n",
              "    .dataframe thead th {\n",
              "        text-align: right;\n",
              "    }\n",
              "</style>\n",
              "<table border=\"1\" class=\"dataframe\">\n",
              "  <thead>\n",
              "    <tr style=\"text-align: right;\">\n",
              "      <th></th>\n",
              "      <th>name</th>\n",
              "      <th>MDVP:Fo(Hz)</th>\n",
              "      <th>MDVP:Fhi(Hz)</th>\n",
              "      <th>MDVP:Flo(Hz)</th>\n",
              "      <th>MDVP:Jitter(%)</th>\n",
              "      <th>MDVP:Jitter(Abs)</th>\n",
              "      <th>MDVP:RAP</th>\n",
              "      <th>MDVP:PPQ</th>\n",
              "      <th>Jitter:DDP</th>\n",
              "      <th>MDVP:Shimmer</th>\n",
              "      <th>...</th>\n",
              "      <th>Shimmer:DDA</th>\n",
              "      <th>NHR</th>\n",
              "      <th>HNR</th>\n",
              "      <th>status</th>\n",
              "      <th>RPDE</th>\n",
              "      <th>DFA</th>\n",
              "      <th>spread1</th>\n",
              "      <th>spread2</th>\n",
              "      <th>D2</th>\n",
              "      <th>PPE</th>\n",
              "    </tr>\n",
              "  </thead>\n",
              "  <tbody>\n",
              "    <tr>\n",
              "      <th>0</th>\n",
              "      <td>phon_R01_S01_1</td>\n",
              "      <td>119.992</td>\n",
              "      <td>157.302</td>\n",
              "      <td>74.997</td>\n",
              "      <td>0.00784</td>\n",
              "      <td>0.00007</td>\n",
              "      <td>0.00370</td>\n",
              "      <td>0.00554</td>\n",
              "      <td>0.01109</td>\n",
              "      <td>0.04374</td>\n",
              "      <td>...</td>\n",
              "      <td>0.06545</td>\n",
              "      <td>0.02211</td>\n",
              "      <td>21.033</td>\n",
              "      <td>1</td>\n",
              "      <td>0.414783</td>\n",
              "      <td>0.815285</td>\n",
              "      <td>-4.813031</td>\n",
              "      <td>0.266482</td>\n",
              "      <td>2.301442</td>\n",
              "      <td>0.284654</td>\n",
              "    </tr>\n",
              "    <tr>\n",
              "      <th>1</th>\n",
              "      <td>phon_R01_S01_2</td>\n",
              "      <td>122.400</td>\n",
              "      <td>148.650</td>\n",
              "      <td>113.819</td>\n",
              "      <td>0.00968</td>\n",
              "      <td>0.00008</td>\n",
              "      <td>0.00465</td>\n",
              "      <td>0.00696</td>\n",
              "      <td>0.01394</td>\n",
              "      <td>0.06134</td>\n",
              "      <td>...</td>\n",
              "      <td>0.09403</td>\n",
              "      <td>0.01929</td>\n",
              "      <td>19.085</td>\n",
              "      <td>1</td>\n",
              "      <td>0.458359</td>\n",
              "      <td>0.819521</td>\n",
              "      <td>-4.075192</td>\n",
              "      <td>0.335590</td>\n",
              "      <td>2.486855</td>\n",
              "      <td>0.368674</td>\n",
              "    </tr>\n",
              "    <tr>\n",
              "      <th>2</th>\n",
              "      <td>phon_R01_S01_3</td>\n",
              "      <td>116.682</td>\n",
              "      <td>131.111</td>\n",
              "      <td>111.555</td>\n",
              "      <td>0.01050</td>\n",
              "      <td>0.00009</td>\n",
              "      <td>0.00544</td>\n",
              "      <td>0.00781</td>\n",
              "      <td>0.01633</td>\n",
              "      <td>0.05233</td>\n",
              "      <td>...</td>\n",
              "      <td>0.08270</td>\n",
              "      <td>0.01309</td>\n",
              "      <td>20.651</td>\n",
              "      <td>1</td>\n",
              "      <td>0.429895</td>\n",
              "      <td>0.825288</td>\n",
              "      <td>-4.443179</td>\n",
              "      <td>0.311173</td>\n",
              "      <td>2.342259</td>\n",
              "      <td>0.332634</td>\n",
              "    </tr>\n",
              "    <tr>\n",
              "      <th>3</th>\n",
              "      <td>phon_R01_S01_4</td>\n",
              "      <td>116.676</td>\n",
              "      <td>137.871</td>\n",
              "      <td>111.366</td>\n",
              "      <td>0.00997</td>\n",
              "      <td>0.00009</td>\n",
              "      <td>0.00502</td>\n",
              "      <td>0.00698</td>\n",
              "      <td>0.01505</td>\n",
              "      <td>0.05492</td>\n",
              "      <td>...</td>\n",
              "      <td>0.08771</td>\n",
              "      <td>0.01353</td>\n",
              "      <td>20.644</td>\n",
              "      <td>1</td>\n",
              "      <td>0.434969</td>\n",
              "      <td>0.819235</td>\n",
              "      <td>-4.117501</td>\n",
              "      <td>0.334147</td>\n",
              "      <td>2.405554</td>\n",
              "      <td>0.368975</td>\n",
              "    </tr>\n",
              "    <tr>\n",
              "      <th>4</th>\n",
              "      <td>phon_R01_S01_5</td>\n",
              "      <td>116.014</td>\n",
              "      <td>141.781</td>\n",
              "      <td>110.655</td>\n",
              "      <td>0.01284</td>\n",
              "      <td>0.00011</td>\n",
              "      <td>0.00655</td>\n",
              "      <td>0.00908</td>\n",
              "      <td>0.01966</td>\n",
              "      <td>0.06425</td>\n",
              "      <td>...</td>\n",
              "      <td>0.10470</td>\n",
              "      <td>0.01767</td>\n",
              "      <td>19.649</td>\n",
              "      <td>1</td>\n",
              "      <td>0.417356</td>\n",
              "      <td>0.823484</td>\n",
              "      <td>-3.747787</td>\n",
              "      <td>0.234513</td>\n",
              "      <td>2.332180</td>\n",
              "      <td>0.410335</td>\n",
              "    </tr>\n",
              "  </tbody>\n",
              "</table>\n",
              "<p>5 rows × 24 columns</p>\n",
              "</div>"
            ],
            "text/plain": [
              "             name  MDVP:Fo(Hz)  MDVP:Fhi(Hz)  MDVP:Flo(Hz)  MDVP:Jitter(%)  \\\n",
              "0  phon_R01_S01_1      119.992       157.302        74.997         0.00784   \n",
              "1  phon_R01_S01_2      122.400       148.650       113.819         0.00968   \n",
              "2  phon_R01_S01_3      116.682       131.111       111.555         0.01050   \n",
              "3  phon_R01_S01_4      116.676       137.871       111.366         0.00997   \n",
              "4  phon_R01_S01_5      116.014       141.781       110.655         0.01284   \n",
              "\n",
              "   MDVP:Jitter(Abs)  MDVP:RAP  MDVP:PPQ  Jitter:DDP  MDVP:Shimmer  ...  \\\n",
              "0           0.00007   0.00370   0.00554     0.01109       0.04374  ...   \n",
              "1           0.00008   0.00465   0.00696     0.01394       0.06134  ...   \n",
              "2           0.00009   0.00544   0.00781     0.01633       0.05233  ...   \n",
              "3           0.00009   0.00502   0.00698     0.01505       0.05492  ...   \n",
              "4           0.00011   0.00655   0.00908     0.01966       0.06425  ...   \n",
              "\n",
              "   Shimmer:DDA      NHR     HNR  status      RPDE       DFA   spread1  \\\n",
              "0      0.06545  0.02211  21.033       1  0.414783  0.815285 -4.813031   \n",
              "1      0.09403  0.01929  19.085       1  0.458359  0.819521 -4.075192   \n",
              "2      0.08270  0.01309  20.651       1  0.429895  0.825288 -4.443179   \n",
              "3      0.08771  0.01353  20.644       1  0.434969  0.819235 -4.117501   \n",
              "4      0.10470  0.01767  19.649       1  0.417356  0.823484 -3.747787   \n",
              "\n",
              "    spread2        D2       PPE  \n",
              "0  0.266482  2.301442  0.284654  \n",
              "1  0.335590  2.486855  0.368674  \n",
              "2  0.311173  2.342259  0.332634  \n",
              "3  0.334147  2.405554  0.368975  \n",
              "4  0.234513  2.332180  0.410335  \n",
              "\n",
              "[5 rows x 24 columns]"
            ]
          },
          "execution_count": 2,
          "metadata": {},
          "output_type": "execute_result"
        }
      ],
      "source": [
        "dataset = pd.read_csv('ParkinsonCleanData.csv',index_col=0)\n",
        "dataset.head()"
      ]
    },
    {
      "cell_type": "markdown",
      "metadata": {
        "id": "e2uO7yn8FsqU"
      },
      "source": [
        "## **Overview**"
      ]
    },
    {
      "cell_type": "markdown",
      "metadata": {
        "id": "WpncyjYKFsqU"
      },
      "source": [
        "The classification goal is to predict the likelihood of a person having Parkinson'e disease. This is a binary classification model as the goal is to predict categorical class labels which are discrete and unoredered. \n",
        "- In this project, the categorical class is:\n",
        "    - 1 (patient with Parkinson's disease)\n",
        "    - 0 (patient without Parkinson's disease)"
      ]
    },
    {
      "cell_type": "markdown",
      "metadata": {
        "id": "uuYzhcH-FsqU"
      },
      "source": [
        "PyCaret's classification module (pycaret.classification) is a supervised machine learning module which is used for classifying the elements into a binary group based on various techniques and algorithms. \n",
        "The PyCaret classification module can be used for Binary or Multi-class classification problems. It has over 18 algorithms and 14 plots to analyze the performance of models."
      ]
    },
    {
      "cell_type": "markdown",
      "metadata": {
        "id": "vIo7rhxbFsqU"
      },
      "source": [
        "## **Preparing the Dataset**"
      ]
    },
    {
      "cell_type": "markdown",
      "metadata": {
        "id": "21_ACtwEFsqV"
      },
      "source": [
        "The ParkinsonCleanData contains a total number of 195 observations out of which only 147 observations have target class equal to 1.\n",
        "In order to demonstrate the predict_model() function on unseen data, a sample of 10 records has been withheld from the original dataset to be used for predictions. This should not be confused with a train/test split as this particular split is performed to simulate a real life scenario. Another way to think about this is that these 10 records are not available at the time when the machine learning experiment was performed."
      ]
    },
    {
      "cell_type": "code",
      "execution_count": null,
      "metadata": {
        "id": "Ff2OpYIVFsqV",
        "outputId": "96a2363f-3e73-4faf-f47e-4c59b8d0d6b1"
      },
      "outputs": [
        {
          "name": "stdout",
          "output_type": "stream",
          "text": [
            "Data for Modeling: (185, 24)\n",
            "Unseen Data For Predictions: (10, 24)\n"
          ]
        }
      ],
      "source": [
        "data = dataset.sample(frac=0.95, random_state=786)\n",
        "data_unseen = dataset.drop(data.index)\n",
        "data.reset_index(inplace=True, drop=True)\n",
        "data_unseen.reset_index(inplace=True, drop=True)\n",
        "print('Data for Modeling: ' + str(data.shape))\n",
        "print('Unseen Data For Predictions: ' + str(data_unseen.shape))"
      ]
    },
    {
      "cell_type": "markdown",
      "metadata": {
        "id": "GNkIQwk6FsqV"
      },
      "source": [
        "## **Setting the Target column**"
      ]
    },
    {
      "cell_type": "markdown",
      "metadata": {
        "id": "wHMU4Q8-FsqV"
      },
      "source": [
        "The setup() function initializes the environment in pycaret, and prepares the data for modeling and deployment. setup() must be called before executing any other function in pycaret. It takes two mandatory parameters: a pandas dataframe and the name of the target column. All other parameters are optional."
      ]
    },
    {
      "cell_type": "markdown",
      "metadata": {
        "id": "scHz9oz3FsqV"
      },
      "source": [
        "When setup() is executed, PyCaret's inference algorithm will automatically infer the data types for all features based on certain properties. The data type should be inferred correctly but this is not always the case. To account for this, PyCaret displays a table containing the features and their inferred data types after setup() is executed. If all of the data types are correctly identified enter can be pressed to continue or quit can be typed to end the expriment. "
      ]
    },
    {
      "cell_type": "markdown",
      "metadata": {
        "id": "KSFPSvaZFsqV"
      },
      "source": [
        "### ***Train-Test Split (70:30)***"
      ]
    },
    {
      "cell_type": "markdown",
      "metadata": {
        "id": "Z1UEG82pFsqV"
      },
      "source": [
        "In Machine Learning, we spilt the dataset into train and test data. We perform optimization of the hyperparameters in PyCaret using k-fold cross validation on train dataset only. Test dataset is used only to evaluate metrics and determine if the model has over-fitted the data. By default, PyCaret uses 70% of the dataset for training and 30% for testing. The proportion of split can be changed using train_size parameter within setup()."
      ]
    },
    {
      "cell_type": "code",
      "execution_count": null,
      "metadata": {
        "scrolled": false,
        "id": "5vbM8plRFsqV",
        "outputId": "cc082e75-3e5d-4854-d1ca-e760ee62d07f"
      },
      "outputs": [
        {
          "name": "stdout",
          "output_type": "stream",
          "text": [
            "Setup Succesfully Completed!\n"
          ]
        },
        {
          "data": {
            "text/html": [
              "<style  type=\"text/css\" >\n",
              "#T_01265050_273a_11eb_8f54_1065307ae51arow15_col1,#T_01265050_273a_11eb_8f54_1065307ae51arow17_col1,#T_01265050_273a_11eb_8f54_1065307ae51arow22_col1,#T_01265050_273a_11eb_8f54_1065307ae51arow28_col1,#T_01265050_273a_11eb_8f54_1065307ae51arow42_col1{\n",
              "            background-color:  lightgreen;\n",
              "        }</style><table id=\"T_01265050_273a_11eb_8f54_1065307ae51a\" ><thead>    <tr>        <th class=\"blank level0\" ></th>        <th class=\"col_heading level0 col0\" >Description</th>        <th class=\"col_heading level0 col1\" >Value</th>    </tr></thead><tbody>\n",
              "                <tr>\n",
              "                        <th id=\"T_01265050_273a_11eb_8f54_1065307ae51alevel0_row0\" class=\"row_heading level0 row0\" >0</th>\n",
              "                        <td id=\"T_01265050_273a_11eb_8f54_1065307ae51arow0_col0\" class=\"data row0 col0\" >session_id</td>\n",
              "                        <td id=\"T_01265050_273a_11eb_8f54_1065307ae51arow0_col1\" class=\"data row0 col1\" >2964</td>\n",
              "            </tr>\n",
              "            <tr>\n",
              "                        <th id=\"T_01265050_273a_11eb_8f54_1065307ae51alevel0_row1\" class=\"row_heading level0 row1\" >1</th>\n",
              "                        <td id=\"T_01265050_273a_11eb_8f54_1065307ae51arow1_col0\" class=\"data row1 col0\" >Target Type</td>\n",
              "                        <td id=\"T_01265050_273a_11eb_8f54_1065307ae51arow1_col1\" class=\"data row1 col1\" >Binary</td>\n",
              "            </tr>\n",
              "            <tr>\n",
              "                        <th id=\"T_01265050_273a_11eb_8f54_1065307ae51alevel0_row2\" class=\"row_heading level0 row2\" >2</th>\n",
              "                        <td id=\"T_01265050_273a_11eb_8f54_1065307ae51arow2_col0\" class=\"data row2 col0\" >Label Encoded</td>\n",
              "                        <td id=\"T_01265050_273a_11eb_8f54_1065307ae51arow2_col1\" class=\"data row2 col1\" >0: 0, 1: 1</td>\n",
              "            </tr>\n",
              "            <tr>\n",
              "                        <th id=\"T_01265050_273a_11eb_8f54_1065307ae51alevel0_row3\" class=\"row_heading level0 row3\" >3</th>\n",
              "                        <td id=\"T_01265050_273a_11eb_8f54_1065307ae51arow3_col0\" class=\"data row3 col0\" >Original Data</td>\n",
              "                        <td id=\"T_01265050_273a_11eb_8f54_1065307ae51arow3_col1\" class=\"data row3 col1\" >(185, 24)</td>\n",
              "            </tr>\n",
              "            <tr>\n",
              "                        <th id=\"T_01265050_273a_11eb_8f54_1065307ae51alevel0_row4\" class=\"row_heading level0 row4\" >4</th>\n",
              "                        <td id=\"T_01265050_273a_11eb_8f54_1065307ae51arow4_col0\" class=\"data row4 col0\" >Missing Values </td>\n",
              "                        <td id=\"T_01265050_273a_11eb_8f54_1065307ae51arow4_col1\" class=\"data row4 col1\" >False</td>\n",
              "            </tr>\n",
              "            <tr>\n",
              "                        <th id=\"T_01265050_273a_11eb_8f54_1065307ae51alevel0_row5\" class=\"row_heading level0 row5\" >5</th>\n",
              "                        <td id=\"T_01265050_273a_11eb_8f54_1065307ae51arow5_col0\" class=\"data row5 col0\" >Numeric Features </td>\n",
              "                        <td id=\"T_01265050_273a_11eb_8f54_1065307ae51arow5_col1\" class=\"data row5 col1\" >22</td>\n",
              "            </tr>\n",
              "            <tr>\n",
              "                        <th id=\"T_01265050_273a_11eb_8f54_1065307ae51alevel0_row6\" class=\"row_heading level0 row6\" >6</th>\n",
              "                        <td id=\"T_01265050_273a_11eb_8f54_1065307ae51arow6_col0\" class=\"data row6 col0\" >Categorical Features </td>\n",
              "                        <td id=\"T_01265050_273a_11eb_8f54_1065307ae51arow6_col1\" class=\"data row6 col1\" >1</td>\n",
              "            </tr>\n",
              "            <tr>\n",
              "                        <th id=\"T_01265050_273a_11eb_8f54_1065307ae51alevel0_row7\" class=\"row_heading level0 row7\" >7</th>\n",
              "                        <td id=\"T_01265050_273a_11eb_8f54_1065307ae51arow7_col0\" class=\"data row7 col0\" >Ordinal Features </td>\n",
              "                        <td id=\"T_01265050_273a_11eb_8f54_1065307ae51arow7_col1\" class=\"data row7 col1\" >False</td>\n",
              "            </tr>\n",
              "            <tr>\n",
              "                        <th id=\"T_01265050_273a_11eb_8f54_1065307ae51alevel0_row8\" class=\"row_heading level0 row8\" >8</th>\n",
              "                        <td id=\"T_01265050_273a_11eb_8f54_1065307ae51arow8_col0\" class=\"data row8 col0\" >High Cardinality Features </td>\n",
              "                        <td id=\"T_01265050_273a_11eb_8f54_1065307ae51arow8_col1\" class=\"data row8 col1\" >False</td>\n",
              "            </tr>\n",
              "            <tr>\n",
              "                        <th id=\"T_01265050_273a_11eb_8f54_1065307ae51alevel0_row9\" class=\"row_heading level0 row9\" >9</th>\n",
              "                        <td id=\"T_01265050_273a_11eb_8f54_1065307ae51arow9_col0\" class=\"data row9 col0\" >High Cardinality Method </td>\n",
              "                        <td id=\"T_01265050_273a_11eb_8f54_1065307ae51arow9_col1\" class=\"data row9 col1\" >None</td>\n",
              "            </tr>\n",
              "            <tr>\n",
              "                        <th id=\"T_01265050_273a_11eb_8f54_1065307ae51alevel0_row10\" class=\"row_heading level0 row10\" >10</th>\n",
              "                        <td id=\"T_01265050_273a_11eb_8f54_1065307ae51arow10_col0\" class=\"data row10 col0\" >Sampled Data</td>\n",
              "                        <td id=\"T_01265050_273a_11eb_8f54_1065307ae51arow10_col1\" class=\"data row10 col1\" >(185, 24)</td>\n",
              "            </tr>\n",
              "            <tr>\n",
              "                        <th id=\"T_01265050_273a_11eb_8f54_1065307ae51alevel0_row11\" class=\"row_heading level0 row11\" >11</th>\n",
              "                        <td id=\"T_01265050_273a_11eb_8f54_1065307ae51arow11_col0\" class=\"data row11 col0\" >Transformed Train Set</td>\n",
              "                        <td id=\"T_01265050_273a_11eb_8f54_1065307ae51arow11_col1\" class=\"data row11 col1\" >(129, 13)</td>\n",
              "            </tr>\n",
              "            <tr>\n",
              "                        <th id=\"T_01265050_273a_11eb_8f54_1065307ae51alevel0_row12\" class=\"row_heading level0 row12\" >12</th>\n",
              "                        <td id=\"T_01265050_273a_11eb_8f54_1065307ae51arow12_col0\" class=\"data row12 col0\" >Transformed Test Set</td>\n",
              "                        <td id=\"T_01265050_273a_11eb_8f54_1065307ae51arow12_col1\" class=\"data row12 col1\" >(56, 13)</td>\n",
              "            </tr>\n",
              "            <tr>\n",
              "                        <th id=\"T_01265050_273a_11eb_8f54_1065307ae51alevel0_row13\" class=\"row_heading level0 row13\" >13</th>\n",
              "                        <td id=\"T_01265050_273a_11eb_8f54_1065307ae51arow13_col0\" class=\"data row13 col0\" >Numeric Imputer </td>\n",
              "                        <td id=\"T_01265050_273a_11eb_8f54_1065307ae51arow13_col1\" class=\"data row13 col1\" >mean</td>\n",
              "            </tr>\n",
              "            <tr>\n",
              "                        <th id=\"T_01265050_273a_11eb_8f54_1065307ae51alevel0_row14\" class=\"row_heading level0 row14\" >14</th>\n",
              "                        <td id=\"T_01265050_273a_11eb_8f54_1065307ae51arow14_col0\" class=\"data row14 col0\" >Categorical Imputer </td>\n",
              "                        <td id=\"T_01265050_273a_11eb_8f54_1065307ae51arow14_col1\" class=\"data row14 col1\" >constant</td>\n",
              "            </tr>\n",
              "            <tr>\n",
              "                        <th id=\"T_01265050_273a_11eb_8f54_1065307ae51alevel0_row15\" class=\"row_heading level0 row15\" >15</th>\n",
              "                        <td id=\"T_01265050_273a_11eb_8f54_1065307ae51arow15_col0\" class=\"data row15 col0\" >Normalize </td>\n",
              "                        <td id=\"T_01265050_273a_11eb_8f54_1065307ae51arow15_col1\" class=\"data row15 col1\" >True</td>\n",
              "            </tr>\n",
              "            <tr>\n",
              "                        <th id=\"T_01265050_273a_11eb_8f54_1065307ae51alevel0_row16\" class=\"row_heading level0 row16\" >16</th>\n",
              "                        <td id=\"T_01265050_273a_11eb_8f54_1065307ae51arow16_col0\" class=\"data row16 col0\" >Normalize Method </td>\n",
              "                        <td id=\"T_01265050_273a_11eb_8f54_1065307ae51arow16_col1\" class=\"data row16 col1\" >zscore</td>\n",
              "            </tr>\n",
              "            <tr>\n",
              "                        <th id=\"T_01265050_273a_11eb_8f54_1065307ae51alevel0_row17\" class=\"row_heading level0 row17\" >17</th>\n",
              "                        <td id=\"T_01265050_273a_11eb_8f54_1065307ae51arow17_col0\" class=\"data row17 col0\" >Transformation </td>\n",
              "                        <td id=\"T_01265050_273a_11eb_8f54_1065307ae51arow17_col1\" class=\"data row17 col1\" >True</td>\n",
              "            </tr>\n",
              "            <tr>\n",
              "                        <th id=\"T_01265050_273a_11eb_8f54_1065307ae51alevel0_row18\" class=\"row_heading level0 row18\" >18</th>\n",
              "                        <td id=\"T_01265050_273a_11eb_8f54_1065307ae51arow18_col0\" class=\"data row18 col0\" >Transformation Method </td>\n",
              "                        <td id=\"T_01265050_273a_11eb_8f54_1065307ae51arow18_col1\" class=\"data row18 col1\" >yeo-johnson</td>\n",
              "            </tr>\n",
              "            <tr>\n",
              "                        <th id=\"T_01265050_273a_11eb_8f54_1065307ae51alevel0_row19\" class=\"row_heading level0 row19\" >19</th>\n",
              "                        <td id=\"T_01265050_273a_11eb_8f54_1065307ae51arow19_col0\" class=\"data row19 col0\" >PCA </td>\n",
              "                        <td id=\"T_01265050_273a_11eb_8f54_1065307ae51arow19_col1\" class=\"data row19 col1\" >False</td>\n",
              "            </tr>\n",
              "            <tr>\n",
              "                        <th id=\"T_01265050_273a_11eb_8f54_1065307ae51alevel0_row20\" class=\"row_heading level0 row20\" >20</th>\n",
              "                        <td id=\"T_01265050_273a_11eb_8f54_1065307ae51arow20_col0\" class=\"data row20 col0\" >PCA Method </td>\n",
              "                        <td id=\"T_01265050_273a_11eb_8f54_1065307ae51arow20_col1\" class=\"data row20 col1\" >None</td>\n",
              "            </tr>\n",
              "            <tr>\n",
              "                        <th id=\"T_01265050_273a_11eb_8f54_1065307ae51alevel0_row21\" class=\"row_heading level0 row21\" >21</th>\n",
              "                        <td id=\"T_01265050_273a_11eb_8f54_1065307ae51arow21_col0\" class=\"data row21 col0\" >PCA Components </td>\n",
              "                        <td id=\"T_01265050_273a_11eb_8f54_1065307ae51arow21_col1\" class=\"data row21 col1\" >None</td>\n",
              "            </tr>\n",
              "            <tr>\n",
              "                        <th id=\"T_01265050_273a_11eb_8f54_1065307ae51alevel0_row22\" class=\"row_heading level0 row22\" >22</th>\n",
              "                        <td id=\"T_01265050_273a_11eb_8f54_1065307ae51arow22_col0\" class=\"data row22 col0\" >Ignore Low Variance </td>\n",
              "                        <td id=\"T_01265050_273a_11eb_8f54_1065307ae51arow22_col1\" class=\"data row22 col1\" >True</td>\n",
              "            </tr>\n",
              "            <tr>\n",
              "                        <th id=\"T_01265050_273a_11eb_8f54_1065307ae51alevel0_row23\" class=\"row_heading level0 row23\" >23</th>\n",
              "                        <td id=\"T_01265050_273a_11eb_8f54_1065307ae51arow23_col0\" class=\"data row23 col0\" >Combine Rare Levels </td>\n",
              "                        <td id=\"T_01265050_273a_11eb_8f54_1065307ae51arow23_col1\" class=\"data row23 col1\" >False</td>\n",
              "            </tr>\n",
              "            <tr>\n",
              "                        <th id=\"T_01265050_273a_11eb_8f54_1065307ae51alevel0_row24\" class=\"row_heading level0 row24\" >24</th>\n",
              "                        <td id=\"T_01265050_273a_11eb_8f54_1065307ae51arow24_col0\" class=\"data row24 col0\" >Rare Level Threshold </td>\n",
              "                        <td id=\"T_01265050_273a_11eb_8f54_1065307ae51arow24_col1\" class=\"data row24 col1\" >None</td>\n",
              "            </tr>\n",
              "            <tr>\n",
              "                        <th id=\"T_01265050_273a_11eb_8f54_1065307ae51alevel0_row25\" class=\"row_heading level0 row25\" >25</th>\n",
              "                        <td id=\"T_01265050_273a_11eb_8f54_1065307ae51arow25_col0\" class=\"data row25 col0\" >Numeric Binning </td>\n",
              "                        <td id=\"T_01265050_273a_11eb_8f54_1065307ae51arow25_col1\" class=\"data row25 col1\" >False</td>\n",
              "            </tr>\n",
              "            <tr>\n",
              "                        <th id=\"T_01265050_273a_11eb_8f54_1065307ae51alevel0_row26\" class=\"row_heading level0 row26\" >26</th>\n",
              "                        <td id=\"T_01265050_273a_11eb_8f54_1065307ae51arow26_col0\" class=\"data row26 col0\" >Remove Outliers </td>\n",
              "                        <td id=\"T_01265050_273a_11eb_8f54_1065307ae51arow26_col1\" class=\"data row26 col1\" >False</td>\n",
              "            </tr>\n",
              "            <tr>\n",
              "                        <th id=\"T_01265050_273a_11eb_8f54_1065307ae51alevel0_row27\" class=\"row_heading level0 row27\" >27</th>\n",
              "                        <td id=\"T_01265050_273a_11eb_8f54_1065307ae51arow27_col0\" class=\"data row27 col0\" >Outliers Threshold </td>\n",
              "                        <td id=\"T_01265050_273a_11eb_8f54_1065307ae51arow27_col1\" class=\"data row27 col1\" >None</td>\n",
              "            </tr>\n",
              "            <tr>\n",
              "                        <th id=\"T_01265050_273a_11eb_8f54_1065307ae51alevel0_row28\" class=\"row_heading level0 row28\" >28</th>\n",
              "                        <td id=\"T_01265050_273a_11eb_8f54_1065307ae51arow28_col0\" class=\"data row28 col0\" >Remove Multicollinearity </td>\n",
              "                        <td id=\"T_01265050_273a_11eb_8f54_1065307ae51arow28_col1\" class=\"data row28 col1\" >True</td>\n",
              "            </tr>\n",
              "            <tr>\n",
              "                        <th id=\"T_01265050_273a_11eb_8f54_1065307ae51alevel0_row29\" class=\"row_heading level0 row29\" >29</th>\n",
              "                        <td id=\"T_01265050_273a_11eb_8f54_1065307ae51arow29_col0\" class=\"data row29 col0\" >Multicollinearity Threshold </td>\n",
              "                        <td id=\"T_01265050_273a_11eb_8f54_1065307ae51arow29_col1\" class=\"data row29 col1\" >0.950000</td>\n",
              "            </tr>\n",
              "            <tr>\n",
              "                        <th id=\"T_01265050_273a_11eb_8f54_1065307ae51alevel0_row30\" class=\"row_heading level0 row30\" >30</th>\n",
              "                        <td id=\"T_01265050_273a_11eb_8f54_1065307ae51arow30_col0\" class=\"data row30 col0\" >Clustering </td>\n",
              "                        <td id=\"T_01265050_273a_11eb_8f54_1065307ae51arow30_col1\" class=\"data row30 col1\" >False</td>\n",
              "            </tr>\n",
              "            <tr>\n",
              "                        <th id=\"T_01265050_273a_11eb_8f54_1065307ae51alevel0_row31\" class=\"row_heading level0 row31\" >31</th>\n",
              "                        <td id=\"T_01265050_273a_11eb_8f54_1065307ae51arow31_col0\" class=\"data row31 col0\" >Clustering Iteration </td>\n",
              "                        <td id=\"T_01265050_273a_11eb_8f54_1065307ae51arow31_col1\" class=\"data row31 col1\" >None</td>\n",
              "            </tr>\n",
              "            <tr>\n",
              "                        <th id=\"T_01265050_273a_11eb_8f54_1065307ae51alevel0_row32\" class=\"row_heading level0 row32\" >32</th>\n",
              "                        <td id=\"T_01265050_273a_11eb_8f54_1065307ae51arow32_col0\" class=\"data row32 col0\" >Polynomial Features </td>\n",
              "                        <td id=\"T_01265050_273a_11eb_8f54_1065307ae51arow32_col1\" class=\"data row32 col1\" >False</td>\n",
              "            </tr>\n",
              "            <tr>\n",
              "                        <th id=\"T_01265050_273a_11eb_8f54_1065307ae51alevel0_row33\" class=\"row_heading level0 row33\" >33</th>\n",
              "                        <td id=\"T_01265050_273a_11eb_8f54_1065307ae51arow33_col0\" class=\"data row33 col0\" >Polynomial Degree </td>\n",
              "                        <td id=\"T_01265050_273a_11eb_8f54_1065307ae51arow33_col1\" class=\"data row33 col1\" >None</td>\n",
              "            </tr>\n",
              "            <tr>\n",
              "                        <th id=\"T_01265050_273a_11eb_8f54_1065307ae51alevel0_row34\" class=\"row_heading level0 row34\" >34</th>\n",
              "                        <td id=\"T_01265050_273a_11eb_8f54_1065307ae51arow34_col0\" class=\"data row34 col0\" >Trignometry Features </td>\n",
              "                        <td id=\"T_01265050_273a_11eb_8f54_1065307ae51arow34_col1\" class=\"data row34 col1\" >False</td>\n",
              "            </tr>\n",
              "            <tr>\n",
              "                        <th id=\"T_01265050_273a_11eb_8f54_1065307ae51alevel0_row35\" class=\"row_heading level0 row35\" >35</th>\n",
              "                        <td id=\"T_01265050_273a_11eb_8f54_1065307ae51arow35_col0\" class=\"data row35 col0\" >Polynomial Threshold </td>\n",
              "                        <td id=\"T_01265050_273a_11eb_8f54_1065307ae51arow35_col1\" class=\"data row35 col1\" >None</td>\n",
              "            </tr>\n",
              "            <tr>\n",
              "                        <th id=\"T_01265050_273a_11eb_8f54_1065307ae51alevel0_row36\" class=\"row_heading level0 row36\" >36</th>\n",
              "                        <td id=\"T_01265050_273a_11eb_8f54_1065307ae51arow36_col0\" class=\"data row36 col0\" >Group Features </td>\n",
              "                        <td id=\"T_01265050_273a_11eb_8f54_1065307ae51arow36_col1\" class=\"data row36 col1\" >False</td>\n",
              "            </tr>\n",
              "            <tr>\n",
              "                        <th id=\"T_01265050_273a_11eb_8f54_1065307ae51alevel0_row37\" class=\"row_heading level0 row37\" >37</th>\n",
              "                        <td id=\"T_01265050_273a_11eb_8f54_1065307ae51arow37_col0\" class=\"data row37 col0\" >Feature Selection </td>\n",
              "                        <td id=\"T_01265050_273a_11eb_8f54_1065307ae51arow37_col1\" class=\"data row37 col1\" >False</td>\n",
              "            </tr>\n",
              "            <tr>\n",
              "                        <th id=\"T_01265050_273a_11eb_8f54_1065307ae51alevel0_row38\" class=\"row_heading level0 row38\" >38</th>\n",
              "                        <td id=\"T_01265050_273a_11eb_8f54_1065307ae51arow38_col0\" class=\"data row38 col0\" >Features Selection Threshold </td>\n",
              "                        <td id=\"T_01265050_273a_11eb_8f54_1065307ae51arow38_col1\" class=\"data row38 col1\" >None</td>\n",
              "            </tr>\n",
              "            <tr>\n",
              "                        <th id=\"T_01265050_273a_11eb_8f54_1065307ae51alevel0_row39\" class=\"row_heading level0 row39\" >39</th>\n",
              "                        <td id=\"T_01265050_273a_11eb_8f54_1065307ae51arow39_col0\" class=\"data row39 col0\" >Feature Interaction </td>\n",
              "                        <td id=\"T_01265050_273a_11eb_8f54_1065307ae51arow39_col1\" class=\"data row39 col1\" >False</td>\n",
              "            </tr>\n",
              "            <tr>\n",
              "                        <th id=\"T_01265050_273a_11eb_8f54_1065307ae51alevel0_row40\" class=\"row_heading level0 row40\" >40</th>\n",
              "                        <td id=\"T_01265050_273a_11eb_8f54_1065307ae51arow40_col0\" class=\"data row40 col0\" >Feature Ratio </td>\n",
              "                        <td id=\"T_01265050_273a_11eb_8f54_1065307ae51arow40_col1\" class=\"data row40 col1\" >False</td>\n",
              "            </tr>\n",
              "            <tr>\n",
              "                        <th id=\"T_01265050_273a_11eb_8f54_1065307ae51alevel0_row41\" class=\"row_heading level0 row41\" >41</th>\n",
              "                        <td id=\"T_01265050_273a_11eb_8f54_1065307ae51arow41_col0\" class=\"data row41 col0\" >Interaction Threshold </td>\n",
              "                        <td id=\"T_01265050_273a_11eb_8f54_1065307ae51arow41_col1\" class=\"data row41 col1\" >None</td>\n",
              "            </tr>\n",
              "            <tr>\n",
              "                        <th id=\"T_01265050_273a_11eb_8f54_1065307ae51alevel0_row42\" class=\"row_heading level0 row42\" >42</th>\n",
              "                        <td id=\"T_01265050_273a_11eb_8f54_1065307ae51arow42_col0\" class=\"data row42 col0\" >Fix Imbalance</td>\n",
              "                        <td id=\"T_01265050_273a_11eb_8f54_1065307ae51arow42_col1\" class=\"data row42 col1\" >True</td>\n",
              "            </tr>\n",
              "            <tr>\n",
              "                        <th id=\"T_01265050_273a_11eb_8f54_1065307ae51alevel0_row43\" class=\"row_heading level0 row43\" >43</th>\n",
              "                        <td id=\"T_01265050_273a_11eb_8f54_1065307ae51arow43_col0\" class=\"data row43 col0\" >Fix Imbalance Method</td>\n",
              "                        <td id=\"T_01265050_273a_11eb_8f54_1065307ae51arow43_col1\" class=\"data row43 col1\" >SMOTE</td>\n",
              "            </tr>\n",
              "    </tbody></table>"
            ],
            "text/plain": [
              "<pandas.io.formats.style.Styler at 0x1e60bba1898>"
            ]
          },
          "metadata": {},
          "output_type": "display_data"
        }
      ],
      "source": [
        "data_setup=setup(data=data,\n",
        "                 target='status',\n",
        "                 normalize = True, \n",
        "                 transformation = True,\n",
        "                 ignore_low_variance = True,\n",
        "                 remove_multicollinearity = True, \n",
        "                 multicollinearity_threshold = 0.95,\n",
        "                 fix_imbalance= True, \n",
        "                 profile=False)"
      ]
    },
    {
      "cell_type": "markdown",
      "metadata": {
        "id": "YodW0UHwFsqV"
      },
      "source": [
        "The dataset contains only 147 entries (out of 195) where target class is 1.\n",
        "Since our dataset has unequal distribution of target class it can be fixed using fix_imbalance parameter. When set to True, SMOTE (Synthetic Minority Over-sampling Technique) is applied by default to create synthetic datapoints for minority class. "
      ]
    },
    {
      "cell_type": "markdown",
      "metadata": {
        "id": "84wiwFSeFsqV"
      },
      "source": [
        "The following techniques are used:\n",
        "- normalize: The dataset contains features that have variance that is larger in order of magnitude than other features, the model may not understand all features correctly and could perform poorly. For e.g., the MDVP:Jitter(Abs) feature ranges between 0.000007 and 0.000260, whereas the MDVP:Fhi(Hz) feature ranges from 102.145000 to 592.030000.\n",
        "- transformation: While normalization transforms the range of data to remove the impact of magnitude in variance, transformation is a more radical technique as it changes the shape of the distribution so that transformed data can be represented by a normal or approximate normal distirbution. In general, you should transform the data if using algorithms that assume normality or a gaussian distribution. Examples of such models are Logistic Regression, Linear Discriminant Analysis (LDA) and Gaussian Naive Bayes\n",
        "- ignore low variance: The dataset contains categorical features that have a single unique or small number of values across samples. This kind of features are not only non-informative and add no value but are also sometimes harmful for few algorithms. They can be removed from the dataset by using the ignore low variance feature in PyCaret.\n",
        "- remove multicollinearity: In our dataset, Shimmer:APQ3 and Shimmer:DDA features have high multicollinearity. Multi-collinearity may reduce overall coefficient of the model and cause unpredictable variance. This will lead to overfitting where the model may do great on a known training set but will fail with an unknown testing set.Thus, we need to remove multicollinearity between features vefore creating a model. \n",
        "- bin numeric feature: When looking at the correlations between the numeric features and the target variable, we see that DFA, NHR and MDVP:Fhi(Hz) are weak. We will use the bin_numeric_features parameter to remove the noise from these variables. Binning or discretization is the process of transforming numerical variables into categorical features. An example would be the MDVP:Flo(Hz) variable which is a continuous distribution of numeric values that can be discretized into intervals (65-84, 85-104 etc.)"
      ]
    },
    {
      "cell_type": "markdown",
      "metadata": {
        "id": "FtkDPnmKFsqV"
      },
      "source": [
        "## **Comparing All Models**"
      ]
    },
    {
      "cell_type": "markdown",
      "metadata": {
        "id": "aR0i3BfqFsqV"
      },
      "source": [
        "Comparing all models to evaluate performance is the first stage of modeling, once the setup is completed (unless you exactly know what kind of model you need, which is often not the case). This function trains all the models in the model library and scores them using stratified cross validation for metric evaluation. The output prints a score grid that shows average Accuracy, AUC, Recall, Precision, F1, Kappa, and MCC accross the folds (10 by default) along with training times."
      ]
    },
    {
      "cell_type": "code",
      "execution_count": null,
      "metadata": {
        "id": "tsFMwsvQFsqV",
        "outputId": "9ac2fb44-55db-477f-b086-54e0ece9881c"
      },
      "outputs": [
        {
          "data": {
            "text/html": [
              "<style  type=\"text/css\" >\n",
              "    #T_0ca3793a_2734_11eb_b439_1065307ae51a th {\n",
              "          text-align: left;\n",
              "    }#T_0ca3793a_2734_11eb_b439_1065307ae51arow0_col0,#T_0ca3793a_2734_11eb_b439_1065307ae51arow0_col2,#T_0ca3793a_2734_11eb_b439_1065307ae51arow0_col3,#T_0ca3793a_2734_11eb_b439_1065307ae51arow0_col4,#T_0ca3793a_2734_11eb_b439_1065307ae51arow1_col0,#T_0ca3793a_2734_11eb_b439_1065307ae51arow1_col1,#T_0ca3793a_2734_11eb_b439_1065307ae51arow1_col2,#T_0ca3793a_2734_11eb_b439_1065307ae51arow1_col3,#T_0ca3793a_2734_11eb_b439_1065307ae51arow1_col4,#T_0ca3793a_2734_11eb_b439_1065307ae51arow1_col5,#T_0ca3793a_2734_11eb_b439_1065307ae51arow1_col6,#T_0ca3793a_2734_11eb_b439_1065307ae51arow1_col7,#T_0ca3793a_2734_11eb_b439_1065307ae51arow2_col0,#T_0ca3793a_2734_11eb_b439_1065307ae51arow2_col1,#T_0ca3793a_2734_11eb_b439_1065307ae51arow2_col2,#T_0ca3793a_2734_11eb_b439_1065307ae51arow2_col3,#T_0ca3793a_2734_11eb_b439_1065307ae51arow2_col4,#T_0ca3793a_2734_11eb_b439_1065307ae51arow2_col5,#T_0ca3793a_2734_11eb_b439_1065307ae51arow2_col6,#T_0ca3793a_2734_11eb_b439_1065307ae51arow2_col7,#T_0ca3793a_2734_11eb_b439_1065307ae51arow3_col0,#T_0ca3793a_2734_11eb_b439_1065307ae51arow3_col1,#T_0ca3793a_2734_11eb_b439_1065307ae51arow3_col2,#T_0ca3793a_2734_11eb_b439_1065307ae51arow3_col3,#T_0ca3793a_2734_11eb_b439_1065307ae51arow3_col4,#T_0ca3793a_2734_11eb_b439_1065307ae51arow3_col5,#T_0ca3793a_2734_11eb_b439_1065307ae51arow3_col6,#T_0ca3793a_2734_11eb_b439_1065307ae51arow3_col7,#T_0ca3793a_2734_11eb_b439_1065307ae51arow4_col0,#T_0ca3793a_2734_11eb_b439_1065307ae51arow4_col1,#T_0ca3793a_2734_11eb_b439_1065307ae51arow4_col2,#T_0ca3793a_2734_11eb_b439_1065307ae51arow4_col3,#T_0ca3793a_2734_11eb_b439_1065307ae51arow4_col4,#T_0ca3793a_2734_11eb_b439_1065307ae51arow4_col5,#T_0ca3793a_2734_11eb_b439_1065307ae51arow4_col6,#T_0ca3793a_2734_11eb_b439_1065307ae51arow4_col7,#T_0ca3793a_2734_11eb_b439_1065307ae51arow5_col0,#T_0ca3793a_2734_11eb_b439_1065307ae51arow5_col1,#T_0ca3793a_2734_11eb_b439_1065307ae51arow5_col2,#T_0ca3793a_2734_11eb_b439_1065307ae51arow5_col3,#T_0ca3793a_2734_11eb_b439_1065307ae51arow5_col4,#T_0ca3793a_2734_11eb_b439_1065307ae51arow5_col5,#T_0ca3793a_2734_11eb_b439_1065307ae51arow5_col6,#T_0ca3793a_2734_11eb_b439_1065307ae51arow5_col7,#T_0ca3793a_2734_11eb_b439_1065307ae51arow6_col0,#T_0ca3793a_2734_11eb_b439_1065307ae51arow6_col1,#T_0ca3793a_2734_11eb_b439_1065307ae51arow6_col2,#T_0ca3793a_2734_11eb_b439_1065307ae51arow6_col3,#T_0ca3793a_2734_11eb_b439_1065307ae51arow6_col4,#T_0ca3793a_2734_11eb_b439_1065307ae51arow6_col5,#T_0ca3793a_2734_11eb_b439_1065307ae51arow6_col6,#T_0ca3793a_2734_11eb_b439_1065307ae51arow6_col7,#T_0ca3793a_2734_11eb_b439_1065307ae51arow7_col0,#T_0ca3793a_2734_11eb_b439_1065307ae51arow7_col1,#T_0ca3793a_2734_11eb_b439_1065307ae51arow7_col2,#T_0ca3793a_2734_11eb_b439_1065307ae51arow7_col4,#T_0ca3793a_2734_11eb_b439_1065307ae51arow7_col5,#T_0ca3793a_2734_11eb_b439_1065307ae51arow7_col6,#T_0ca3793a_2734_11eb_b439_1065307ae51arow7_col7,#T_0ca3793a_2734_11eb_b439_1065307ae51arow8_col0,#T_0ca3793a_2734_11eb_b439_1065307ae51arow8_col1,#T_0ca3793a_2734_11eb_b439_1065307ae51arow8_col2,#T_0ca3793a_2734_11eb_b439_1065307ae51arow8_col3,#T_0ca3793a_2734_11eb_b439_1065307ae51arow8_col4,#T_0ca3793a_2734_11eb_b439_1065307ae51arow8_col5,#T_0ca3793a_2734_11eb_b439_1065307ae51arow8_col6,#T_0ca3793a_2734_11eb_b439_1065307ae51arow8_col7,#T_0ca3793a_2734_11eb_b439_1065307ae51arow9_col0,#T_0ca3793a_2734_11eb_b439_1065307ae51arow9_col1,#T_0ca3793a_2734_11eb_b439_1065307ae51arow9_col2,#T_0ca3793a_2734_11eb_b439_1065307ae51arow9_col3,#T_0ca3793a_2734_11eb_b439_1065307ae51arow9_col4,#T_0ca3793a_2734_11eb_b439_1065307ae51arow9_col5,#T_0ca3793a_2734_11eb_b439_1065307ae51arow9_col6,#T_0ca3793a_2734_11eb_b439_1065307ae51arow9_col7,#T_0ca3793a_2734_11eb_b439_1065307ae51arow10_col0,#T_0ca3793a_2734_11eb_b439_1065307ae51arow10_col1,#T_0ca3793a_2734_11eb_b439_1065307ae51arow10_col2,#T_0ca3793a_2734_11eb_b439_1065307ae51arow10_col3,#T_0ca3793a_2734_11eb_b439_1065307ae51arow10_col4,#T_0ca3793a_2734_11eb_b439_1065307ae51arow10_col5,#T_0ca3793a_2734_11eb_b439_1065307ae51arow10_col6,#T_0ca3793a_2734_11eb_b439_1065307ae51arow10_col7,#T_0ca3793a_2734_11eb_b439_1065307ae51arow11_col0,#T_0ca3793a_2734_11eb_b439_1065307ae51arow11_col1,#T_0ca3793a_2734_11eb_b439_1065307ae51arow11_col3,#T_0ca3793a_2734_11eb_b439_1065307ae51arow11_col5,#T_0ca3793a_2734_11eb_b439_1065307ae51arow11_col6,#T_0ca3793a_2734_11eb_b439_1065307ae51arow11_col7,#T_0ca3793a_2734_11eb_b439_1065307ae51arow12_col0,#T_0ca3793a_2734_11eb_b439_1065307ae51arow12_col1,#T_0ca3793a_2734_11eb_b439_1065307ae51arow12_col2,#T_0ca3793a_2734_11eb_b439_1065307ae51arow12_col3,#T_0ca3793a_2734_11eb_b439_1065307ae51arow12_col4,#T_0ca3793a_2734_11eb_b439_1065307ae51arow12_col5,#T_0ca3793a_2734_11eb_b439_1065307ae51arow12_col6,#T_0ca3793a_2734_11eb_b439_1065307ae51arow12_col7,#T_0ca3793a_2734_11eb_b439_1065307ae51arow13_col0,#T_0ca3793a_2734_11eb_b439_1065307ae51arow13_col1,#T_0ca3793a_2734_11eb_b439_1065307ae51arow13_col2,#T_0ca3793a_2734_11eb_b439_1065307ae51arow13_col3,#T_0ca3793a_2734_11eb_b439_1065307ae51arow13_col4,#T_0ca3793a_2734_11eb_b439_1065307ae51arow13_col5,#T_0ca3793a_2734_11eb_b439_1065307ae51arow13_col6,#T_0ca3793a_2734_11eb_b439_1065307ae51arow13_col7,#T_0ca3793a_2734_11eb_b439_1065307ae51arow14_col0,#T_0ca3793a_2734_11eb_b439_1065307ae51arow14_col1,#T_0ca3793a_2734_11eb_b439_1065307ae51arow14_col2,#T_0ca3793a_2734_11eb_b439_1065307ae51arow14_col3,#T_0ca3793a_2734_11eb_b439_1065307ae51arow14_col4,#T_0ca3793a_2734_11eb_b439_1065307ae51arow14_col5,#T_0ca3793a_2734_11eb_b439_1065307ae51arow14_col6,#T_0ca3793a_2734_11eb_b439_1065307ae51arow14_col7{\n",
              "            text-align:  left;\n",
              "        }#T_0ca3793a_2734_11eb_b439_1065307ae51arow0_col1,#T_0ca3793a_2734_11eb_b439_1065307ae51arow0_col5,#T_0ca3793a_2734_11eb_b439_1065307ae51arow0_col6,#T_0ca3793a_2734_11eb_b439_1065307ae51arow0_col7,#T_0ca3793a_2734_11eb_b439_1065307ae51arow7_col3,#T_0ca3793a_2734_11eb_b439_1065307ae51arow11_col2,#T_0ca3793a_2734_11eb_b439_1065307ae51arow11_col4{\n",
              "            background-color:  yellow;\n",
              "            text-align:  left;\n",
              "        }#T_0ca3793a_2734_11eb_b439_1065307ae51arow0_col8,#T_0ca3793a_2734_11eb_b439_1065307ae51arow1_col8,#T_0ca3793a_2734_11eb_b439_1065307ae51arow2_col8,#T_0ca3793a_2734_11eb_b439_1065307ae51arow3_col8,#T_0ca3793a_2734_11eb_b439_1065307ae51arow4_col8,#T_0ca3793a_2734_11eb_b439_1065307ae51arow5_col8,#T_0ca3793a_2734_11eb_b439_1065307ae51arow6_col8,#T_0ca3793a_2734_11eb_b439_1065307ae51arow7_col8,#T_0ca3793a_2734_11eb_b439_1065307ae51arow8_col8,#T_0ca3793a_2734_11eb_b439_1065307ae51arow9_col8,#T_0ca3793a_2734_11eb_b439_1065307ae51arow10_col8,#T_0ca3793a_2734_11eb_b439_1065307ae51arow11_col8,#T_0ca3793a_2734_11eb_b439_1065307ae51arow12_col8,#T_0ca3793a_2734_11eb_b439_1065307ae51arow13_col8,#T_0ca3793a_2734_11eb_b439_1065307ae51arow14_col8{\n",
              "            background-color:  lightgrey;\n",
              "            text-align:  left;\n",
              "        }</style><table id=\"T_0ca3793a_2734_11eb_b439_1065307ae51a\" ><thead>    <tr>        <th class=\"blank level0\" ></th>        <th class=\"col_heading level0 col0\" >Model</th>        <th class=\"col_heading level0 col1\" >Accuracy</th>        <th class=\"col_heading level0 col2\" >AUC</th>        <th class=\"col_heading level0 col3\" >Recall</th>        <th class=\"col_heading level0 col4\" >Prec.</th>        <th class=\"col_heading level0 col5\" >F1</th>        <th class=\"col_heading level0 col6\" >Kappa</th>        <th class=\"col_heading level0 col7\" >MCC</th>        <th class=\"col_heading level0 col8\" >TT (Sec)</th>    </tr></thead><tbody>\n",
              "                <tr>\n",
              "                        <th id=\"T_0ca3793a_2734_11eb_b439_1065307ae51alevel0_row0\" class=\"row_heading level0 row0\" >0</th>\n",
              "                        <td id=\"T_0ca3793a_2734_11eb_b439_1065307ae51arow0_col0\" class=\"data row0 col0\" >Extra Trees Classifier</td>\n",
              "                        <td id=\"T_0ca3793a_2734_11eb_b439_1065307ae51arow0_col1\" class=\"data row0 col1\" >0.9218</td>\n",
              "                        <td id=\"T_0ca3793a_2734_11eb_b439_1065307ae51arow0_col2\" class=\"data row0 col2\" >0.9563</td>\n",
              "                        <td id=\"T_0ca3793a_2734_11eb_b439_1065307ae51arow0_col3\" class=\"data row0 col3\" >0.9489</td>\n",
              "                        <td id=\"T_0ca3793a_2734_11eb_b439_1065307ae51arow0_col4\" class=\"data row0 col4\" >0.9482</td>\n",
              "                        <td id=\"T_0ca3793a_2734_11eb_b439_1065307ae51arow0_col5\" class=\"data row0 col5\" >0.9471</td>\n",
              "                        <td id=\"T_0ca3793a_2734_11eb_b439_1065307ae51arow0_col6\" class=\"data row0 col6\" >0.7929</td>\n",
              "                        <td id=\"T_0ca3793a_2734_11eb_b439_1065307ae51arow0_col7\" class=\"data row0 col7\" >0.7997</td>\n",
              "                        <td id=\"T_0ca3793a_2734_11eb_b439_1065307ae51arow0_col8\" class=\"data row0 col8\" >0.1462</td>\n",
              "            </tr>\n",
              "            <tr>\n",
              "                        <th id=\"T_0ca3793a_2734_11eb_b439_1065307ae51alevel0_row1\" class=\"row_heading level0 row1\" >1</th>\n",
              "                        <td id=\"T_0ca3793a_2734_11eb_b439_1065307ae51arow1_col0\" class=\"data row1 col0\" >Gradient Boosting Classifier</td>\n",
              "                        <td id=\"T_0ca3793a_2734_11eb_b439_1065307ae51arow1_col1\" class=\"data row1 col1\" >0.9071</td>\n",
              "                        <td id=\"T_0ca3793a_2734_11eb_b439_1065307ae51arow1_col2\" class=\"data row1 col2\" >0.9419</td>\n",
              "                        <td id=\"T_0ca3793a_2734_11eb_b439_1065307ae51arow1_col3\" class=\"data row1 col3\" >0.9500</td>\n",
              "                        <td id=\"T_0ca3793a_2734_11eb_b439_1065307ae51arow1_col4\" class=\"data row1 col4\" >0.9303</td>\n",
              "                        <td id=\"T_0ca3793a_2734_11eb_b439_1065307ae51arow1_col5\" class=\"data row1 col5\" >0.9358</td>\n",
              "                        <td id=\"T_0ca3793a_2734_11eb_b439_1065307ae51arow1_col6\" class=\"data row1 col6\" >0.7598</td>\n",
              "                        <td id=\"T_0ca3793a_2734_11eb_b439_1065307ae51arow1_col7\" class=\"data row1 col7\" >0.7797</td>\n",
              "                        <td id=\"T_0ca3793a_2734_11eb_b439_1065307ae51arow1_col8\" class=\"data row1 col8\" >0.0821</td>\n",
              "            </tr>\n",
              "            <tr>\n",
              "                        <th id=\"T_0ca3793a_2734_11eb_b439_1065307ae51alevel0_row2\" class=\"row_heading level0 row2\" >2</th>\n",
              "                        <td id=\"T_0ca3793a_2734_11eb_b439_1065307ae51arow2_col0\" class=\"data row2 col0\" >Random Forest Classifier</td>\n",
              "                        <td id=\"T_0ca3793a_2734_11eb_b439_1065307ae51arow2_col1\" class=\"data row2 col1\" >0.9071</td>\n",
              "                        <td id=\"T_0ca3793a_2734_11eb_b439_1065307ae51arow2_col2\" class=\"data row2 col2\" >0.9280</td>\n",
              "                        <td id=\"T_0ca3793a_2734_11eb_b439_1065307ae51arow2_col3\" class=\"data row2 col3\" >0.9300</td>\n",
              "                        <td id=\"T_0ca3793a_2734_11eb_b439_1065307ae51arow2_col4\" class=\"data row2 col4\" >0.9452</td>\n",
              "                        <td id=\"T_0ca3793a_2734_11eb_b439_1065307ae51arow2_col5\" class=\"data row2 col5\" >0.9324</td>\n",
              "                        <td id=\"T_0ca3793a_2734_11eb_b439_1065307ae51arow2_col6\" class=\"data row2 col6\" >0.7746</td>\n",
              "                        <td id=\"T_0ca3793a_2734_11eb_b439_1065307ae51arow2_col7\" class=\"data row2 col7\" >0.7861</td>\n",
              "                        <td id=\"T_0ca3793a_2734_11eb_b439_1065307ae51arow2_col8\" class=\"data row2 col8\" >0.1116</td>\n",
              "            </tr>\n",
              "            <tr>\n",
              "                        <th id=\"T_0ca3793a_2734_11eb_b439_1065307ae51alevel0_row3\" class=\"row_heading level0 row3\" >3</th>\n",
              "                        <td id=\"T_0ca3793a_2734_11eb_b439_1065307ae51arow3_col0\" class=\"data row3 col0\" >CatBoost Classifier</td>\n",
              "                        <td id=\"T_0ca3793a_2734_11eb_b439_1065307ae51arow3_col1\" class=\"data row3 col1\" >0.9071</td>\n",
              "                        <td id=\"T_0ca3793a_2734_11eb_b439_1065307ae51arow3_col2\" class=\"data row3 col2\" >0.9663</td>\n",
              "                        <td id=\"T_0ca3793a_2734_11eb_b439_1065307ae51arow3_col3\" class=\"data row3 col3\" >0.9300</td>\n",
              "                        <td id=\"T_0ca3793a_2734_11eb_b439_1065307ae51arow3_col4\" class=\"data row3 col4\" >0.9452</td>\n",
              "                        <td id=\"T_0ca3793a_2734_11eb_b439_1065307ae51arow3_col5\" class=\"data row3 col5\" >0.9319</td>\n",
              "                        <td id=\"T_0ca3793a_2734_11eb_b439_1065307ae51arow3_col6\" class=\"data row3 col6\" >0.7791</td>\n",
              "                        <td id=\"T_0ca3793a_2734_11eb_b439_1065307ae51arow3_col7\" class=\"data row3 col7\" >0.7937</td>\n",
              "                        <td id=\"T_0ca3793a_2734_11eb_b439_1065307ae51arow3_col8\" class=\"data row3 col8\" >1.6463</td>\n",
              "            </tr>\n",
              "            <tr>\n",
              "                        <th id=\"T_0ca3793a_2734_11eb_b439_1065307ae51alevel0_row4\" class=\"row_heading level0 row4\" >4</th>\n",
              "                        <td id=\"T_0ca3793a_2734_11eb_b439_1065307ae51arow4_col0\" class=\"data row4 col0\" >Light Gradient Boosting Machine</td>\n",
              "                        <td id=\"T_0ca3793a_2734_11eb_b439_1065307ae51arow4_col1\" class=\"data row4 col1\" >0.8994</td>\n",
              "                        <td id=\"T_0ca3793a_2734_11eb_b439_1065307ae51arow4_col2\" class=\"data row4 col2\" >0.9461</td>\n",
              "                        <td id=\"T_0ca3793a_2734_11eb_b439_1065307ae51arow4_col3\" class=\"data row4 col3\" >0.9389</td>\n",
              "                        <td id=\"T_0ca3793a_2734_11eb_b439_1065307ae51arow4_col4\" class=\"data row4 col4\" >0.9282</td>\n",
              "                        <td id=\"T_0ca3793a_2734_11eb_b439_1065307ae51arow4_col5\" class=\"data row4 col5\" >0.9299</td>\n",
              "                        <td id=\"T_0ca3793a_2734_11eb_b439_1065307ae51arow4_col6\" class=\"data row4 col6\" >0.7411</td>\n",
              "                        <td id=\"T_0ca3793a_2734_11eb_b439_1065307ae51arow4_col7\" class=\"data row4 col7\" >0.7574</td>\n",
              "                        <td id=\"T_0ca3793a_2734_11eb_b439_1065307ae51arow4_col8\" class=\"data row4 col8\" >0.0252</td>\n",
              "            </tr>\n",
              "            <tr>\n",
              "                        <th id=\"T_0ca3793a_2734_11eb_b439_1065307ae51alevel0_row5\" class=\"row_heading level0 row5\" >5</th>\n",
              "                        <td id=\"T_0ca3793a_2734_11eb_b439_1065307ae51arow5_col0\" class=\"data row5 col0\" >Extreme Gradient Boosting</td>\n",
              "                        <td id=\"T_0ca3793a_2734_11eb_b439_1065307ae51arow5_col1\" class=\"data row5 col1\" >0.8994</td>\n",
              "                        <td id=\"T_0ca3793a_2734_11eb_b439_1065307ae51arow5_col2\" class=\"data row5 col2\" >0.9222</td>\n",
              "                        <td id=\"T_0ca3793a_2734_11eb_b439_1065307ae51arow5_col3\" class=\"data row5 col3\" >0.9289</td>\n",
              "                        <td id=\"T_0ca3793a_2734_11eb_b439_1065307ae51arow5_col4\" class=\"data row5 col4\" >0.9364</td>\n",
              "                        <td id=\"T_0ca3793a_2734_11eb_b439_1065307ae51arow5_col5\" class=\"data row5 col5\" >0.9294</td>\n",
              "                        <td id=\"T_0ca3793a_2734_11eb_b439_1065307ae51arow5_col6\" class=\"data row5 col6\" >0.7468</td>\n",
              "                        <td id=\"T_0ca3793a_2734_11eb_b439_1065307ae51arow5_col7\" class=\"data row5 col7\" >0.7584</td>\n",
              "                        <td id=\"T_0ca3793a_2734_11eb_b439_1065307ae51arow5_col8\" class=\"data row5 col8\" >0.0236</td>\n",
              "            </tr>\n",
              "            <tr>\n",
              "                        <th id=\"T_0ca3793a_2734_11eb_b439_1065307ae51alevel0_row6\" class=\"row_heading level0 row6\" >6</th>\n",
              "                        <td id=\"T_0ca3793a_2734_11eb_b439_1065307ae51arow6_col0\" class=\"data row6 col0\" >Decision Tree Classifier</td>\n",
              "                        <td id=\"T_0ca3793a_2734_11eb_b439_1065307ae51arow6_col1\" class=\"data row6 col1\" >0.8840</td>\n",
              "                        <td id=\"T_0ca3793a_2734_11eb_b439_1065307ae51arow6_col2\" class=\"data row6 col2\" >0.8661</td>\n",
              "                        <td id=\"T_0ca3793a_2734_11eb_b439_1065307ae51arow6_col3\" class=\"data row6 col3\" >0.8989</td>\n",
              "                        <td id=\"T_0ca3793a_2734_11eb_b439_1065307ae51arow6_col4\" class=\"data row6 col4\" >0.9464</td>\n",
              "                        <td id=\"T_0ca3793a_2734_11eb_b439_1065307ae51arow6_col5\" class=\"data row6 col5\" >0.9183</td>\n",
              "                        <td id=\"T_0ca3793a_2734_11eb_b439_1065307ae51arow6_col6\" class=\"data row6 col6\" >0.7109</td>\n",
              "                        <td id=\"T_0ca3793a_2734_11eb_b439_1065307ae51arow6_col7\" class=\"data row6 col7\" >0.7235</td>\n",
              "                        <td id=\"T_0ca3793a_2734_11eb_b439_1065307ae51arow6_col8\" class=\"data row6 col8\" >0.0028</td>\n",
              "            </tr>\n",
              "            <tr>\n",
              "                        <th id=\"T_0ca3793a_2734_11eb_b439_1065307ae51alevel0_row7\" class=\"row_heading level0 row7\" >7</th>\n",
              "                        <td id=\"T_0ca3793a_2734_11eb_b439_1065307ae51arow7_col0\" class=\"data row7 col0\" >Quadratic Discriminant Analysis</td>\n",
              "                        <td id=\"T_0ca3793a_2734_11eb_b439_1065307ae51arow7_col1\" class=\"data row7 col1\" >0.8519</td>\n",
              "                        <td id=\"T_0ca3793a_2734_11eb_b439_1065307ae51arow7_col2\" class=\"data row7 col2\" >0.8007</td>\n",
              "                        <td id=\"T_0ca3793a_2734_11eb_b439_1065307ae51arow7_col3\" class=\"data row7 col3\" >0.9600</td>\n",
              "                        <td id=\"T_0ca3793a_2734_11eb_b439_1065307ae51arow7_col4\" class=\"data row7 col4\" >0.8653</td>\n",
              "                        <td id=\"T_0ca3793a_2734_11eb_b439_1065307ae51arow7_col5\" class=\"data row7 col5\" >0.9079</td>\n",
              "                        <td id=\"T_0ca3793a_2734_11eb_b439_1065307ae51arow7_col6\" class=\"data row7 col6\" >0.5208</td>\n",
              "                        <td id=\"T_0ca3793a_2734_11eb_b439_1065307ae51arow7_col7\" class=\"data row7 col7\" >0.5367</td>\n",
              "                        <td id=\"T_0ca3793a_2734_11eb_b439_1065307ae51arow7_col8\" class=\"data row7 col8\" >0.0021</td>\n",
              "            </tr>\n",
              "            <tr>\n",
              "                        <th id=\"T_0ca3793a_2734_11eb_b439_1065307ae51alevel0_row8\" class=\"row_heading level0 row8\" >8</th>\n",
              "                        <td id=\"T_0ca3793a_2734_11eb_b439_1065307ae51arow8_col0\" class=\"data row8 col0\" >Ada Boost Classifier</td>\n",
              "                        <td id=\"T_0ca3793a_2734_11eb_b439_1065307ae51arow8_col1\" class=\"data row8 col1\" >0.8609</td>\n",
              "                        <td id=\"T_0ca3793a_2734_11eb_b439_1065307ae51arow8_col2\" class=\"data row8 col2\" >0.8594</td>\n",
              "                        <td id=\"T_0ca3793a_2734_11eb_b439_1065307ae51arow8_col3\" class=\"data row8 col3\" >0.8989</td>\n",
              "                        <td id=\"T_0ca3793a_2734_11eb_b439_1065307ae51arow8_col4\" class=\"data row8 col4\" >0.9166</td>\n",
              "                        <td id=\"T_0ca3793a_2734_11eb_b439_1065307ae51arow8_col5\" class=\"data row8 col5\" >0.9035</td>\n",
              "                        <td id=\"T_0ca3793a_2734_11eb_b439_1065307ae51arow8_col6\" class=\"data row8 col6\" >0.6418</td>\n",
              "                        <td id=\"T_0ca3793a_2734_11eb_b439_1065307ae51arow8_col7\" class=\"data row8 col7\" >0.6618</td>\n",
              "                        <td id=\"T_0ca3793a_2734_11eb_b439_1065307ae51arow8_col8\" class=\"data row8 col8\" >0.0660</td>\n",
              "            </tr>\n",
              "            <tr>\n",
              "                        <th id=\"T_0ca3793a_2734_11eb_b439_1065307ae51alevel0_row9\" class=\"row_heading level0 row9\" >9</th>\n",
              "                        <td id=\"T_0ca3793a_2734_11eb_b439_1065307ae51arow9_col0\" class=\"data row9 col0\" >Logistic Regression</td>\n",
              "                        <td id=\"T_0ca3793a_2734_11eb_b439_1065307ae51arow9_col1\" class=\"data row9 col1\" >0.8218</td>\n",
              "                        <td id=\"T_0ca3793a_2734_11eb_b439_1065307ae51arow9_col2\" class=\"data row9 col2\" >0.8622</td>\n",
              "                        <td id=\"T_0ca3793a_2734_11eb_b439_1065307ae51arow9_col3\" class=\"data row9 col3\" >0.8578</td>\n",
              "                        <td id=\"T_0ca3793a_2734_11eb_b439_1065307ae51arow9_col4\" class=\"data row9 col4\" >0.9060</td>\n",
              "                        <td id=\"T_0ca3793a_2734_11eb_b439_1065307ae51arow9_col5\" class=\"data row9 col5\" >0.8791</td>\n",
              "                        <td id=\"T_0ca3793a_2734_11eb_b439_1065307ae51arow9_col6\" class=\"data row9 col6\" >0.5328</td>\n",
              "                        <td id=\"T_0ca3793a_2734_11eb_b439_1065307ae51arow9_col7\" class=\"data row9 col7\" >0.5425</td>\n",
              "                        <td id=\"T_0ca3793a_2734_11eb_b439_1065307ae51arow9_col8\" class=\"data row9 col8\" >0.0081</td>\n",
              "            </tr>\n",
              "            <tr>\n",
              "                        <th id=\"T_0ca3793a_2734_11eb_b439_1065307ae51alevel0_row10\" class=\"row_heading level0 row10\" >10</th>\n",
              "                        <td id=\"T_0ca3793a_2734_11eb_b439_1065307ae51arow10_col0\" class=\"data row10 col0\" >SVM - Linear Kernel</td>\n",
              "                        <td id=\"T_0ca3793a_2734_11eb_b439_1065307ae51arow10_col1\" class=\"data row10 col1\" >0.8218</td>\n",
              "                        <td id=\"T_0ca3793a_2734_11eb_b439_1065307ae51arow10_col2\" class=\"data row10 col2\" >0.0000</td>\n",
              "                        <td id=\"T_0ca3793a_2734_11eb_b439_1065307ae51arow10_col3\" class=\"data row10 col3\" >0.8578</td>\n",
              "                        <td id=\"T_0ca3793a_2734_11eb_b439_1065307ae51arow10_col4\" class=\"data row10 col4\" >0.9011</td>\n",
              "                        <td id=\"T_0ca3793a_2734_11eb_b439_1065307ae51arow10_col5\" class=\"data row10 col5\" >0.8750</td>\n",
              "                        <td id=\"T_0ca3793a_2734_11eb_b439_1065307ae51arow10_col6\" class=\"data row10 col6\" >0.5514</td>\n",
              "                        <td id=\"T_0ca3793a_2734_11eb_b439_1065307ae51arow10_col7\" class=\"data row10 col7\" >0.5557</td>\n",
              "                        <td id=\"T_0ca3793a_2734_11eb_b439_1065307ae51arow10_col8\" class=\"data row10 col8\" >0.0023</td>\n",
              "            </tr>\n",
              "            <tr>\n",
              "                        <th id=\"T_0ca3793a_2734_11eb_b439_1065307ae51alevel0_row11\" class=\"row_heading level0 row11\" >11</th>\n",
              "                        <td id=\"T_0ca3793a_2734_11eb_b439_1065307ae51arow11_col0\" class=\"data row11 col0\" >K Neighbors Classifier</td>\n",
              "                        <td id=\"T_0ca3793a_2734_11eb_b439_1065307ae51arow11_col1\" class=\"data row11 col1\" >0.8301</td>\n",
              "                        <td id=\"T_0ca3793a_2734_11eb_b439_1065307ae51arow11_col2\" class=\"data row11 col2\" >0.9691</td>\n",
              "                        <td id=\"T_0ca3793a_2734_11eb_b439_1065307ae51arow11_col3\" class=\"data row11 col3\" >0.7978</td>\n",
              "                        <td id=\"T_0ca3793a_2734_11eb_b439_1065307ae51arow11_col4\" class=\"data row11 col4\" >0.9784</td>\n",
              "                        <td id=\"T_0ca3793a_2734_11eb_b439_1065307ae51arow11_col5\" class=\"data row11 col5\" >0.8696</td>\n",
              "                        <td id=\"T_0ca3793a_2734_11eb_b439_1065307ae51arow11_col6\" class=\"data row11 col6\" >0.6354</td>\n",
              "                        <td id=\"T_0ca3793a_2734_11eb_b439_1065307ae51arow11_col7\" class=\"data row11 col7\" >0.6774</td>\n",
              "                        <td id=\"T_0ca3793a_2734_11eb_b439_1065307ae51arow11_col8\" class=\"data row11 col8\" >0.0021</td>\n",
              "            </tr>\n",
              "            <tr>\n",
              "                        <th id=\"T_0ca3793a_2734_11eb_b439_1065307ae51alevel0_row12\" class=\"row_heading level0 row12\" >12</th>\n",
              "                        <td id=\"T_0ca3793a_2734_11eb_b439_1065307ae51arow12_col0\" class=\"data row12 col0\" >Linear Discriminant Analysis</td>\n",
              "                        <td id=\"T_0ca3793a_2734_11eb_b439_1065307ae51arow12_col1\" class=\"data row12 col1\" >0.7910</td>\n",
              "                        <td id=\"T_0ca3793a_2734_11eb_b439_1065307ae51arow12_col2\" class=\"data row12 col2\" >0.8417</td>\n",
              "                        <td id=\"T_0ca3793a_2734_11eb_b439_1065307ae51arow12_col3\" class=\"data row12 col3\" >0.8367</td>\n",
              "                        <td id=\"T_0ca3793a_2734_11eb_b439_1065307ae51arow12_col4\" class=\"data row12 col4\" >0.8839</td>\n",
              "                        <td id=\"T_0ca3793a_2734_11eb_b439_1065307ae51arow12_col5\" class=\"data row12 col5\" >0.8585</td>\n",
              "                        <td id=\"T_0ca3793a_2734_11eb_b439_1065307ae51arow12_col6\" class=\"data row12 col6\" >0.4492</td>\n",
              "                        <td id=\"T_0ca3793a_2734_11eb_b439_1065307ae51arow12_col7\" class=\"data row12 col7\" >0.4550</td>\n",
              "                        <td id=\"T_0ca3793a_2734_11eb_b439_1065307ae51arow12_col8\" class=\"data row12 col8\" >0.0024</td>\n",
              "            </tr>\n",
              "            <tr>\n",
              "                        <th id=\"T_0ca3793a_2734_11eb_b439_1065307ae51alevel0_row13\" class=\"row_heading level0 row13\" >13</th>\n",
              "                        <td id=\"T_0ca3793a_2734_11eb_b439_1065307ae51arow13_col0\" class=\"data row13 col0\" >Ridge Classifier</td>\n",
              "                        <td id=\"T_0ca3793a_2734_11eb_b439_1065307ae51arow13_col1\" class=\"data row13 col1\" >0.7910</td>\n",
              "                        <td id=\"T_0ca3793a_2734_11eb_b439_1065307ae51arow13_col2\" class=\"data row13 col2\" >0.0000</td>\n",
              "                        <td id=\"T_0ca3793a_2734_11eb_b439_1065307ae51arow13_col3\" class=\"data row13 col3\" >0.8267</td>\n",
              "                        <td id=\"T_0ca3793a_2734_11eb_b439_1065307ae51arow13_col4\" class=\"data row13 col4\" >0.8914</td>\n",
              "                        <td id=\"T_0ca3793a_2734_11eb_b439_1065307ae51arow13_col5\" class=\"data row13 col5\" >0.8563</td>\n",
              "                        <td id=\"T_0ca3793a_2734_11eb_b439_1065307ae51arow13_col6\" class=\"data row13 col6\" >0.4656</td>\n",
              "                        <td id=\"T_0ca3793a_2734_11eb_b439_1065307ae51arow13_col7\" class=\"data row13 col7\" >0.4735</td>\n",
              "                        <td id=\"T_0ca3793a_2734_11eb_b439_1065307ae51arow13_col8\" class=\"data row13 col8\" >0.0033</td>\n",
              "            </tr>\n",
              "            <tr>\n",
              "                        <th id=\"T_0ca3793a_2734_11eb_b439_1065307ae51alevel0_row14\" class=\"row_heading level0 row14\" >14</th>\n",
              "                        <td id=\"T_0ca3793a_2734_11eb_b439_1065307ae51arow14_col0\" class=\"data row14 col0\" >Naive Bayes</td>\n",
              "                        <td id=\"T_0ca3793a_2734_11eb_b439_1065307ae51arow14_col1\" class=\"data row14 col1\" >0.7372</td>\n",
              "                        <td id=\"T_0ca3793a_2734_11eb_b439_1065307ae51arow14_col2\" class=\"data row14 col2\" >0.8281</td>\n",
              "                        <td id=\"T_0ca3793a_2734_11eb_b439_1065307ae51arow14_col3\" class=\"data row14 col3\" >0.7456</td>\n",
              "                        <td id=\"T_0ca3793a_2734_11eb_b439_1065307ae51arow14_col4\" class=\"data row14 col4\" >0.8953</td>\n",
              "                        <td id=\"T_0ca3793a_2734_11eb_b439_1065307ae51arow14_col5\" class=\"data row14 col5\" >0.8066</td>\n",
              "                        <td id=\"T_0ca3793a_2734_11eb_b439_1065307ae51arow14_col6\" class=\"data row14 col6\" >0.3937</td>\n",
              "                        <td id=\"T_0ca3793a_2734_11eb_b439_1065307ae51arow14_col7\" class=\"data row14 col7\" >0.4181</td>\n",
              "                        <td id=\"T_0ca3793a_2734_11eb_b439_1065307ae51arow14_col8\" class=\"data row14 col8\" >0.0023</td>\n",
              "            </tr>\n",
              "    </tbody></table>"
            ],
            "text/plain": [
              "<pandas.io.formats.style.Styler at 0x1e6248c7ef0>"
            ]
          },
          "metadata": {},
          "output_type": "display_data"
        }
      ],
      "source": [
        "# selecting top 3 models\n",
        "best_models = compare_models(n_select=3, sort='F1')"
      ]
    },
    {
      "cell_type": "markdown",
      "metadata": {
        "id": "0lEuqFGhFsqW"
      },
      "source": [
        "The score grid printed above highlights the highest performing metric for comparison purposes only. The grid by default is sorted using 'Accuracy' (highest to lowest) which can be changed by passing the sort parameter. For example compare_models(sort = 'Recall') will sort the grid by Recall instead of Accuracy. If you want to change the fold parameter from the default value of 10 to a different value then you can use the fold parameter. For example compare_models(fold = 5) will compare all models on 5 fold cross validation. Reducing the number of folds will improve the training time. By default, compare_models return the best performing model based on default sort order but can be used to return a list of top N models by using n_select parameter."
      ]
    },
    {
      "cell_type": "markdown",
      "metadata": {
        "id": "PPMGEdkZFsqW"
      },
      "source": [
        "For this dataset, it is important for the model to predict patients with Parkinson's disease. A challenge when developing prediction models with this type of data is the balance between precision and recall:\n",
        "- Precision represents the proportion of the models’ predictions of Parkinson's disease where Parkinson is actually present.\n",
        "- Recall represents the proportion of all cases of Parkinson's disease that the model accurately predicted.\n",
        "\n",
        "Because not “capturing” even one case of disease could result in death, the models should place emphasis on the recall score. It is far preferable to not “miss” anyone with disease even if that means “flagging” some patients as having disease that actually do not have the disease.\n",
        "\n",
        "Since the dataset has 147 positive cases out of total 195 patients, the model is imbalanced. The model may predict that everyone does not have disease with a precison score of 100% but a recall score of 1%. A predictive model such as this would be of no value. \n",
        "\n",
        "The goal for a predictive model in this scenario is to identify as high a percentage as possible of the Parkinson's disease cases with as few as possible “false positives” (prediction of disease but in fact no Parkinson).\n",
        "\n",
        "We will look at recall first and foremost, and then the F1 score, which is a measurement reflecting an equally balanced weighting of both precision and recall:\n",
        "            F1 = precision * recall/ precision + recall\n"
      ]
    },
    {
      "cell_type": "code",
      "execution_count": null,
      "metadata": {
        "scrolled": false,
        "id": "hev8LflrFsqW",
        "outputId": "05208e5b-7a8f-4675-d743-f98b93681fcc"
      },
      "outputs": [
        {
          "name": "stdout",
          "output_type": "stream",
          "text": [
            "[ExtraTreesClassifier(bootstrap=False, ccp_alpha=0.0, class_weight=None,\n",
            "                     criterion='gini', max_depth=None, max_features='auto',\n",
            "                     max_leaf_nodes=None, max_samples=None,\n",
            "                     min_impurity_decrease=0.0, min_impurity_split=None,\n",
            "                     min_samples_leaf=1, min_samples_split=2,\n",
            "                     min_weight_fraction_leaf=0.0, n_estimators=100, n_jobs=-1,\n",
            "                     oob_score=False, random_state=588, verbose=0,\n",
            "                     warm_start=False), GradientBoostingClassifier(ccp_alpha=0.0, criterion='friedman_mse', init=None,\n",
            "                           learning_rate=0.1, loss='deviance', max_depth=3,\n",
            "                           max_features=None, max_leaf_nodes=None,\n",
            "                           min_impurity_decrease=0.0, min_impurity_split=None,\n",
            "                           min_samples_leaf=1, min_samples_split=2,\n",
            "                           min_weight_fraction_leaf=0.0, n_estimators=100,\n",
            "                           n_iter_no_change=None, presort='deprecated',\n",
            "                           random_state=588, subsample=1.0, tol=0.0001,\n",
            "                           validation_fraction=0.1, verbose=0,\n",
            "                           warm_start=False), RandomForestClassifier(bootstrap=True, ccp_alpha=0.0, class_weight=None,\n",
            "                       criterion='gini', max_depth=None, max_features='auto',\n",
            "                       max_leaf_nodes=None, max_samples=None,\n",
            "                       min_impurity_decrease=0.0, min_impurity_split=None,\n",
            "                       min_samples_leaf=1, min_samples_split=2,\n",
            "                       min_weight_fraction_leaf=0.0, n_estimators=10, n_jobs=-1,\n",
            "                       oob_score=False, random_state=588, verbose=0,\n",
            "                       warm_start=False)]\n"
          ]
        }
      ],
      "source": [
        "print(best_models)"
      ]
    },
    {
      "cell_type": "markdown",
      "metadata": {
        "id": "Ac77KMOGFsqW"
      },
      "source": [
        "The top 3 models are:\n",
        "    - Extra Trees Classifier Classifier\n",
        "    - Gradient Boosting Classifier\n",
        "    - Random Forest Classifier    "
      ]
    },
    {
      "cell_type": "markdown",
      "metadata": {
        "id": "FfCBUsfRFsqW"
      },
      "source": [
        "## **Creating Models**"
      ]
    },
    {
      "cell_type": "markdown",
      "metadata": {
        "id": "15tvxKvDFsqW"
      },
      "source": [
        "We will now use the top 5 models to train and evaluate models using cross validation."
      ]
    },
    {
      "cell_type": "markdown",
      "metadata": {
        "id": "xioIxz45FsqW"
      },
      "source": [
        "### ***Creating an Extra Trees Classifier Model***"
      ]
    },
    {
      "cell_type": "markdown",
      "metadata": {
        "id": "85d2DiyYFsqW"
      },
      "source": [
        "Before we create a model, we must know the ID of each model. We can find the ID using the models() function."
      ]
    },
    {
      "cell_type": "code",
      "execution_count": null,
      "metadata": {
        "id": "AvJnf3twFsqW",
        "outputId": "84c4abaf-92ae-48b8-ad2f-665bae75c2a6"
      },
      "outputs": [
        {
          "data": {
            "text/html": [
              "<div>\n",
              "<style scoped>\n",
              "    .dataframe tbody tr th:only-of-type {\n",
              "        vertical-align: middle;\n",
              "    }\n",
              "\n",
              "    .dataframe tbody tr th {\n",
              "        vertical-align: top;\n",
              "    }\n",
              "\n",
              "    .dataframe thead th {\n",
              "        text-align: right;\n",
              "    }\n",
              "</style>\n",
              "<table border=\"1\" class=\"dataframe\">\n",
              "  <thead>\n",
              "    <tr style=\"text-align: right;\">\n",
              "      <th></th>\n",
              "      <th>Name</th>\n",
              "      <th>Reference</th>\n",
              "      <th>Turbo</th>\n",
              "    </tr>\n",
              "    <tr>\n",
              "      <th>ID</th>\n",
              "      <th></th>\n",
              "      <th></th>\n",
              "      <th></th>\n",
              "    </tr>\n",
              "  </thead>\n",
              "  <tbody>\n",
              "    <tr>\n",
              "      <th>lr</th>\n",
              "      <td>Logistic Regression</td>\n",
              "      <td>sklearn.linear_model.LogisticRegression</td>\n",
              "      <td>True</td>\n",
              "    </tr>\n",
              "    <tr>\n",
              "      <th>knn</th>\n",
              "      <td>K Neighbors Classifier</td>\n",
              "      <td>sklearn.neighbors.KNeighborsClassifier</td>\n",
              "      <td>True</td>\n",
              "    </tr>\n",
              "    <tr>\n",
              "      <th>nb</th>\n",
              "      <td>Naive Bayes</td>\n",
              "      <td>sklearn.naive_bayes.GaussianNB</td>\n",
              "      <td>True</td>\n",
              "    </tr>\n",
              "    <tr>\n",
              "      <th>dt</th>\n",
              "      <td>Decision Tree Classifier</td>\n",
              "      <td>sklearn.tree.DecisionTreeClassifier</td>\n",
              "      <td>True</td>\n",
              "    </tr>\n",
              "    <tr>\n",
              "      <th>svm</th>\n",
              "      <td>SVM - Linear Kernel</td>\n",
              "      <td>sklearn.linear_model.SGDClassifier</td>\n",
              "      <td>True</td>\n",
              "    </tr>\n",
              "    <tr>\n",
              "      <th>rbfsvm</th>\n",
              "      <td>SVM - Radial Kernel</td>\n",
              "      <td>sklearn.svm.SVC</td>\n",
              "      <td>False</td>\n",
              "    </tr>\n",
              "    <tr>\n",
              "      <th>gpc</th>\n",
              "      <td>Gaussian Process Classifier</td>\n",
              "      <td>sklearn.gaussian_process.GPC</td>\n",
              "      <td>False</td>\n",
              "    </tr>\n",
              "    <tr>\n",
              "      <th>mlp</th>\n",
              "      <td>MLP Classifier</td>\n",
              "      <td>sklearn.neural_network.MLPClassifier</td>\n",
              "      <td>False</td>\n",
              "    </tr>\n",
              "    <tr>\n",
              "      <th>ridge</th>\n",
              "      <td>Ridge Classifier</td>\n",
              "      <td>sklearn.linear_model.RidgeClassifier</td>\n",
              "      <td>True</td>\n",
              "    </tr>\n",
              "    <tr>\n",
              "      <th>rf</th>\n",
              "      <td>Random Forest Classifier</td>\n",
              "      <td>sklearn.ensemble.RandomForestClassifier</td>\n",
              "      <td>True</td>\n",
              "    </tr>\n",
              "    <tr>\n",
              "      <th>qda</th>\n",
              "      <td>Quadratic Discriminant Analysis</td>\n",
              "      <td>sklearn.discriminant_analysis.QDA</td>\n",
              "      <td>True</td>\n",
              "    </tr>\n",
              "    <tr>\n",
              "      <th>ada</th>\n",
              "      <td>Ada Boost Classifier</td>\n",
              "      <td>sklearn.ensemble.AdaBoostClassifier</td>\n",
              "      <td>True</td>\n",
              "    </tr>\n",
              "    <tr>\n",
              "      <th>gbc</th>\n",
              "      <td>Gradient Boosting Classifier</td>\n",
              "      <td>sklearn.ensemble.GradientBoostingClassifier</td>\n",
              "      <td>True</td>\n",
              "    </tr>\n",
              "    <tr>\n",
              "      <th>lda</th>\n",
              "      <td>Linear Discriminant Analysis</td>\n",
              "      <td>sklearn.discriminant_analysis.LDA</td>\n",
              "      <td>True</td>\n",
              "    </tr>\n",
              "    <tr>\n",
              "      <th>et</th>\n",
              "      <td>Extra Trees Classifier</td>\n",
              "      <td>sklearn.ensemble.ExtraTreesClassifier</td>\n",
              "      <td>True</td>\n",
              "    </tr>\n",
              "    <tr>\n",
              "      <th>xgboost</th>\n",
              "      <td>Extreme Gradient Boosting</td>\n",
              "      <td>xgboost.readthedocs.io</td>\n",
              "      <td>True</td>\n",
              "    </tr>\n",
              "    <tr>\n",
              "      <th>lightgbm</th>\n",
              "      <td>Light Gradient Boosting Machine</td>\n",
              "      <td>github.com/microsoft/LightGBM</td>\n",
              "      <td>True</td>\n",
              "    </tr>\n",
              "    <tr>\n",
              "      <th>catboost</th>\n",
              "      <td>CatBoost Classifier</td>\n",
              "      <td>catboost.ai</td>\n",
              "      <td>True</td>\n",
              "    </tr>\n",
              "  </tbody>\n",
              "</table>\n",
              "</div>"
            ],
            "text/plain": [
              "                                     Name  \\\n",
              "ID                                          \n",
              "lr                    Logistic Regression   \n",
              "knn                K Neighbors Classifier   \n",
              "nb                            Naive Bayes   \n",
              "dt               Decision Tree Classifier   \n",
              "svm                   SVM - Linear Kernel   \n",
              "rbfsvm                SVM - Radial Kernel   \n",
              "gpc           Gaussian Process Classifier   \n",
              "mlp                        MLP Classifier   \n",
              "ridge                    Ridge Classifier   \n",
              "rf               Random Forest Classifier   \n",
              "qda       Quadratic Discriminant Analysis   \n",
              "ada                  Ada Boost Classifier   \n",
              "gbc          Gradient Boosting Classifier   \n",
              "lda          Linear Discriminant Analysis   \n",
              "et                 Extra Trees Classifier   \n",
              "xgboost         Extreme Gradient Boosting   \n",
              "lightgbm  Light Gradient Boosting Machine   \n",
              "catboost              CatBoost Classifier   \n",
              "\n",
              "                                            Reference  Turbo  \n",
              "ID                                                            \n",
              "lr            sklearn.linear_model.LogisticRegression   True  \n",
              "knn            sklearn.neighbors.KNeighborsClassifier   True  \n",
              "nb                     sklearn.naive_bayes.GaussianNB   True  \n",
              "dt                sklearn.tree.DecisionTreeClassifier   True  \n",
              "svm                sklearn.linear_model.SGDClassifier   True  \n",
              "rbfsvm                                sklearn.svm.SVC  False  \n",
              "gpc                      sklearn.gaussian_process.GPC  False  \n",
              "mlp              sklearn.neural_network.MLPClassifier  False  \n",
              "ridge            sklearn.linear_model.RidgeClassifier   True  \n",
              "rf            sklearn.ensemble.RandomForestClassifier   True  \n",
              "qda                 sklearn.discriminant_analysis.QDA   True  \n",
              "ada               sklearn.ensemble.AdaBoostClassifier   True  \n",
              "gbc       sklearn.ensemble.GradientBoostingClassifier   True  \n",
              "lda                 sklearn.discriminant_analysis.LDA   True  \n",
              "et              sklearn.ensemble.ExtraTreesClassifier   True  \n",
              "xgboost                        xgboost.readthedocs.io   True  \n",
              "lightgbm                github.com/microsoft/LightGBM   True  \n",
              "catboost                                  catboost.ai   True  "
            ]
          },
          "execution_count": 16,
          "metadata": {},
          "output_type": "execute_result"
        }
      ],
      "source": [
        "models()"
      ]
    },
    {
      "cell_type": "code",
      "execution_count": null,
      "metadata": {
        "scrolled": true,
        "id": "TJ7eFrb1FsqW",
        "outputId": "597f57ce-2017-4766-eb7a-b8cce07dd0ed"
      },
      "outputs": [
        {
          "data": {
            "text/html": [
              "<style  type=\"text/css\" >\n",
              "#T_0b743eae_273a_11eb_afe1_1065307ae51arow8_col0,#T_0b743eae_273a_11eb_afe1_1065307ae51arow8_col1,#T_0b743eae_273a_11eb_afe1_1065307ae51arow8_col2,#T_0b743eae_273a_11eb_afe1_1065307ae51arow8_col3,#T_0b743eae_273a_11eb_afe1_1065307ae51arow8_col4,#T_0b743eae_273a_11eb_afe1_1065307ae51arow8_col5,#T_0b743eae_273a_11eb_afe1_1065307ae51arow8_col6{\n",
              "            background:  yellow;\n",
              "        }</style><table id=\"T_0b743eae_273a_11eb_afe1_1065307ae51a\" ><thead>    <tr>        <th class=\"blank level0\" ></th>        <th class=\"col_heading level0 col0\" >Accuracy</th>        <th class=\"col_heading level0 col1\" >AUC</th>        <th class=\"col_heading level0 col2\" >Recall</th>        <th class=\"col_heading level0 col3\" >Prec.</th>        <th class=\"col_heading level0 col4\" >F1</th>        <th class=\"col_heading level0 col5\" >Kappa</th>        <th class=\"col_heading level0 col6\" >MCC</th>    </tr></thead><tbody>\n",
              "                <tr>\n",
              "                        <th id=\"T_0b743eae_273a_11eb_afe1_1065307ae51alevel0_row0\" class=\"row_heading level0 row0\" >0</th>\n",
              "                        <td id=\"T_0b743eae_273a_11eb_afe1_1065307ae51arow0_col0\" class=\"data row0 col0\" >0.88</td>\n",
              "                        <td id=\"T_0b743eae_273a_11eb_afe1_1065307ae51arow0_col1\" class=\"data row0 col1\" >0.88</td>\n",
              "                        <td id=\"T_0b743eae_273a_11eb_afe1_1065307ae51arow0_col2\" class=\"data row0 col2\" >1.00</td>\n",
              "                        <td id=\"T_0b743eae_273a_11eb_afe1_1065307ae51arow0_col3\" class=\"data row0 col3\" >0.87</td>\n",
              "                        <td id=\"T_0b743eae_273a_11eb_afe1_1065307ae51arow0_col4\" class=\"data row0 col4\" >0.93</td>\n",
              "                        <td id=\"T_0b743eae_273a_11eb_afe1_1065307ae51arow0_col5\" class=\"data row0 col5\" >0.60</td>\n",
              "                        <td id=\"T_0b743eae_273a_11eb_afe1_1065307ae51arow0_col6\" class=\"data row0 col6\" >0.66</td>\n",
              "            </tr>\n",
              "            <tr>\n",
              "                        <th id=\"T_0b743eae_273a_11eb_afe1_1065307ae51alevel0_row1\" class=\"row_heading level0 row1\" >1</th>\n",
              "                        <td id=\"T_0b743eae_273a_11eb_afe1_1065307ae51arow1_col0\" class=\"data row1 col0\" >0.94</td>\n",
              "                        <td id=\"T_0b743eae_273a_11eb_afe1_1065307ae51arow1_col1\" class=\"data row1 col1\" >0.94</td>\n",
              "                        <td id=\"T_0b743eae_273a_11eb_afe1_1065307ae51arow1_col2\" class=\"data row1 col2\" >1.00</td>\n",
              "                        <td id=\"T_0b743eae_273a_11eb_afe1_1065307ae51arow1_col3\" class=\"data row1 col3\" >0.92</td>\n",
              "                        <td id=\"T_0b743eae_273a_11eb_afe1_1065307ae51arow1_col4\" class=\"data row1 col4\" >0.96</td>\n",
              "                        <td id=\"T_0b743eae_273a_11eb_afe1_1065307ae51arow1_col5\" class=\"data row1 col5\" >0.82</td>\n",
              "                        <td id=\"T_0b743eae_273a_11eb_afe1_1065307ae51arow1_col6\" class=\"data row1 col6\" >0.83</td>\n",
              "            </tr>\n",
              "            <tr>\n",
              "                        <th id=\"T_0b743eae_273a_11eb_afe1_1065307ae51alevel0_row2\" class=\"row_heading level0 row2\" >2</th>\n",
              "                        <td id=\"T_0b743eae_273a_11eb_afe1_1065307ae51arow2_col0\" class=\"data row2 col0\" >0.94</td>\n",
              "                        <td id=\"T_0b743eae_273a_11eb_afe1_1065307ae51arow2_col1\" class=\"data row2 col1\" >0.96</td>\n",
              "                        <td id=\"T_0b743eae_273a_11eb_afe1_1065307ae51arow2_col2\" class=\"data row2 col2\" >0.92</td>\n",
              "                        <td id=\"T_0b743eae_273a_11eb_afe1_1065307ae51arow2_col3\" class=\"data row2 col3\" >1.00</td>\n",
              "                        <td id=\"T_0b743eae_273a_11eb_afe1_1065307ae51arow2_col4\" class=\"data row2 col4\" >0.96</td>\n",
              "                        <td id=\"T_0b743eae_273a_11eb_afe1_1065307ae51arow2_col5\" class=\"data row2 col5\" >0.85</td>\n",
              "                        <td id=\"T_0b743eae_273a_11eb_afe1_1065307ae51arow2_col6\" class=\"data row2 col6\" >0.86</td>\n",
              "            </tr>\n",
              "            <tr>\n",
              "                        <th id=\"T_0b743eae_273a_11eb_afe1_1065307ae51alevel0_row3\" class=\"row_heading level0 row3\" >3</th>\n",
              "                        <td id=\"T_0b743eae_273a_11eb_afe1_1065307ae51arow3_col0\" class=\"data row3 col0\" >0.94</td>\n",
              "                        <td id=\"T_0b743eae_273a_11eb_afe1_1065307ae51arow3_col1\" class=\"data row3 col1\" >0.98</td>\n",
              "                        <td id=\"T_0b743eae_273a_11eb_afe1_1065307ae51arow3_col2\" class=\"data row3 col2\" >0.92</td>\n",
              "                        <td id=\"T_0b743eae_273a_11eb_afe1_1065307ae51arow3_col3\" class=\"data row3 col3\" >1.00</td>\n",
              "                        <td id=\"T_0b743eae_273a_11eb_afe1_1065307ae51arow3_col4\" class=\"data row3 col4\" >0.96</td>\n",
              "                        <td id=\"T_0b743eae_273a_11eb_afe1_1065307ae51arow3_col5\" class=\"data row3 col5\" >0.85</td>\n",
              "                        <td id=\"T_0b743eae_273a_11eb_afe1_1065307ae51arow3_col6\" class=\"data row3 col6\" >0.86</td>\n",
              "            </tr>\n",
              "            <tr>\n",
              "                        <th id=\"T_0b743eae_273a_11eb_afe1_1065307ae51alevel0_row4\" class=\"row_heading level0 row4\" >4</th>\n",
              "                        <td id=\"T_0b743eae_273a_11eb_afe1_1065307ae51arow4_col0\" class=\"data row4 col0\" >0.88</td>\n",
              "                        <td id=\"T_0b743eae_273a_11eb_afe1_1065307ae51arow4_col1\" class=\"data row4 col1\" >0.96</td>\n",
              "                        <td id=\"T_0b743eae_273a_11eb_afe1_1065307ae51arow4_col2\" class=\"data row4 col2\" >1.00</td>\n",
              "                        <td id=\"T_0b743eae_273a_11eb_afe1_1065307ae51arow4_col3\" class=\"data row4 col3\" >0.86</td>\n",
              "                        <td id=\"T_0b743eae_273a_11eb_afe1_1065307ae51arow4_col4\" class=\"data row4 col4\" >0.92</td>\n",
              "                        <td id=\"T_0b743eae_273a_11eb_afe1_1065307ae51arow4_col5\" class=\"data row4 col5\" >0.60</td>\n",
              "                        <td id=\"T_0b743eae_273a_11eb_afe1_1065307ae51arow4_col6\" class=\"data row4 col6\" >0.65</td>\n",
              "            </tr>\n",
              "            <tr>\n",
              "                        <th id=\"T_0b743eae_273a_11eb_afe1_1065307ae51alevel0_row5\" class=\"row_heading level0 row5\" >5</th>\n",
              "                        <td id=\"T_0b743eae_273a_11eb_afe1_1065307ae51arow5_col0\" class=\"data row5 col0\" >0.88</td>\n",
              "                        <td id=\"T_0b743eae_273a_11eb_afe1_1065307ae51arow5_col1\" class=\"data row5 col1\" >0.94</td>\n",
              "                        <td id=\"T_0b743eae_273a_11eb_afe1_1065307ae51arow5_col2\" class=\"data row5 col2\" >0.92</td>\n",
              "                        <td id=\"T_0b743eae_273a_11eb_afe1_1065307ae51arow5_col3\" class=\"data row5 col3\" >0.92</td>\n",
              "                        <td id=\"T_0b743eae_273a_11eb_afe1_1065307ae51arow5_col4\" class=\"data row5 col4\" >0.92</td>\n",
              "                        <td id=\"T_0b743eae_273a_11eb_afe1_1065307ae51arow5_col5\" class=\"data row5 col5\" >0.67</td>\n",
              "                        <td id=\"T_0b743eae_273a_11eb_afe1_1065307ae51arow5_col6\" class=\"data row5 col6\" >0.67</td>\n",
              "            </tr>\n",
              "            <tr>\n",
              "                        <th id=\"T_0b743eae_273a_11eb_afe1_1065307ae51alevel0_row6\" class=\"row_heading level0 row6\" >6</th>\n",
              "                        <td id=\"T_0b743eae_273a_11eb_afe1_1065307ae51arow6_col0\" class=\"data row6 col0\" >0.94</td>\n",
              "                        <td id=\"T_0b743eae_273a_11eb_afe1_1065307ae51arow6_col1\" class=\"data row6 col1\" >1.00</td>\n",
              "                        <td id=\"T_0b743eae_273a_11eb_afe1_1065307ae51arow6_col2\" class=\"data row6 col2\" >0.92</td>\n",
              "                        <td id=\"T_0b743eae_273a_11eb_afe1_1065307ae51arow6_col3\" class=\"data row6 col3\" >1.00</td>\n",
              "                        <td id=\"T_0b743eae_273a_11eb_afe1_1065307ae51arow6_col4\" class=\"data row6 col4\" >0.96</td>\n",
              "                        <td id=\"T_0b743eae_273a_11eb_afe1_1065307ae51arow6_col5\" class=\"data row6 col5\" >0.85</td>\n",
              "                        <td id=\"T_0b743eae_273a_11eb_afe1_1065307ae51arow6_col6\" class=\"data row6 col6\" >0.86</td>\n",
              "            </tr>\n",
              "            <tr>\n",
              "                        <th id=\"T_0b743eae_273a_11eb_afe1_1065307ae51alevel0_row7\" class=\"row_heading level0 row7\" >7</th>\n",
              "                        <td id=\"T_0b743eae_273a_11eb_afe1_1065307ae51arow7_col0\" class=\"data row7 col0\" >0.94</td>\n",
              "                        <td id=\"T_0b743eae_273a_11eb_afe1_1065307ae51arow7_col1\" class=\"data row7 col1\" >1.00</td>\n",
              "                        <td id=\"T_0b743eae_273a_11eb_afe1_1065307ae51arow7_col2\" class=\"data row7 col2\" >0.92</td>\n",
              "                        <td id=\"T_0b743eae_273a_11eb_afe1_1065307ae51arow7_col3\" class=\"data row7 col3\" >1.00</td>\n",
              "                        <td id=\"T_0b743eae_273a_11eb_afe1_1065307ae51arow7_col4\" class=\"data row7 col4\" >0.96</td>\n",
              "                        <td id=\"T_0b743eae_273a_11eb_afe1_1065307ae51arow7_col5\" class=\"data row7 col5\" >0.82</td>\n",
              "                        <td id=\"T_0b743eae_273a_11eb_afe1_1065307ae51arow7_col6\" class=\"data row7 col6\" >0.83</td>\n",
              "            </tr>\n",
              "            <tr>\n",
              "                        <th id=\"T_0b743eae_273a_11eb_afe1_1065307ae51alevel0_row8\" class=\"row_heading level0 row8\" >Mean</th>\n",
              "                        <td id=\"T_0b743eae_273a_11eb_afe1_1065307ae51arow8_col0\" class=\"data row8 col0\" >0.91</td>\n",
              "                        <td id=\"T_0b743eae_273a_11eb_afe1_1065307ae51arow8_col1\" class=\"data row8 col1\" >0.96</td>\n",
              "                        <td id=\"T_0b743eae_273a_11eb_afe1_1065307ae51arow8_col2\" class=\"data row8 col2\" >0.95</td>\n",
              "                        <td id=\"T_0b743eae_273a_11eb_afe1_1065307ae51arow8_col3\" class=\"data row8 col3\" >0.95</td>\n",
              "                        <td id=\"T_0b743eae_273a_11eb_afe1_1065307ae51arow8_col4\" class=\"data row8 col4\" >0.94</td>\n",
              "                        <td id=\"T_0b743eae_273a_11eb_afe1_1065307ae51arow8_col5\" class=\"data row8 col5\" >0.76</td>\n",
              "                        <td id=\"T_0b743eae_273a_11eb_afe1_1065307ae51arow8_col6\" class=\"data row8 col6\" >0.78</td>\n",
              "            </tr>\n",
              "            <tr>\n",
              "                        <th id=\"T_0b743eae_273a_11eb_afe1_1065307ae51alevel0_row9\" class=\"row_heading level0 row9\" >SD</th>\n",
              "                        <td id=\"T_0b743eae_273a_11eb_afe1_1065307ae51arow9_col0\" class=\"data row9 col0\" >0.03</td>\n",
              "                        <td id=\"T_0b743eae_273a_11eb_afe1_1065307ae51arow9_col1\" class=\"data row9 col1\" >0.04</td>\n",
              "                        <td id=\"T_0b743eae_273a_11eb_afe1_1065307ae51arow9_col2\" class=\"data row9 col2\" >0.04</td>\n",
              "                        <td id=\"T_0b743eae_273a_11eb_afe1_1065307ae51arow9_col3\" class=\"data row9 col3\" >0.06</td>\n",
              "                        <td id=\"T_0b743eae_273a_11eb_afe1_1065307ae51arow9_col4\" class=\"data row9 col4\" >0.02</td>\n",
              "                        <td id=\"T_0b743eae_273a_11eb_afe1_1065307ae51arow9_col5\" class=\"data row9 col5\" >0.10</td>\n",
              "                        <td id=\"T_0b743eae_273a_11eb_afe1_1065307ae51arow9_col6\" class=\"data row9 col6\" >0.09</td>\n",
              "            </tr>\n",
              "    </tbody></table>"
            ],
            "text/plain": [
              "<pandas.io.formats.style.Styler at 0x1e60d24cbe0>"
            ]
          },
          "metadata": {},
          "output_type": "display_data"
        }
      ],
      "source": [
        "et = create_model('et',fold = 8,round = 2)"
      ]
    },
    {
      "cell_type": "markdown",
      "metadata": {
        "id": "Tq6GBPAzFsqW"
      },
      "source": [
        "The Extra Trees classifier model has high Standard Deviation, which means the model is overfit. Also, all the model metrics are greater than 75%, which means the model is not underfit."
      ]
    },
    {
      "cell_type": "markdown",
      "metadata": {
        "id": "fIKrM1ClFsqW"
      },
      "source": [
        "### ***Creating a Gradient Boosting Classifier Model***"
      ]
    },
    {
      "cell_type": "code",
      "execution_count": null,
      "metadata": {
        "scrolled": true,
        "id": "VRoZiMS8FsqW",
        "outputId": "3f570afd-1145-4516-8c51-1ad34c85e424"
      },
      "outputs": [
        {
          "data": {
            "text/html": [
              "<style  type=\"text/css\" >\n",
              "#T_16deb2b0_273a_11eb_b286_1065307ae51arow8_col0,#T_16deb2b0_273a_11eb_b286_1065307ae51arow8_col1,#T_16deb2b0_273a_11eb_b286_1065307ae51arow8_col2,#T_16deb2b0_273a_11eb_b286_1065307ae51arow8_col3,#T_16deb2b0_273a_11eb_b286_1065307ae51arow8_col4,#T_16deb2b0_273a_11eb_b286_1065307ae51arow8_col5,#T_16deb2b0_273a_11eb_b286_1065307ae51arow8_col6{\n",
              "            background:  yellow;\n",
              "        }</style><table id=\"T_16deb2b0_273a_11eb_b286_1065307ae51a\" ><thead>    <tr>        <th class=\"blank level0\" ></th>        <th class=\"col_heading level0 col0\" >Accuracy</th>        <th class=\"col_heading level0 col1\" >AUC</th>        <th class=\"col_heading level0 col2\" >Recall</th>        <th class=\"col_heading level0 col3\" >Prec.</th>        <th class=\"col_heading level0 col4\" >F1</th>        <th class=\"col_heading level0 col5\" >Kappa</th>        <th class=\"col_heading level0 col6\" >MCC</th>    </tr></thead><tbody>\n",
              "                <tr>\n",
              "                        <th id=\"T_16deb2b0_273a_11eb_b286_1065307ae51alevel0_row0\" class=\"row_heading level0 row0\" >0</th>\n",
              "                        <td id=\"T_16deb2b0_273a_11eb_b286_1065307ae51arow0_col0\" class=\"data row0 col0\" >0.88</td>\n",
              "                        <td id=\"T_16deb2b0_273a_11eb_b286_1065307ae51arow0_col1\" class=\"data row0 col1\" >0.90</td>\n",
              "                        <td id=\"T_16deb2b0_273a_11eb_b286_1065307ae51arow0_col2\" class=\"data row0 col2\" >1.00</td>\n",
              "                        <td id=\"T_16deb2b0_273a_11eb_b286_1065307ae51arow0_col3\" class=\"data row0 col3\" >0.87</td>\n",
              "                        <td id=\"T_16deb2b0_273a_11eb_b286_1065307ae51arow0_col4\" class=\"data row0 col4\" >0.93</td>\n",
              "                        <td id=\"T_16deb2b0_273a_11eb_b286_1065307ae51arow0_col5\" class=\"data row0 col5\" >0.60</td>\n",
              "                        <td id=\"T_16deb2b0_273a_11eb_b286_1065307ae51arow0_col6\" class=\"data row0 col6\" >0.66</td>\n",
              "            </tr>\n",
              "            <tr>\n",
              "                        <th id=\"T_16deb2b0_273a_11eb_b286_1065307ae51alevel0_row1\" class=\"row_heading level0 row1\" >1</th>\n",
              "                        <td id=\"T_16deb2b0_273a_11eb_b286_1065307ae51arow1_col0\" class=\"data row1 col0\" >0.88</td>\n",
              "                        <td id=\"T_16deb2b0_273a_11eb_b286_1065307ae51arow1_col1\" class=\"data row1 col1\" >0.96</td>\n",
              "                        <td id=\"T_16deb2b0_273a_11eb_b286_1065307ae51arow1_col2\" class=\"data row1 col2\" >1.00</td>\n",
              "                        <td id=\"T_16deb2b0_273a_11eb_b286_1065307ae51arow1_col3\" class=\"data row1 col3\" >0.86</td>\n",
              "                        <td id=\"T_16deb2b0_273a_11eb_b286_1065307ae51arow1_col4\" class=\"data row1 col4\" >0.92</td>\n",
              "                        <td id=\"T_16deb2b0_273a_11eb_b286_1065307ae51arow1_col5\" class=\"data row1 col5\" >0.60</td>\n",
              "                        <td id=\"T_16deb2b0_273a_11eb_b286_1065307ae51arow1_col6\" class=\"data row1 col6\" >0.65</td>\n",
              "            </tr>\n",
              "            <tr>\n",
              "                        <th id=\"T_16deb2b0_273a_11eb_b286_1065307ae51alevel0_row2\" class=\"row_heading level0 row2\" >2</th>\n",
              "                        <td id=\"T_16deb2b0_273a_11eb_b286_1065307ae51arow2_col0\" class=\"data row2 col0\" >0.88</td>\n",
              "                        <td id=\"T_16deb2b0_273a_11eb_b286_1065307ae51arow2_col1\" class=\"data row2 col1\" >0.96</td>\n",
              "                        <td id=\"T_16deb2b0_273a_11eb_b286_1065307ae51arow2_col2\" class=\"data row2 col2\" >1.00</td>\n",
              "                        <td id=\"T_16deb2b0_273a_11eb_b286_1065307ae51arow2_col3\" class=\"data row2 col3\" >0.86</td>\n",
              "                        <td id=\"T_16deb2b0_273a_11eb_b286_1065307ae51arow2_col4\" class=\"data row2 col4\" >0.92</td>\n",
              "                        <td id=\"T_16deb2b0_273a_11eb_b286_1065307ae51arow2_col5\" class=\"data row2 col5\" >0.60</td>\n",
              "                        <td id=\"T_16deb2b0_273a_11eb_b286_1065307ae51arow2_col6\" class=\"data row2 col6\" >0.65</td>\n",
              "            </tr>\n",
              "            <tr>\n",
              "                        <th id=\"T_16deb2b0_273a_11eb_b286_1065307ae51alevel0_row3\" class=\"row_heading level0 row3\" >3</th>\n",
              "                        <td id=\"T_16deb2b0_273a_11eb_b286_1065307ae51arow3_col0\" class=\"data row3 col0\" >0.88</td>\n",
              "                        <td id=\"T_16deb2b0_273a_11eb_b286_1065307ae51arow3_col1\" class=\"data row3 col1\" >1.00</td>\n",
              "                        <td id=\"T_16deb2b0_273a_11eb_b286_1065307ae51arow3_col2\" class=\"data row3 col2\" >0.83</td>\n",
              "                        <td id=\"T_16deb2b0_273a_11eb_b286_1065307ae51arow3_col3\" class=\"data row3 col3\" >1.00</td>\n",
              "                        <td id=\"T_16deb2b0_273a_11eb_b286_1065307ae51arow3_col4\" class=\"data row3 col4\" >0.91</td>\n",
              "                        <td id=\"T_16deb2b0_273a_11eb_b286_1065307ae51arow3_col5\" class=\"data row3 col5\" >0.71</td>\n",
              "                        <td id=\"T_16deb2b0_273a_11eb_b286_1065307ae51arow3_col6\" class=\"data row3 col6\" >0.75</td>\n",
              "            </tr>\n",
              "            <tr>\n",
              "                        <th id=\"T_16deb2b0_273a_11eb_b286_1065307ae51alevel0_row4\" class=\"row_heading level0 row4\" >4</th>\n",
              "                        <td id=\"T_16deb2b0_273a_11eb_b286_1065307ae51arow4_col0\" class=\"data row4 col0\" >0.75</td>\n",
              "                        <td id=\"T_16deb2b0_273a_11eb_b286_1065307ae51arow4_col1\" class=\"data row4 col1\" >0.88</td>\n",
              "                        <td id=\"T_16deb2b0_273a_11eb_b286_1065307ae51arow4_col2\" class=\"data row4 col2\" >0.83</td>\n",
              "                        <td id=\"T_16deb2b0_273a_11eb_b286_1065307ae51arow4_col3\" class=\"data row4 col3\" >0.83</td>\n",
              "                        <td id=\"T_16deb2b0_273a_11eb_b286_1065307ae51arow4_col4\" class=\"data row4 col4\" >0.83</td>\n",
              "                        <td id=\"T_16deb2b0_273a_11eb_b286_1065307ae51arow4_col5\" class=\"data row4 col5\" >0.33</td>\n",
              "                        <td id=\"T_16deb2b0_273a_11eb_b286_1065307ae51arow4_col6\" class=\"data row4 col6\" >0.33</td>\n",
              "            </tr>\n",
              "            <tr>\n",
              "                        <th id=\"T_16deb2b0_273a_11eb_b286_1065307ae51alevel0_row5\" class=\"row_heading level0 row5\" >5</th>\n",
              "                        <td id=\"T_16deb2b0_273a_11eb_b286_1065307ae51arow5_col0\" class=\"data row5 col0\" >0.88</td>\n",
              "                        <td id=\"T_16deb2b0_273a_11eb_b286_1065307ae51arow5_col1\" class=\"data row5 col1\" >0.90</td>\n",
              "                        <td id=\"T_16deb2b0_273a_11eb_b286_1065307ae51arow5_col2\" class=\"data row5 col2\" >0.92</td>\n",
              "                        <td id=\"T_16deb2b0_273a_11eb_b286_1065307ae51arow5_col3\" class=\"data row5 col3\" >0.92</td>\n",
              "                        <td id=\"T_16deb2b0_273a_11eb_b286_1065307ae51arow5_col4\" class=\"data row5 col4\" >0.92</td>\n",
              "                        <td id=\"T_16deb2b0_273a_11eb_b286_1065307ae51arow5_col5\" class=\"data row5 col5\" >0.67</td>\n",
              "                        <td id=\"T_16deb2b0_273a_11eb_b286_1065307ae51arow5_col6\" class=\"data row5 col6\" >0.67</td>\n",
              "            </tr>\n",
              "            <tr>\n",
              "                        <th id=\"T_16deb2b0_273a_11eb_b286_1065307ae51alevel0_row6\" class=\"row_heading level0 row6\" >6</th>\n",
              "                        <td id=\"T_16deb2b0_273a_11eb_b286_1065307ae51arow6_col0\" class=\"data row6 col0\" >0.94</td>\n",
              "                        <td id=\"T_16deb2b0_273a_11eb_b286_1065307ae51arow6_col1\" class=\"data row6 col1\" >0.96</td>\n",
              "                        <td id=\"T_16deb2b0_273a_11eb_b286_1065307ae51arow6_col2\" class=\"data row6 col2\" >0.92</td>\n",
              "                        <td id=\"T_16deb2b0_273a_11eb_b286_1065307ae51arow6_col3\" class=\"data row6 col3\" >1.00</td>\n",
              "                        <td id=\"T_16deb2b0_273a_11eb_b286_1065307ae51arow6_col4\" class=\"data row6 col4\" >0.96</td>\n",
              "                        <td id=\"T_16deb2b0_273a_11eb_b286_1065307ae51arow6_col5\" class=\"data row6 col5\" >0.85</td>\n",
              "                        <td id=\"T_16deb2b0_273a_11eb_b286_1065307ae51arow6_col6\" class=\"data row6 col6\" >0.86</td>\n",
              "            </tr>\n",
              "            <tr>\n",
              "                        <th id=\"T_16deb2b0_273a_11eb_b286_1065307ae51alevel0_row7\" class=\"row_heading level0 row7\" >7</th>\n",
              "                        <td id=\"T_16deb2b0_273a_11eb_b286_1065307ae51arow7_col0\" class=\"data row7 col0\" >0.94</td>\n",
              "                        <td id=\"T_16deb2b0_273a_11eb_b286_1065307ae51arow7_col1\" class=\"data row7 col1\" >0.95</td>\n",
              "                        <td id=\"T_16deb2b0_273a_11eb_b286_1065307ae51arow7_col2\" class=\"data row7 col2\" >0.92</td>\n",
              "                        <td id=\"T_16deb2b0_273a_11eb_b286_1065307ae51arow7_col3\" class=\"data row7 col3\" >1.00</td>\n",
              "                        <td id=\"T_16deb2b0_273a_11eb_b286_1065307ae51arow7_col4\" class=\"data row7 col4\" >0.96</td>\n",
              "                        <td id=\"T_16deb2b0_273a_11eb_b286_1065307ae51arow7_col5\" class=\"data row7 col5\" >0.82</td>\n",
              "                        <td id=\"T_16deb2b0_273a_11eb_b286_1065307ae51arow7_col6\" class=\"data row7 col6\" >0.83</td>\n",
              "            </tr>\n",
              "            <tr>\n",
              "                        <th id=\"T_16deb2b0_273a_11eb_b286_1065307ae51alevel0_row8\" class=\"row_heading level0 row8\" >Mean</th>\n",
              "                        <td id=\"T_16deb2b0_273a_11eb_b286_1065307ae51arow8_col0\" class=\"data row8 col0\" >0.88</td>\n",
              "                        <td id=\"T_16deb2b0_273a_11eb_b286_1065307ae51arow8_col1\" class=\"data row8 col1\" >0.94</td>\n",
              "                        <td id=\"T_16deb2b0_273a_11eb_b286_1065307ae51arow8_col2\" class=\"data row8 col2\" >0.93</td>\n",
              "                        <td id=\"T_16deb2b0_273a_11eb_b286_1065307ae51arow8_col3\" class=\"data row8 col3\" >0.92</td>\n",
              "                        <td id=\"T_16deb2b0_273a_11eb_b286_1065307ae51arow8_col4\" class=\"data row8 col4\" >0.92</td>\n",
              "                        <td id=\"T_16deb2b0_273a_11eb_b286_1065307ae51arow8_col5\" class=\"data row8 col5\" >0.65</td>\n",
              "                        <td id=\"T_16deb2b0_273a_11eb_b286_1065307ae51arow8_col6\" class=\"data row8 col6\" >0.68</td>\n",
              "            </tr>\n",
              "            <tr>\n",
              "                        <th id=\"T_16deb2b0_273a_11eb_b286_1065307ae51alevel0_row9\" class=\"row_heading level0 row9\" >SD</th>\n",
              "                        <td id=\"T_16deb2b0_273a_11eb_b286_1065307ae51arow9_col0\" class=\"data row9 col0\" >0.05</td>\n",
              "                        <td id=\"T_16deb2b0_273a_11eb_b286_1065307ae51arow9_col1\" class=\"data row9 col1\" >0.04</td>\n",
              "                        <td id=\"T_16deb2b0_273a_11eb_b286_1065307ae51arow9_col2\" class=\"data row9 col2\" >0.06</td>\n",
              "                        <td id=\"T_16deb2b0_273a_11eb_b286_1065307ae51arow9_col3\" class=\"data row9 col3\" >0.07</td>\n",
              "                        <td id=\"T_16deb2b0_273a_11eb_b286_1065307ae51arow9_col4\" class=\"data row9 col4\" >0.04</td>\n",
              "                        <td id=\"T_16deb2b0_273a_11eb_b286_1065307ae51arow9_col5\" class=\"data row9 col5\" >0.15</td>\n",
              "                        <td id=\"T_16deb2b0_273a_11eb_b286_1065307ae51arow9_col6\" class=\"data row9 col6\" >0.15</td>\n",
              "            </tr>\n",
              "    </tbody></table>"
            ],
            "text/plain": [
              "<pandas.io.formats.style.Styler at 0x1e60b723be0>"
            ]
          },
          "metadata": {},
          "output_type": "display_data"
        }
      ],
      "source": [
        "gbc = create_model('gbc',fold = 8,round = 2)"
      ]
    },
    {
      "cell_type": "markdown",
      "metadata": {
        "id": "5uo0z3oqFsqX"
      },
      "source": [
        "In GBC model, the standard deviation is quite high. But the metrics clock more than 65% which is fairly good."
      ]
    },
    {
      "cell_type": "markdown",
      "metadata": {
        "id": "-x_9_jTNFsqX"
      },
      "source": [
        "### ***Creating a Random Forest Classifier Model***"
      ]
    },
    {
      "cell_type": "code",
      "execution_count": null,
      "metadata": {
        "scrolled": true,
        "id": "jkjXKe3hFsqX",
        "outputId": "7d2568af-4a7b-4467-d4a7-b9ca1505ef85"
      },
      "outputs": [
        {
          "data": {
            "text/html": [
              "<style  type=\"text/css\" >\n",
              "#T_2013f6f4_273a_11eb_81e8_1065307ae51arow8_col0,#T_2013f6f4_273a_11eb_81e8_1065307ae51arow8_col1,#T_2013f6f4_273a_11eb_81e8_1065307ae51arow8_col2,#T_2013f6f4_273a_11eb_81e8_1065307ae51arow8_col3,#T_2013f6f4_273a_11eb_81e8_1065307ae51arow8_col4,#T_2013f6f4_273a_11eb_81e8_1065307ae51arow8_col5,#T_2013f6f4_273a_11eb_81e8_1065307ae51arow8_col6{\n",
              "            background:  yellow;\n",
              "        }</style><table id=\"T_2013f6f4_273a_11eb_81e8_1065307ae51a\" ><thead>    <tr>        <th class=\"blank level0\" ></th>        <th class=\"col_heading level0 col0\" >Accuracy</th>        <th class=\"col_heading level0 col1\" >AUC</th>        <th class=\"col_heading level0 col2\" >Recall</th>        <th class=\"col_heading level0 col3\" >Prec.</th>        <th class=\"col_heading level0 col4\" >F1</th>        <th class=\"col_heading level0 col5\" >Kappa</th>        <th class=\"col_heading level0 col6\" >MCC</th>    </tr></thead><tbody>\n",
              "                <tr>\n",
              "                        <th id=\"T_2013f6f4_273a_11eb_81e8_1065307ae51alevel0_row0\" class=\"row_heading level0 row0\" >0</th>\n",
              "                        <td id=\"T_2013f6f4_273a_11eb_81e8_1065307ae51arow0_col0\" class=\"data row0 col0\" >0.88</td>\n",
              "                        <td id=\"T_2013f6f4_273a_11eb_81e8_1065307ae51arow0_col1\" class=\"data row0 col1\" >0.97</td>\n",
              "                        <td id=\"T_2013f6f4_273a_11eb_81e8_1065307ae51arow0_col2\" class=\"data row0 col2\" >1.00</td>\n",
              "                        <td id=\"T_2013f6f4_273a_11eb_81e8_1065307ae51arow0_col3\" class=\"data row0 col3\" >0.87</td>\n",
              "                        <td id=\"T_2013f6f4_273a_11eb_81e8_1065307ae51arow0_col4\" class=\"data row0 col4\" >0.93</td>\n",
              "                        <td id=\"T_2013f6f4_273a_11eb_81e8_1065307ae51arow0_col5\" class=\"data row0 col5\" >0.60</td>\n",
              "                        <td id=\"T_2013f6f4_273a_11eb_81e8_1065307ae51arow0_col6\" class=\"data row0 col6\" >0.66</td>\n",
              "            </tr>\n",
              "            <tr>\n",
              "                        <th id=\"T_2013f6f4_273a_11eb_81e8_1065307ae51alevel0_row1\" class=\"row_heading level0 row1\" >1</th>\n",
              "                        <td id=\"T_2013f6f4_273a_11eb_81e8_1065307ae51arow1_col0\" class=\"data row1 col0\" >0.81</td>\n",
              "                        <td id=\"T_2013f6f4_273a_11eb_81e8_1065307ae51arow1_col1\" class=\"data row1 col1\" >0.90</td>\n",
              "                        <td id=\"T_2013f6f4_273a_11eb_81e8_1065307ae51arow1_col2\" class=\"data row1 col2\" >0.83</td>\n",
              "                        <td id=\"T_2013f6f4_273a_11eb_81e8_1065307ae51arow1_col3\" class=\"data row1 col3\" >0.91</td>\n",
              "                        <td id=\"T_2013f6f4_273a_11eb_81e8_1065307ae51arow1_col4\" class=\"data row1 col4\" >0.87</td>\n",
              "                        <td id=\"T_2013f6f4_273a_11eb_81e8_1065307ae51arow1_col5\" class=\"data row1 col5\" >0.54</td>\n",
              "                        <td id=\"T_2013f6f4_273a_11eb_81e8_1065307ae51arow1_col6\" class=\"data row1 col6\" >0.54</td>\n",
              "            </tr>\n",
              "            <tr>\n",
              "                        <th id=\"T_2013f6f4_273a_11eb_81e8_1065307ae51alevel0_row2\" class=\"row_heading level0 row2\" >2</th>\n",
              "                        <td id=\"T_2013f6f4_273a_11eb_81e8_1065307ae51arow2_col0\" class=\"data row2 col0\" >0.94</td>\n",
              "                        <td id=\"T_2013f6f4_273a_11eb_81e8_1065307ae51arow2_col1\" class=\"data row2 col1\" >0.90</td>\n",
              "                        <td id=\"T_2013f6f4_273a_11eb_81e8_1065307ae51arow2_col2\" class=\"data row2 col2\" >1.00</td>\n",
              "                        <td id=\"T_2013f6f4_273a_11eb_81e8_1065307ae51arow2_col3\" class=\"data row2 col3\" >0.92</td>\n",
              "                        <td id=\"T_2013f6f4_273a_11eb_81e8_1065307ae51arow2_col4\" class=\"data row2 col4\" >0.96</td>\n",
              "                        <td id=\"T_2013f6f4_273a_11eb_81e8_1065307ae51arow2_col5\" class=\"data row2 col5\" >0.82</td>\n",
              "                        <td id=\"T_2013f6f4_273a_11eb_81e8_1065307ae51arow2_col6\" class=\"data row2 col6\" >0.83</td>\n",
              "            </tr>\n",
              "            <tr>\n",
              "                        <th id=\"T_2013f6f4_273a_11eb_81e8_1065307ae51alevel0_row3\" class=\"row_heading level0 row3\" >3</th>\n",
              "                        <td id=\"T_2013f6f4_273a_11eb_81e8_1065307ae51arow3_col0\" class=\"data row3 col0\" >0.94</td>\n",
              "                        <td id=\"T_2013f6f4_273a_11eb_81e8_1065307ae51arow3_col1\" class=\"data row3 col1\" >0.96</td>\n",
              "                        <td id=\"T_2013f6f4_273a_11eb_81e8_1065307ae51arow3_col2\" class=\"data row3 col2\" >0.92</td>\n",
              "                        <td id=\"T_2013f6f4_273a_11eb_81e8_1065307ae51arow3_col3\" class=\"data row3 col3\" >1.00</td>\n",
              "                        <td id=\"T_2013f6f4_273a_11eb_81e8_1065307ae51arow3_col4\" class=\"data row3 col4\" >0.96</td>\n",
              "                        <td id=\"T_2013f6f4_273a_11eb_81e8_1065307ae51arow3_col5\" class=\"data row3 col5\" >0.85</td>\n",
              "                        <td id=\"T_2013f6f4_273a_11eb_81e8_1065307ae51arow3_col6\" class=\"data row3 col6\" >0.86</td>\n",
              "            </tr>\n",
              "            <tr>\n",
              "                        <th id=\"T_2013f6f4_273a_11eb_81e8_1065307ae51alevel0_row4\" class=\"row_heading level0 row4\" >4</th>\n",
              "                        <td id=\"T_2013f6f4_273a_11eb_81e8_1065307ae51arow4_col0\" class=\"data row4 col0\" >0.81</td>\n",
              "                        <td id=\"T_2013f6f4_273a_11eb_81e8_1065307ae51arow4_col1\" class=\"data row4 col1\" >0.82</td>\n",
              "                        <td id=\"T_2013f6f4_273a_11eb_81e8_1065307ae51arow4_col2\" class=\"data row4 col2\" >0.92</td>\n",
              "                        <td id=\"T_2013f6f4_273a_11eb_81e8_1065307ae51arow4_col3\" class=\"data row4 col3\" >0.85</td>\n",
              "                        <td id=\"T_2013f6f4_273a_11eb_81e8_1065307ae51arow4_col4\" class=\"data row4 col4\" >0.88</td>\n",
              "                        <td id=\"T_2013f6f4_273a_11eb_81e8_1065307ae51arow4_col5\" class=\"data row4 col5\" >0.45</td>\n",
              "                        <td id=\"T_2013f6f4_273a_11eb_81e8_1065307ae51arow4_col6\" class=\"data row4 col6\" >0.46</td>\n",
              "            </tr>\n",
              "            <tr>\n",
              "                        <th id=\"T_2013f6f4_273a_11eb_81e8_1065307ae51alevel0_row5\" class=\"row_heading level0 row5\" >5</th>\n",
              "                        <td id=\"T_2013f6f4_273a_11eb_81e8_1065307ae51arow5_col0\" class=\"data row5 col0\" >0.81</td>\n",
              "                        <td id=\"T_2013f6f4_273a_11eb_81e8_1065307ae51arow5_col1\" class=\"data row5 col1\" >0.85</td>\n",
              "                        <td id=\"T_2013f6f4_273a_11eb_81e8_1065307ae51arow5_col2\" class=\"data row5 col2\" >0.83</td>\n",
              "                        <td id=\"T_2013f6f4_273a_11eb_81e8_1065307ae51arow5_col3\" class=\"data row5 col3\" >0.91</td>\n",
              "                        <td id=\"T_2013f6f4_273a_11eb_81e8_1065307ae51arow5_col4\" class=\"data row5 col4\" >0.87</td>\n",
              "                        <td id=\"T_2013f6f4_273a_11eb_81e8_1065307ae51arow5_col5\" class=\"data row5 col5\" >0.54</td>\n",
              "                        <td id=\"T_2013f6f4_273a_11eb_81e8_1065307ae51arow5_col6\" class=\"data row5 col6\" >0.54</td>\n",
              "            </tr>\n",
              "            <tr>\n",
              "                        <th id=\"T_2013f6f4_273a_11eb_81e8_1065307ae51alevel0_row6\" class=\"row_heading level0 row6\" >6</th>\n",
              "                        <td id=\"T_2013f6f4_273a_11eb_81e8_1065307ae51arow6_col0\" class=\"data row6 col0\" >1.00</td>\n",
              "                        <td id=\"T_2013f6f4_273a_11eb_81e8_1065307ae51arow6_col1\" class=\"data row6 col1\" >1.00</td>\n",
              "                        <td id=\"T_2013f6f4_273a_11eb_81e8_1065307ae51arow6_col2\" class=\"data row6 col2\" >1.00</td>\n",
              "                        <td id=\"T_2013f6f4_273a_11eb_81e8_1065307ae51arow6_col3\" class=\"data row6 col3\" >1.00</td>\n",
              "                        <td id=\"T_2013f6f4_273a_11eb_81e8_1065307ae51arow6_col4\" class=\"data row6 col4\" >1.00</td>\n",
              "                        <td id=\"T_2013f6f4_273a_11eb_81e8_1065307ae51arow6_col5\" class=\"data row6 col5\" >1.00</td>\n",
              "                        <td id=\"T_2013f6f4_273a_11eb_81e8_1065307ae51arow6_col6\" class=\"data row6 col6\" >1.00</td>\n",
              "            </tr>\n",
              "            <tr>\n",
              "                        <th id=\"T_2013f6f4_273a_11eb_81e8_1065307ae51alevel0_row7\" class=\"row_heading level0 row7\" >7</th>\n",
              "                        <td id=\"T_2013f6f4_273a_11eb_81e8_1065307ae51arow7_col0\" class=\"data row7 col0\" >0.88</td>\n",
              "                        <td id=\"T_2013f6f4_273a_11eb_81e8_1065307ae51arow7_col1\" class=\"data row7 col1\" >0.96</td>\n",
              "                        <td id=\"T_2013f6f4_273a_11eb_81e8_1065307ae51arow7_col2\" class=\"data row7 col2\" >0.85</td>\n",
              "                        <td id=\"T_2013f6f4_273a_11eb_81e8_1065307ae51arow7_col3\" class=\"data row7 col3\" >1.00</td>\n",
              "                        <td id=\"T_2013f6f4_273a_11eb_81e8_1065307ae51arow7_col4\" class=\"data row7 col4\" >0.92</td>\n",
              "                        <td id=\"T_2013f6f4_273a_11eb_81e8_1065307ae51arow7_col5\" class=\"data row7 col5\" >0.67</td>\n",
              "                        <td id=\"T_2013f6f4_273a_11eb_81e8_1065307ae51arow7_col6\" class=\"data row7 col6\" >0.71</td>\n",
              "            </tr>\n",
              "            <tr>\n",
              "                        <th id=\"T_2013f6f4_273a_11eb_81e8_1065307ae51alevel0_row8\" class=\"row_heading level0 row8\" >Mean</th>\n",
              "                        <td id=\"T_2013f6f4_273a_11eb_81e8_1065307ae51arow8_col0\" class=\"data row8 col0\" >0.88</td>\n",
              "                        <td id=\"T_2013f6f4_273a_11eb_81e8_1065307ae51arow8_col1\" class=\"data row8 col1\" >0.92</td>\n",
              "                        <td id=\"T_2013f6f4_273a_11eb_81e8_1065307ae51arow8_col2\" class=\"data row8 col2\" >0.92</td>\n",
              "                        <td id=\"T_2013f6f4_273a_11eb_81e8_1065307ae51arow8_col3\" class=\"data row8 col3\" >0.93</td>\n",
              "                        <td id=\"T_2013f6f4_273a_11eb_81e8_1065307ae51arow8_col4\" class=\"data row8 col4\" >0.92</td>\n",
              "                        <td id=\"T_2013f6f4_273a_11eb_81e8_1065307ae51arow8_col5\" class=\"data row8 col5\" >0.68</td>\n",
              "                        <td id=\"T_2013f6f4_273a_11eb_81e8_1065307ae51arow8_col6\" class=\"data row8 col6\" >0.70</td>\n",
              "            </tr>\n",
              "            <tr>\n",
              "                        <th id=\"T_2013f6f4_273a_11eb_81e8_1065307ae51alevel0_row9\" class=\"row_heading level0 row9\" >SD</th>\n",
              "                        <td id=\"T_2013f6f4_273a_11eb_81e8_1065307ae51arow9_col0\" class=\"data row9 col0\" >0.07</td>\n",
              "                        <td id=\"T_2013f6f4_273a_11eb_81e8_1065307ae51arow9_col1\" class=\"data row9 col1\" >0.06</td>\n",
              "                        <td id=\"T_2013f6f4_273a_11eb_81e8_1065307ae51arow9_col2\" class=\"data row9 col2\" >0.07</td>\n",
              "                        <td id=\"T_2013f6f4_273a_11eb_81e8_1065307ae51arow9_col3\" class=\"data row9 col3\" >0.06</td>\n",
              "                        <td id=\"T_2013f6f4_273a_11eb_81e8_1065307ae51arow9_col4\" class=\"data row9 col4\" >0.04</td>\n",
              "                        <td id=\"T_2013f6f4_273a_11eb_81e8_1065307ae51arow9_col5\" class=\"data row9 col5\" >0.18</td>\n",
              "                        <td id=\"T_2013f6f4_273a_11eb_81e8_1065307ae51arow9_col6\" class=\"data row9 col6\" >0.17</td>\n",
              "            </tr>\n",
              "    </tbody></table>"
            ],
            "text/plain": [
              "<pandas.io.formats.style.Styler at 0x1e60d22d860>"
            ]
          },
          "metadata": {},
          "output_type": "display_data"
        }
      ],
      "source": [
        "rf = create_model('rf',fold = 8,round = 2)"
      ]
    },
    {
      "cell_type": "markdown",
      "metadata": {
        "id": "rP4LBP2jFsqf"
      },
      "source": [
        "The Random Forest Classifier model has a better performance than GBC model. "
      ]
    },
    {
      "cell_type": "markdown",
      "metadata": {
        "id": "ipBqgadzFsqf"
      },
      "source": [
        "### ***Creating a Catboost Classifier Model***"
      ]
    },
    {
      "cell_type": "code",
      "execution_count": null,
      "metadata": {
        "scrolled": true,
        "id": "bFSP0nPJFsqf",
        "outputId": "1f77ab5a-75f7-4c68-b6ca-56412d6f402c"
      },
      "outputs": [
        {
          "data": {
            "text/html": [
              "<style  type=\"text/css\" >\n",
              "#T_2e640586_273a_11eb_9dcb_1065307ae51arow8_col0,#T_2e640586_273a_11eb_9dcb_1065307ae51arow8_col1,#T_2e640586_273a_11eb_9dcb_1065307ae51arow8_col2,#T_2e640586_273a_11eb_9dcb_1065307ae51arow8_col3,#T_2e640586_273a_11eb_9dcb_1065307ae51arow8_col4,#T_2e640586_273a_11eb_9dcb_1065307ae51arow8_col5,#T_2e640586_273a_11eb_9dcb_1065307ae51arow8_col6{\n",
              "            background:  yellow;\n",
              "        }</style><table id=\"T_2e640586_273a_11eb_9dcb_1065307ae51a\" ><thead>    <tr>        <th class=\"blank level0\" ></th>        <th class=\"col_heading level0 col0\" >Accuracy</th>        <th class=\"col_heading level0 col1\" >AUC</th>        <th class=\"col_heading level0 col2\" >Recall</th>        <th class=\"col_heading level0 col3\" >Prec.</th>        <th class=\"col_heading level0 col4\" >F1</th>        <th class=\"col_heading level0 col5\" >Kappa</th>        <th class=\"col_heading level0 col6\" >MCC</th>    </tr></thead><tbody>\n",
              "                <tr>\n",
              "                        <th id=\"T_2e640586_273a_11eb_9dcb_1065307ae51alevel0_row0\" class=\"row_heading level0 row0\" >0</th>\n",
              "                        <td id=\"T_2e640586_273a_11eb_9dcb_1065307ae51arow0_col0\" class=\"data row0 col0\" >0.88</td>\n",
              "                        <td id=\"T_2e640586_273a_11eb_9dcb_1065307ae51arow0_col1\" class=\"data row0 col1\" >1.00</td>\n",
              "                        <td id=\"T_2e640586_273a_11eb_9dcb_1065307ae51arow0_col2\" class=\"data row0 col2\" >1.00</td>\n",
              "                        <td id=\"T_2e640586_273a_11eb_9dcb_1065307ae51arow0_col3\" class=\"data row0 col3\" >0.87</td>\n",
              "                        <td id=\"T_2e640586_273a_11eb_9dcb_1065307ae51arow0_col4\" class=\"data row0 col4\" >0.93</td>\n",
              "                        <td id=\"T_2e640586_273a_11eb_9dcb_1065307ae51arow0_col5\" class=\"data row0 col5\" >0.60</td>\n",
              "                        <td id=\"T_2e640586_273a_11eb_9dcb_1065307ae51arow0_col6\" class=\"data row0 col6\" >0.66</td>\n",
              "            </tr>\n",
              "            <tr>\n",
              "                        <th id=\"T_2e640586_273a_11eb_9dcb_1065307ae51alevel0_row1\" class=\"row_heading level0 row1\" >1</th>\n",
              "                        <td id=\"T_2e640586_273a_11eb_9dcb_1065307ae51arow1_col0\" class=\"data row1 col0\" >0.88</td>\n",
              "                        <td id=\"T_2e640586_273a_11eb_9dcb_1065307ae51arow1_col1\" class=\"data row1 col1\" >0.94</td>\n",
              "                        <td id=\"T_2e640586_273a_11eb_9dcb_1065307ae51arow1_col2\" class=\"data row1 col2\" >0.92</td>\n",
              "                        <td id=\"T_2e640586_273a_11eb_9dcb_1065307ae51arow1_col3\" class=\"data row1 col3\" >0.92</td>\n",
              "                        <td id=\"T_2e640586_273a_11eb_9dcb_1065307ae51arow1_col4\" class=\"data row1 col4\" >0.92</td>\n",
              "                        <td id=\"T_2e640586_273a_11eb_9dcb_1065307ae51arow1_col5\" class=\"data row1 col5\" >0.67</td>\n",
              "                        <td id=\"T_2e640586_273a_11eb_9dcb_1065307ae51arow1_col6\" class=\"data row1 col6\" >0.67</td>\n",
              "            </tr>\n",
              "            <tr>\n",
              "                        <th id=\"T_2e640586_273a_11eb_9dcb_1065307ae51alevel0_row2\" class=\"row_heading level0 row2\" >2</th>\n",
              "                        <td id=\"T_2e640586_273a_11eb_9dcb_1065307ae51arow2_col0\" class=\"data row2 col0\" >0.88</td>\n",
              "                        <td id=\"T_2e640586_273a_11eb_9dcb_1065307ae51arow2_col1\" class=\"data row2 col1\" >0.94</td>\n",
              "                        <td id=\"T_2e640586_273a_11eb_9dcb_1065307ae51arow2_col2\" class=\"data row2 col2\" >0.92</td>\n",
              "                        <td id=\"T_2e640586_273a_11eb_9dcb_1065307ae51arow2_col3\" class=\"data row2 col3\" >0.92</td>\n",
              "                        <td id=\"T_2e640586_273a_11eb_9dcb_1065307ae51arow2_col4\" class=\"data row2 col4\" >0.92</td>\n",
              "                        <td id=\"T_2e640586_273a_11eb_9dcb_1065307ae51arow2_col5\" class=\"data row2 col5\" >0.67</td>\n",
              "                        <td id=\"T_2e640586_273a_11eb_9dcb_1065307ae51arow2_col6\" class=\"data row2 col6\" >0.67</td>\n",
              "            </tr>\n",
              "            <tr>\n",
              "                        <th id=\"T_2e640586_273a_11eb_9dcb_1065307ae51alevel0_row3\" class=\"row_heading level0 row3\" >3</th>\n",
              "                        <td id=\"T_2e640586_273a_11eb_9dcb_1065307ae51arow3_col0\" class=\"data row3 col0\" >0.88</td>\n",
              "                        <td id=\"T_2e640586_273a_11eb_9dcb_1065307ae51arow3_col1\" class=\"data row3 col1\" >0.98</td>\n",
              "                        <td id=\"T_2e640586_273a_11eb_9dcb_1065307ae51arow3_col2\" class=\"data row3 col2\" >0.92</td>\n",
              "                        <td id=\"T_2e640586_273a_11eb_9dcb_1065307ae51arow3_col3\" class=\"data row3 col3\" >0.92</td>\n",
              "                        <td id=\"T_2e640586_273a_11eb_9dcb_1065307ae51arow3_col4\" class=\"data row3 col4\" >0.92</td>\n",
              "                        <td id=\"T_2e640586_273a_11eb_9dcb_1065307ae51arow3_col5\" class=\"data row3 col5\" >0.67</td>\n",
              "                        <td id=\"T_2e640586_273a_11eb_9dcb_1065307ae51arow3_col6\" class=\"data row3 col6\" >0.67</td>\n",
              "            </tr>\n",
              "            <tr>\n",
              "                        <th id=\"T_2e640586_273a_11eb_9dcb_1065307ae51alevel0_row4\" class=\"row_heading level0 row4\" >4</th>\n",
              "                        <td id=\"T_2e640586_273a_11eb_9dcb_1065307ae51arow4_col0\" class=\"data row4 col0\" >0.81</td>\n",
              "                        <td id=\"T_2e640586_273a_11eb_9dcb_1065307ae51arow4_col1\" class=\"data row4 col1\" >0.88</td>\n",
              "                        <td id=\"T_2e640586_273a_11eb_9dcb_1065307ae51arow4_col2\" class=\"data row4 col2\" >0.92</td>\n",
              "                        <td id=\"T_2e640586_273a_11eb_9dcb_1065307ae51arow4_col3\" class=\"data row4 col3\" >0.85</td>\n",
              "                        <td id=\"T_2e640586_273a_11eb_9dcb_1065307ae51arow4_col4\" class=\"data row4 col4\" >0.88</td>\n",
              "                        <td id=\"T_2e640586_273a_11eb_9dcb_1065307ae51arow4_col5\" class=\"data row4 col5\" >0.45</td>\n",
              "                        <td id=\"T_2e640586_273a_11eb_9dcb_1065307ae51arow4_col6\" class=\"data row4 col6\" >0.46</td>\n",
              "            </tr>\n",
              "            <tr>\n",
              "                        <th id=\"T_2e640586_273a_11eb_9dcb_1065307ae51alevel0_row5\" class=\"row_heading level0 row5\" >5</th>\n",
              "                        <td id=\"T_2e640586_273a_11eb_9dcb_1065307ae51arow5_col0\" class=\"data row5 col0\" >0.88</td>\n",
              "                        <td id=\"T_2e640586_273a_11eb_9dcb_1065307ae51arow5_col1\" class=\"data row5 col1\" >0.92</td>\n",
              "                        <td id=\"T_2e640586_273a_11eb_9dcb_1065307ae51arow5_col2\" class=\"data row5 col2\" >0.92</td>\n",
              "                        <td id=\"T_2e640586_273a_11eb_9dcb_1065307ae51arow5_col3\" class=\"data row5 col3\" >0.92</td>\n",
              "                        <td id=\"T_2e640586_273a_11eb_9dcb_1065307ae51arow5_col4\" class=\"data row5 col4\" >0.92</td>\n",
              "                        <td id=\"T_2e640586_273a_11eb_9dcb_1065307ae51arow5_col5\" class=\"data row5 col5\" >0.67</td>\n",
              "                        <td id=\"T_2e640586_273a_11eb_9dcb_1065307ae51arow5_col6\" class=\"data row5 col6\" >0.67</td>\n",
              "            </tr>\n",
              "            <tr>\n",
              "                        <th id=\"T_2e640586_273a_11eb_9dcb_1065307ae51alevel0_row6\" class=\"row_heading level0 row6\" >6</th>\n",
              "                        <td id=\"T_2e640586_273a_11eb_9dcb_1065307ae51arow6_col0\" class=\"data row6 col0\" >0.94</td>\n",
              "                        <td id=\"T_2e640586_273a_11eb_9dcb_1065307ae51arow6_col1\" class=\"data row6 col1\" >0.96</td>\n",
              "                        <td id=\"T_2e640586_273a_11eb_9dcb_1065307ae51arow6_col2\" class=\"data row6 col2\" >0.92</td>\n",
              "                        <td id=\"T_2e640586_273a_11eb_9dcb_1065307ae51arow6_col3\" class=\"data row6 col3\" >1.00</td>\n",
              "                        <td id=\"T_2e640586_273a_11eb_9dcb_1065307ae51arow6_col4\" class=\"data row6 col4\" >0.96</td>\n",
              "                        <td id=\"T_2e640586_273a_11eb_9dcb_1065307ae51arow6_col5\" class=\"data row6 col5\" >0.85</td>\n",
              "                        <td id=\"T_2e640586_273a_11eb_9dcb_1065307ae51arow6_col6\" class=\"data row6 col6\" >0.86</td>\n",
              "            </tr>\n",
              "            <tr>\n",
              "                        <th id=\"T_2e640586_273a_11eb_9dcb_1065307ae51alevel0_row7\" class=\"row_heading level0 row7\" >7</th>\n",
              "                        <td id=\"T_2e640586_273a_11eb_9dcb_1065307ae51arow7_col0\" class=\"data row7 col0\" >0.94</td>\n",
              "                        <td id=\"T_2e640586_273a_11eb_9dcb_1065307ae51arow7_col1\" class=\"data row7 col1\" >0.97</td>\n",
              "                        <td id=\"T_2e640586_273a_11eb_9dcb_1065307ae51arow7_col2\" class=\"data row7 col2\" >0.92</td>\n",
              "                        <td id=\"T_2e640586_273a_11eb_9dcb_1065307ae51arow7_col3\" class=\"data row7 col3\" >1.00</td>\n",
              "                        <td id=\"T_2e640586_273a_11eb_9dcb_1065307ae51arow7_col4\" class=\"data row7 col4\" >0.96</td>\n",
              "                        <td id=\"T_2e640586_273a_11eb_9dcb_1065307ae51arow7_col5\" class=\"data row7 col5\" >0.82</td>\n",
              "                        <td id=\"T_2e640586_273a_11eb_9dcb_1065307ae51arow7_col6\" class=\"data row7 col6\" >0.83</td>\n",
              "            </tr>\n",
              "            <tr>\n",
              "                        <th id=\"T_2e640586_273a_11eb_9dcb_1065307ae51alevel0_row8\" class=\"row_heading level0 row8\" >Mean</th>\n",
              "                        <td id=\"T_2e640586_273a_11eb_9dcb_1065307ae51arow8_col0\" class=\"data row8 col0\" >0.88</td>\n",
              "                        <td id=\"T_2e640586_273a_11eb_9dcb_1065307ae51arow8_col1\" class=\"data row8 col1\" >0.95</td>\n",
              "                        <td id=\"T_2e640586_273a_11eb_9dcb_1065307ae51arow8_col2\" class=\"data row8 col2\" >0.93</td>\n",
              "                        <td id=\"T_2e640586_273a_11eb_9dcb_1065307ae51arow8_col3\" class=\"data row8 col3\" >0.92</td>\n",
              "                        <td id=\"T_2e640586_273a_11eb_9dcb_1065307ae51arow8_col4\" class=\"data row8 col4\" >0.92</td>\n",
              "                        <td id=\"T_2e640586_273a_11eb_9dcb_1065307ae51arow8_col5\" class=\"data row8 col5\" >0.67</td>\n",
              "                        <td id=\"T_2e640586_273a_11eb_9dcb_1065307ae51arow8_col6\" class=\"data row8 col6\" >0.68</td>\n",
              "            </tr>\n",
              "            <tr>\n",
              "                        <th id=\"T_2e640586_273a_11eb_9dcb_1065307ae51alevel0_row9\" class=\"row_heading level0 row9\" >SD</th>\n",
              "                        <td id=\"T_2e640586_273a_11eb_9dcb_1065307ae51arow9_col0\" class=\"data row9 col0\" >0.04</td>\n",
              "                        <td id=\"T_2e640586_273a_11eb_9dcb_1065307ae51arow9_col1\" class=\"data row9 col1\" >0.04</td>\n",
              "                        <td id=\"T_2e640586_273a_11eb_9dcb_1065307ae51arow9_col2\" class=\"data row9 col2\" >0.03</td>\n",
              "                        <td id=\"T_2e640586_273a_11eb_9dcb_1065307ae51arow9_col3\" class=\"data row9 col3\" >0.05</td>\n",
              "                        <td id=\"T_2e640586_273a_11eb_9dcb_1065307ae51arow9_col4\" class=\"data row9 col4\" >0.02</td>\n",
              "                        <td id=\"T_2e640586_273a_11eb_9dcb_1065307ae51arow9_col5\" class=\"data row9 col5\" >0.11</td>\n",
              "                        <td id=\"T_2e640586_273a_11eb_9dcb_1065307ae51arow9_col6\" class=\"data row9 col6\" >0.11</td>\n",
              "            </tr>\n",
              "    </tbody></table>"
            ],
            "text/plain": [
              "<pandas.io.formats.style.Styler at 0x1e60a076400>"
            ]
          },
          "metadata": {},
          "output_type": "display_data"
        }
      ],
      "source": [
        "catboost = create_model('catboost',fold = 8,round = 2)"
      ]
    },
    {
      "cell_type": "markdown",
      "metadata": {
        "id": "NTryYXj7Fsqf"
      },
      "source": [
        "The Catboost and RF are qually good. The AUC in Catboost is outstanding."
      ]
    },
    {
      "cell_type": "markdown",
      "metadata": {
        "id": "-v7GEguOFsqf"
      },
      "source": [
        "### ***Creating a Light Gradient Boosting Machine Model***"
      ]
    },
    {
      "cell_type": "code",
      "execution_count": null,
      "metadata": {
        "id": "4Zatl--OFsqf",
        "outputId": "f737ac6b-5dc1-482b-ad77-47c36267a43f"
      },
      "outputs": [
        {
          "data": {
            "text/html": [
              "<style  type=\"text/css\" >\n",
              "#T_3366f4b0_273a_11eb_bb74_1065307ae51arow8_col0,#T_3366f4b0_273a_11eb_bb74_1065307ae51arow8_col1,#T_3366f4b0_273a_11eb_bb74_1065307ae51arow8_col2,#T_3366f4b0_273a_11eb_bb74_1065307ae51arow8_col3,#T_3366f4b0_273a_11eb_bb74_1065307ae51arow8_col4,#T_3366f4b0_273a_11eb_bb74_1065307ae51arow8_col5,#T_3366f4b0_273a_11eb_bb74_1065307ae51arow8_col6{\n",
              "            background:  yellow;\n",
              "        }</style><table id=\"T_3366f4b0_273a_11eb_bb74_1065307ae51a\" ><thead>    <tr>        <th class=\"blank level0\" ></th>        <th class=\"col_heading level0 col0\" >Accuracy</th>        <th class=\"col_heading level0 col1\" >AUC</th>        <th class=\"col_heading level0 col2\" >Recall</th>        <th class=\"col_heading level0 col3\" >Prec.</th>        <th class=\"col_heading level0 col4\" >F1</th>        <th class=\"col_heading level0 col5\" >Kappa</th>        <th class=\"col_heading level0 col6\" >MCC</th>    </tr></thead><tbody>\n",
              "                <tr>\n",
              "                        <th id=\"T_3366f4b0_273a_11eb_bb74_1065307ae51alevel0_row0\" class=\"row_heading level0 row0\" >0</th>\n",
              "                        <td id=\"T_3366f4b0_273a_11eb_bb74_1065307ae51arow0_col0\" class=\"data row0 col0\" >0.88</td>\n",
              "                        <td id=\"T_3366f4b0_273a_11eb_bb74_1065307ae51arow0_col1\" class=\"data row0 col1\" >0.87</td>\n",
              "                        <td id=\"T_3366f4b0_273a_11eb_bb74_1065307ae51arow0_col2\" class=\"data row0 col2\" >1.00</td>\n",
              "                        <td id=\"T_3366f4b0_273a_11eb_bb74_1065307ae51arow0_col3\" class=\"data row0 col3\" >0.87</td>\n",
              "                        <td id=\"T_3366f4b0_273a_11eb_bb74_1065307ae51arow0_col4\" class=\"data row0 col4\" >0.93</td>\n",
              "                        <td id=\"T_3366f4b0_273a_11eb_bb74_1065307ae51arow0_col5\" class=\"data row0 col5\" >0.60</td>\n",
              "                        <td id=\"T_3366f4b0_273a_11eb_bb74_1065307ae51arow0_col6\" class=\"data row0 col6\" >0.66</td>\n",
              "            </tr>\n",
              "            <tr>\n",
              "                        <th id=\"T_3366f4b0_273a_11eb_bb74_1065307ae51alevel0_row1\" class=\"row_heading level0 row1\" >1</th>\n",
              "                        <td id=\"T_3366f4b0_273a_11eb_bb74_1065307ae51arow1_col0\" class=\"data row1 col0\" >0.94</td>\n",
              "                        <td id=\"T_3366f4b0_273a_11eb_bb74_1065307ae51arow1_col1\" class=\"data row1 col1\" >1.00</td>\n",
              "                        <td id=\"T_3366f4b0_273a_11eb_bb74_1065307ae51arow1_col2\" class=\"data row1 col2\" >1.00</td>\n",
              "                        <td id=\"T_3366f4b0_273a_11eb_bb74_1065307ae51arow1_col3\" class=\"data row1 col3\" >0.92</td>\n",
              "                        <td id=\"T_3366f4b0_273a_11eb_bb74_1065307ae51arow1_col4\" class=\"data row1 col4\" >0.96</td>\n",
              "                        <td id=\"T_3366f4b0_273a_11eb_bb74_1065307ae51arow1_col5\" class=\"data row1 col5\" >0.82</td>\n",
              "                        <td id=\"T_3366f4b0_273a_11eb_bb74_1065307ae51arow1_col6\" class=\"data row1 col6\" >0.83</td>\n",
              "            </tr>\n",
              "            <tr>\n",
              "                        <th id=\"T_3366f4b0_273a_11eb_bb74_1065307ae51alevel0_row2\" class=\"row_heading level0 row2\" >2</th>\n",
              "                        <td id=\"T_3366f4b0_273a_11eb_bb74_1065307ae51arow2_col0\" class=\"data row2 col0\" >0.88</td>\n",
              "                        <td id=\"T_3366f4b0_273a_11eb_bb74_1065307ae51arow2_col1\" class=\"data row2 col1\" >0.94</td>\n",
              "                        <td id=\"T_3366f4b0_273a_11eb_bb74_1065307ae51arow2_col2\" class=\"data row2 col2\" >1.00</td>\n",
              "                        <td id=\"T_3366f4b0_273a_11eb_bb74_1065307ae51arow2_col3\" class=\"data row2 col3\" >0.86</td>\n",
              "                        <td id=\"T_3366f4b0_273a_11eb_bb74_1065307ae51arow2_col4\" class=\"data row2 col4\" >0.92</td>\n",
              "                        <td id=\"T_3366f4b0_273a_11eb_bb74_1065307ae51arow2_col5\" class=\"data row2 col5\" >0.60</td>\n",
              "                        <td id=\"T_3366f4b0_273a_11eb_bb74_1065307ae51arow2_col6\" class=\"data row2 col6\" >0.65</td>\n",
              "            </tr>\n",
              "            <tr>\n",
              "                        <th id=\"T_3366f4b0_273a_11eb_bb74_1065307ae51alevel0_row3\" class=\"row_heading level0 row3\" >3</th>\n",
              "                        <td id=\"T_3366f4b0_273a_11eb_bb74_1065307ae51arow3_col0\" class=\"data row3 col0\" >0.88</td>\n",
              "                        <td id=\"T_3366f4b0_273a_11eb_bb74_1065307ae51arow3_col1\" class=\"data row3 col1\" >0.98</td>\n",
              "                        <td id=\"T_3366f4b0_273a_11eb_bb74_1065307ae51arow3_col2\" class=\"data row3 col2\" >0.83</td>\n",
              "                        <td id=\"T_3366f4b0_273a_11eb_bb74_1065307ae51arow3_col3\" class=\"data row3 col3\" >1.00</td>\n",
              "                        <td id=\"T_3366f4b0_273a_11eb_bb74_1065307ae51arow3_col4\" class=\"data row3 col4\" >0.91</td>\n",
              "                        <td id=\"T_3366f4b0_273a_11eb_bb74_1065307ae51arow3_col5\" class=\"data row3 col5\" >0.71</td>\n",
              "                        <td id=\"T_3366f4b0_273a_11eb_bb74_1065307ae51arow3_col6\" class=\"data row3 col6\" >0.75</td>\n",
              "            </tr>\n",
              "            <tr>\n",
              "                        <th id=\"T_3366f4b0_273a_11eb_bb74_1065307ae51alevel0_row4\" class=\"row_heading level0 row4\" >4</th>\n",
              "                        <td id=\"T_3366f4b0_273a_11eb_bb74_1065307ae51arow4_col0\" class=\"data row4 col0\" >0.94</td>\n",
              "                        <td id=\"T_3366f4b0_273a_11eb_bb74_1065307ae51arow4_col1\" class=\"data row4 col1\" >0.94</td>\n",
              "                        <td id=\"T_3366f4b0_273a_11eb_bb74_1065307ae51arow4_col2\" class=\"data row4 col2\" >1.00</td>\n",
              "                        <td id=\"T_3366f4b0_273a_11eb_bb74_1065307ae51arow4_col3\" class=\"data row4 col3\" >0.92</td>\n",
              "                        <td id=\"T_3366f4b0_273a_11eb_bb74_1065307ae51arow4_col4\" class=\"data row4 col4\" >0.96</td>\n",
              "                        <td id=\"T_3366f4b0_273a_11eb_bb74_1065307ae51arow4_col5\" class=\"data row4 col5\" >0.82</td>\n",
              "                        <td id=\"T_3366f4b0_273a_11eb_bb74_1065307ae51arow4_col6\" class=\"data row4 col6\" >0.83</td>\n",
              "            </tr>\n",
              "            <tr>\n",
              "                        <th id=\"T_3366f4b0_273a_11eb_bb74_1065307ae51alevel0_row5\" class=\"row_heading level0 row5\" >5</th>\n",
              "                        <td id=\"T_3366f4b0_273a_11eb_bb74_1065307ae51arow5_col0\" class=\"data row5 col0\" >0.88</td>\n",
              "                        <td id=\"T_3366f4b0_273a_11eb_bb74_1065307ae51arow5_col1\" class=\"data row5 col1\" >0.96</td>\n",
              "                        <td id=\"T_3366f4b0_273a_11eb_bb74_1065307ae51arow5_col2\" class=\"data row5 col2\" >0.92</td>\n",
              "                        <td id=\"T_3366f4b0_273a_11eb_bb74_1065307ae51arow5_col3\" class=\"data row5 col3\" >0.92</td>\n",
              "                        <td id=\"T_3366f4b0_273a_11eb_bb74_1065307ae51arow5_col4\" class=\"data row5 col4\" >0.92</td>\n",
              "                        <td id=\"T_3366f4b0_273a_11eb_bb74_1065307ae51arow5_col5\" class=\"data row5 col5\" >0.67</td>\n",
              "                        <td id=\"T_3366f4b0_273a_11eb_bb74_1065307ae51arow5_col6\" class=\"data row5 col6\" >0.67</td>\n",
              "            </tr>\n",
              "            <tr>\n",
              "                        <th id=\"T_3366f4b0_273a_11eb_bb74_1065307ae51alevel0_row6\" class=\"row_heading level0 row6\" >6</th>\n",
              "                        <td id=\"T_3366f4b0_273a_11eb_bb74_1065307ae51arow6_col0\" class=\"data row6 col0\" >0.88</td>\n",
              "                        <td id=\"T_3366f4b0_273a_11eb_bb74_1065307ae51arow6_col1\" class=\"data row6 col1\" >0.96</td>\n",
              "                        <td id=\"T_3366f4b0_273a_11eb_bb74_1065307ae51arow6_col2\" class=\"data row6 col2\" >0.92</td>\n",
              "                        <td id=\"T_3366f4b0_273a_11eb_bb74_1065307ae51arow6_col3\" class=\"data row6 col3\" >0.92</td>\n",
              "                        <td id=\"T_3366f4b0_273a_11eb_bb74_1065307ae51arow6_col4\" class=\"data row6 col4\" >0.92</td>\n",
              "                        <td id=\"T_3366f4b0_273a_11eb_bb74_1065307ae51arow6_col5\" class=\"data row6 col5\" >0.67</td>\n",
              "                        <td id=\"T_3366f4b0_273a_11eb_bb74_1065307ae51arow6_col6\" class=\"data row6 col6\" >0.67</td>\n",
              "            </tr>\n",
              "            <tr>\n",
              "                        <th id=\"T_3366f4b0_273a_11eb_bb74_1065307ae51alevel0_row7\" class=\"row_heading level0 row7\" >7</th>\n",
              "                        <td id=\"T_3366f4b0_273a_11eb_bb74_1065307ae51arow7_col0\" class=\"data row7 col0\" >0.88</td>\n",
              "                        <td id=\"T_3366f4b0_273a_11eb_bb74_1065307ae51arow7_col1\" class=\"data row7 col1\" >0.95</td>\n",
              "                        <td id=\"T_3366f4b0_273a_11eb_bb74_1065307ae51arow7_col2\" class=\"data row7 col2\" >0.85</td>\n",
              "                        <td id=\"T_3366f4b0_273a_11eb_bb74_1065307ae51arow7_col3\" class=\"data row7 col3\" >1.00</td>\n",
              "                        <td id=\"T_3366f4b0_273a_11eb_bb74_1065307ae51arow7_col4\" class=\"data row7 col4\" >0.92</td>\n",
              "                        <td id=\"T_3366f4b0_273a_11eb_bb74_1065307ae51arow7_col5\" class=\"data row7 col5\" >0.67</td>\n",
              "                        <td id=\"T_3366f4b0_273a_11eb_bb74_1065307ae51arow7_col6\" class=\"data row7 col6\" >0.71</td>\n",
              "            </tr>\n",
              "            <tr>\n",
              "                        <th id=\"T_3366f4b0_273a_11eb_bb74_1065307ae51alevel0_row8\" class=\"row_heading level0 row8\" >Mean</th>\n",
              "                        <td id=\"T_3366f4b0_273a_11eb_bb74_1065307ae51arow8_col0\" class=\"data row8 col0\" >0.89</td>\n",
              "                        <td id=\"T_3366f4b0_273a_11eb_bb74_1065307ae51arow8_col1\" class=\"data row8 col1\" >0.95</td>\n",
              "                        <td id=\"T_3366f4b0_273a_11eb_bb74_1065307ae51arow8_col2\" class=\"data row8 col2\" >0.94</td>\n",
              "                        <td id=\"T_3366f4b0_273a_11eb_bb74_1065307ae51arow8_col3\" class=\"data row8 col3\" >0.93</td>\n",
              "                        <td id=\"T_3366f4b0_273a_11eb_bb74_1065307ae51arow8_col4\" class=\"data row8 col4\" >0.93</td>\n",
              "                        <td id=\"T_3366f4b0_273a_11eb_bb74_1065307ae51arow8_col5\" class=\"data row8 col5\" >0.70</td>\n",
              "                        <td id=\"T_3366f4b0_273a_11eb_bb74_1065307ae51arow8_col6\" class=\"data row8 col6\" >0.72</td>\n",
              "            </tr>\n",
              "            <tr>\n",
              "                        <th id=\"T_3366f4b0_273a_11eb_bb74_1065307ae51alevel0_row9\" class=\"row_heading level0 row9\" >SD</th>\n",
              "                        <td id=\"T_3366f4b0_273a_11eb_bb74_1065307ae51arow9_col0\" class=\"data row9 col0\" >0.03</td>\n",
              "                        <td id=\"T_3366f4b0_273a_11eb_bb74_1065307ae51arow9_col1\" class=\"data row9 col1\" >0.04</td>\n",
              "                        <td id=\"T_3366f4b0_273a_11eb_bb74_1065307ae51arow9_col2\" class=\"data row9 col2\" >0.07</td>\n",
              "                        <td id=\"T_3366f4b0_273a_11eb_bb74_1065307ae51arow9_col3\" class=\"data row9 col3\" >0.05</td>\n",
              "                        <td id=\"T_3366f4b0_273a_11eb_bb74_1065307ae51arow9_col4\" class=\"data row9 col4\" >0.02</td>\n",
              "                        <td id=\"T_3366f4b0_273a_11eb_bb74_1065307ae51arow9_col5\" class=\"data row9 col5\" >0.08</td>\n",
              "                        <td id=\"T_3366f4b0_273a_11eb_bb74_1065307ae51arow9_col6\" class=\"data row9 col6\" >0.07</td>\n",
              "            </tr>\n",
              "    </tbody></table>"
            ],
            "text/plain": [
              "<pandas.io.formats.style.Styler at 0x1e60d2259e8>"
            ]
          },
          "metadata": {},
          "output_type": "display_data"
        }
      ],
      "source": [
        "lightgbm = create_model('lightgbm',fold = 8,round = 2)"
      ]
    },
    {
      "cell_type": "markdown",
      "metadata": {
        "id": "HIyMF3fGFsqf"
      },
      "source": [
        "The light GBM model has fairly good performance like all the models."
      ]
    },
    {
      "cell_type": "markdown",
      "metadata": {
        "id": "99lpA1rkFsqf"
      },
      "source": [
        "### ***Creating a K Neighbors Classifier Model***"
      ]
    },
    {
      "cell_type": "code",
      "execution_count": null,
      "metadata": {
        "id": "ozT6nVQYFsqf",
        "outputId": "320af18d-a037-43fa-cd59-24e526138192"
      },
      "outputs": [
        {
          "data": {
            "text/html": [
              "<style  type=\"text/css\" >\n",
              "#T_3bd0229c_273a_11eb_8970_1065307ae51arow8_col0,#T_3bd0229c_273a_11eb_8970_1065307ae51arow8_col1,#T_3bd0229c_273a_11eb_8970_1065307ae51arow8_col2,#T_3bd0229c_273a_11eb_8970_1065307ae51arow8_col3,#T_3bd0229c_273a_11eb_8970_1065307ae51arow8_col4,#T_3bd0229c_273a_11eb_8970_1065307ae51arow8_col5,#T_3bd0229c_273a_11eb_8970_1065307ae51arow8_col6{\n",
              "            background:  yellow;\n",
              "        }</style><table id=\"T_3bd0229c_273a_11eb_8970_1065307ae51a\" ><thead>    <tr>        <th class=\"blank level0\" ></th>        <th class=\"col_heading level0 col0\" >Accuracy</th>        <th class=\"col_heading level0 col1\" >AUC</th>        <th class=\"col_heading level0 col2\" >Recall</th>        <th class=\"col_heading level0 col3\" >Prec.</th>        <th class=\"col_heading level0 col4\" >F1</th>        <th class=\"col_heading level0 col5\" >Kappa</th>        <th class=\"col_heading level0 col6\" >MCC</th>    </tr></thead><tbody>\n",
              "                <tr>\n",
              "                        <th id=\"T_3bd0229c_273a_11eb_8970_1065307ae51alevel0_row0\" class=\"row_heading level0 row0\" >0</th>\n",
              "                        <td id=\"T_3bd0229c_273a_11eb_8970_1065307ae51arow0_col0\" class=\"data row0 col0\" >0.76</td>\n",
              "                        <td id=\"T_3bd0229c_273a_11eb_8970_1065307ae51arow0_col1\" class=\"data row0 col1\" >0.94</td>\n",
              "                        <td id=\"T_3bd0229c_273a_11eb_8970_1065307ae51arow0_col2\" class=\"data row0 col2\" >0.77</td>\n",
              "                        <td id=\"T_3bd0229c_273a_11eb_8970_1065307ae51arow0_col3\" class=\"data row0 col3\" >0.91</td>\n",
              "                        <td id=\"T_3bd0229c_273a_11eb_8970_1065307ae51arow0_col4\" class=\"data row0 col4\" >0.83</td>\n",
              "                        <td id=\"T_3bd0229c_273a_11eb_8970_1065307ae51arow0_col5\" class=\"data row0 col5\" >0.44</td>\n",
              "                        <td id=\"T_3bd0229c_273a_11eb_8970_1065307ae51arow0_col6\" class=\"data row0 col6\" >0.46</td>\n",
              "            </tr>\n",
              "            <tr>\n",
              "                        <th id=\"T_3bd0229c_273a_11eb_8970_1065307ae51alevel0_row1\" class=\"row_heading level0 row1\" >1</th>\n",
              "                        <td id=\"T_3bd0229c_273a_11eb_8970_1065307ae51arow1_col0\" class=\"data row1 col0\" >0.94</td>\n",
              "                        <td id=\"T_3bd0229c_273a_11eb_8970_1065307ae51arow1_col1\" class=\"data row1 col1\" >0.99</td>\n",
              "                        <td id=\"T_3bd0229c_273a_11eb_8970_1065307ae51arow1_col2\" class=\"data row1 col2\" >0.92</td>\n",
              "                        <td id=\"T_3bd0229c_273a_11eb_8970_1065307ae51arow1_col3\" class=\"data row1 col3\" >1.00</td>\n",
              "                        <td id=\"T_3bd0229c_273a_11eb_8970_1065307ae51arow1_col4\" class=\"data row1 col4\" >0.96</td>\n",
              "                        <td id=\"T_3bd0229c_273a_11eb_8970_1065307ae51arow1_col5\" class=\"data row1 col5\" >0.85</td>\n",
              "                        <td id=\"T_3bd0229c_273a_11eb_8970_1065307ae51arow1_col6\" class=\"data row1 col6\" >0.86</td>\n",
              "            </tr>\n",
              "            <tr>\n",
              "                        <th id=\"T_3bd0229c_273a_11eb_8970_1065307ae51alevel0_row2\" class=\"row_heading level0 row2\" >2</th>\n",
              "                        <td id=\"T_3bd0229c_273a_11eb_8970_1065307ae51arow2_col0\" class=\"data row2 col0\" >0.88</td>\n",
              "                        <td id=\"T_3bd0229c_273a_11eb_8970_1065307ae51arow2_col1\" class=\"data row2 col1\" >0.96</td>\n",
              "                        <td id=\"T_3bd0229c_273a_11eb_8970_1065307ae51arow2_col2\" class=\"data row2 col2\" >0.83</td>\n",
              "                        <td id=\"T_3bd0229c_273a_11eb_8970_1065307ae51arow2_col3\" class=\"data row2 col3\" >1.00</td>\n",
              "                        <td id=\"T_3bd0229c_273a_11eb_8970_1065307ae51arow2_col4\" class=\"data row2 col4\" >0.91</td>\n",
              "                        <td id=\"T_3bd0229c_273a_11eb_8970_1065307ae51arow2_col5\" class=\"data row2 col5\" >0.71</td>\n",
              "                        <td id=\"T_3bd0229c_273a_11eb_8970_1065307ae51arow2_col6\" class=\"data row2 col6\" >0.75</td>\n",
              "            </tr>\n",
              "            <tr>\n",
              "                        <th id=\"T_3bd0229c_273a_11eb_8970_1065307ae51alevel0_row3\" class=\"row_heading level0 row3\" >3</th>\n",
              "                        <td id=\"T_3bd0229c_273a_11eb_8970_1065307ae51arow3_col0\" class=\"data row3 col0\" >0.81</td>\n",
              "                        <td id=\"T_3bd0229c_273a_11eb_8970_1065307ae51arow3_col1\" class=\"data row3 col1\" >0.98</td>\n",
              "                        <td id=\"T_3bd0229c_273a_11eb_8970_1065307ae51arow3_col2\" class=\"data row3 col2\" >0.75</td>\n",
              "                        <td id=\"T_3bd0229c_273a_11eb_8970_1065307ae51arow3_col3\" class=\"data row3 col3\" >1.00</td>\n",
              "                        <td id=\"T_3bd0229c_273a_11eb_8970_1065307ae51arow3_col4\" class=\"data row3 col4\" >0.86</td>\n",
              "                        <td id=\"T_3bd0229c_273a_11eb_8970_1065307ae51arow3_col5\" class=\"data row3 col5\" >0.60</td>\n",
              "                        <td id=\"T_3bd0229c_273a_11eb_8970_1065307ae51arow3_col6\" class=\"data row3 col6\" >0.65</td>\n",
              "            </tr>\n",
              "            <tr>\n",
              "                        <th id=\"T_3bd0229c_273a_11eb_8970_1065307ae51alevel0_row4\" class=\"row_heading level0 row4\" >4</th>\n",
              "                        <td id=\"T_3bd0229c_273a_11eb_8970_1065307ae51arow4_col0\" class=\"data row4 col0\" >0.94</td>\n",
              "                        <td id=\"T_3bd0229c_273a_11eb_8970_1065307ae51arow4_col1\" class=\"data row4 col1\" >0.99</td>\n",
              "                        <td id=\"T_3bd0229c_273a_11eb_8970_1065307ae51arow4_col2\" class=\"data row4 col2\" >0.92</td>\n",
              "                        <td id=\"T_3bd0229c_273a_11eb_8970_1065307ae51arow4_col3\" class=\"data row4 col3\" >1.00</td>\n",
              "                        <td id=\"T_3bd0229c_273a_11eb_8970_1065307ae51arow4_col4\" class=\"data row4 col4\" >0.96</td>\n",
              "                        <td id=\"T_3bd0229c_273a_11eb_8970_1065307ae51arow4_col5\" class=\"data row4 col5\" >0.85</td>\n",
              "                        <td id=\"T_3bd0229c_273a_11eb_8970_1065307ae51arow4_col6\" class=\"data row4 col6\" >0.86</td>\n",
              "            </tr>\n",
              "            <tr>\n",
              "                        <th id=\"T_3bd0229c_273a_11eb_8970_1065307ae51alevel0_row5\" class=\"row_heading level0 row5\" >5</th>\n",
              "                        <td id=\"T_3bd0229c_273a_11eb_8970_1065307ae51arow5_col0\" class=\"data row5 col0\" >0.81</td>\n",
              "                        <td id=\"T_3bd0229c_273a_11eb_8970_1065307ae51arow5_col1\" class=\"data row5 col1\" >0.94</td>\n",
              "                        <td id=\"T_3bd0229c_273a_11eb_8970_1065307ae51arow5_col2\" class=\"data row5 col2\" >0.75</td>\n",
              "                        <td id=\"T_3bd0229c_273a_11eb_8970_1065307ae51arow5_col3\" class=\"data row5 col3\" >1.00</td>\n",
              "                        <td id=\"T_3bd0229c_273a_11eb_8970_1065307ae51arow5_col4\" class=\"data row5 col4\" >0.86</td>\n",
              "                        <td id=\"T_3bd0229c_273a_11eb_8970_1065307ae51arow5_col5\" class=\"data row5 col5\" >0.60</td>\n",
              "                        <td id=\"T_3bd0229c_273a_11eb_8970_1065307ae51arow5_col6\" class=\"data row5 col6\" >0.65</td>\n",
              "            </tr>\n",
              "            <tr>\n",
              "                        <th id=\"T_3bd0229c_273a_11eb_8970_1065307ae51alevel0_row6\" class=\"row_heading level0 row6\" >6</th>\n",
              "                        <td id=\"T_3bd0229c_273a_11eb_8970_1065307ae51arow6_col0\" class=\"data row6 col0\" >0.88</td>\n",
              "                        <td id=\"T_3bd0229c_273a_11eb_8970_1065307ae51arow6_col1\" class=\"data row6 col1\" >0.93</td>\n",
              "                        <td id=\"T_3bd0229c_273a_11eb_8970_1065307ae51arow6_col2\" class=\"data row6 col2\" >0.83</td>\n",
              "                        <td id=\"T_3bd0229c_273a_11eb_8970_1065307ae51arow6_col3\" class=\"data row6 col3\" >1.00</td>\n",
              "                        <td id=\"T_3bd0229c_273a_11eb_8970_1065307ae51arow6_col4\" class=\"data row6 col4\" >0.91</td>\n",
              "                        <td id=\"T_3bd0229c_273a_11eb_8970_1065307ae51arow6_col5\" class=\"data row6 col5\" >0.71</td>\n",
              "                        <td id=\"T_3bd0229c_273a_11eb_8970_1065307ae51arow6_col6\" class=\"data row6 col6\" >0.75</td>\n",
              "            </tr>\n",
              "            <tr>\n",
              "                        <th id=\"T_3bd0229c_273a_11eb_8970_1065307ae51alevel0_row7\" class=\"row_heading level0 row7\" >7</th>\n",
              "                        <td id=\"T_3bd0229c_273a_11eb_8970_1065307ae51arow7_col0\" class=\"data row7 col0\" >0.69</td>\n",
              "                        <td id=\"T_3bd0229c_273a_11eb_8970_1065307ae51arow7_col1\" class=\"data row7 col1\" >0.96</td>\n",
              "                        <td id=\"T_3bd0229c_273a_11eb_8970_1065307ae51arow7_col2\" class=\"data row7 col2\" >0.62</td>\n",
              "                        <td id=\"T_3bd0229c_273a_11eb_8970_1065307ae51arow7_col3\" class=\"data row7 col3\" >1.00</td>\n",
              "                        <td id=\"T_3bd0229c_273a_11eb_8970_1065307ae51arow7_col4\" class=\"data row7 col4\" >0.76</td>\n",
              "                        <td id=\"T_3bd0229c_273a_11eb_8970_1065307ae51arow7_col5\" class=\"data row7 col5\" >0.38</td>\n",
              "                        <td id=\"T_3bd0229c_273a_11eb_8970_1065307ae51arow7_col6\" class=\"data row7 col6\" >0.48</td>\n",
              "            </tr>\n",
              "            <tr>\n",
              "                        <th id=\"T_3bd0229c_273a_11eb_8970_1065307ae51alevel0_row8\" class=\"row_heading level0 row8\" >Mean</th>\n",
              "                        <td id=\"T_3bd0229c_273a_11eb_8970_1065307ae51arow8_col0\" class=\"data row8 col0\" >0.84</td>\n",
              "                        <td id=\"T_3bd0229c_273a_11eb_8970_1065307ae51arow8_col1\" class=\"data row8 col1\" >0.96</td>\n",
              "                        <td id=\"T_3bd0229c_273a_11eb_8970_1065307ae51arow8_col2\" class=\"data row8 col2\" >0.80</td>\n",
              "                        <td id=\"T_3bd0229c_273a_11eb_8970_1065307ae51arow8_col3\" class=\"data row8 col3\" >0.99</td>\n",
              "                        <td id=\"T_3bd0229c_273a_11eb_8970_1065307ae51arow8_col4\" class=\"data row8 col4\" >0.88</td>\n",
              "                        <td id=\"T_3bd0229c_273a_11eb_8970_1065307ae51arow8_col5\" class=\"data row8 col5\" >0.64</td>\n",
              "                        <td id=\"T_3bd0229c_273a_11eb_8970_1065307ae51arow8_col6\" class=\"data row8 col6\" >0.68</td>\n",
              "            </tr>\n",
              "            <tr>\n",
              "                        <th id=\"T_3bd0229c_273a_11eb_8970_1065307ae51alevel0_row9\" class=\"row_heading level0 row9\" >SD</th>\n",
              "                        <td id=\"T_3bd0229c_273a_11eb_8970_1065307ae51arow9_col0\" class=\"data row9 col0\" >0.08</td>\n",
              "                        <td id=\"T_3bd0229c_273a_11eb_8970_1065307ae51arow9_col1\" class=\"data row9 col1\" >0.02</td>\n",
              "                        <td id=\"T_3bd0229c_273a_11eb_8970_1065307ae51arow9_col2\" class=\"data row9 col2\" >0.09</td>\n",
              "                        <td id=\"T_3bd0229c_273a_11eb_8970_1065307ae51arow9_col3\" class=\"data row9 col3\" >0.03</td>\n",
              "                        <td id=\"T_3bd0229c_273a_11eb_8970_1065307ae51arow9_col4\" class=\"data row9 col4\" >0.06</td>\n",
              "                        <td id=\"T_3bd0229c_273a_11eb_8970_1065307ae51arow9_col5\" class=\"data row9 col5\" >0.16</td>\n",
              "                        <td id=\"T_3bd0229c_273a_11eb_8970_1065307ae51arow9_col6\" class=\"data row9 col6\" >0.14</td>\n",
              "            </tr>\n",
              "    </tbody></table>"
            ],
            "text/plain": [
              "<pandas.io.formats.style.Styler at 0x1e60d227898>"
            ]
          },
          "metadata": {},
          "output_type": "display_data"
        }
      ],
      "source": [
        "knn = create_model('knn',fold = 8,round = 2)"
      ]
    },
    {
      "cell_type": "markdown",
      "metadata": {
        "id": "qwII513BFsqf"
      },
      "source": [
        "The KNN Classifier model has a low recall compared to other models. But the precision is very high."
      ]
    },
    {
      "cell_type": "markdown",
      "metadata": {
        "id": "vZdurUGgFsqf"
      },
      "source": [
        "### ***Creating a Quadratic Discriminant Analysis Model***"
      ]
    },
    {
      "cell_type": "code",
      "execution_count": null,
      "metadata": {
        "id": "P-AO9yiGFsqf",
        "outputId": "6c56cfb3-6b45-411f-c284-cb0093c33bac"
      },
      "outputs": [
        {
          "data": {
            "text/html": [
              "<style  type=\"text/css\" >\n",
              "#T_4620ba98_273a_11eb_a7ca_1065307ae51arow8_col0,#T_4620ba98_273a_11eb_a7ca_1065307ae51arow8_col1,#T_4620ba98_273a_11eb_a7ca_1065307ae51arow8_col2,#T_4620ba98_273a_11eb_a7ca_1065307ae51arow8_col3,#T_4620ba98_273a_11eb_a7ca_1065307ae51arow8_col4,#T_4620ba98_273a_11eb_a7ca_1065307ae51arow8_col5,#T_4620ba98_273a_11eb_a7ca_1065307ae51arow8_col6{\n",
              "            background:  yellow;\n",
              "        }</style><table id=\"T_4620ba98_273a_11eb_a7ca_1065307ae51a\" ><thead>    <tr>        <th class=\"blank level0\" ></th>        <th class=\"col_heading level0 col0\" >Accuracy</th>        <th class=\"col_heading level0 col1\" >AUC</th>        <th class=\"col_heading level0 col2\" >Recall</th>        <th class=\"col_heading level0 col3\" >Prec.</th>        <th class=\"col_heading level0 col4\" >F1</th>        <th class=\"col_heading level0 col5\" >Kappa</th>        <th class=\"col_heading level0 col6\" >MCC</th>    </tr></thead><tbody>\n",
              "                <tr>\n",
              "                        <th id=\"T_4620ba98_273a_11eb_a7ca_1065307ae51alevel0_row0\" class=\"row_heading level0 row0\" >0</th>\n",
              "                        <td id=\"T_4620ba98_273a_11eb_a7ca_1065307ae51arow0_col0\" class=\"data row0 col0\" >0.88</td>\n",
              "                        <td id=\"T_4620ba98_273a_11eb_a7ca_1065307ae51arow0_col1\" class=\"data row0 col1\" >0.67</td>\n",
              "                        <td id=\"T_4620ba98_273a_11eb_a7ca_1065307ae51arow0_col2\" class=\"data row0 col2\" >1.00</td>\n",
              "                        <td id=\"T_4620ba98_273a_11eb_a7ca_1065307ae51arow0_col3\" class=\"data row0 col3\" >0.87</td>\n",
              "                        <td id=\"T_4620ba98_273a_11eb_a7ca_1065307ae51arow0_col4\" class=\"data row0 col4\" >0.93</td>\n",
              "                        <td id=\"T_4620ba98_273a_11eb_a7ca_1065307ae51arow0_col5\" class=\"data row0 col5\" >0.60</td>\n",
              "                        <td id=\"T_4620ba98_273a_11eb_a7ca_1065307ae51arow0_col6\" class=\"data row0 col6\" >0.66</td>\n",
              "            </tr>\n",
              "            <tr>\n",
              "                        <th id=\"T_4620ba98_273a_11eb_a7ca_1065307ae51alevel0_row1\" class=\"row_heading level0 row1\" >1</th>\n",
              "                        <td id=\"T_4620ba98_273a_11eb_a7ca_1065307ae51arow1_col0\" class=\"data row1 col0\" >0.94</td>\n",
              "                        <td id=\"T_4620ba98_273a_11eb_a7ca_1065307ae51arow1_col1\" class=\"data row1 col1\" >0.83</td>\n",
              "                        <td id=\"T_4620ba98_273a_11eb_a7ca_1065307ae51arow1_col2\" class=\"data row1 col2\" >1.00</td>\n",
              "                        <td id=\"T_4620ba98_273a_11eb_a7ca_1065307ae51arow1_col3\" class=\"data row1 col3\" >0.92</td>\n",
              "                        <td id=\"T_4620ba98_273a_11eb_a7ca_1065307ae51arow1_col4\" class=\"data row1 col4\" >0.96</td>\n",
              "                        <td id=\"T_4620ba98_273a_11eb_a7ca_1065307ae51arow1_col5\" class=\"data row1 col5\" >0.82</td>\n",
              "                        <td id=\"T_4620ba98_273a_11eb_a7ca_1065307ae51arow1_col6\" class=\"data row1 col6\" >0.83</td>\n",
              "            </tr>\n",
              "            <tr>\n",
              "                        <th id=\"T_4620ba98_273a_11eb_a7ca_1065307ae51alevel0_row2\" class=\"row_heading level0 row2\" >2</th>\n",
              "                        <td id=\"T_4620ba98_273a_11eb_a7ca_1065307ae51arow2_col0\" class=\"data row2 col0\" >0.81</td>\n",
              "                        <td id=\"T_4620ba98_273a_11eb_a7ca_1065307ae51arow2_col1\" class=\"data row2 col1\" >0.76</td>\n",
              "                        <td id=\"T_4620ba98_273a_11eb_a7ca_1065307ae51arow2_col2\" class=\"data row2 col2\" >0.92</td>\n",
              "                        <td id=\"T_4620ba98_273a_11eb_a7ca_1065307ae51arow2_col3\" class=\"data row2 col3\" >0.85</td>\n",
              "                        <td id=\"T_4620ba98_273a_11eb_a7ca_1065307ae51arow2_col4\" class=\"data row2 col4\" >0.88</td>\n",
              "                        <td id=\"T_4620ba98_273a_11eb_a7ca_1065307ae51arow2_col5\" class=\"data row2 col5\" >0.45</td>\n",
              "                        <td id=\"T_4620ba98_273a_11eb_a7ca_1065307ae51arow2_col6\" class=\"data row2 col6\" >0.46</td>\n",
              "            </tr>\n",
              "            <tr>\n",
              "                        <th id=\"T_4620ba98_273a_11eb_a7ca_1065307ae51alevel0_row3\" class=\"row_heading level0 row3\" >3</th>\n",
              "                        <td id=\"T_4620ba98_273a_11eb_a7ca_1065307ae51arow3_col0\" class=\"data row3 col0\" >0.94</td>\n",
              "                        <td id=\"T_4620ba98_273a_11eb_a7ca_1065307ae51arow3_col1\" class=\"data row3 col1\" >0.98</td>\n",
              "                        <td id=\"T_4620ba98_273a_11eb_a7ca_1065307ae51arow3_col2\" class=\"data row3 col2\" >1.00</td>\n",
              "                        <td id=\"T_4620ba98_273a_11eb_a7ca_1065307ae51arow3_col3\" class=\"data row3 col3\" >0.92</td>\n",
              "                        <td id=\"T_4620ba98_273a_11eb_a7ca_1065307ae51arow3_col4\" class=\"data row3 col4\" >0.96</td>\n",
              "                        <td id=\"T_4620ba98_273a_11eb_a7ca_1065307ae51arow3_col5\" class=\"data row3 col5\" >0.82</td>\n",
              "                        <td id=\"T_4620ba98_273a_11eb_a7ca_1065307ae51arow3_col6\" class=\"data row3 col6\" >0.83</td>\n",
              "            </tr>\n",
              "            <tr>\n",
              "                        <th id=\"T_4620ba98_273a_11eb_a7ca_1065307ae51alevel0_row4\" class=\"row_heading level0 row4\" >4</th>\n",
              "                        <td id=\"T_4620ba98_273a_11eb_a7ca_1065307ae51arow4_col0\" class=\"data row4 col0\" >0.69</td>\n",
              "                        <td id=\"T_4620ba98_273a_11eb_a7ca_1065307ae51arow4_col1\" class=\"data row4 col1\" >0.71</td>\n",
              "                        <td id=\"T_4620ba98_273a_11eb_a7ca_1065307ae51arow4_col2\" class=\"data row4 col2\" >0.92</td>\n",
              "                        <td id=\"T_4620ba98_273a_11eb_a7ca_1065307ae51arow4_col3\" class=\"data row4 col3\" >0.73</td>\n",
              "                        <td id=\"T_4620ba98_273a_11eb_a7ca_1065307ae51arow4_col4\" class=\"data row4 col4\" >0.81</td>\n",
              "                        <td id=\"T_4620ba98_273a_11eb_a7ca_1065307ae51arow4_col5\" class=\"data row4 col5\" >-0.11</td>\n",
              "                        <td id=\"T_4620ba98_273a_11eb_a7ca_1065307ae51arow4_col6\" class=\"data row4 col6\" >-0.15</td>\n",
              "            </tr>\n",
              "            <tr>\n",
              "                        <th id=\"T_4620ba98_273a_11eb_a7ca_1065307ae51alevel0_row5\" class=\"row_heading level0 row5\" >5</th>\n",
              "                        <td id=\"T_4620ba98_273a_11eb_a7ca_1065307ae51arow5_col0\" class=\"data row5 col0\" >0.94</td>\n",
              "                        <td id=\"T_4620ba98_273a_11eb_a7ca_1065307ae51arow5_col1\" class=\"data row5 col1\" >0.94</td>\n",
              "                        <td id=\"T_4620ba98_273a_11eb_a7ca_1065307ae51arow5_col2\" class=\"data row5 col2\" >1.00</td>\n",
              "                        <td id=\"T_4620ba98_273a_11eb_a7ca_1065307ae51arow5_col3\" class=\"data row5 col3\" >0.92</td>\n",
              "                        <td id=\"T_4620ba98_273a_11eb_a7ca_1065307ae51arow5_col4\" class=\"data row5 col4\" >0.96</td>\n",
              "                        <td id=\"T_4620ba98_273a_11eb_a7ca_1065307ae51arow5_col5\" class=\"data row5 col5\" >0.82</td>\n",
              "                        <td id=\"T_4620ba98_273a_11eb_a7ca_1065307ae51arow5_col6\" class=\"data row5 col6\" >0.83</td>\n",
              "            </tr>\n",
              "            <tr>\n",
              "                        <th id=\"T_4620ba98_273a_11eb_a7ca_1065307ae51alevel0_row6\" class=\"row_heading level0 row6\" >6</th>\n",
              "                        <td id=\"T_4620ba98_273a_11eb_a7ca_1065307ae51arow6_col0\" class=\"data row6 col0\" >0.81</td>\n",
              "                        <td id=\"T_4620ba98_273a_11eb_a7ca_1065307ae51arow6_col1\" class=\"data row6 col1\" >0.92</td>\n",
              "                        <td id=\"T_4620ba98_273a_11eb_a7ca_1065307ae51arow6_col2\" class=\"data row6 col2\" >1.00</td>\n",
              "                        <td id=\"T_4620ba98_273a_11eb_a7ca_1065307ae51arow6_col3\" class=\"data row6 col3\" >0.80</td>\n",
              "                        <td id=\"T_4620ba98_273a_11eb_a7ca_1065307ae51arow6_col4\" class=\"data row6 col4\" >0.89</td>\n",
              "                        <td id=\"T_4620ba98_273a_11eb_a7ca_1065307ae51arow6_col5\" class=\"data row6 col5\" >0.33</td>\n",
              "                        <td id=\"T_4620ba98_273a_11eb_a7ca_1065307ae51arow6_col6\" class=\"data row6 col6\" >0.45</td>\n",
              "            </tr>\n",
              "            <tr>\n",
              "                        <th id=\"T_4620ba98_273a_11eb_a7ca_1065307ae51alevel0_row7\" class=\"row_heading level0 row7\" >7</th>\n",
              "                        <td id=\"T_4620ba98_273a_11eb_a7ca_1065307ae51arow7_col0\" class=\"data row7 col0\" >0.81</td>\n",
              "                        <td id=\"T_4620ba98_273a_11eb_a7ca_1065307ae51arow7_col1\" class=\"data row7 col1\" >0.87</td>\n",
              "                        <td id=\"T_4620ba98_273a_11eb_a7ca_1065307ae51arow7_col2\" class=\"data row7 col2\" >0.85</td>\n",
              "                        <td id=\"T_4620ba98_273a_11eb_a7ca_1065307ae51arow7_col3\" class=\"data row7 col3\" >0.92</td>\n",
              "                        <td id=\"T_4620ba98_273a_11eb_a7ca_1065307ae51arow7_col4\" class=\"data row7 col4\" >0.88</td>\n",
              "                        <td id=\"T_4620ba98_273a_11eb_a7ca_1065307ae51arow7_col5\" class=\"data row7 col5\" >0.45</td>\n",
              "                        <td id=\"T_4620ba98_273a_11eb_a7ca_1065307ae51arow7_col6\" class=\"data row7 col6\" >0.46</td>\n",
              "            </tr>\n",
              "            <tr>\n",
              "                        <th id=\"T_4620ba98_273a_11eb_a7ca_1065307ae51alevel0_row8\" class=\"row_heading level0 row8\" >Mean</th>\n",
              "                        <td id=\"T_4620ba98_273a_11eb_a7ca_1065307ae51arow8_col0\" class=\"data row8 col0\" >0.85</td>\n",
              "                        <td id=\"T_4620ba98_273a_11eb_a7ca_1065307ae51arow8_col1\" class=\"data row8 col1\" >0.84</td>\n",
              "                        <td id=\"T_4620ba98_273a_11eb_a7ca_1065307ae51arow8_col2\" class=\"data row8 col2\" >0.96</td>\n",
              "                        <td id=\"T_4620ba98_273a_11eb_a7ca_1065307ae51arow8_col3\" class=\"data row8 col3\" >0.87</td>\n",
              "                        <td id=\"T_4620ba98_273a_11eb_a7ca_1065307ae51arow8_col4\" class=\"data row8 col4\" >0.91</td>\n",
              "                        <td id=\"T_4620ba98_273a_11eb_a7ca_1065307ae51arow8_col5\" class=\"data row8 col5\" >0.52</td>\n",
              "                        <td id=\"T_4620ba98_273a_11eb_a7ca_1065307ae51arow8_col6\" class=\"data row8 col6\" >0.55</td>\n",
              "            </tr>\n",
              "            <tr>\n",
              "                        <th id=\"T_4620ba98_273a_11eb_a7ca_1065307ae51alevel0_row9\" class=\"row_heading level0 row9\" >SD</th>\n",
              "                        <td id=\"T_4620ba98_273a_11eb_a7ca_1065307ae51arow9_col0\" class=\"data row9 col0\" >0.08</td>\n",
              "                        <td id=\"T_4620ba98_273a_11eb_a7ca_1065307ae51arow9_col1\" class=\"data row9 col1\" >0.10</td>\n",
              "                        <td id=\"T_4620ba98_273a_11eb_a7ca_1065307ae51arow9_col2\" class=\"data row9 col2\" >0.06</td>\n",
              "                        <td id=\"T_4620ba98_273a_11eb_a7ca_1065307ae51arow9_col3\" class=\"data row9 col3\" >0.07</td>\n",
              "                        <td id=\"T_4620ba98_273a_11eb_a7ca_1065307ae51arow9_col4\" class=\"data row9 col4\" >0.05</td>\n",
              "                        <td id=\"T_4620ba98_273a_11eb_a7ca_1065307ae51arow9_col5\" class=\"data row9 col5\" >0.30</td>\n",
              "                        <td id=\"T_4620ba98_273a_11eb_a7ca_1065307ae51arow9_col6\" class=\"data row9 col6\" >0.31</td>\n",
              "            </tr>\n",
              "    </tbody></table>"
            ],
            "text/plain": [
              "<pandas.io.formats.style.Styler at 0x1e609b38550>"
            ]
          },
          "metadata": {},
          "output_type": "display_data"
        }
      ],
      "source": [
        "qda = create_model('qda',fold = 8,round = 2)"
      ]
    },
    {
      "cell_type": "markdown",
      "metadata": {
        "id": "ow3Cqe0XFsqf"
      },
      "source": [
        "The QDA Classifier model also high standard deviation which means the model is overfit. And, all the metrics are more than 50% which means that the model is overfit. The Recall metric is the highest amongst all the models."
      ]
    },
    {
      "cell_type": "markdown",
      "metadata": {
        "id": "XeXj2Y4wFsqg"
      },
      "source": [
        "OBSERVATION:\n",
        "    - Accuracy : Extra Trees Classifier model has the highest accuracy mean score of 0.91, and RF and Catboost have 0.89\n",
        "    - AUC : Extra Trees Classifier and Catboost models have AUC mean score of 0.97, and knn has 0.95\n",
        "    - Recall : Quadratic Discriminant Analysis model has recall mean score of 0.97 and Extra Tress Classifier model has a \n",
        "               recall mean score of 0.96\n",
        "    - Precision : knn model has the highest precision mean score of 0.97, and RF, Catboost and LightGBM has 0.94\n",
        "    - F1 - Extra Trees Classifier has the precsion mean score of 0.94, and RF and Catboost have 0.93\n",
        "    \n",
        "Extra Trees Classifier, RF and Catboost models fairly higher performance amongst all the top 5 models."
      ]
    },
    {
      "cell_type": "markdown",
      "metadata": {
        "id": "-CJwA6SHFsqg"
      },
      "source": [
        "## **Tuning Models**"
      ]
    },
    {
      "cell_type": "markdown",
      "metadata": {
        "id": "eQ099h0rFsqg"
      },
      "source": [
        "When a model is created using the create_model() function, it uses the default hyperparameters to train the model. In order to tune hyperparameters, the tune_model() function is used. This function automatically tunes the hyperparameters of a model using Random Grid Search on a pre-defined search space. The output prints a score grid that shows Accuracy, AUC, Recall, Precision, F1, Kappa, and MCC by fold for the best model."
      ]
    },
    {
      "cell_type": "markdown",
      "metadata": {
        "id": "gxgyF2czFsqg"
      },
      "source": [
        "Out of all the metrics, Recall is more important because our model should minimize the wrong predictions of a patient not having the Parkinson's disease. So, when we tune the models, we will optimize the Recall hyperparameter."
      ]
    },
    {
      "cell_type": "markdown",
      "metadata": {
        "id": "wRlZvknBFsqg"
      },
      "source": [
        "### ***Tuning the Extra Trees Classifier Model***"
      ]
    },
    {
      "cell_type": "code",
      "execution_count": null,
      "metadata": {
        "scrolled": true,
        "id": "OFUhWIVUFsqg",
        "outputId": "4af3c7bf-4596-4a5d-ffb7-2036c7a72854"
      },
      "outputs": [
        {
          "data": {
            "text/html": [
              "<style  type=\"text/css\" >\n",
              "#T_8acd1958_273a_11eb_b821_1065307ae51arow8_col0,#T_8acd1958_273a_11eb_b821_1065307ae51arow8_col1,#T_8acd1958_273a_11eb_b821_1065307ae51arow8_col2,#T_8acd1958_273a_11eb_b821_1065307ae51arow8_col3,#T_8acd1958_273a_11eb_b821_1065307ae51arow8_col4,#T_8acd1958_273a_11eb_b821_1065307ae51arow8_col5,#T_8acd1958_273a_11eb_b821_1065307ae51arow8_col6{\n",
              "            background:  yellow;\n",
              "        }</style><table id=\"T_8acd1958_273a_11eb_b821_1065307ae51a\" ><thead>    <tr>        <th class=\"blank level0\" ></th>        <th class=\"col_heading level0 col0\" >Accuracy</th>        <th class=\"col_heading level0 col1\" >AUC</th>        <th class=\"col_heading level0 col2\" >Recall</th>        <th class=\"col_heading level0 col3\" >Prec.</th>        <th class=\"col_heading level0 col4\" >F1</th>        <th class=\"col_heading level0 col5\" >Kappa</th>        <th class=\"col_heading level0 col6\" >MCC</th>    </tr></thead><tbody>\n",
              "                <tr>\n",
              "                        <th id=\"T_8acd1958_273a_11eb_b821_1065307ae51alevel0_row0\" class=\"row_heading level0 row0\" >0</th>\n",
              "                        <td id=\"T_8acd1958_273a_11eb_b821_1065307ae51arow0_col0\" class=\"data row0 col0\" >0.71</td>\n",
              "                        <td id=\"T_8acd1958_273a_11eb_b821_1065307ae51arow0_col1\" class=\"data row0 col1\" >0.77</td>\n",
              "                        <td id=\"T_8acd1958_273a_11eb_b821_1065307ae51arow0_col2\" class=\"data row0 col2\" >0.77</td>\n",
              "                        <td id=\"T_8acd1958_273a_11eb_b821_1065307ae51arow0_col3\" class=\"data row0 col3\" >0.83</td>\n",
              "                        <td id=\"T_8acd1958_273a_11eb_b821_1065307ae51arow0_col4\" class=\"data row0 col4\" >0.80</td>\n",
              "                        <td id=\"T_8acd1958_273a_11eb_b821_1065307ae51arow0_col5\" class=\"data row0 col5\" >0.25</td>\n",
              "                        <td id=\"T_8acd1958_273a_11eb_b821_1065307ae51arow0_col6\" class=\"data row0 col6\" >0.25</td>\n",
              "            </tr>\n",
              "            <tr>\n",
              "                        <th id=\"T_8acd1958_273a_11eb_b821_1065307ae51alevel0_row1\" class=\"row_heading level0 row1\" >1</th>\n",
              "                        <td id=\"T_8acd1958_273a_11eb_b821_1065307ae51arow1_col0\" class=\"data row1 col0\" >0.75</td>\n",
              "                        <td id=\"T_8acd1958_273a_11eb_b821_1065307ae51arow1_col1\" class=\"data row1 col1\" >0.90</td>\n",
              "                        <td id=\"T_8acd1958_273a_11eb_b821_1065307ae51arow1_col2\" class=\"data row1 col2\" >0.75</td>\n",
              "                        <td id=\"T_8acd1958_273a_11eb_b821_1065307ae51arow1_col3\" class=\"data row1 col3\" >0.90</td>\n",
              "                        <td id=\"T_8acd1958_273a_11eb_b821_1065307ae51arow1_col4\" class=\"data row1 col4\" >0.82</td>\n",
              "                        <td id=\"T_8acd1958_273a_11eb_b821_1065307ae51arow1_col5\" class=\"data row1 col5\" >0.43</td>\n",
              "                        <td id=\"T_8acd1958_273a_11eb_b821_1065307ae51arow1_col6\" class=\"data row1 col6\" >0.45</td>\n",
              "            </tr>\n",
              "            <tr>\n",
              "                        <th id=\"T_8acd1958_273a_11eb_b821_1065307ae51alevel0_row2\" class=\"row_heading level0 row2\" >2</th>\n",
              "                        <td id=\"T_8acd1958_273a_11eb_b821_1065307ae51arow2_col0\" class=\"data row2 col0\" >0.75</td>\n",
              "                        <td id=\"T_8acd1958_273a_11eb_b821_1065307ae51arow2_col1\" class=\"data row2 col1\" >0.85</td>\n",
              "                        <td id=\"T_8acd1958_273a_11eb_b821_1065307ae51arow2_col2\" class=\"data row2 col2\" >0.67</td>\n",
              "                        <td id=\"T_8acd1958_273a_11eb_b821_1065307ae51arow2_col3\" class=\"data row2 col3\" >1.00</td>\n",
              "                        <td id=\"T_8acd1958_273a_11eb_b821_1065307ae51arow2_col4\" class=\"data row2 col4\" >0.80</td>\n",
              "                        <td id=\"T_8acd1958_273a_11eb_b821_1065307ae51arow2_col5\" class=\"data row2 col5\" >0.50</td>\n",
              "                        <td id=\"T_8acd1958_273a_11eb_b821_1065307ae51arow2_col6\" class=\"data row2 col6\" >0.58</td>\n",
              "            </tr>\n",
              "            <tr>\n",
              "                        <th id=\"T_8acd1958_273a_11eb_b821_1065307ae51alevel0_row3\" class=\"row_heading level0 row3\" >3</th>\n",
              "                        <td id=\"T_8acd1958_273a_11eb_b821_1065307ae51arow3_col0\" class=\"data row3 col0\" >0.81</td>\n",
              "                        <td id=\"T_8acd1958_273a_11eb_b821_1065307ae51arow3_col1\" class=\"data row3 col1\" >0.98</td>\n",
              "                        <td id=\"T_8acd1958_273a_11eb_b821_1065307ae51arow3_col2\" class=\"data row3 col2\" >0.75</td>\n",
              "                        <td id=\"T_8acd1958_273a_11eb_b821_1065307ae51arow3_col3\" class=\"data row3 col3\" >1.00</td>\n",
              "                        <td id=\"T_8acd1958_273a_11eb_b821_1065307ae51arow3_col4\" class=\"data row3 col4\" >0.86</td>\n",
              "                        <td id=\"T_8acd1958_273a_11eb_b821_1065307ae51arow3_col5\" class=\"data row3 col5\" >0.60</td>\n",
              "                        <td id=\"T_8acd1958_273a_11eb_b821_1065307ae51arow3_col6\" class=\"data row3 col6\" >0.65</td>\n",
              "            </tr>\n",
              "            <tr>\n",
              "                        <th id=\"T_8acd1958_273a_11eb_b821_1065307ae51alevel0_row4\" class=\"row_heading level0 row4\" >4</th>\n",
              "                        <td id=\"T_8acd1958_273a_11eb_b821_1065307ae51arow4_col0\" class=\"data row4 col0\" >0.81</td>\n",
              "                        <td id=\"T_8acd1958_273a_11eb_b821_1065307ae51arow4_col1\" class=\"data row4 col1\" >0.85</td>\n",
              "                        <td id=\"T_8acd1958_273a_11eb_b821_1065307ae51arow4_col2\" class=\"data row4 col2\" >0.83</td>\n",
              "                        <td id=\"T_8acd1958_273a_11eb_b821_1065307ae51arow4_col3\" class=\"data row4 col3\" >0.91</td>\n",
              "                        <td id=\"T_8acd1958_273a_11eb_b821_1065307ae51arow4_col4\" class=\"data row4 col4\" >0.87</td>\n",
              "                        <td id=\"T_8acd1958_273a_11eb_b821_1065307ae51arow4_col5\" class=\"data row4 col5\" >0.54</td>\n",
              "                        <td id=\"T_8acd1958_273a_11eb_b821_1065307ae51arow4_col6\" class=\"data row4 col6\" >0.54</td>\n",
              "            </tr>\n",
              "            <tr>\n",
              "                        <th id=\"T_8acd1958_273a_11eb_b821_1065307ae51alevel0_row5\" class=\"row_heading level0 row5\" >5</th>\n",
              "                        <td id=\"T_8acd1958_273a_11eb_b821_1065307ae51arow5_col0\" class=\"data row5 col0\" >0.56</td>\n",
              "                        <td id=\"T_8acd1958_273a_11eb_b821_1065307ae51arow5_col1\" class=\"data row5 col1\" >0.83</td>\n",
              "                        <td id=\"T_8acd1958_273a_11eb_b821_1065307ae51arow5_col2\" class=\"data row5 col2\" >0.50</td>\n",
              "                        <td id=\"T_8acd1958_273a_11eb_b821_1065307ae51arow5_col3\" class=\"data row5 col3\" >0.86</td>\n",
              "                        <td id=\"T_8acd1958_273a_11eb_b821_1065307ae51arow5_col4\" class=\"data row5 col4\" >0.63</td>\n",
              "                        <td id=\"T_8acd1958_273a_11eb_b821_1065307ae51arow5_col5\" class=\"data row5 col5\" >0.18</td>\n",
              "                        <td id=\"T_8acd1958_273a_11eb_b821_1065307ae51arow5_col6\" class=\"data row5 col6\" >0.22</td>\n",
              "            </tr>\n",
              "            <tr>\n",
              "                        <th id=\"T_8acd1958_273a_11eb_b821_1065307ae51alevel0_row6\" class=\"row_heading level0 row6\" >6</th>\n",
              "                        <td id=\"T_8acd1958_273a_11eb_b821_1065307ae51arow6_col0\" class=\"data row6 col0\" >0.94</td>\n",
              "                        <td id=\"T_8acd1958_273a_11eb_b821_1065307ae51arow6_col1\" class=\"data row6 col1\" >1.00</td>\n",
              "                        <td id=\"T_8acd1958_273a_11eb_b821_1065307ae51arow6_col2\" class=\"data row6 col2\" >0.92</td>\n",
              "                        <td id=\"T_8acd1958_273a_11eb_b821_1065307ae51arow6_col3\" class=\"data row6 col3\" >1.00</td>\n",
              "                        <td id=\"T_8acd1958_273a_11eb_b821_1065307ae51arow6_col4\" class=\"data row6 col4\" >0.96</td>\n",
              "                        <td id=\"T_8acd1958_273a_11eb_b821_1065307ae51arow6_col5\" class=\"data row6 col5\" >0.85</td>\n",
              "                        <td id=\"T_8acd1958_273a_11eb_b821_1065307ae51arow6_col6\" class=\"data row6 col6\" >0.86</td>\n",
              "            </tr>\n",
              "            <tr>\n",
              "                        <th id=\"T_8acd1958_273a_11eb_b821_1065307ae51alevel0_row7\" class=\"row_heading level0 row7\" >7</th>\n",
              "                        <td id=\"T_8acd1958_273a_11eb_b821_1065307ae51arow7_col0\" class=\"data row7 col0\" >0.81</td>\n",
              "                        <td id=\"T_8acd1958_273a_11eb_b821_1065307ae51arow7_col1\" class=\"data row7 col1\" >0.90</td>\n",
              "                        <td id=\"T_8acd1958_273a_11eb_b821_1065307ae51arow7_col2\" class=\"data row7 col2\" >0.77</td>\n",
              "                        <td id=\"T_8acd1958_273a_11eb_b821_1065307ae51arow7_col3\" class=\"data row7 col3\" >1.00</td>\n",
              "                        <td id=\"T_8acd1958_273a_11eb_b821_1065307ae51arow7_col4\" class=\"data row7 col4\" >0.87</td>\n",
              "                        <td id=\"T_8acd1958_273a_11eb_b821_1065307ae51arow7_col5\" class=\"data row7 col5\" >0.56</td>\n",
              "                        <td id=\"T_8acd1958_273a_11eb_b821_1065307ae51arow7_col6\" class=\"data row7 col6\" >0.62</td>\n",
              "            </tr>\n",
              "            <tr>\n",
              "                        <th id=\"T_8acd1958_273a_11eb_b821_1065307ae51alevel0_row8\" class=\"row_heading level0 row8\" >Mean</th>\n",
              "                        <td id=\"T_8acd1958_273a_11eb_b821_1065307ae51arow8_col0\" class=\"data row8 col0\" >0.77</td>\n",
              "                        <td id=\"T_8acd1958_273a_11eb_b821_1065307ae51arow8_col1\" class=\"data row8 col1\" >0.89</td>\n",
              "                        <td id=\"T_8acd1958_273a_11eb_b821_1065307ae51arow8_col2\" class=\"data row8 col2\" >0.74</td>\n",
              "                        <td id=\"T_8acd1958_273a_11eb_b821_1065307ae51arow8_col3\" class=\"data row8 col3\" >0.94</td>\n",
              "                        <td id=\"T_8acd1958_273a_11eb_b821_1065307ae51arow8_col4\" class=\"data row8 col4\" >0.83</td>\n",
              "                        <td id=\"T_8acd1958_273a_11eb_b821_1065307ae51arow8_col5\" class=\"data row8 col5\" >0.49</td>\n",
              "                        <td id=\"T_8acd1958_273a_11eb_b821_1065307ae51arow8_col6\" class=\"data row8 col6\" >0.52</td>\n",
              "            </tr>\n",
              "            <tr>\n",
              "                        <th id=\"T_8acd1958_273a_11eb_b821_1065307ae51alevel0_row9\" class=\"row_heading level0 row9\" >SD</th>\n",
              "                        <td id=\"T_8acd1958_273a_11eb_b821_1065307ae51arow9_col0\" class=\"data row9 col0\" >0.10</td>\n",
              "                        <td id=\"T_8acd1958_273a_11eb_b821_1065307ae51arow9_col1\" class=\"data row9 col1\" >0.07</td>\n",
              "                        <td id=\"T_8acd1958_273a_11eb_b821_1065307ae51arow9_col2\" class=\"data row9 col2\" >0.11</td>\n",
              "                        <td id=\"T_8acd1958_273a_11eb_b821_1065307ae51arow9_col3\" class=\"data row9 col3\" >0.07</td>\n",
              "                        <td id=\"T_8acd1958_273a_11eb_b821_1065307ae51arow9_col4\" class=\"data row9 col4\" >0.09</td>\n",
              "                        <td id=\"T_8acd1958_273a_11eb_b821_1065307ae51arow9_col5\" class=\"data row9 col5\" >0.20</td>\n",
              "                        <td id=\"T_8acd1958_273a_11eb_b821_1065307ae51arow9_col6\" class=\"data row9 col6\" >0.20</td>\n",
              "            </tr>\n",
              "    </tbody></table>"
            ],
            "text/plain": [
              "<pandas.io.formats.style.Styler at 0x1e609b385c0>"
            ]
          },
          "metadata": {},
          "output_type": "display_data"
        }
      ],
      "source": [
        "tuned_et = tune_model(et, optimize = 'Recall', fold = 8,round = 2)"
      ]
    },
    {
      "cell_type": "markdown",
      "metadata": {
        "id": "QB1Vw0YvFsqg"
      },
      "source": [
        "### ***Tuning the Random Forest Classifier Model***"
      ]
    },
    {
      "cell_type": "code",
      "execution_count": null,
      "metadata": {
        "id": "N8bFc5z2Fsqg",
        "outputId": "9e84e6ea-2cc1-42ed-f94d-50e9a170699f"
      },
      "outputs": [
        {
          "data": {
            "text/html": [
              "<style  type=\"text/css\" >\n",
              "#T_efad4af4_273a_11eb_be15_1065307ae51arow8_col0,#T_efad4af4_273a_11eb_be15_1065307ae51arow8_col1,#T_efad4af4_273a_11eb_be15_1065307ae51arow8_col2,#T_efad4af4_273a_11eb_be15_1065307ae51arow8_col3,#T_efad4af4_273a_11eb_be15_1065307ae51arow8_col4,#T_efad4af4_273a_11eb_be15_1065307ae51arow8_col5,#T_efad4af4_273a_11eb_be15_1065307ae51arow8_col6{\n",
              "            background:  yellow;\n",
              "        }</style><table id=\"T_efad4af4_273a_11eb_be15_1065307ae51a\" ><thead>    <tr>        <th class=\"blank level0\" ></th>        <th class=\"col_heading level0 col0\" >Accuracy</th>        <th class=\"col_heading level0 col1\" >AUC</th>        <th class=\"col_heading level0 col2\" >Recall</th>        <th class=\"col_heading level0 col3\" >Prec.</th>        <th class=\"col_heading level0 col4\" >F1</th>        <th class=\"col_heading level0 col5\" >Kappa</th>        <th class=\"col_heading level0 col6\" >MCC</th>    </tr></thead><tbody>\n",
              "                <tr>\n",
              "                        <th id=\"T_efad4af4_273a_11eb_be15_1065307ae51alevel0_row0\" class=\"row_heading level0 row0\" >0</th>\n",
              "                        <td id=\"T_efad4af4_273a_11eb_be15_1065307ae51arow0_col0\" class=\"data row0 col0\" >0.88</td>\n",
              "                        <td id=\"T_efad4af4_273a_11eb_be15_1065307ae51arow0_col1\" class=\"data row0 col1\" >0.90</td>\n",
              "                        <td id=\"T_efad4af4_273a_11eb_be15_1065307ae51arow0_col2\" class=\"data row0 col2\" >1.00</td>\n",
              "                        <td id=\"T_efad4af4_273a_11eb_be15_1065307ae51arow0_col3\" class=\"data row0 col3\" >0.87</td>\n",
              "                        <td id=\"T_efad4af4_273a_11eb_be15_1065307ae51arow0_col4\" class=\"data row0 col4\" >0.93</td>\n",
              "                        <td id=\"T_efad4af4_273a_11eb_be15_1065307ae51arow0_col5\" class=\"data row0 col5\" >0.60</td>\n",
              "                        <td id=\"T_efad4af4_273a_11eb_be15_1065307ae51arow0_col6\" class=\"data row0 col6\" >0.66</td>\n",
              "            </tr>\n",
              "            <tr>\n",
              "                        <th id=\"T_efad4af4_273a_11eb_be15_1065307ae51alevel0_row1\" class=\"row_heading level0 row1\" >1</th>\n",
              "                        <td id=\"T_efad4af4_273a_11eb_be15_1065307ae51arow1_col0\" class=\"data row1 col0\" >0.94</td>\n",
              "                        <td id=\"T_efad4af4_273a_11eb_be15_1065307ae51arow1_col1\" class=\"data row1 col1\" >0.92</td>\n",
              "                        <td id=\"T_efad4af4_273a_11eb_be15_1065307ae51arow1_col2\" class=\"data row1 col2\" >1.00</td>\n",
              "                        <td id=\"T_efad4af4_273a_11eb_be15_1065307ae51arow1_col3\" class=\"data row1 col3\" >0.92</td>\n",
              "                        <td id=\"T_efad4af4_273a_11eb_be15_1065307ae51arow1_col4\" class=\"data row1 col4\" >0.96</td>\n",
              "                        <td id=\"T_efad4af4_273a_11eb_be15_1065307ae51arow1_col5\" class=\"data row1 col5\" >0.82</td>\n",
              "                        <td id=\"T_efad4af4_273a_11eb_be15_1065307ae51arow1_col6\" class=\"data row1 col6\" >0.83</td>\n",
              "            </tr>\n",
              "            <tr>\n",
              "                        <th id=\"T_efad4af4_273a_11eb_be15_1065307ae51alevel0_row2\" class=\"row_heading level0 row2\" >2</th>\n",
              "                        <td id=\"T_efad4af4_273a_11eb_be15_1065307ae51arow2_col0\" class=\"data row2 col0\" >0.75</td>\n",
              "                        <td id=\"T_efad4af4_273a_11eb_be15_1065307ae51arow2_col1\" class=\"data row2 col1\" >0.90</td>\n",
              "                        <td id=\"T_efad4af4_273a_11eb_be15_1065307ae51arow2_col2\" class=\"data row2 col2\" >0.83</td>\n",
              "                        <td id=\"T_efad4af4_273a_11eb_be15_1065307ae51arow2_col3\" class=\"data row2 col3\" >0.83</td>\n",
              "                        <td id=\"T_efad4af4_273a_11eb_be15_1065307ae51arow2_col4\" class=\"data row2 col4\" >0.83</td>\n",
              "                        <td id=\"T_efad4af4_273a_11eb_be15_1065307ae51arow2_col5\" class=\"data row2 col5\" >0.33</td>\n",
              "                        <td id=\"T_efad4af4_273a_11eb_be15_1065307ae51arow2_col6\" class=\"data row2 col6\" >0.33</td>\n",
              "            </tr>\n",
              "            <tr>\n",
              "                        <th id=\"T_efad4af4_273a_11eb_be15_1065307ae51alevel0_row3\" class=\"row_heading level0 row3\" >3</th>\n",
              "                        <td id=\"T_efad4af4_273a_11eb_be15_1065307ae51arow3_col0\" class=\"data row3 col0\" >0.94</td>\n",
              "                        <td id=\"T_efad4af4_273a_11eb_be15_1065307ae51arow3_col1\" class=\"data row3 col1\" >1.00</td>\n",
              "                        <td id=\"T_efad4af4_273a_11eb_be15_1065307ae51arow3_col2\" class=\"data row3 col2\" >0.92</td>\n",
              "                        <td id=\"T_efad4af4_273a_11eb_be15_1065307ae51arow3_col3\" class=\"data row3 col3\" >1.00</td>\n",
              "                        <td id=\"T_efad4af4_273a_11eb_be15_1065307ae51arow3_col4\" class=\"data row3 col4\" >0.96</td>\n",
              "                        <td id=\"T_efad4af4_273a_11eb_be15_1065307ae51arow3_col5\" class=\"data row3 col5\" >0.85</td>\n",
              "                        <td id=\"T_efad4af4_273a_11eb_be15_1065307ae51arow3_col6\" class=\"data row3 col6\" >0.86</td>\n",
              "            </tr>\n",
              "            <tr>\n",
              "                        <th id=\"T_efad4af4_273a_11eb_be15_1065307ae51alevel0_row4\" class=\"row_heading level0 row4\" >4</th>\n",
              "                        <td id=\"T_efad4af4_273a_11eb_be15_1065307ae51arow4_col0\" class=\"data row4 col0\" >0.88</td>\n",
              "                        <td id=\"T_efad4af4_273a_11eb_be15_1065307ae51arow4_col1\" class=\"data row4 col1\" >0.88</td>\n",
              "                        <td id=\"T_efad4af4_273a_11eb_be15_1065307ae51arow4_col2\" class=\"data row4 col2\" >1.00</td>\n",
              "                        <td id=\"T_efad4af4_273a_11eb_be15_1065307ae51arow4_col3\" class=\"data row4 col3\" >0.86</td>\n",
              "                        <td id=\"T_efad4af4_273a_11eb_be15_1065307ae51arow4_col4\" class=\"data row4 col4\" >0.92</td>\n",
              "                        <td id=\"T_efad4af4_273a_11eb_be15_1065307ae51arow4_col5\" class=\"data row4 col5\" >0.60</td>\n",
              "                        <td id=\"T_efad4af4_273a_11eb_be15_1065307ae51arow4_col6\" class=\"data row4 col6\" >0.65</td>\n",
              "            </tr>\n",
              "            <tr>\n",
              "                        <th id=\"T_efad4af4_273a_11eb_be15_1065307ae51alevel0_row5\" class=\"row_heading level0 row5\" >5</th>\n",
              "                        <td id=\"T_efad4af4_273a_11eb_be15_1065307ae51arow5_col0\" class=\"data row5 col0\" >0.88</td>\n",
              "                        <td id=\"T_efad4af4_273a_11eb_be15_1065307ae51arow5_col1\" class=\"data row5 col1\" >0.77</td>\n",
              "                        <td id=\"T_efad4af4_273a_11eb_be15_1065307ae51arow5_col2\" class=\"data row5 col2\" >0.92</td>\n",
              "                        <td id=\"T_efad4af4_273a_11eb_be15_1065307ae51arow5_col3\" class=\"data row5 col3\" >0.92</td>\n",
              "                        <td id=\"T_efad4af4_273a_11eb_be15_1065307ae51arow5_col4\" class=\"data row5 col4\" >0.92</td>\n",
              "                        <td id=\"T_efad4af4_273a_11eb_be15_1065307ae51arow5_col5\" class=\"data row5 col5\" >0.67</td>\n",
              "                        <td id=\"T_efad4af4_273a_11eb_be15_1065307ae51arow5_col6\" class=\"data row5 col6\" >0.67</td>\n",
              "            </tr>\n",
              "            <tr>\n",
              "                        <th id=\"T_efad4af4_273a_11eb_be15_1065307ae51alevel0_row6\" class=\"row_heading level0 row6\" >6</th>\n",
              "                        <td id=\"T_efad4af4_273a_11eb_be15_1065307ae51arow6_col0\" class=\"data row6 col0\" >0.94</td>\n",
              "                        <td id=\"T_efad4af4_273a_11eb_be15_1065307ae51arow6_col1\" class=\"data row6 col1\" >1.00</td>\n",
              "                        <td id=\"T_efad4af4_273a_11eb_be15_1065307ae51arow6_col2\" class=\"data row6 col2\" >0.92</td>\n",
              "                        <td id=\"T_efad4af4_273a_11eb_be15_1065307ae51arow6_col3\" class=\"data row6 col3\" >1.00</td>\n",
              "                        <td id=\"T_efad4af4_273a_11eb_be15_1065307ae51arow6_col4\" class=\"data row6 col4\" >0.96</td>\n",
              "                        <td id=\"T_efad4af4_273a_11eb_be15_1065307ae51arow6_col5\" class=\"data row6 col5\" >0.85</td>\n",
              "                        <td id=\"T_efad4af4_273a_11eb_be15_1065307ae51arow6_col6\" class=\"data row6 col6\" >0.86</td>\n",
              "            </tr>\n",
              "            <tr>\n",
              "                        <th id=\"T_efad4af4_273a_11eb_be15_1065307ae51alevel0_row7\" class=\"row_heading level0 row7\" >7</th>\n",
              "                        <td id=\"T_efad4af4_273a_11eb_be15_1065307ae51arow7_col0\" class=\"data row7 col0\" >0.94</td>\n",
              "                        <td id=\"T_efad4af4_273a_11eb_be15_1065307ae51arow7_col1\" class=\"data row7 col1\" >0.97</td>\n",
              "                        <td id=\"T_efad4af4_273a_11eb_be15_1065307ae51arow7_col2\" class=\"data row7 col2\" >0.92</td>\n",
              "                        <td id=\"T_efad4af4_273a_11eb_be15_1065307ae51arow7_col3\" class=\"data row7 col3\" >1.00</td>\n",
              "                        <td id=\"T_efad4af4_273a_11eb_be15_1065307ae51arow7_col4\" class=\"data row7 col4\" >0.96</td>\n",
              "                        <td id=\"T_efad4af4_273a_11eb_be15_1065307ae51arow7_col5\" class=\"data row7 col5\" >0.82</td>\n",
              "                        <td id=\"T_efad4af4_273a_11eb_be15_1065307ae51arow7_col6\" class=\"data row7 col6\" >0.83</td>\n",
              "            </tr>\n",
              "            <tr>\n",
              "                        <th id=\"T_efad4af4_273a_11eb_be15_1065307ae51alevel0_row8\" class=\"row_heading level0 row8\" >Mean</th>\n",
              "                        <td id=\"T_efad4af4_273a_11eb_be15_1065307ae51arow8_col0\" class=\"data row8 col0\" >0.89</td>\n",
              "                        <td id=\"T_efad4af4_273a_11eb_be15_1065307ae51arow8_col1\" class=\"data row8 col1\" >0.92</td>\n",
              "                        <td id=\"T_efad4af4_273a_11eb_be15_1065307ae51arow8_col2\" class=\"data row8 col2\" >0.94</td>\n",
              "                        <td id=\"T_efad4af4_273a_11eb_be15_1065307ae51arow8_col3\" class=\"data row8 col3\" >0.92</td>\n",
              "                        <td id=\"T_efad4af4_273a_11eb_be15_1065307ae51arow8_col4\" class=\"data row8 col4\" >0.93</td>\n",
              "                        <td id=\"T_efad4af4_273a_11eb_be15_1065307ae51arow8_col5\" class=\"data row8 col5\" >0.69</td>\n",
              "                        <td id=\"T_efad4af4_273a_11eb_be15_1065307ae51arow8_col6\" class=\"data row8 col6\" >0.71</td>\n",
              "            </tr>\n",
              "            <tr>\n",
              "                        <th id=\"T_efad4af4_273a_11eb_be15_1065307ae51alevel0_row9\" class=\"row_heading level0 row9\" >SD</th>\n",
              "                        <td id=\"T_efad4af4_273a_11eb_be15_1065307ae51arow9_col0\" class=\"data row9 col0\" >0.06</td>\n",
              "                        <td id=\"T_efad4af4_273a_11eb_be15_1065307ae51arow9_col1\" class=\"data row9 col1\" >0.07</td>\n",
              "                        <td id=\"T_efad4af4_273a_11eb_be15_1065307ae51arow9_col2\" class=\"data row9 col2\" >0.05</td>\n",
              "                        <td id=\"T_efad4af4_273a_11eb_be15_1065307ae51arow9_col3\" class=\"data row9 col3\" >0.06</td>\n",
              "                        <td id=\"T_efad4af4_273a_11eb_be15_1065307ae51arow9_col4\" class=\"data row9 col4\" >0.04</td>\n",
              "                        <td id=\"T_efad4af4_273a_11eb_be15_1065307ae51arow9_col5\" class=\"data row9 col5\" >0.17</td>\n",
              "                        <td id=\"T_efad4af4_273a_11eb_be15_1065307ae51arow9_col6\" class=\"data row9 col6\" >0.17</td>\n",
              "            </tr>\n",
              "    </tbody></table>"
            ],
            "text/plain": [
              "<pandas.io.formats.style.Styler at 0x1e60e5ff710>"
            ]
          },
          "metadata": {},
          "output_type": "display_data"
        }
      ],
      "source": [
        "tuned_rf = tune_model(rf, optimize = 'Recall', fold = 8,round = 2)"
      ]
    },
    {
      "cell_type": "markdown",
      "metadata": {
        "id": "-W59v-nqFsqg"
      },
      "source": [
        "### ***Tuning the Catboost Classifier Model***"
      ]
    },
    {
      "cell_type": "code",
      "execution_count": null,
      "metadata": {
        "id": "e-ucv4nwFsqg",
        "outputId": "9fef44ce-170a-4444-e9b3-a1ae6ecdec49"
      },
      "outputs": [
        {
          "data": {
            "text/html": [
              "<style  type=\"text/css\" >\n",
              "#T_9698c11e_273a_11eb_ac4b_1065307ae51arow8_col0,#T_9698c11e_273a_11eb_ac4b_1065307ae51arow8_col1,#T_9698c11e_273a_11eb_ac4b_1065307ae51arow8_col2,#T_9698c11e_273a_11eb_ac4b_1065307ae51arow8_col3,#T_9698c11e_273a_11eb_ac4b_1065307ae51arow8_col4,#T_9698c11e_273a_11eb_ac4b_1065307ae51arow8_col5,#T_9698c11e_273a_11eb_ac4b_1065307ae51arow8_col6{\n",
              "            background:  yellow;\n",
              "        }</style><table id=\"T_9698c11e_273a_11eb_ac4b_1065307ae51a\" ><thead>    <tr>        <th class=\"blank level0\" ></th>        <th class=\"col_heading level0 col0\" >Accuracy</th>        <th class=\"col_heading level0 col1\" >AUC</th>        <th class=\"col_heading level0 col2\" >Recall</th>        <th class=\"col_heading level0 col3\" >Prec.</th>        <th class=\"col_heading level0 col4\" >F1</th>        <th class=\"col_heading level0 col5\" >Kappa</th>        <th class=\"col_heading level0 col6\" >MCC</th>    </tr></thead><tbody>\n",
              "                <tr>\n",
              "                        <th id=\"T_9698c11e_273a_11eb_ac4b_1065307ae51alevel0_row0\" class=\"row_heading level0 row0\" >0</th>\n",
              "                        <td id=\"T_9698c11e_273a_11eb_ac4b_1065307ae51arow0_col0\" class=\"data row0 col0\" >0.76</td>\n",
              "                        <td id=\"T_9698c11e_273a_11eb_ac4b_1065307ae51arow0_col1\" class=\"data row0 col1\" >0.81</td>\n",
              "                        <td id=\"T_9698c11e_273a_11eb_ac4b_1065307ae51arow0_col2\" class=\"data row0 col2\" >0.85</td>\n",
              "                        <td id=\"T_9698c11e_273a_11eb_ac4b_1065307ae51arow0_col3\" class=\"data row0 col3\" >0.85</td>\n",
              "                        <td id=\"T_9698c11e_273a_11eb_ac4b_1065307ae51arow0_col4\" class=\"data row0 col4\" >0.85</td>\n",
              "                        <td id=\"T_9698c11e_273a_11eb_ac4b_1065307ae51arow0_col5\" class=\"data row0 col5\" >0.35</td>\n",
              "                        <td id=\"T_9698c11e_273a_11eb_ac4b_1065307ae51arow0_col6\" class=\"data row0 col6\" >0.35</td>\n",
              "            </tr>\n",
              "            <tr>\n",
              "                        <th id=\"T_9698c11e_273a_11eb_ac4b_1065307ae51alevel0_row1\" class=\"row_heading level0 row1\" >1</th>\n",
              "                        <td id=\"T_9698c11e_273a_11eb_ac4b_1065307ae51arow1_col0\" class=\"data row1 col0\" >0.81</td>\n",
              "                        <td id=\"T_9698c11e_273a_11eb_ac4b_1065307ae51arow1_col1\" class=\"data row1 col1\" >0.88</td>\n",
              "                        <td id=\"T_9698c11e_273a_11eb_ac4b_1065307ae51arow1_col2\" class=\"data row1 col2\" >0.83</td>\n",
              "                        <td id=\"T_9698c11e_273a_11eb_ac4b_1065307ae51arow1_col3\" class=\"data row1 col3\" >0.91</td>\n",
              "                        <td id=\"T_9698c11e_273a_11eb_ac4b_1065307ae51arow1_col4\" class=\"data row1 col4\" >0.87</td>\n",
              "                        <td id=\"T_9698c11e_273a_11eb_ac4b_1065307ae51arow1_col5\" class=\"data row1 col5\" >0.54</td>\n",
              "                        <td id=\"T_9698c11e_273a_11eb_ac4b_1065307ae51arow1_col6\" class=\"data row1 col6\" >0.54</td>\n",
              "            </tr>\n",
              "            <tr>\n",
              "                        <th id=\"T_9698c11e_273a_11eb_ac4b_1065307ae51alevel0_row2\" class=\"row_heading level0 row2\" >2</th>\n",
              "                        <td id=\"T_9698c11e_273a_11eb_ac4b_1065307ae51arow2_col0\" class=\"data row2 col0\" >0.75</td>\n",
              "                        <td id=\"T_9698c11e_273a_11eb_ac4b_1065307ae51arow2_col1\" class=\"data row2 col1\" >0.88</td>\n",
              "                        <td id=\"T_9698c11e_273a_11eb_ac4b_1065307ae51arow2_col2\" class=\"data row2 col2\" >0.75</td>\n",
              "                        <td id=\"T_9698c11e_273a_11eb_ac4b_1065307ae51arow2_col3\" class=\"data row2 col3\" >0.90</td>\n",
              "                        <td id=\"T_9698c11e_273a_11eb_ac4b_1065307ae51arow2_col4\" class=\"data row2 col4\" >0.82</td>\n",
              "                        <td id=\"T_9698c11e_273a_11eb_ac4b_1065307ae51arow2_col5\" class=\"data row2 col5\" >0.43</td>\n",
              "                        <td id=\"T_9698c11e_273a_11eb_ac4b_1065307ae51arow2_col6\" class=\"data row2 col6\" >0.45</td>\n",
              "            </tr>\n",
              "            <tr>\n",
              "                        <th id=\"T_9698c11e_273a_11eb_ac4b_1065307ae51alevel0_row3\" class=\"row_heading level0 row3\" >3</th>\n",
              "                        <td id=\"T_9698c11e_273a_11eb_ac4b_1065307ae51arow3_col0\" class=\"data row3 col0\" >0.88</td>\n",
              "                        <td id=\"T_9698c11e_273a_11eb_ac4b_1065307ae51arow3_col1\" class=\"data row3 col1\" >0.96</td>\n",
              "                        <td id=\"T_9698c11e_273a_11eb_ac4b_1065307ae51arow3_col2\" class=\"data row3 col2\" >0.83</td>\n",
              "                        <td id=\"T_9698c11e_273a_11eb_ac4b_1065307ae51arow3_col3\" class=\"data row3 col3\" >1.00</td>\n",
              "                        <td id=\"T_9698c11e_273a_11eb_ac4b_1065307ae51arow3_col4\" class=\"data row3 col4\" >0.91</td>\n",
              "                        <td id=\"T_9698c11e_273a_11eb_ac4b_1065307ae51arow3_col5\" class=\"data row3 col5\" >0.71</td>\n",
              "                        <td id=\"T_9698c11e_273a_11eb_ac4b_1065307ae51arow3_col6\" class=\"data row3 col6\" >0.75</td>\n",
              "            </tr>\n",
              "            <tr>\n",
              "                        <th id=\"T_9698c11e_273a_11eb_ac4b_1065307ae51alevel0_row4\" class=\"row_heading level0 row4\" >4</th>\n",
              "                        <td id=\"T_9698c11e_273a_11eb_ac4b_1065307ae51arow4_col0\" class=\"data row4 col0\" >0.75</td>\n",
              "                        <td id=\"T_9698c11e_273a_11eb_ac4b_1065307ae51arow4_col1\" class=\"data row4 col1\" >0.79</td>\n",
              "                        <td id=\"T_9698c11e_273a_11eb_ac4b_1065307ae51arow4_col2\" class=\"data row4 col2\" >0.83</td>\n",
              "                        <td id=\"T_9698c11e_273a_11eb_ac4b_1065307ae51arow4_col3\" class=\"data row4 col3\" >0.83</td>\n",
              "                        <td id=\"T_9698c11e_273a_11eb_ac4b_1065307ae51arow4_col4\" class=\"data row4 col4\" >0.83</td>\n",
              "                        <td id=\"T_9698c11e_273a_11eb_ac4b_1065307ae51arow4_col5\" class=\"data row4 col5\" >0.33</td>\n",
              "                        <td id=\"T_9698c11e_273a_11eb_ac4b_1065307ae51arow4_col6\" class=\"data row4 col6\" >0.33</td>\n",
              "            </tr>\n",
              "            <tr>\n",
              "                        <th id=\"T_9698c11e_273a_11eb_ac4b_1065307ae51alevel0_row5\" class=\"row_heading level0 row5\" >5</th>\n",
              "                        <td id=\"T_9698c11e_273a_11eb_ac4b_1065307ae51arow5_col0\" class=\"data row5 col0\" >0.81</td>\n",
              "                        <td id=\"T_9698c11e_273a_11eb_ac4b_1065307ae51arow5_col1\" class=\"data row5 col1\" >0.83</td>\n",
              "                        <td id=\"T_9698c11e_273a_11eb_ac4b_1065307ae51arow5_col2\" class=\"data row5 col2\" >0.83</td>\n",
              "                        <td id=\"T_9698c11e_273a_11eb_ac4b_1065307ae51arow5_col3\" class=\"data row5 col3\" >0.91</td>\n",
              "                        <td id=\"T_9698c11e_273a_11eb_ac4b_1065307ae51arow5_col4\" class=\"data row5 col4\" >0.87</td>\n",
              "                        <td id=\"T_9698c11e_273a_11eb_ac4b_1065307ae51arow5_col5\" class=\"data row5 col5\" >0.54</td>\n",
              "                        <td id=\"T_9698c11e_273a_11eb_ac4b_1065307ae51arow5_col6\" class=\"data row5 col6\" >0.54</td>\n",
              "            </tr>\n",
              "            <tr>\n",
              "                        <th id=\"T_9698c11e_273a_11eb_ac4b_1065307ae51alevel0_row6\" class=\"row_heading level0 row6\" >6</th>\n",
              "                        <td id=\"T_9698c11e_273a_11eb_ac4b_1065307ae51arow6_col0\" class=\"data row6 col0\" >0.88</td>\n",
              "                        <td id=\"T_9698c11e_273a_11eb_ac4b_1065307ae51arow6_col1\" class=\"data row6 col1\" >1.00</td>\n",
              "                        <td id=\"T_9698c11e_273a_11eb_ac4b_1065307ae51arow6_col2\" class=\"data row6 col2\" >0.83</td>\n",
              "                        <td id=\"T_9698c11e_273a_11eb_ac4b_1065307ae51arow6_col3\" class=\"data row6 col3\" >1.00</td>\n",
              "                        <td id=\"T_9698c11e_273a_11eb_ac4b_1065307ae51arow6_col4\" class=\"data row6 col4\" >0.91</td>\n",
              "                        <td id=\"T_9698c11e_273a_11eb_ac4b_1065307ae51arow6_col5\" class=\"data row6 col5\" >0.71</td>\n",
              "                        <td id=\"T_9698c11e_273a_11eb_ac4b_1065307ae51arow6_col6\" class=\"data row6 col6\" >0.75</td>\n",
              "            </tr>\n",
              "            <tr>\n",
              "                        <th id=\"T_9698c11e_273a_11eb_ac4b_1065307ae51alevel0_row7\" class=\"row_heading level0 row7\" >7</th>\n",
              "                        <td id=\"T_9698c11e_273a_11eb_ac4b_1065307ae51arow7_col0\" class=\"data row7 col0\" >0.75</td>\n",
              "                        <td id=\"T_9698c11e_273a_11eb_ac4b_1065307ae51arow7_col1\" class=\"data row7 col1\" >0.92</td>\n",
              "                        <td id=\"T_9698c11e_273a_11eb_ac4b_1065307ae51arow7_col2\" class=\"data row7 col2\" >0.77</td>\n",
              "                        <td id=\"T_9698c11e_273a_11eb_ac4b_1065307ae51arow7_col3\" class=\"data row7 col3\" >0.91</td>\n",
              "                        <td id=\"T_9698c11e_273a_11eb_ac4b_1065307ae51arow7_col4\" class=\"data row7 col4\" >0.83</td>\n",
              "                        <td id=\"T_9698c11e_273a_11eb_ac4b_1065307ae51arow7_col5\" class=\"data row7 col5\" >0.35</td>\n",
              "                        <td id=\"T_9698c11e_273a_11eb_ac4b_1065307ae51arow7_col6\" class=\"data row7 col6\" >0.37</td>\n",
              "            </tr>\n",
              "            <tr>\n",
              "                        <th id=\"T_9698c11e_273a_11eb_ac4b_1065307ae51alevel0_row8\" class=\"row_heading level0 row8\" >Mean</th>\n",
              "                        <td id=\"T_9698c11e_273a_11eb_ac4b_1065307ae51arow8_col0\" class=\"data row8 col0\" >0.80</td>\n",
              "                        <td id=\"T_9698c11e_273a_11eb_ac4b_1065307ae51arow8_col1\" class=\"data row8 col1\" >0.88</td>\n",
              "                        <td id=\"T_9698c11e_273a_11eb_ac4b_1065307ae51arow8_col2\" class=\"data row8 col2\" >0.82</td>\n",
              "                        <td id=\"T_9698c11e_273a_11eb_ac4b_1065307ae51arow8_col3\" class=\"data row8 col3\" >0.91</td>\n",
              "                        <td id=\"T_9698c11e_273a_11eb_ac4b_1065307ae51arow8_col4\" class=\"data row8 col4\" >0.86</td>\n",
              "                        <td id=\"T_9698c11e_273a_11eb_ac4b_1065307ae51arow8_col5\" class=\"data row8 col5\" >0.50</td>\n",
              "                        <td id=\"T_9698c11e_273a_11eb_ac4b_1065307ae51arow8_col6\" class=\"data row8 col6\" >0.51</td>\n",
              "            </tr>\n",
              "            <tr>\n",
              "                        <th id=\"T_9698c11e_273a_11eb_ac4b_1065307ae51alevel0_row9\" class=\"row_heading level0 row9\" >SD</th>\n",
              "                        <td id=\"T_9698c11e_273a_11eb_ac4b_1065307ae51arow9_col0\" class=\"data row9 col0\" >0.05</td>\n",
              "                        <td id=\"T_9698c11e_273a_11eb_ac4b_1065307ae51arow9_col1\" class=\"data row9 col1\" >0.07</td>\n",
              "                        <td id=\"T_9698c11e_273a_11eb_ac4b_1065307ae51arow9_col2\" class=\"data row9 col2\" >0.03</td>\n",
              "                        <td id=\"T_9698c11e_273a_11eb_ac4b_1065307ae51arow9_col3\" class=\"data row9 col3\" >0.06</td>\n",
              "                        <td id=\"T_9698c11e_273a_11eb_ac4b_1065307ae51arow9_col4\" class=\"data row9 col4\" >0.03</td>\n",
              "                        <td id=\"T_9698c11e_273a_11eb_ac4b_1065307ae51arow9_col5\" class=\"data row9 col5\" >0.15</td>\n",
              "                        <td id=\"T_9698c11e_273a_11eb_ac4b_1065307ae51arow9_col6\" class=\"data row9 col6\" >0.16</td>\n",
              "            </tr>\n",
              "    </tbody></table>"
            ],
            "text/plain": [
              "<pandas.io.formats.style.Styler at 0x1e60a3fc978>"
            ]
          },
          "metadata": {},
          "output_type": "display_data"
        }
      ],
      "source": [
        "tuned_catboost = tune_model(catboost, optimize = 'Recall', fold = 8,round = 2)"
      ]
    },
    {
      "cell_type": "markdown",
      "metadata": {
        "id": "yLNmXqqDFsqg"
      },
      "source": [
        "### ***Tuning the Gradient Boosting Classifier Model***"
      ]
    },
    {
      "cell_type": "code",
      "execution_count": null,
      "metadata": {
        "id": "wwdpo6X0Fsqg",
        "outputId": "2f7e6bb1-af40-428c-df37-30bbaaf7460b"
      },
      "outputs": [
        {
          "data": {
            "text/html": [
              "<style  type=\"text/css\" >\n",
              "#T_9c97e5ec_273a_11eb_acea_1065307ae51arow8_col0,#T_9c97e5ec_273a_11eb_acea_1065307ae51arow8_col1,#T_9c97e5ec_273a_11eb_acea_1065307ae51arow8_col2,#T_9c97e5ec_273a_11eb_acea_1065307ae51arow8_col3,#T_9c97e5ec_273a_11eb_acea_1065307ae51arow8_col4,#T_9c97e5ec_273a_11eb_acea_1065307ae51arow8_col5,#T_9c97e5ec_273a_11eb_acea_1065307ae51arow8_col6{\n",
              "            background:  yellow;\n",
              "        }</style><table id=\"T_9c97e5ec_273a_11eb_acea_1065307ae51a\" ><thead>    <tr>        <th class=\"blank level0\" ></th>        <th class=\"col_heading level0 col0\" >Accuracy</th>        <th class=\"col_heading level0 col1\" >AUC</th>        <th class=\"col_heading level0 col2\" >Recall</th>        <th class=\"col_heading level0 col3\" >Prec.</th>        <th class=\"col_heading level0 col4\" >F1</th>        <th class=\"col_heading level0 col5\" >Kappa</th>        <th class=\"col_heading level0 col6\" >MCC</th>    </tr></thead><tbody>\n",
              "                <tr>\n",
              "                        <th id=\"T_9c97e5ec_273a_11eb_acea_1065307ae51alevel0_row0\" class=\"row_heading level0 row0\" >0</th>\n",
              "                        <td id=\"T_9c97e5ec_273a_11eb_acea_1065307ae51arow0_col0\" class=\"data row0 col0\" >1.00</td>\n",
              "                        <td id=\"T_9c97e5ec_273a_11eb_acea_1065307ae51arow0_col1\" class=\"data row0 col1\" >1.00</td>\n",
              "                        <td id=\"T_9c97e5ec_273a_11eb_acea_1065307ae51arow0_col2\" class=\"data row0 col2\" >1.00</td>\n",
              "                        <td id=\"T_9c97e5ec_273a_11eb_acea_1065307ae51arow0_col3\" class=\"data row0 col3\" >1.00</td>\n",
              "                        <td id=\"T_9c97e5ec_273a_11eb_acea_1065307ae51arow0_col4\" class=\"data row0 col4\" >1.00</td>\n",
              "                        <td id=\"T_9c97e5ec_273a_11eb_acea_1065307ae51arow0_col5\" class=\"data row0 col5\" >1.00</td>\n",
              "                        <td id=\"T_9c97e5ec_273a_11eb_acea_1065307ae51arow0_col6\" class=\"data row0 col6\" >1.00</td>\n",
              "            </tr>\n",
              "            <tr>\n",
              "                        <th id=\"T_9c97e5ec_273a_11eb_acea_1065307ae51alevel0_row1\" class=\"row_heading level0 row1\" >1</th>\n",
              "                        <td id=\"T_9c97e5ec_273a_11eb_acea_1065307ae51arow1_col0\" class=\"data row1 col0\" >0.94</td>\n",
              "                        <td id=\"T_9c97e5ec_273a_11eb_acea_1065307ae51arow1_col1\" class=\"data row1 col1\" >0.98</td>\n",
              "                        <td id=\"T_9c97e5ec_273a_11eb_acea_1065307ae51arow1_col2\" class=\"data row1 col2\" >1.00</td>\n",
              "                        <td id=\"T_9c97e5ec_273a_11eb_acea_1065307ae51arow1_col3\" class=\"data row1 col3\" >0.92</td>\n",
              "                        <td id=\"T_9c97e5ec_273a_11eb_acea_1065307ae51arow1_col4\" class=\"data row1 col4\" >0.96</td>\n",
              "                        <td id=\"T_9c97e5ec_273a_11eb_acea_1065307ae51arow1_col5\" class=\"data row1 col5\" >0.82</td>\n",
              "                        <td id=\"T_9c97e5ec_273a_11eb_acea_1065307ae51arow1_col6\" class=\"data row1 col6\" >0.83</td>\n",
              "            </tr>\n",
              "            <tr>\n",
              "                        <th id=\"T_9c97e5ec_273a_11eb_acea_1065307ae51alevel0_row2\" class=\"row_heading level0 row2\" >2</th>\n",
              "                        <td id=\"T_9c97e5ec_273a_11eb_acea_1065307ae51arow2_col0\" class=\"data row2 col0\" >0.88</td>\n",
              "                        <td id=\"T_9c97e5ec_273a_11eb_acea_1065307ae51arow2_col1\" class=\"data row2 col1\" >0.98</td>\n",
              "                        <td id=\"T_9c97e5ec_273a_11eb_acea_1065307ae51arow2_col2\" class=\"data row2 col2\" >0.83</td>\n",
              "                        <td id=\"T_9c97e5ec_273a_11eb_acea_1065307ae51arow2_col3\" class=\"data row2 col3\" >1.00</td>\n",
              "                        <td id=\"T_9c97e5ec_273a_11eb_acea_1065307ae51arow2_col4\" class=\"data row2 col4\" >0.91</td>\n",
              "                        <td id=\"T_9c97e5ec_273a_11eb_acea_1065307ae51arow2_col5\" class=\"data row2 col5\" >0.71</td>\n",
              "                        <td id=\"T_9c97e5ec_273a_11eb_acea_1065307ae51arow2_col6\" class=\"data row2 col6\" >0.75</td>\n",
              "            </tr>\n",
              "            <tr>\n",
              "                        <th id=\"T_9c97e5ec_273a_11eb_acea_1065307ae51alevel0_row3\" class=\"row_heading level0 row3\" >3</th>\n",
              "                        <td id=\"T_9c97e5ec_273a_11eb_acea_1065307ae51arow3_col0\" class=\"data row3 col0\" >0.94</td>\n",
              "                        <td id=\"T_9c97e5ec_273a_11eb_acea_1065307ae51arow3_col1\" class=\"data row3 col1\" >0.98</td>\n",
              "                        <td id=\"T_9c97e5ec_273a_11eb_acea_1065307ae51arow3_col2\" class=\"data row3 col2\" >0.92</td>\n",
              "                        <td id=\"T_9c97e5ec_273a_11eb_acea_1065307ae51arow3_col3\" class=\"data row3 col3\" >1.00</td>\n",
              "                        <td id=\"T_9c97e5ec_273a_11eb_acea_1065307ae51arow3_col4\" class=\"data row3 col4\" >0.96</td>\n",
              "                        <td id=\"T_9c97e5ec_273a_11eb_acea_1065307ae51arow3_col5\" class=\"data row3 col5\" >0.85</td>\n",
              "                        <td id=\"T_9c97e5ec_273a_11eb_acea_1065307ae51arow3_col6\" class=\"data row3 col6\" >0.86</td>\n",
              "            </tr>\n",
              "            <tr>\n",
              "                        <th id=\"T_9c97e5ec_273a_11eb_acea_1065307ae51alevel0_row4\" class=\"row_heading level0 row4\" >4</th>\n",
              "                        <td id=\"T_9c97e5ec_273a_11eb_acea_1065307ae51arow4_col0\" class=\"data row4 col0\" >0.94</td>\n",
              "                        <td id=\"T_9c97e5ec_273a_11eb_acea_1065307ae51arow4_col1\" class=\"data row4 col1\" >0.94</td>\n",
              "                        <td id=\"T_9c97e5ec_273a_11eb_acea_1065307ae51arow4_col2\" class=\"data row4 col2\" >1.00</td>\n",
              "                        <td id=\"T_9c97e5ec_273a_11eb_acea_1065307ae51arow4_col3\" class=\"data row4 col3\" >0.92</td>\n",
              "                        <td id=\"T_9c97e5ec_273a_11eb_acea_1065307ae51arow4_col4\" class=\"data row4 col4\" >0.96</td>\n",
              "                        <td id=\"T_9c97e5ec_273a_11eb_acea_1065307ae51arow4_col5\" class=\"data row4 col5\" >0.82</td>\n",
              "                        <td id=\"T_9c97e5ec_273a_11eb_acea_1065307ae51arow4_col6\" class=\"data row4 col6\" >0.83</td>\n",
              "            </tr>\n",
              "            <tr>\n",
              "                        <th id=\"T_9c97e5ec_273a_11eb_acea_1065307ae51alevel0_row5\" class=\"row_heading level0 row5\" >5</th>\n",
              "                        <td id=\"T_9c97e5ec_273a_11eb_acea_1065307ae51arow5_col0\" class=\"data row5 col0\" >0.88</td>\n",
              "                        <td id=\"T_9c97e5ec_273a_11eb_acea_1065307ae51arow5_col1\" class=\"data row5 col1\" >0.85</td>\n",
              "                        <td id=\"T_9c97e5ec_273a_11eb_acea_1065307ae51arow5_col2\" class=\"data row5 col2\" >0.92</td>\n",
              "                        <td id=\"T_9c97e5ec_273a_11eb_acea_1065307ae51arow5_col3\" class=\"data row5 col3\" >0.92</td>\n",
              "                        <td id=\"T_9c97e5ec_273a_11eb_acea_1065307ae51arow5_col4\" class=\"data row5 col4\" >0.92</td>\n",
              "                        <td id=\"T_9c97e5ec_273a_11eb_acea_1065307ae51arow5_col5\" class=\"data row5 col5\" >0.67</td>\n",
              "                        <td id=\"T_9c97e5ec_273a_11eb_acea_1065307ae51arow5_col6\" class=\"data row5 col6\" >0.67</td>\n",
              "            </tr>\n",
              "            <tr>\n",
              "                        <th id=\"T_9c97e5ec_273a_11eb_acea_1065307ae51alevel0_row6\" class=\"row_heading level0 row6\" >6</th>\n",
              "                        <td id=\"T_9c97e5ec_273a_11eb_acea_1065307ae51arow6_col0\" class=\"data row6 col0\" >0.94</td>\n",
              "                        <td id=\"T_9c97e5ec_273a_11eb_acea_1065307ae51arow6_col1\" class=\"data row6 col1\" >0.96</td>\n",
              "                        <td id=\"T_9c97e5ec_273a_11eb_acea_1065307ae51arow6_col2\" class=\"data row6 col2\" >0.92</td>\n",
              "                        <td id=\"T_9c97e5ec_273a_11eb_acea_1065307ae51arow6_col3\" class=\"data row6 col3\" >1.00</td>\n",
              "                        <td id=\"T_9c97e5ec_273a_11eb_acea_1065307ae51arow6_col4\" class=\"data row6 col4\" >0.96</td>\n",
              "                        <td id=\"T_9c97e5ec_273a_11eb_acea_1065307ae51arow6_col5\" class=\"data row6 col5\" >0.85</td>\n",
              "                        <td id=\"T_9c97e5ec_273a_11eb_acea_1065307ae51arow6_col6\" class=\"data row6 col6\" >0.86</td>\n",
              "            </tr>\n",
              "            <tr>\n",
              "                        <th id=\"T_9c97e5ec_273a_11eb_acea_1065307ae51alevel0_row7\" class=\"row_heading level0 row7\" >7</th>\n",
              "                        <td id=\"T_9c97e5ec_273a_11eb_acea_1065307ae51arow7_col0\" class=\"data row7 col0\" >0.88</td>\n",
              "                        <td id=\"T_9c97e5ec_273a_11eb_acea_1065307ae51arow7_col1\" class=\"data row7 col1\" >0.97</td>\n",
              "                        <td id=\"T_9c97e5ec_273a_11eb_acea_1065307ae51arow7_col2\" class=\"data row7 col2\" >0.85</td>\n",
              "                        <td id=\"T_9c97e5ec_273a_11eb_acea_1065307ae51arow7_col3\" class=\"data row7 col3\" >1.00</td>\n",
              "                        <td id=\"T_9c97e5ec_273a_11eb_acea_1065307ae51arow7_col4\" class=\"data row7 col4\" >0.92</td>\n",
              "                        <td id=\"T_9c97e5ec_273a_11eb_acea_1065307ae51arow7_col5\" class=\"data row7 col5\" >0.67</td>\n",
              "                        <td id=\"T_9c97e5ec_273a_11eb_acea_1065307ae51arow7_col6\" class=\"data row7 col6\" >0.71</td>\n",
              "            </tr>\n",
              "            <tr>\n",
              "                        <th id=\"T_9c97e5ec_273a_11eb_acea_1065307ae51alevel0_row8\" class=\"row_heading level0 row8\" >Mean</th>\n",
              "                        <td id=\"T_9c97e5ec_273a_11eb_acea_1065307ae51arow8_col0\" class=\"data row8 col0\" >0.92</td>\n",
              "                        <td id=\"T_9c97e5ec_273a_11eb_acea_1065307ae51arow8_col1\" class=\"data row8 col1\" >0.96</td>\n",
              "                        <td id=\"T_9c97e5ec_273a_11eb_acea_1065307ae51arow8_col2\" class=\"data row8 col2\" >0.93</td>\n",
              "                        <td id=\"T_9c97e5ec_273a_11eb_acea_1065307ae51arow8_col3\" class=\"data row8 col3\" >0.97</td>\n",
              "                        <td id=\"T_9c97e5ec_273a_11eb_acea_1065307ae51arow8_col4\" class=\"data row8 col4\" >0.95</td>\n",
              "                        <td id=\"T_9c97e5ec_273a_11eb_acea_1065307ae51arow8_col5\" class=\"data row8 col5\" >0.80</td>\n",
              "                        <td id=\"T_9c97e5ec_273a_11eb_acea_1065307ae51arow8_col6\" class=\"data row8 col6\" >0.81</td>\n",
              "            </tr>\n",
              "            <tr>\n",
              "                        <th id=\"T_9c97e5ec_273a_11eb_acea_1065307ae51alevel0_row9\" class=\"row_heading level0 row9\" >SD</th>\n",
              "                        <td id=\"T_9c97e5ec_273a_11eb_acea_1065307ae51arow9_col0\" class=\"data row9 col0\" >0.04</td>\n",
              "                        <td id=\"T_9c97e5ec_273a_11eb_acea_1065307ae51arow9_col1\" class=\"data row9 col1\" >0.04</td>\n",
              "                        <td id=\"T_9c97e5ec_273a_11eb_acea_1065307ae51arow9_col2\" class=\"data row9 col2\" >0.06</td>\n",
              "                        <td id=\"T_9c97e5ec_273a_11eb_acea_1065307ae51arow9_col3\" class=\"data row9 col3\" >0.04</td>\n",
              "                        <td id=\"T_9c97e5ec_273a_11eb_acea_1065307ae51arow9_col4\" class=\"data row9 col4\" >0.03</td>\n",
              "                        <td id=\"T_9c97e5ec_273a_11eb_acea_1065307ae51arow9_col5\" class=\"data row9 col5\" >0.10</td>\n",
              "                        <td id=\"T_9c97e5ec_273a_11eb_acea_1065307ae51arow9_col6\" class=\"data row9 col6\" >0.10</td>\n",
              "            </tr>\n",
              "    </tbody></table>"
            ],
            "text/plain": [
              "<pandas.io.formats.style.Styler at 0x1e60bc52710>"
            ]
          },
          "metadata": {},
          "output_type": "display_data"
        }
      ],
      "source": [
        "tuned_gbc = tune_model(gbc, optimize = 'Recall', fold = 8,round = 2)"
      ]
    },
    {
      "cell_type": "markdown",
      "metadata": {
        "id": "707nMhiTFsqg"
      },
      "source": [
        "### ***Tuning the Light GBM Classifier Model***"
      ]
    },
    {
      "cell_type": "code",
      "execution_count": null,
      "metadata": {
        "scrolled": true,
        "id": "4vgujHjZFsqg",
        "outputId": "2ba83a3a-e142-4647-84fd-0abd39e89a62"
      },
      "outputs": [
        {
          "data": {
            "text/html": [
              "<style  type=\"text/css\" >\n",
              "#T_a3c2c580_273a_11eb_a6d5_1065307ae51arow8_col0,#T_a3c2c580_273a_11eb_a6d5_1065307ae51arow8_col1,#T_a3c2c580_273a_11eb_a6d5_1065307ae51arow8_col2,#T_a3c2c580_273a_11eb_a6d5_1065307ae51arow8_col3,#T_a3c2c580_273a_11eb_a6d5_1065307ae51arow8_col4,#T_a3c2c580_273a_11eb_a6d5_1065307ae51arow8_col5,#T_a3c2c580_273a_11eb_a6d5_1065307ae51arow8_col6{\n",
              "            background:  yellow;\n",
              "        }</style><table id=\"T_a3c2c580_273a_11eb_a6d5_1065307ae51a\" ><thead>    <tr>        <th class=\"blank level0\" ></th>        <th class=\"col_heading level0 col0\" >Accuracy</th>        <th class=\"col_heading level0 col1\" >AUC</th>        <th class=\"col_heading level0 col2\" >Recall</th>        <th class=\"col_heading level0 col3\" >Prec.</th>        <th class=\"col_heading level0 col4\" >F1</th>        <th class=\"col_heading level0 col5\" >Kappa</th>        <th class=\"col_heading level0 col6\" >MCC</th>    </tr></thead><tbody>\n",
              "                <tr>\n",
              "                        <th id=\"T_a3c2c580_273a_11eb_a6d5_1065307ae51alevel0_row0\" class=\"row_heading level0 row0\" >0</th>\n",
              "                        <td id=\"T_a3c2c580_273a_11eb_a6d5_1065307ae51arow0_col0\" class=\"data row0 col0\" >0.82</td>\n",
              "                        <td id=\"T_a3c2c580_273a_11eb_a6d5_1065307ae51arow0_col1\" class=\"data row0 col1\" >0.77</td>\n",
              "                        <td id=\"T_a3c2c580_273a_11eb_a6d5_1065307ae51arow0_col2\" class=\"data row0 col2\" >0.92</td>\n",
              "                        <td id=\"T_a3c2c580_273a_11eb_a6d5_1065307ae51arow0_col3\" class=\"data row0 col3\" >0.86</td>\n",
              "                        <td id=\"T_a3c2c580_273a_11eb_a6d5_1065307ae51arow0_col4\" class=\"data row0 col4\" >0.89</td>\n",
              "                        <td id=\"T_a3c2c580_273a_11eb_a6d5_1065307ae51arow0_col5\" class=\"data row0 col5\" >0.46</td>\n",
              "                        <td id=\"T_a3c2c580_273a_11eb_a6d5_1065307ae51arow0_col6\" class=\"data row0 col6\" >0.47</td>\n",
              "            </tr>\n",
              "            <tr>\n",
              "                        <th id=\"T_a3c2c580_273a_11eb_a6d5_1065307ae51alevel0_row1\" class=\"row_heading level0 row1\" >1</th>\n",
              "                        <td id=\"T_a3c2c580_273a_11eb_a6d5_1065307ae51arow1_col0\" class=\"data row1 col0\" >0.88</td>\n",
              "                        <td id=\"T_a3c2c580_273a_11eb_a6d5_1065307ae51arow1_col1\" class=\"data row1 col1\" >0.90</td>\n",
              "                        <td id=\"T_a3c2c580_273a_11eb_a6d5_1065307ae51arow1_col2\" class=\"data row1 col2\" >0.92</td>\n",
              "                        <td id=\"T_a3c2c580_273a_11eb_a6d5_1065307ae51arow1_col3\" class=\"data row1 col3\" >0.92</td>\n",
              "                        <td id=\"T_a3c2c580_273a_11eb_a6d5_1065307ae51arow1_col4\" class=\"data row1 col4\" >0.92</td>\n",
              "                        <td id=\"T_a3c2c580_273a_11eb_a6d5_1065307ae51arow1_col5\" class=\"data row1 col5\" >0.67</td>\n",
              "                        <td id=\"T_a3c2c580_273a_11eb_a6d5_1065307ae51arow1_col6\" class=\"data row1 col6\" >0.67</td>\n",
              "            </tr>\n",
              "            <tr>\n",
              "                        <th id=\"T_a3c2c580_273a_11eb_a6d5_1065307ae51alevel0_row2\" class=\"row_heading level0 row2\" >2</th>\n",
              "                        <td id=\"T_a3c2c580_273a_11eb_a6d5_1065307ae51arow2_col0\" class=\"data row2 col0\" >0.94</td>\n",
              "                        <td id=\"T_a3c2c580_273a_11eb_a6d5_1065307ae51arow2_col1\" class=\"data row2 col1\" >0.92</td>\n",
              "                        <td id=\"T_a3c2c580_273a_11eb_a6d5_1065307ae51arow2_col2\" class=\"data row2 col2\" >1.00</td>\n",
              "                        <td id=\"T_a3c2c580_273a_11eb_a6d5_1065307ae51arow2_col3\" class=\"data row2 col3\" >0.92</td>\n",
              "                        <td id=\"T_a3c2c580_273a_11eb_a6d5_1065307ae51arow2_col4\" class=\"data row2 col4\" >0.96</td>\n",
              "                        <td id=\"T_a3c2c580_273a_11eb_a6d5_1065307ae51arow2_col5\" class=\"data row2 col5\" >0.82</td>\n",
              "                        <td id=\"T_a3c2c580_273a_11eb_a6d5_1065307ae51arow2_col6\" class=\"data row2 col6\" >0.83</td>\n",
              "            </tr>\n",
              "            <tr>\n",
              "                        <th id=\"T_a3c2c580_273a_11eb_a6d5_1065307ae51alevel0_row3\" class=\"row_heading level0 row3\" >3</th>\n",
              "                        <td id=\"T_a3c2c580_273a_11eb_a6d5_1065307ae51arow3_col0\" class=\"data row3 col0\" >0.81</td>\n",
              "                        <td id=\"T_a3c2c580_273a_11eb_a6d5_1065307ae51arow3_col1\" class=\"data row3 col1\" >0.96</td>\n",
              "                        <td id=\"T_a3c2c580_273a_11eb_a6d5_1065307ae51arow3_col2\" class=\"data row3 col2\" >0.75</td>\n",
              "                        <td id=\"T_a3c2c580_273a_11eb_a6d5_1065307ae51arow3_col3\" class=\"data row3 col3\" >1.00</td>\n",
              "                        <td id=\"T_a3c2c580_273a_11eb_a6d5_1065307ae51arow3_col4\" class=\"data row3 col4\" >0.86</td>\n",
              "                        <td id=\"T_a3c2c580_273a_11eb_a6d5_1065307ae51arow3_col5\" class=\"data row3 col5\" >0.60</td>\n",
              "                        <td id=\"T_a3c2c580_273a_11eb_a6d5_1065307ae51arow3_col6\" class=\"data row3 col6\" >0.65</td>\n",
              "            </tr>\n",
              "            <tr>\n",
              "                        <th id=\"T_a3c2c580_273a_11eb_a6d5_1065307ae51alevel0_row4\" class=\"row_heading level0 row4\" >4</th>\n",
              "                        <td id=\"T_a3c2c580_273a_11eb_a6d5_1065307ae51arow4_col0\" class=\"data row4 col0\" >0.75</td>\n",
              "                        <td id=\"T_a3c2c580_273a_11eb_a6d5_1065307ae51arow4_col1\" class=\"data row4 col1\" >0.73</td>\n",
              "                        <td id=\"T_a3c2c580_273a_11eb_a6d5_1065307ae51arow4_col2\" class=\"data row4 col2\" >0.83</td>\n",
              "                        <td id=\"T_a3c2c580_273a_11eb_a6d5_1065307ae51arow4_col3\" class=\"data row4 col3\" >0.83</td>\n",
              "                        <td id=\"T_a3c2c580_273a_11eb_a6d5_1065307ae51arow4_col4\" class=\"data row4 col4\" >0.83</td>\n",
              "                        <td id=\"T_a3c2c580_273a_11eb_a6d5_1065307ae51arow4_col5\" class=\"data row4 col5\" >0.33</td>\n",
              "                        <td id=\"T_a3c2c580_273a_11eb_a6d5_1065307ae51arow4_col6\" class=\"data row4 col6\" >0.33</td>\n",
              "            </tr>\n",
              "            <tr>\n",
              "                        <th id=\"T_a3c2c580_273a_11eb_a6d5_1065307ae51alevel0_row5\" class=\"row_heading level0 row5\" >5</th>\n",
              "                        <td id=\"T_a3c2c580_273a_11eb_a6d5_1065307ae51arow5_col0\" class=\"data row5 col0\" >0.88</td>\n",
              "                        <td id=\"T_a3c2c580_273a_11eb_a6d5_1065307ae51arow5_col1\" class=\"data row5 col1\" >0.94</td>\n",
              "                        <td id=\"T_a3c2c580_273a_11eb_a6d5_1065307ae51arow5_col2\" class=\"data row5 col2\" >0.92</td>\n",
              "                        <td id=\"T_a3c2c580_273a_11eb_a6d5_1065307ae51arow5_col3\" class=\"data row5 col3\" >0.92</td>\n",
              "                        <td id=\"T_a3c2c580_273a_11eb_a6d5_1065307ae51arow5_col4\" class=\"data row5 col4\" >0.92</td>\n",
              "                        <td id=\"T_a3c2c580_273a_11eb_a6d5_1065307ae51arow5_col5\" class=\"data row5 col5\" >0.67</td>\n",
              "                        <td id=\"T_a3c2c580_273a_11eb_a6d5_1065307ae51arow5_col6\" class=\"data row5 col6\" >0.67</td>\n",
              "            </tr>\n",
              "            <tr>\n",
              "                        <th id=\"T_a3c2c580_273a_11eb_a6d5_1065307ae51alevel0_row6\" class=\"row_heading level0 row6\" >6</th>\n",
              "                        <td id=\"T_a3c2c580_273a_11eb_a6d5_1065307ae51arow6_col0\" class=\"data row6 col0\" >0.88</td>\n",
              "                        <td id=\"T_a3c2c580_273a_11eb_a6d5_1065307ae51arow6_col1\" class=\"data row6 col1\" >0.92</td>\n",
              "                        <td id=\"T_a3c2c580_273a_11eb_a6d5_1065307ae51arow6_col2\" class=\"data row6 col2\" >0.83</td>\n",
              "                        <td id=\"T_a3c2c580_273a_11eb_a6d5_1065307ae51arow6_col3\" class=\"data row6 col3\" >1.00</td>\n",
              "                        <td id=\"T_a3c2c580_273a_11eb_a6d5_1065307ae51arow6_col4\" class=\"data row6 col4\" >0.91</td>\n",
              "                        <td id=\"T_a3c2c580_273a_11eb_a6d5_1065307ae51arow6_col5\" class=\"data row6 col5\" >0.71</td>\n",
              "                        <td id=\"T_a3c2c580_273a_11eb_a6d5_1065307ae51arow6_col6\" class=\"data row6 col6\" >0.75</td>\n",
              "            </tr>\n",
              "            <tr>\n",
              "                        <th id=\"T_a3c2c580_273a_11eb_a6d5_1065307ae51alevel0_row7\" class=\"row_heading level0 row7\" >7</th>\n",
              "                        <td id=\"T_a3c2c580_273a_11eb_a6d5_1065307ae51arow7_col0\" class=\"data row7 col0\" >0.88</td>\n",
              "                        <td id=\"T_a3c2c580_273a_11eb_a6d5_1065307ae51arow7_col1\" class=\"data row7 col1\" >0.95</td>\n",
              "                        <td id=\"T_a3c2c580_273a_11eb_a6d5_1065307ae51arow7_col2\" class=\"data row7 col2\" >0.85</td>\n",
              "                        <td id=\"T_a3c2c580_273a_11eb_a6d5_1065307ae51arow7_col3\" class=\"data row7 col3\" >1.00</td>\n",
              "                        <td id=\"T_a3c2c580_273a_11eb_a6d5_1065307ae51arow7_col4\" class=\"data row7 col4\" >0.92</td>\n",
              "                        <td id=\"T_a3c2c580_273a_11eb_a6d5_1065307ae51arow7_col5\" class=\"data row7 col5\" >0.67</td>\n",
              "                        <td id=\"T_a3c2c580_273a_11eb_a6d5_1065307ae51arow7_col6\" class=\"data row7 col6\" >0.71</td>\n",
              "            </tr>\n",
              "            <tr>\n",
              "                        <th id=\"T_a3c2c580_273a_11eb_a6d5_1065307ae51alevel0_row8\" class=\"row_heading level0 row8\" >Mean</th>\n",
              "                        <td id=\"T_a3c2c580_273a_11eb_a6d5_1065307ae51arow8_col0\" class=\"data row8 col0\" >0.85</td>\n",
              "                        <td id=\"T_a3c2c580_273a_11eb_a6d5_1065307ae51arow8_col1\" class=\"data row8 col1\" >0.88</td>\n",
              "                        <td id=\"T_a3c2c580_273a_11eb_a6d5_1065307ae51arow8_col2\" class=\"data row8 col2\" >0.88</td>\n",
              "                        <td id=\"T_a3c2c580_273a_11eb_a6d5_1065307ae51arow8_col3\" class=\"data row8 col3\" >0.93</td>\n",
              "                        <td id=\"T_a3c2c580_273a_11eb_a6d5_1065307ae51arow8_col4\" class=\"data row8 col4\" >0.90</td>\n",
              "                        <td id=\"T_a3c2c580_273a_11eb_a6d5_1065307ae51arow8_col5\" class=\"data row8 col5\" >0.62</td>\n",
              "                        <td id=\"T_a3c2c580_273a_11eb_a6d5_1065307ae51arow8_col6\" class=\"data row8 col6\" >0.64</td>\n",
              "            </tr>\n",
              "            <tr>\n",
              "                        <th id=\"T_a3c2c580_273a_11eb_a6d5_1065307ae51alevel0_row9\" class=\"row_heading level0 row9\" >SD</th>\n",
              "                        <td id=\"T_a3c2c580_273a_11eb_a6d5_1065307ae51arow9_col0\" class=\"data row9 col0\" >0.05</td>\n",
              "                        <td id=\"T_a3c2c580_273a_11eb_a6d5_1065307ae51arow9_col1\" class=\"data row9 col1\" >0.08</td>\n",
              "                        <td id=\"T_a3c2c580_273a_11eb_a6d5_1065307ae51arow9_col2\" class=\"data row9 col2\" >0.07</td>\n",
              "                        <td id=\"T_a3c2c580_273a_11eb_a6d5_1065307ae51arow9_col3\" class=\"data row9 col3\" >0.06</td>\n",
              "                        <td id=\"T_a3c2c580_273a_11eb_a6d5_1065307ae51arow9_col4\" class=\"data row9 col4\" >0.04</td>\n",
              "                        <td id=\"T_a3c2c580_273a_11eb_a6d5_1065307ae51arow9_col5\" class=\"data row9 col5\" >0.14</td>\n",
              "                        <td id=\"T_a3c2c580_273a_11eb_a6d5_1065307ae51arow9_col6\" class=\"data row9 col6\" >0.15</td>\n",
              "            </tr>\n",
              "    </tbody></table>"
            ],
            "text/plain": [
              "<pandas.io.formats.style.Styler at 0x1e611456908>"
            ]
          },
          "metadata": {},
          "output_type": "display_data"
        }
      ],
      "source": [
        "tuned_lightgbm = tune_model(lightgbm, optimize = 'Recall', fold = 8,round = 2)"
      ]
    },
    {
      "cell_type": "markdown",
      "metadata": {
        "id": "YTFqAKb1Fsqg"
      },
      "source": [
        "### ***Tuning the K Neighbors Classifier Model***"
      ]
    },
    {
      "cell_type": "code",
      "execution_count": null,
      "metadata": {
        "scrolled": true,
        "id": "MTiFoL7tFsqg",
        "outputId": "7d6751f0-1607-433d-ce3f-d7521cb2ebc4"
      },
      "outputs": [
        {
          "data": {
            "text/html": [
              "<style  type=\"text/css\" >\n",
              "#T_a88fa9ac_273a_11eb_8364_1065307ae51arow8_col0,#T_a88fa9ac_273a_11eb_8364_1065307ae51arow8_col1,#T_a88fa9ac_273a_11eb_8364_1065307ae51arow8_col2,#T_a88fa9ac_273a_11eb_8364_1065307ae51arow8_col3,#T_a88fa9ac_273a_11eb_8364_1065307ae51arow8_col4,#T_a88fa9ac_273a_11eb_8364_1065307ae51arow8_col5,#T_a88fa9ac_273a_11eb_8364_1065307ae51arow8_col6{\n",
              "            background:  yellow;\n",
              "        }</style><table id=\"T_a88fa9ac_273a_11eb_8364_1065307ae51a\" ><thead>    <tr>        <th class=\"blank level0\" ></th>        <th class=\"col_heading level0 col0\" >Accuracy</th>        <th class=\"col_heading level0 col1\" >AUC</th>        <th class=\"col_heading level0 col2\" >Recall</th>        <th class=\"col_heading level0 col3\" >Prec.</th>        <th class=\"col_heading level0 col4\" >F1</th>        <th class=\"col_heading level0 col5\" >Kappa</th>        <th class=\"col_heading level0 col6\" >MCC</th>    </tr></thead><tbody>\n",
              "                <tr>\n",
              "                        <th id=\"T_a88fa9ac_273a_11eb_8364_1065307ae51alevel0_row0\" class=\"row_heading level0 row0\" >0</th>\n",
              "                        <td id=\"T_a88fa9ac_273a_11eb_8364_1065307ae51arow0_col0\" class=\"data row0 col0\" >0.65</td>\n",
              "                        <td id=\"T_a88fa9ac_273a_11eb_8364_1065307ae51arow0_col1\" class=\"data row0 col1\" >0.61</td>\n",
              "                        <td id=\"T_a88fa9ac_273a_11eb_8364_1065307ae51arow0_col2\" class=\"data row0 col2\" >0.69</td>\n",
              "                        <td id=\"T_a88fa9ac_273a_11eb_8364_1065307ae51arow0_col3\" class=\"data row0 col3\" >0.82</td>\n",
              "                        <td id=\"T_a88fa9ac_273a_11eb_8364_1065307ae51arow0_col4\" class=\"data row0 col4\" >0.75</td>\n",
              "                        <td id=\"T_a88fa9ac_273a_11eb_8364_1065307ae51arow0_col5\" class=\"data row0 col5\" >0.16</td>\n",
              "                        <td id=\"T_a88fa9ac_273a_11eb_8364_1065307ae51arow0_col6\" class=\"data row0 col6\" >0.17</td>\n",
              "            </tr>\n",
              "            <tr>\n",
              "                        <th id=\"T_a88fa9ac_273a_11eb_8364_1065307ae51alevel0_row1\" class=\"row_heading level0 row1\" >1</th>\n",
              "                        <td id=\"T_a88fa9ac_273a_11eb_8364_1065307ae51arow1_col0\" class=\"data row1 col0\" >0.69</td>\n",
              "                        <td id=\"T_a88fa9ac_273a_11eb_8364_1065307ae51arow1_col1\" class=\"data row1 col1\" >0.83</td>\n",
              "                        <td id=\"T_a88fa9ac_273a_11eb_8364_1065307ae51arow1_col2\" class=\"data row1 col2\" >0.67</td>\n",
              "                        <td id=\"T_a88fa9ac_273a_11eb_8364_1065307ae51arow1_col3\" class=\"data row1 col3\" >0.89</td>\n",
              "                        <td id=\"T_a88fa9ac_273a_11eb_8364_1065307ae51arow1_col4\" class=\"data row1 col4\" >0.76</td>\n",
              "                        <td id=\"T_a88fa9ac_273a_11eb_8364_1065307ae51arow1_col5\" class=\"data row1 col5\" >0.33</td>\n",
              "                        <td id=\"T_a88fa9ac_273a_11eb_8364_1065307ae51arow1_col6\" class=\"data row1 col6\" >0.36</td>\n",
              "            </tr>\n",
              "            <tr>\n",
              "                        <th id=\"T_a88fa9ac_273a_11eb_8364_1065307ae51alevel0_row2\" class=\"row_heading level0 row2\" >2</th>\n",
              "                        <td id=\"T_a88fa9ac_273a_11eb_8364_1065307ae51arow2_col0\" class=\"data row2 col0\" >0.75</td>\n",
              "                        <td id=\"T_a88fa9ac_273a_11eb_8364_1065307ae51arow2_col1\" class=\"data row2 col1\" >0.84</td>\n",
              "                        <td id=\"T_a88fa9ac_273a_11eb_8364_1065307ae51arow2_col2\" class=\"data row2 col2\" >0.67</td>\n",
              "                        <td id=\"T_a88fa9ac_273a_11eb_8364_1065307ae51arow2_col3\" class=\"data row2 col3\" >1.00</td>\n",
              "                        <td id=\"T_a88fa9ac_273a_11eb_8364_1065307ae51arow2_col4\" class=\"data row2 col4\" >0.80</td>\n",
              "                        <td id=\"T_a88fa9ac_273a_11eb_8364_1065307ae51arow2_col5\" class=\"data row2 col5\" >0.50</td>\n",
              "                        <td id=\"T_a88fa9ac_273a_11eb_8364_1065307ae51arow2_col6\" class=\"data row2 col6\" >0.58</td>\n",
              "            </tr>\n",
              "            <tr>\n",
              "                        <th id=\"T_a88fa9ac_273a_11eb_8364_1065307ae51alevel0_row3\" class=\"row_heading level0 row3\" >3</th>\n",
              "                        <td id=\"T_a88fa9ac_273a_11eb_8364_1065307ae51arow3_col0\" class=\"data row3 col0\" >0.75</td>\n",
              "                        <td id=\"T_a88fa9ac_273a_11eb_8364_1065307ae51arow3_col1\" class=\"data row3 col1\" >0.94</td>\n",
              "                        <td id=\"T_a88fa9ac_273a_11eb_8364_1065307ae51arow3_col2\" class=\"data row3 col2\" >0.67</td>\n",
              "                        <td id=\"T_a88fa9ac_273a_11eb_8364_1065307ae51arow3_col3\" class=\"data row3 col3\" >1.00</td>\n",
              "                        <td id=\"T_a88fa9ac_273a_11eb_8364_1065307ae51arow3_col4\" class=\"data row3 col4\" >0.80</td>\n",
              "                        <td id=\"T_a88fa9ac_273a_11eb_8364_1065307ae51arow3_col5\" class=\"data row3 col5\" >0.50</td>\n",
              "                        <td id=\"T_a88fa9ac_273a_11eb_8364_1065307ae51arow3_col6\" class=\"data row3 col6\" >0.58</td>\n",
              "            </tr>\n",
              "            <tr>\n",
              "                        <th id=\"T_a88fa9ac_273a_11eb_8364_1065307ae51alevel0_row4\" class=\"row_heading level0 row4\" >4</th>\n",
              "                        <td id=\"T_a88fa9ac_273a_11eb_8364_1065307ae51arow4_col0\" class=\"data row4 col0\" >0.81</td>\n",
              "                        <td id=\"T_a88fa9ac_273a_11eb_8364_1065307ae51arow4_col1\" class=\"data row4 col1\" >0.88</td>\n",
              "                        <td id=\"T_a88fa9ac_273a_11eb_8364_1065307ae51arow4_col2\" class=\"data row4 col2\" >0.75</td>\n",
              "                        <td id=\"T_a88fa9ac_273a_11eb_8364_1065307ae51arow4_col3\" class=\"data row4 col3\" >1.00</td>\n",
              "                        <td id=\"T_a88fa9ac_273a_11eb_8364_1065307ae51arow4_col4\" class=\"data row4 col4\" >0.86</td>\n",
              "                        <td id=\"T_a88fa9ac_273a_11eb_8364_1065307ae51arow4_col5\" class=\"data row4 col5\" >0.60</td>\n",
              "                        <td id=\"T_a88fa9ac_273a_11eb_8364_1065307ae51arow4_col6\" class=\"data row4 col6\" >0.65</td>\n",
              "            </tr>\n",
              "            <tr>\n",
              "                        <th id=\"T_a88fa9ac_273a_11eb_8364_1065307ae51alevel0_row5\" class=\"row_heading level0 row5\" >5</th>\n",
              "                        <td id=\"T_a88fa9ac_273a_11eb_8364_1065307ae51arow5_col0\" class=\"data row5 col0\" >0.62</td>\n",
              "                        <td id=\"T_a88fa9ac_273a_11eb_8364_1065307ae51arow5_col1\" class=\"data row5 col1\" >0.74</td>\n",
              "                        <td id=\"T_a88fa9ac_273a_11eb_8364_1065307ae51arow5_col2\" class=\"data row5 col2\" >0.58</td>\n",
              "                        <td id=\"T_a88fa9ac_273a_11eb_8364_1065307ae51arow5_col3\" class=\"data row5 col3\" >0.88</td>\n",
              "                        <td id=\"T_a88fa9ac_273a_11eb_8364_1065307ae51arow5_col4\" class=\"data row5 col4\" >0.70</td>\n",
              "                        <td id=\"T_a88fa9ac_273a_11eb_8364_1065307ae51arow5_col5\" class=\"data row5 col5\" >0.25</td>\n",
              "                        <td id=\"T_a88fa9ac_273a_11eb_8364_1065307ae51arow5_col6\" class=\"data row5 col6\" >0.29</td>\n",
              "            </tr>\n",
              "            <tr>\n",
              "                        <th id=\"T_a88fa9ac_273a_11eb_8364_1065307ae51alevel0_row6\" class=\"row_heading level0 row6\" >6</th>\n",
              "                        <td id=\"T_a88fa9ac_273a_11eb_8364_1065307ae51arow6_col0\" class=\"data row6 col0\" >0.81</td>\n",
              "                        <td id=\"T_a88fa9ac_273a_11eb_8364_1065307ae51arow6_col1\" class=\"data row6 col1\" >0.93</td>\n",
              "                        <td id=\"T_a88fa9ac_273a_11eb_8364_1065307ae51arow6_col2\" class=\"data row6 col2\" >0.75</td>\n",
              "                        <td id=\"T_a88fa9ac_273a_11eb_8364_1065307ae51arow6_col3\" class=\"data row6 col3\" >1.00</td>\n",
              "                        <td id=\"T_a88fa9ac_273a_11eb_8364_1065307ae51arow6_col4\" class=\"data row6 col4\" >0.86</td>\n",
              "                        <td id=\"T_a88fa9ac_273a_11eb_8364_1065307ae51arow6_col5\" class=\"data row6 col5\" >0.60</td>\n",
              "                        <td id=\"T_a88fa9ac_273a_11eb_8364_1065307ae51arow6_col6\" class=\"data row6 col6\" >0.65</td>\n",
              "            </tr>\n",
              "            <tr>\n",
              "                        <th id=\"T_a88fa9ac_273a_11eb_8364_1065307ae51alevel0_row7\" class=\"row_heading level0 row7\" >7</th>\n",
              "                        <td id=\"T_a88fa9ac_273a_11eb_8364_1065307ae51arow7_col0\" class=\"data row7 col0\" >0.75</td>\n",
              "                        <td id=\"T_a88fa9ac_273a_11eb_8364_1065307ae51arow7_col1\" class=\"data row7 col1\" >0.95</td>\n",
              "                        <td id=\"T_a88fa9ac_273a_11eb_8364_1065307ae51arow7_col2\" class=\"data row7 col2\" >0.69</td>\n",
              "                        <td id=\"T_a88fa9ac_273a_11eb_8364_1065307ae51arow7_col3\" class=\"data row7 col3\" >1.00</td>\n",
              "                        <td id=\"T_a88fa9ac_273a_11eb_8364_1065307ae51arow7_col4\" class=\"data row7 col4\" >0.82</td>\n",
              "                        <td id=\"T_a88fa9ac_273a_11eb_8364_1065307ae51arow7_col5\" class=\"data row7 col5\" >0.46</td>\n",
              "                        <td id=\"T_a88fa9ac_273a_11eb_8364_1065307ae51arow7_col6\" class=\"data row7 col6\" >0.54</td>\n",
              "            </tr>\n",
              "            <tr>\n",
              "                        <th id=\"T_a88fa9ac_273a_11eb_8364_1065307ae51alevel0_row8\" class=\"row_heading level0 row8\" >Mean</th>\n",
              "                        <td id=\"T_a88fa9ac_273a_11eb_8364_1065307ae51arow8_col0\" class=\"data row8 col0\" >0.73</td>\n",
              "                        <td id=\"T_a88fa9ac_273a_11eb_8364_1065307ae51arow8_col1\" class=\"data row8 col1\" >0.84</td>\n",
              "                        <td id=\"T_a88fa9ac_273a_11eb_8364_1065307ae51arow8_col2\" class=\"data row8 col2\" >0.68</td>\n",
              "                        <td id=\"T_a88fa9ac_273a_11eb_8364_1065307ae51arow8_col3\" class=\"data row8 col3\" >0.95</td>\n",
              "                        <td id=\"T_a88fa9ac_273a_11eb_8364_1065307ae51arow8_col4\" class=\"data row8 col4\" >0.79</td>\n",
              "                        <td id=\"T_a88fa9ac_273a_11eb_8364_1065307ae51arow8_col5\" class=\"data row8 col5\" >0.43</td>\n",
              "                        <td id=\"T_a88fa9ac_273a_11eb_8364_1065307ae51arow8_col6\" class=\"data row8 col6\" >0.48</td>\n",
              "            </tr>\n",
              "            <tr>\n",
              "                        <th id=\"T_a88fa9ac_273a_11eb_8364_1065307ae51alevel0_row9\" class=\"row_heading level0 row9\" >SD</th>\n",
              "                        <td id=\"T_a88fa9ac_273a_11eb_8364_1065307ae51arow9_col0\" class=\"data row9 col0\" >0.07</td>\n",
              "                        <td id=\"T_a88fa9ac_273a_11eb_8364_1065307ae51arow9_col1\" class=\"data row9 col1\" >0.11</td>\n",
              "                        <td id=\"T_a88fa9ac_273a_11eb_8364_1065307ae51arow9_col2\" class=\"data row9 col2\" >0.05</td>\n",
              "                        <td id=\"T_a88fa9ac_273a_11eb_8364_1065307ae51arow9_col3\" class=\"data row9 col3\" >0.07</td>\n",
              "                        <td id=\"T_a88fa9ac_273a_11eb_8364_1065307ae51arow9_col4\" class=\"data row9 col4\" >0.05</td>\n",
              "                        <td id=\"T_a88fa9ac_273a_11eb_8364_1065307ae51arow9_col5\" class=\"data row9 col5\" >0.15</td>\n",
              "                        <td id=\"T_a88fa9ac_273a_11eb_8364_1065307ae51arow9_col6\" class=\"data row9 col6\" >0.17</td>\n",
              "            </tr>\n",
              "    </tbody></table>"
            ],
            "text/plain": [
              "<pandas.io.formats.style.Styler at 0x1e60a1f8080>"
            ]
          },
          "metadata": {},
          "output_type": "display_data"
        }
      ],
      "source": [
        "tuned_knn = tune_model(knn, optimize = 'Recall', fold = 8,round = 2)"
      ]
    },
    {
      "cell_type": "markdown",
      "metadata": {
        "id": "bvaGpeqEFsqg"
      },
      "source": [
        "### ***Tuning the Quadratic Discriminant Analysis Model***"
      ]
    },
    {
      "cell_type": "code",
      "execution_count": null,
      "metadata": {
        "scrolled": true,
        "id": "ZcIJ-GR3Fsqg",
        "outputId": "2c9ccdb4-b76a-4e9e-84df-5595fba88fc4"
      },
      "outputs": [
        {
          "data": {
            "text/html": [
              "<style  type=\"text/css\" >\n",
              "#T_ab2536a2_273a_11eb_939a_1065307ae51arow8_col0,#T_ab2536a2_273a_11eb_939a_1065307ae51arow8_col1,#T_ab2536a2_273a_11eb_939a_1065307ae51arow8_col2,#T_ab2536a2_273a_11eb_939a_1065307ae51arow8_col3,#T_ab2536a2_273a_11eb_939a_1065307ae51arow8_col4,#T_ab2536a2_273a_11eb_939a_1065307ae51arow8_col5,#T_ab2536a2_273a_11eb_939a_1065307ae51arow8_col6{\n",
              "            background:  yellow;\n",
              "        }</style><table id=\"T_ab2536a2_273a_11eb_939a_1065307ae51a\" ><thead>    <tr>        <th class=\"blank level0\" ></th>        <th class=\"col_heading level0 col0\" >Accuracy</th>        <th class=\"col_heading level0 col1\" >AUC</th>        <th class=\"col_heading level0 col2\" >Recall</th>        <th class=\"col_heading level0 col3\" >Prec.</th>        <th class=\"col_heading level0 col4\" >F1</th>        <th class=\"col_heading level0 col5\" >Kappa</th>        <th class=\"col_heading level0 col6\" >MCC</th>    </tr></thead><tbody>\n",
              "                <tr>\n",
              "                        <th id=\"T_ab2536a2_273a_11eb_939a_1065307ae51alevel0_row0\" class=\"row_heading level0 row0\" >0</th>\n",
              "                        <td id=\"T_ab2536a2_273a_11eb_939a_1065307ae51arow0_col0\" class=\"data row0 col0\" >0.71</td>\n",
              "                        <td id=\"T_ab2536a2_273a_11eb_939a_1065307ae51arow0_col1\" class=\"data row0 col1\" >0.75</td>\n",
              "                        <td id=\"T_ab2536a2_273a_11eb_939a_1065307ae51arow0_col2\" class=\"data row0 col2\" >0.77</td>\n",
              "                        <td id=\"T_ab2536a2_273a_11eb_939a_1065307ae51arow0_col3\" class=\"data row0 col3\" >0.83</td>\n",
              "                        <td id=\"T_ab2536a2_273a_11eb_939a_1065307ae51arow0_col4\" class=\"data row0 col4\" >0.80</td>\n",
              "                        <td id=\"T_ab2536a2_273a_11eb_939a_1065307ae51arow0_col5\" class=\"data row0 col5\" >0.25</td>\n",
              "                        <td id=\"T_ab2536a2_273a_11eb_939a_1065307ae51arow0_col6\" class=\"data row0 col6\" >0.25</td>\n",
              "            </tr>\n",
              "            <tr>\n",
              "                        <th id=\"T_ab2536a2_273a_11eb_939a_1065307ae51alevel0_row1\" class=\"row_heading level0 row1\" >1</th>\n",
              "                        <td id=\"T_ab2536a2_273a_11eb_939a_1065307ae51arow1_col0\" class=\"data row1 col0\" >0.88</td>\n",
              "                        <td id=\"T_ab2536a2_273a_11eb_939a_1065307ae51arow1_col1\" class=\"data row1 col1\" >0.92</td>\n",
              "                        <td id=\"T_ab2536a2_273a_11eb_939a_1065307ae51arow1_col2\" class=\"data row1 col2\" >0.92</td>\n",
              "                        <td id=\"T_ab2536a2_273a_11eb_939a_1065307ae51arow1_col3\" class=\"data row1 col3\" >0.92</td>\n",
              "                        <td id=\"T_ab2536a2_273a_11eb_939a_1065307ae51arow1_col4\" class=\"data row1 col4\" >0.92</td>\n",
              "                        <td id=\"T_ab2536a2_273a_11eb_939a_1065307ae51arow1_col5\" class=\"data row1 col5\" >0.67</td>\n",
              "                        <td id=\"T_ab2536a2_273a_11eb_939a_1065307ae51arow1_col6\" class=\"data row1 col6\" >0.67</td>\n",
              "            </tr>\n",
              "            <tr>\n",
              "                        <th id=\"T_ab2536a2_273a_11eb_939a_1065307ae51alevel0_row2\" class=\"row_heading level0 row2\" >2</th>\n",
              "                        <td id=\"T_ab2536a2_273a_11eb_939a_1065307ae51arow2_col0\" class=\"data row2 col0\" >0.81</td>\n",
              "                        <td id=\"T_ab2536a2_273a_11eb_939a_1065307ae51arow2_col1\" class=\"data row2 col1\" >0.81</td>\n",
              "                        <td id=\"T_ab2536a2_273a_11eb_939a_1065307ae51arow2_col2\" class=\"data row2 col2\" >0.75</td>\n",
              "                        <td id=\"T_ab2536a2_273a_11eb_939a_1065307ae51arow2_col3\" class=\"data row2 col3\" >1.00</td>\n",
              "                        <td id=\"T_ab2536a2_273a_11eb_939a_1065307ae51arow2_col4\" class=\"data row2 col4\" >0.86</td>\n",
              "                        <td id=\"T_ab2536a2_273a_11eb_939a_1065307ae51arow2_col5\" class=\"data row2 col5\" >0.60</td>\n",
              "                        <td id=\"T_ab2536a2_273a_11eb_939a_1065307ae51arow2_col6\" class=\"data row2 col6\" >0.65</td>\n",
              "            </tr>\n",
              "            <tr>\n",
              "                        <th id=\"T_ab2536a2_273a_11eb_939a_1065307ae51alevel0_row3\" class=\"row_heading level0 row3\" >3</th>\n",
              "                        <td id=\"T_ab2536a2_273a_11eb_939a_1065307ae51arow3_col0\" class=\"data row3 col0\" >0.81</td>\n",
              "                        <td id=\"T_ab2536a2_273a_11eb_939a_1065307ae51arow3_col1\" class=\"data row3 col1\" >0.90</td>\n",
              "                        <td id=\"T_ab2536a2_273a_11eb_939a_1065307ae51arow3_col2\" class=\"data row3 col2\" >0.83</td>\n",
              "                        <td id=\"T_ab2536a2_273a_11eb_939a_1065307ae51arow3_col3\" class=\"data row3 col3\" >0.91</td>\n",
              "                        <td id=\"T_ab2536a2_273a_11eb_939a_1065307ae51arow3_col4\" class=\"data row3 col4\" >0.87</td>\n",
              "                        <td id=\"T_ab2536a2_273a_11eb_939a_1065307ae51arow3_col5\" class=\"data row3 col5\" >0.54</td>\n",
              "                        <td id=\"T_ab2536a2_273a_11eb_939a_1065307ae51arow3_col6\" class=\"data row3 col6\" >0.54</td>\n",
              "            </tr>\n",
              "            <tr>\n",
              "                        <th id=\"T_ab2536a2_273a_11eb_939a_1065307ae51alevel0_row4\" class=\"row_heading level0 row4\" >4</th>\n",
              "                        <td id=\"T_ab2536a2_273a_11eb_939a_1065307ae51arow4_col0\" class=\"data row4 col0\" >0.81</td>\n",
              "                        <td id=\"T_ab2536a2_273a_11eb_939a_1065307ae51arow4_col1\" class=\"data row4 col1\" >0.81</td>\n",
              "                        <td id=\"T_ab2536a2_273a_11eb_939a_1065307ae51arow4_col2\" class=\"data row4 col2\" >0.92</td>\n",
              "                        <td id=\"T_ab2536a2_273a_11eb_939a_1065307ae51arow4_col3\" class=\"data row4 col3\" >0.85</td>\n",
              "                        <td id=\"T_ab2536a2_273a_11eb_939a_1065307ae51arow4_col4\" class=\"data row4 col4\" >0.88</td>\n",
              "                        <td id=\"T_ab2536a2_273a_11eb_939a_1065307ae51arow4_col5\" class=\"data row4 col5\" >0.45</td>\n",
              "                        <td id=\"T_ab2536a2_273a_11eb_939a_1065307ae51arow4_col6\" class=\"data row4 col6\" >0.46</td>\n",
              "            </tr>\n",
              "            <tr>\n",
              "                        <th id=\"T_ab2536a2_273a_11eb_939a_1065307ae51alevel0_row5\" class=\"row_heading level0 row5\" >5</th>\n",
              "                        <td id=\"T_ab2536a2_273a_11eb_939a_1065307ae51arow5_col0\" class=\"data row5 col0\" >0.81</td>\n",
              "                        <td id=\"T_ab2536a2_273a_11eb_939a_1065307ae51arow5_col1\" class=\"data row5 col1\" >0.90</td>\n",
              "                        <td id=\"T_ab2536a2_273a_11eb_939a_1065307ae51arow5_col2\" class=\"data row5 col2\" >0.83</td>\n",
              "                        <td id=\"T_ab2536a2_273a_11eb_939a_1065307ae51arow5_col3\" class=\"data row5 col3\" >0.91</td>\n",
              "                        <td id=\"T_ab2536a2_273a_11eb_939a_1065307ae51arow5_col4\" class=\"data row5 col4\" >0.87</td>\n",
              "                        <td id=\"T_ab2536a2_273a_11eb_939a_1065307ae51arow5_col5\" class=\"data row5 col5\" >0.54</td>\n",
              "                        <td id=\"T_ab2536a2_273a_11eb_939a_1065307ae51arow5_col6\" class=\"data row5 col6\" >0.54</td>\n",
              "            </tr>\n",
              "            <tr>\n",
              "                        <th id=\"T_ab2536a2_273a_11eb_939a_1065307ae51alevel0_row6\" class=\"row_heading level0 row6\" >6</th>\n",
              "                        <td id=\"T_ab2536a2_273a_11eb_939a_1065307ae51arow6_col0\" class=\"data row6 col0\" >0.94</td>\n",
              "                        <td id=\"T_ab2536a2_273a_11eb_939a_1065307ae51arow6_col1\" class=\"data row6 col1\" >1.00</td>\n",
              "                        <td id=\"T_ab2536a2_273a_11eb_939a_1065307ae51arow6_col2\" class=\"data row6 col2\" >0.92</td>\n",
              "                        <td id=\"T_ab2536a2_273a_11eb_939a_1065307ae51arow6_col3\" class=\"data row6 col3\" >1.00</td>\n",
              "                        <td id=\"T_ab2536a2_273a_11eb_939a_1065307ae51arow6_col4\" class=\"data row6 col4\" >0.96</td>\n",
              "                        <td id=\"T_ab2536a2_273a_11eb_939a_1065307ae51arow6_col5\" class=\"data row6 col5\" >0.85</td>\n",
              "                        <td id=\"T_ab2536a2_273a_11eb_939a_1065307ae51arow6_col6\" class=\"data row6 col6\" >0.86</td>\n",
              "            </tr>\n",
              "            <tr>\n",
              "                        <th id=\"T_ab2536a2_273a_11eb_939a_1065307ae51alevel0_row7\" class=\"row_heading level0 row7\" >7</th>\n",
              "                        <td id=\"T_ab2536a2_273a_11eb_939a_1065307ae51arow7_col0\" class=\"data row7 col0\" >0.81</td>\n",
              "                        <td id=\"T_ab2536a2_273a_11eb_939a_1065307ae51arow7_col1\" class=\"data row7 col1\" >0.95</td>\n",
              "                        <td id=\"T_ab2536a2_273a_11eb_939a_1065307ae51arow7_col2\" class=\"data row7 col2\" >0.77</td>\n",
              "                        <td id=\"T_ab2536a2_273a_11eb_939a_1065307ae51arow7_col3\" class=\"data row7 col3\" >1.00</td>\n",
              "                        <td id=\"T_ab2536a2_273a_11eb_939a_1065307ae51arow7_col4\" class=\"data row7 col4\" >0.87</td>\n",
              "                        <td id=\"T_ab2536a2_273a_11eb_939a_1065307ae51arow7_col5\" class=\"data row7 col5\" >0.56</td>\n",
              "                        <td id=\"T_ab2536a2_273a_11eb_939a_1065307ae51arow7_col6\" class=\"data row7 col6\" >0.62</td>\n",
              "            </tr>\n",
              "            <tr>\n",
              "                        <th id=\"T_ab2536a2_273a_11eb_939a_1065307ae51alevel0_row8\" class=\"row_heading level0 row8\" >Mean</th>\n",
              "                        <td id=\"T_ab2536a2_273a_11eb_939a_1065307ae51arow8_col0\" class=\"data row8 col0\" >0.82</td>\n",
              "                        <td id=\"T_ab2536a2_273a_11eb_939a_1065307ae51arow8_col1\" class=\"data row8 col1\" >0.88</td>\n",
              "                        <td id=\"T_ab2536a2_273a_11eb_939a_1065307ae51arow8_col2\" class=\"data row8 col2\" >0.84</td>\n",
              "                        <td id=\"T_ab2536a2_273a_11eb_939a_1065307ae51arow8_col3\" class=\"data row8 col3\" >0.93</td>\n",
              "                        <td id=\"T_ab2536a2_273a_11eb_939a_1065307ae51arow8_col4\" class=\"data row8 col4\" >0.88</td>\n",
              "                        <td id=\"T_ab2536a2_273a_11eb_939a_1065307ae51arow8_col5\" class=\"data row8 col5\" >0.56</td>\n",
              "                        <td id=\"T_ab2536a2_273a_11eb_939a_1065307ae51arow8_col6\" class=\"data row8 col6\" >0.58</td>\n",
              "            </tr>\n",
              "            <tr>\n",
              "                        <th id=\"T_ab2536a2_273a_11eb_939a_1065307ae51alevel0_row9\" class=\"row_heading level0 row9\" >SD</th>\n",
              "                        <td id=\"T_ab2536a2_273a_11eb_939a_1065307ae51arow9_col0\" class=\"data row9 col0\" >0.06</td>\n",
              "                        <td id=\"T_ab2536a2_273a_11eb_939a_1065307ae51arow9_col1\" class=\"data row9 col1\" >0.08</td>\n",
              "                        <td id=\"T_ab2536a2_273a_11eb_939a_1065307ae51arow9_col2\" class=\"data row9 col2\" >0.07</td>\n",
              "                        <td id=\"T_ab2536a2_273a_11eb_939a_1065307ae51arow9_col3\" class=\"data row9 col3\" >0.06</td>\n",
              "                        <td id=\"T_ab2536a2_273a_11eb_939a_1065307ae51arow9_col4\" class=\"data row9 col4\" >0.04</td>\n",
              "                        <td id=\"T_ab2536a2_273a_11eb_939a_1065307ae51arow9_col5\" class=\"data row9 col5\" >0.16</td>\n",
              "                        <td id=\"T_ab2536a2_273a_11eb_939a_1065307ae51arow9_col6\" class=\"data row9 col6\" >0.16</td>\n",
              "            </tr>\n",
              "    </tbody></table>"
            ],
            "text/plain": [
              "<pandas.io.formats.style.Styler at 0x1e60bc521d0>"
            ]
          },
          "metadata": {},
          "output_type": "display_data"
        }
      ],
      "source": [
        "tuned_qda = tune_model(qda, optimize = 'Recall', fold = 8,round = 2)"
      ]
    },
    {
      "cell_type": "markdown",
      "metadata": {
        "id": "0g7IE6VtFsqh"
      },
      "source": [
        "Surprisingly, out of all the three models, the Gradient Boosting Classifier Model has the best performance by tuning the Recall hyperparameter. So, we will use this model for prediction."
      ]
    },
    {
      "cell_type": "markdown",
      "metadata": {
        "id": "H0ogP8VAFsqh"
      },
      "source": [
        "## **Plotting Models**"
      ]
    },
    {
      "cell_type": "markdown",
      "metadata": {
        "id": "1QXOiin1Fsqh"
      },
      "source": [
        "Before model finalization, the plot_model() function can be used to analyze the performance across different aspects such as AUC, confusion_matrix, decision boundary etc. This function takes a trained model object and returns a plot based on the test / hold-out set."
      ]
    },
    {
      "cell_type": "markdown",
      "metadata": {
        "id": "8Gy952w9Fsqh"
      },
      "source": [
        "### ***Plotting Extra Trees Classifier Model***"
      ]
    },
    {
      "cell_type": "markdown",
      "metadata": {
        "id": "zuQ4a3GIFsqh"
      },
      "source": [
        "#### **AUC Plot**"
      ]
    },
    {
      "cell_type": "code",
      "execution_count": null,
      "metadata": {
        "scrolled": false,
        "id": "GLVzckt6Fsqh",
        "outputId": "4331466f-06d6-4f28-9e9e-770b5f07c2e4"
      },
      "outputs": [
        {
          "data": {
            "image/png": "[encoded data removed]",
            "text/plain": [
              "<Figure size 576x396 with 1 Axes>"
            ]
          },
          "metadata": {},
          "output_type": "display_data"
        }
      ],
      "source": [
        "plot_model(tuned_et, plot = 'auc')"
      ]
    },
    {
      "cell_type": "markdown",
      "metadata": {
        "id": "FQ-5Wl1MFsqh"
      },
      "source": [
        "- Receiver Operating Characteristic (ROC) measures the performance of models by evaluating the trade-offs between sensitivity (True Positive Rate) and 1-Specificity (False Positive Rate)\n",
        "- Sensitivity or Recall is the measure of actual observations which are predicted correctly\n",
        "- Specificity is the measure of how many observations of false category predicted correctly\n",
        "- Area Under Curve (AUC) is the measure of accuracy judged by the area under curve for ROC\n",
        "\n",
        "Observation:\n",
        "- The ROC curves for LGBM Classifier model is 0.99 which is very high. Therefore, the model can be considered for prediction.\n"
      ]
    },
    {
      "cell_type": "markdown",
      "metadata": {
        "id": "QFnIC9y_Fsqh"
      },
      "source": [
        "#### **Precision-Recall Curve**"
      ]
    },
    {
      "cell_type": "code",
      "execution_count": null,
      "metadata": {
        "scrolled": false,
        "id": "N7x_LP-3Fsqh",
        "outputId": "71e7ba23-60ec-42c7-8664-b9fdb09ea0e9"
      },
      "outputs": [
        {
          "data": {
            "image/png": "[encoded data removed]",
            "text/plain": [
              "<Figure size 576x396 with 1 Axes>"
            ]
          },
          "metadata": {},
          "output_type": "display_data"
        }
      ],
      "source": [
        "plot_model(tuned_et, plot = 'pr')"
      ]
    },
    {
      "cell_type": "markdown",
      "metadata": {
        "id": "XJmR7-DMFsqh"
      },
      "source": [
        "- Precision is the measure of correctness achieved in prediction. It is measured as TP/TP+FP\n",
        "- Recall is the measure of actual observations which are predicted correctly. It is measured as TP/TP+FN\n",
        "\n",
        "Observation:\n",
        "- The average precision for LGBM Classifier model is 0.95 which is a good vlaue."
      ]
    },
    {
      "cell_type": "markdown",
      "metadata": {
        "id": "ohM6yyOoFsqh"
      },
      "source": [
        "#### **Feature Importance Plot**"
      ]
    },
    {
      "cell_type": "code",
      "execution_count": null,
      "metadata": {
        "scrolled": false,
        "id": "xqTiVVdhFsqh",
        "outputId": "9973664d-0c25-40c4-cb76-848d8b096302"
      },
      "outputs": [
        {
          "data": {
            "image/png": "[encoded data removed]",
            "text/plain": [
              "<Figure size 800x500 with 1 Axes>"
            ]
          },
          "metadata": {},
          "output_type": "display_data"
        }
      ],
      "source": [
        "plot_model(tuned_et, plot='feature')"
      ]
    },
    {
      "cell_type": "markdown",
      "metadata": {
        "id": "AUW-b4WhFsqh"
      },
      "source": [
        "#### **Confusion Matrix**"
      ]
    },
    {
      "cell_type": "code",
      "execution_count": null,
      "metadata": {
        "scrolled": false,
        "id": "CS4wz8mkFsqh",
        "outputId": "8a6d80ab-617b-491c-aa9f-f87c294bf582"
      },
      "outputs": [
        {
          "data": {
            "image/png": "[encoded data removed]",
            "text/plain": [
              "<Figure size 576x396 with 1 Axes>"
            ]
          },
          "metadata": {},
          "output_type": "display_data"
        }
      ],
      "source": [
        "plot_model(tuned_et, plot = 'confusion_matrix')"
      ]
    },
    {
      "cell_type": "markdown",
      "metadata": {
        "id": "zTkBNHXdFsqh"
      },
      "source": [
        "Observation:\n",
        "- True Positives: \n",
        "    - Number of observations in which the actual value is positive and the model predicted a positive value\n",
        "    - The number of True Positives are 11\n",
        "- True Negatives: \n",
        "    - Number of observations in which the actual value is negative and the model predicted a negative value\n",
        "    - The number of True Negatives are 31\n",
        "- False Positives (Type I error): \n",
        "    - Number of observations in which the actual value is negative and the model predicted a positive value\n",
        "    - The number of False Positives are 3\n",
        "- False Negatives (Type II error): \n",
        "    - Number of observations in which the actual value is positive and the model predicted a negative value\n",
        "    - The number of False Negatives are 11\n",
        "    \n",
        "The model wrongly predicted that 3 patients do not have Parkinson's disease."
      ]
    },
    {
      "cell_type": "markdown",
      "metadata": {
        "id": "PDRKubv8Fsqh"
      },
      "source": [
        "<span style=\"font-family: Arial; font-weight:bold;font-size:1.2em;color:#4E9258\"> Plotting RF Classifier Model"
      ]
    },
    {
      "cell_type": "markdown",
      "metadata": {
        "id": "xyo6tEoJFsqh"
      },
      "source": [
        "<span style=\"font-family: Arial; font-weight:bold;font-size:1.0em;color:#920445\"> AUC Plot"
      ]
    },
    {
      "cell_type": "code",
      "execution_count": null,
      "metadata": {
        "id": "Cbb2FhUnFsqi",
        "outputId": "2c4ba6bf-16cd-4d20-f0d5-937d8a8e5f06"
      },
      "outputs": [
        {
          "data": {
            "image/png": "[encoded data removed]",
            "text/plain": [
              "<Figure size 576x396 with 1 Axes>"
            ]
          },
          "metadata": {},
          "output_type": "display_data"
        }
      ],
      "source": [
        "plot_model(tuned_rf, plot = 'auc')"
      ]
    },
    {
      "cell_type": "markdown",
      "metadata": {
        "id": "L6fmdZn-Fsqi"
      },
      "source": [
        "<span style=\"font-family: Arial; font-weight:bold;font-size:1.0em;color:#920445\"> Precision-Recall Curve"
      ]
    },
    {
      "cell_type": "code",
      "execution_count": null,
      "metadata": {
        "id": "X_YV9UiyFsqi",
        "outputId": "f7da121d-4fa6-4ce8-dac4-bebe1c8b64d6"
      },
      "outputs": [
        {
          "data": {
            "image/png": "[encoded data removed]",
            "text/plain": [
              "<Figure size 576x396 with 1 Axes>"
            ]
          },
          "metadata": {},
          "output_type": "display_data"
        }
      ],
      "source": [
        "plot_model(tuned_rf, plot = 'pr')"
      ]
    },
    {
      "cell_type": "markdown",
      "metadata": {
        "id": "IKF-X3SoFsqi"
      },
      "source": [
        "<span style=\"font-family: Arial; font-weight:bold;font-size:1.0em;color:#920445\"> Feature Importance Plot"
      ]
    },
    {
      "cell_type": "code",
      "execution_count": null,
      "metadata": {
        "id": "I_44aBWNFsqi",
        "outputId": "348b2bb3-e35c-4c7b-fbb3-fdbce2c9954e"
      },
      "outputs": [
        {
          "data": {
            "image/png": "[encoded data removed]",
            "text/plain": [
              "<Figure size 800x500 with 1 Axes>"
            ]
          },
          "metadata": {},
          "output_type": "display_data"
        }
      ],
      "source": [
        "plot_model(tuned_rf, plot='feature')"
      ]
    },
    {
      "cell_type": "markdown",
      "metadata": {
        "id": "SEo6dZIrFsqi"
      },
      "source": [
        "<span style=\"font-family: Arial; font-weight:bold;font-size:1.0em;color:#920445\"> Confusion Matrix"
      ]
    },
    {
      "cell_type": "code",
      "execution_count": null,
      "metadata": {
        "scrolled": false,
        "id": "0pJ50iqNFsqi",
        "outputId": "536d3522-faf5-4b11-9b6a-21fa864828c1"
      },
      "outputs": [
        {
          "data": {
            "image/png": "[encoded data removed]",
            "text/plain": [
              "<Figure size 576x396 with 1 Axes>"
            ]
          },
          "metadata": {},
          "output_type": "display_data"
        }
      ],
      "source": [
        "plot_model(tuned_rf, plot = 'confusion_matrix')"
      ]
    },
    {
      "cell_type": "markdown",
      "metadata": {
        "id": "7nysq2tYFsqi"
      },
      "source": [
        "The RF Classifier model has an excellent performance with AUC of 0.98 and average precision of 0.99. Also, the number of FP is only 5 and FN is 2."
      ]
    },
    {
      "cell_type": "markdown",
      "metadata": {
        "id": "1MS9vSFWFsqi"
      },
      "source": [
        "### ***Plotting Catboost Classifier Model***"
      ]
    },
    {
      "cell_type": "markdown",
      "metadata": {
        "id": "qYtwnSAeFsqi"
      },
      "source": [
        "#### **AUC Plot**"
      ]
    },
    {
      "cell_type": "code",
      "execution_count": null,
      "metadata": {
        "scrolled": false,
        "id": "sUcq-qhOFsqi",
        "outputId": "a023f060-a866-430b-9ca5-4cb7d83b3e11"
      },
      "outputs": [
        {
          "data": {
            "image/png": "[encoded data removed]",
            "text/plain": [
              "<Figure size 576x482.4 with 2 Axes>"
            ]
          },
          "metadata": {},
          "output_type": "display_data"
        }
      ],
      "source": [
        "interpret_model(tuned_catboost, plot = 'summary');"
      ]
    },
    {
      "cell_type": "markdown",
      "metadata": {
        "id": "B7_UQrLrFsqi"
      },
      "source": [
        "NOTE: Plotting Models for CatBoost Classifier Model is under development by Pycaret."
      ]
    },
    {
      "cell_type": "markdown",
      "metadata": {
        "id": "6zH5LpKOFsqi"
      },
      "source": [
        "### ***Plotting Gradient Boosting Classifier Model***"
      ]
    },
    {
      "cell_type": "markdown",
      "metadata": {
        "id": "BsVasj6RFsqi"
      },
      "source": [
        "#### **AUC Plot**"
      ]
    },
    {
      "cell_type": "code",
      "execution_count": null,
      "metadata": {
        "id": "MnSx-XxmFsqi",
        "outputId": "9cb1c977-ce11-48f3-d474-e79fbc21a7c4"
      },
      "outputs": [
        {
          "data": {
            "image/png": "[encoded data removed]",
            "text/plain": [
              "<Figure size 576x396 with 1 Axes>"
            ]
          },
          "metadata": {},
          "output_type": "display_data"
        }
      ],
      "source": [
        "plot_model(tuned_gbc, plot = 'auc')"
      ]
    },
    {
      "cell_type": "markdown",
      "metadata": {
        "id": "432c6Z1YFsqi"
      },
      "source": [
        "#### **Precision-Recall Curve**"
      ]
    },
    {
      "cell_type": "code",
      "execution_count": null,
      "metadata": {
        "id": "KMM_kV-PFsqi",
        "outputId": "13c19456-2d8a-489d-adc7-88c4ffb54f2c"
      },
      "outputs": [
        {
          "data": {
            "image/png": "[encoded data removed]",
            "text/plain": [
              "<Figure size 576x396 with 1 Axes>"
            ]
          },
          "metadata": {},
          "output_type": "display_data"
        }
      ],
      "source": [
        "plot_model(tuned_gbc, plot = 'pr')"
      ]
    },
    {
      "cell_type": "markdown",
      "metadata": {
        "id": "kkBdFX_4Fsqj"
      },
      "source": [
        "#### **Feature Importance Plot**"
      ]
    },
    {
      "cell_type": "code",
      "execution_count": null,
      "metadata": {
        "id": "jZpWC227Fsqj",
        "outputId": "082e5e42-75c4-4027-cab2-e50c58a8a5a8"
      },
      "outputs": [
        {
          "data": {
            "image/png": "[encoded data removed]",
            "text/plain": [
              "<Figure size 800x500 with 1 Axes>"
            ]
          },
          "metadata": {},
          "output_type": "display_data"
        }
      ],
      "source": [
        "plot_model(tuned_gbc, plot='feature')"
      ]
    },
    {
      "cell_type": "markdown",
      "metadata": {
        "id": "ZV7xeBYWFsqj"
      },
      "source": [
        "#### **Confusion Matrix**"
      ]
    },
    {
      "cell_type": "code",
      "execution_count": null,
      "metadata": {
        "scrolled": false,
        "id": "mh0BOxBpFsqj",
        "outputId": "47ebe5d0-d29f-4e40-c3f9-8c36d6a15d81"
      },
      "outputs": [
        {
          "data": {
            "image/png": "[encoded data removed]",
            "text/plain": [
              "<Figure size 576x396 with 1 Axes>"
            ]
          },
          "metadata": {},
          "output_type": "display_data"
        }
      ],
      "source": [
        "plot_model(tuned_gbc, plot = 'confusion_matrix')"
      ]
    },
    {
      "cell_type": "markdown",
      "metadata": {
        "id": "8R-nvE2mFsqj"
      },
      "source": [
        "The GBC Classifier model has the best performance with AUC of 0.99 and average precision of 1. Also, the number of FP is 0 and FN is 1."
      ]
    },
    {
      "cell_type": "markdown",
      "metadata": {
        "id": "-KWmaA3cFsqj"
      },
      "source": [
        "### ***Plotting LightGBM Classifier Model***"
      ]
    },
    {
      "cell_type": "markdown",
      "metadata": {
        "id": "jSeyym2eFsqj"
      },
      "source": [
        "#### **AUC Plot**"
      ]
    },
    {
      "cell_type": "code",
      "execution_count": null,
      "metadata": {
        "id": "g4GjoMWdFsqj",
        "outputId": "1bf16f3e-5225-440c-cea5-1608cf3d0cf5"
      },
      "outputs": [
        {
          "data": {
            "image/png": "[encoded data removed]",
            "text/plain": [
              "<Figure size 576x396 with 1 Axes>"
            ]
          },
          "metadata": {},
          "output_type": "display_data"
        }
      ],
      "source": [
        "plot_model(tuned_lightgbm, plot = 'auc')"
      ]
    },
    {
      "cell_type": "markdown",
      "metadata": {
        "id": "aZfe41GbFsqj"
      },
      "source": [
        "#### **Precision-Recall Curve**"
      ]
    },
    {
      "cell_type": "code",
      "execution_count": null,
      "metadata": {
        "id": "-rxNZAR0Fsqj",
        "outputId": "9506561e-2dd8-44fc-8de9-39465291db03"
      },
      "outputs": [
        {
          "data": {
            "image/png": "[encoded data removed]",
            "text/plain": [
              "<Figure size 576x396 with 1 Axes>"
            ]
          },
          "metadata": {},
          "output_type": "display_data"
        }
      ],
      "source": [
        "plot_model(tuned_lightgbm, plot = 'pr')"
      ]
    },
    {
      "cell_type": "markdown",
      "metadata": {
        "id": "zwFlg-6LFsqj"
      },
      "source": [
        "#### **Feature Importance Plot**"
      ]
    },
    {
      "cell_type": "code",
      "execution_count": null,
      "metadata": {
        "id": "rw2nuJiiFsqj",
        "outputId": "37c3d5ee-6a5f-45ce-ce0b-b3fd2a5d8929"
      },
      "outputs": [
        {
          "data": {
            "image/png": "[encoded data removed]",
            "text/plain": [
              "<Figure size 800x500 with 1 Axes>"
            ]
          },
          "metadata": {},
          "output_type": "display_data"
        }
      ],
      "source": [
        "plot_model(tuned_lightgbm, plot='feature')"
      ]
    },
    {
      "cell_type": "markdown",
      "metadata": {
        "id": "0Rj35VTRFsqj"
      },
      "source": [
        "#### **Confusion Matrix**"
      ]
    },
    {
      "cell_type": "code",
      "execution_count": null,
      "metadata": {
        "scrolled": false,
        "id": "4AyebROdFsqj",
        "outputId": "37b5a26d-2e1e-4409-b4ff-480ec06ddd51"
      },
      "outputs": [
        {
          "data": {
            "image/png": "[encoded data removed]",
            "text/plain": [
              "<Figure size 576x396 with 1 Axes>"
            ]
          },
          "metadata": {},
          "output_type": "display_data"
        }
      ],
      "source": [
        "plot_model(tuned_lightgbm, plot = 'confusion_matrix')"
      ]
    },
    {
      "cell_type": "markdown",
      "metadata": {
        "id": "pQ77un4VFsqj"
      },
      "source": [
        "Both the LGBM Classifier is also good with AUC of 0.97 and average precision of 0.99. The number of FP and FN are 3."
      ]
    },
    {
      "cell_type": "markdown",
      "metadata": {
        "id": "bfxiT5ixFsqj"
      },
      "source": [
        "## **Predicting on Test / Hold-out Sample**"
      ]
    },
    {
      "cell_type": "markdown",
      "metadata": {
        "id": "nLecLDgRFsqj"
      },
      "source": [
        "Before finalizing the model, it is advisable to perform one final check by predicting the test/hold-out set and reviewing the evaluation metrics. Now, using our final trained model stored in the tuned_xgb variable, we will predict against the test (hold-out) sample and evaluate the metrics to see if they are materially different than the CV results from trained model."
      ]
    },
    {
      "cell_type": "code",
      "execution_count": null,
      "metadata": {
        "scrolled": false,
        "id": "dcclO4QPFsqj",
        "outputId": "81b87c28-cf3c-4fe3-a923-8cfd0b8c59b7"
      },
      "outputs": [
        {
          "data": {
            "text/html": [
              "<div>\n",
              "<style scoped>\n",
              "    .dataframe tbody tr th:only-of-type {\n",
              "        vertical-align: middle;\n",
              "    }\n",
              "\n",
              "    .dataframe tbody tr th {\n",
              "        vertical-align: top;\n",
              "    }\n",
              "\n",
              "    .dataframe thead th {\n",
              "        text-align: right;\n",
              "    }\n",
              "</style>\n",
              "<table border=\"1\" class=\"dataframe\">\n",
              "  <thead>\n",
              "    <tr style=\"text-align: right;\">\n",
              "      <th></th>\n",
              "      <th>Model</th>\n",
              "      <th>Accuracy</th>\n",
              "      <th>AUC</th>\n",
              "      <th>Recall</th>\n",
              "      <th>Prec.</th>\n",
              "      <th>F1</th>\n",
              "      <th>Kappa</th>\n",
              "      <th>MCC</th>\n",
              "    </tr>\n",
              "  </thead>\n",
              "  <tbody>\n",
              "    <tr>\n",
              "      <th>0</th>\n",
              "      <td>Gradient Boosting Classifier</td>\n",
              "      <td>0.9821</td>\n",
              "      <td>0.9898</td>\n",
              "      <td>0.9762</td>\n",
              "      <td>1.0</td>\n",
              "      <td>0.988</td>\n",
              "      <td>0.9535</td>\n",
              "      <td>0.9545</td>\n",
              "    </tr>\n",
              "  </tbody>\n",
              "</table>\n",
              "</div>"
            ],
            "text/plain": [
              "                          Model  Accuracy     AUC  Recall  Prec.     F1  \\\n",
              "0  Gradient Boosting Classifier    0.9821  0.9898  0.9762    1.0  0.988   \n",
              "\n",
              "    Kappa     MCC  \n",
              "0  0.9535  0.9545  "
            ]
          },
          "metadata": {},
          "output_type": "display_data"
        }
      ],
      "source": [
        "predict_model(tuned_gbc);"
      ]
    },
    {
      "cell_type": "code",
      "execution_count": null,
      "metadata": {
        "id": "Nw6znvIJFsqj",
        "outputId": "4224cd2c-4b60-4bac-9936-4ebd78772a7c"
      },
      "outputs": [
        {
          "data": {
            "text/html": [
              "<div>\n",
              "<style scoped>\n",
              "    .dataframe tbody tr th:only-of-type {\n",
              "        vertical-align: middle;\n",
              "    }\n",
              "\n",
              "    .dataframe tbody tr th {\n",
              "        vertical-align: top;\n",
              "    }\n",
              "\n",
              "    .dataframe thead th {\n",
              "        text-align: right;\n",
              "    }\n",
              "</style>\n",
              "<table border=\"1\" class=\"dataframe\">\n",
              "  <thead>\n",
              "    <tr style=\"text-align: right;\">\n",
              "      <th></th>\n",
              "      <th>Model</th>\n",
              "      <th>Accuracy</th>\n",
              "      <th>AUC</th>\n",
              "      <th>Recall</th>\n",
              "      <th>Prec.</th>\n",
              "      <th>F1</th>\n",
              "      <th>Kappa</th>\n",
              "      <th>MCC</th>\n",
              "    </tr>\n",
              "  </thead>\n",
              "  <tbody>\n",
              "    <tr>\n",
              "      <th>0</th>\n",
              "      <td>Random Forest Classifier</td>\n",
              "      <td>0.875</td>\n",
              "      <td>0.9745</td>\n",
              "      <td>0.9524</td>\n",
              "      <td>0.8889</td>\n",
              "      <td>0.9195</td>\n",
              "      <td>0.641</td>\n",
              "      <td>0.6487</td>\n",
              "    </tr>\n",
              "  </tbody>\n",
              "</table>\n",
              "</div>"
            ],
            "text/plain": [
              "                      Model  Accuracy     AUC  Recall   Prec.      F1  Kappa  \\\n",
              "0  Random Forest Classifier     0.875  0.9745  0.9524  0.8889  0.9195  0.641   \n",
              "\n",
              "      MCC  \n",
              "0  0.6487  "
            ]
          },
          "metadata": {},
          "output_type": "display_data"
        }
      ],
      "source": [
        "predict_model(tuned_rf);"
      ]
    },
    {
      "cell_type": "code",
      "execution_count": null,
      "metadata": {
        "scrolled": false,
        "id": "EayuvJxpFsqk",
        "outputId": "95414d4e-3c0d-4b87-a5d2-d820aa6ae76d"
      },
      "outputs": [
        {
          "data": {
            "text/html": [
              "<div>\n",
              "<style scoped>\n",
              "    .dataframe tbody tr th:only-of-type {\n",
              "        vertical-align: middle;\n",
              "    }\n",
              "\n",
              "    .dataframe tbody tr th {\n",
              "        vertical-align: top;\n",
              "    }\n",
              "\n",
              "    .dataframe thead th {\n",
              "        text-align: right;\n",
              "    }\n",
              "</style>\n",
              "<table border=\"1\" class=\"dataframe\">\n",
              "  <thead>\n",
              "    <tr style=\"text-align: right;\">\n",
              "      <th></th>\n",
              "      <th>Model</th>\n",
              "      <th>Accuracy</th>\n",
              "      <th>AUC</th>\n",
              "      <th>Recall</th>\n",
              "      <th>Prec.</th>\n",
              "      <th>F1</th>\n",
              "      <th>Kappa</th>\n",
              "      <th>MCC</th>\n",
              "    </tr>\n",
              "  </thead>\n",
              "  <tbody>\n",
              "    <tr>\n",
              "      <th>0</th>\n",
              "      <td>Extra Trees Classifier</td>\n",
              "      <td>0.75</td>\n",
              "      <td>0.8452</td>\n",
              "      <td>0.7381</td>\n",
              "      <td>0.9118</td>\n",
              "      <td>0.8158</td>\n",
              "      <td>0.44</td>\n",
              "      <td>0.4644</td>\n",
              "    </tr>\n",
              "  </tbody>\n",
              "</table>\n",
              "</div>"
            ],
            "text/plain": [
              "                    Model  Accuracy     AUC  Recall   Prec.      F1  Kappa  \\\n",
              "0  Extra Trees Classifier      0.75  0.8452  0.7381  0.9118  0.8158   0.44   \n",
              "\n",
              "      MCC  \n",
              "0  0.4644  "
            ]
          },
          "metadata": {},
          "output_type": "display_data"
        }
      ],
      "source": [
        "predict_model(tuned_et);"
      ]
    },
    {
      "cell_type": "markdown",
      "metadata": {
        "id": "PQqUM6RVFsqk"
      },
      "source": [
        "The accuracy on test/hold-out set is 0.98 compared to 0.99 achieved on the tuned_lgbm CV results. There is not a significance difference. Thus, we will finalize the LGBM Classifier model. "
      ]
    },
    {
      "cell_type": "code",
      "execution_count": null,
      "metadata": {
        "scrolled": true,
        "id": "fqvQIX5NFsqk",
        "outputId": "7119968b-8161-4f7c-d247-24991c81cce7"
      },
      "outputs": [
        {
          "data": {
            "text/html": [
              "<div>\n",
              "<style scoped>\n",
              "    .dataframe tbody tr th:only-of-type {\n",
              "        vertical-align: middle;\n",
              "    }\n",
              "\n",
              "    .dataframe tbody tr th {\n",
              "        vertical-align: top;\n",
              "    }\n",
              "\n",
              "    .dataframe thead th {\n",
              "        text-align: right;\n",
              "    }\n",
              "</style>\n",
              "<table border=\"1\" class=\"dataframe\">\n",
              "  <thead>\n",
              "    <tr style=\"text-align: right;\">\n",
              "      <th></th>\n",
              "      <th>Model</th>\n",
              "      <th>Accuracy</th>\n",
              "      <th>AUC</th>\n",
              "      <th>Recall</th>\n",
              "      <th>Prec.</th>\n",
              "      <th>F1</th>\n",
              "      <th>Kappa</th>\n",
              "      <th>MCC</th>\n",
              "    </tr>\n",
              "  </thead>\n",
              "  <tbody>\n",
              "    <tr>\n",
              "      <th>0</th>\n",
              "      <td>CatBoost Classifier</td>\n",
              "      <td>0.7857</td>\n",
              "      <td>0.8963</td>\n",
              "      <td>0.8333</td>\n",
              "      <td>0.875</td>\n",
              "      <td>0.8537</td>\n",
              "      <td>0.4545</td>\n",
              "      <td>0.4564</td>\n",
              "    </tr>\n",
              "  </tbody>\n",
              "</table>\n",
              "</div>"
            ],
            "text/plain": [
              "                 Model  Accuracy     AUC  Recall  Prec.      F1   Kappa  \\\n",
              "0  CatBoost Classifier    0.7857  0.8963  0.8333  0.875  0.8537  0.4545   \n",
              "\n",
              "      MCC  \n",
              "0  0.4564  "
            ]
          },
          "metadata": {},
          "output_type": "display_data"
        }
      ],
      "source": [
        "predict_model(tuned_catboost);"
      ]
    },
    {
      "cell_type": "code",
      "execution_count": null,
      "metadata": {
        "scrolled": false,
        "id": "gEquB1oAFsqk",
        "outputId": "534012b7-2052-4157-c56c-9972e3e368eb"
      },
      "outputs": [
        {
          "data": {
            "text/html": [
              "<div>\n",
              "<style scoped>\n",
              "    .dataframe tbody tr th:only-of-type {\n",
              "        vertical-align: middle;\n",
              "    }\n",
              "\n",
              "    .dataframe tbody tr th {\n",
              "        vertical-align: top;\n",
              "    }\n",
              "\n",
              "    .dataframe thead th {\n",
              "        text-align: right;\n",
              "    }\n",
              "</style>\n",
              "<table border=\"1\" class=\"dataframe\">\n",
              "  <thead>\n",
              "    <tr style=\"text-align: right;\">\n",
              "      <th></th>\n",
              "      <th>Model</th>\n",
              "      <th>Accuracy</th>\n",
              "      <th>AUC</th>\n",
              "      <th>Recall</th>\n",
              "      <th>Prec.</th>\n",
              "      <th>F1</th>\n",
              "      <th>Kappa</th>\n",
              "      <th>MCC</th>\n",
              "    </tr>\n",
              "  </thead>\n",
              "  <tbody>\n",
              "    <tr>\n",
              "      <th>0</th>\n",
              "      <td>Light Gradient Boosting Machine</td>\n",
              "      <td>0.8929</td>\n",
              "      <td>0.9677</td>\n",
              "      <td>0.9286</td>\n",
              "      <td>0.9286</td>\n",
              "      <td>0.9286</td>\n",
              "      <td>0.7143</td>\n",
              "      <td>0.7143</td>\n",
              "    </tr>\n",
              "  </tbody>\n",
              "</table>\n",
              "</div>"
            ],
            "text/plain": [
              "                             Model  Accuracy     AUC  Recall   Prec.      F1  \\\n",
              "0  Light Gradient Boosting Machine    0.8929  0.9677  0.9286  0.9286  0.9286   \n",
              "\n",
              "    Kappa     MCC  \n",
              "0  0.7143  0.7143  "
            ]
          },
          "metadata": {},
          "output_type": "display_data"
        }
      ],
      "source": [
        "predict_model(tuned_lightgbm);"
      ]
    },
    {
      "cell_type": "markdown",
      "metadata": {
        "id": "vByOTS-NFsqk"
      },
      "source": [
        "OBSERVATION:\n",
        "    The Gradient Boosting Classifier model is the best model of all the models. The precision is 100%, F1 is 98.8% and Recall is 97.6%. The overall Accuracy is 98.2%"
      ]
    },
    {
      "cell_type": "markdown",
      "metadata": {
        "id": "frCmtsfnFsqk"
      },
      "source": [
        "## **Ensembling Models**"
      ]
    },
    {
      "cell_type": "markdown",
      "metadata": {
        "id": "ist_0kecFsqk"
      },
      "source": [
        "Ensembling a trained model is as simple as writing ensemble_model. It takes only one mandatory parameter i.e. the trained model object. This functions returns a table with k-fold cross validated scores of common evaluation metrics along with trained model object. The evaluation metrics used are:\n",
        "\n",
        "Classification: Accuracy, AUC, Recall, Precision, F1, Kappa, MCC\n",
        "Regression: MAE, MSE, RMSE, R2, RMSLE, MAPE\n",
        "The number of folds can be defined using fold parameter within ensemble_model function. By default, the fold is set to 10. All the metrics are rounded to 4 decimals by default by can be changed using round parameter. There are two methods available for ensembling that can be set using method parameter within ensemble_model function. Both the methods require re-sampling of the data and fitting multiple estimators, hence the number of estimators can be controlled using n_estimators parameter. By default, n_estimators is set to 10."
      ]
    },
    {
      "cell_type": "markdown",
      "metadata": {
        "id": "o_hgasOnFsqk"
      },
      "source": [
        "<span style=\"font-family: Arial; font-weight:bold;font-size:1.2em;color:#4E9258\"> Applying the Bagging and Boosting Ensemble Techniques"
      ]
    },
    {
      "cell_type": "code",
      "execution_count": null,
      "metadata": {
        "scrolled": false,
        "id": "kQhDVQobFsqk",
        "outputId": "180f9b35-09a6-49a9-aa89-04a99ffba906"
      },
      "outputs": [
        {
          "data": {
            "text/html": [
              "<style  type=\"text/css\" >\n",
              "#T_d5208400_2738_11eb_a1f0_1065307ae51arow10_col0,#T_d5208400_2738_11eb_a1f0_1065307ae51arow10_col1,#T_d5208400_2738_11eb_a1f0_1065307ae51arow10_col2,#T_d5208400_2738_11eb_a1f0_1065307ae51arow10_col3,#T_d5208400_2738_11eb_a1f0_1065307ae51arow10_col4,#T_d5208400_2738_11eb_a1f0_1065307ae51arow10_col5,#T_d5208400_2738_11eb_a1f0_1065307ae51arow10_col6{\n",
              "            background:  yellow;\n",
              "        }</style><table id=\"T_d5208400_2738_11eb_a1f0_1065307ae51a\" ><thead>    <tr>        <th class=\"blank level0\" ></th>        <th class=\"col_heading level0 col0\" >Accuracy</th>        <th class=\"col_heading level0 col1\" >AUC</th>        <th class=\"col_heading level0 col2\" >Recall</th>        <th class=\"col_heading level0 col3\" >Prec.</th>        <th class=\"col_heading level0 col4\" >F1</th>        <th class=\"col_heading level0 col5\" >Kappa</th>        <th class=\"col_heading level0 col6\" >MCC</th>    </tr></thead><tbody>\n",
              "                <tr>\n",
              "                        <th id=\"T_d5208400_2738_11eb_a1f0_1065307ae51alevel0_row0\" class=\"row_heading level0 row0\" >0</th>\n",
              "                        <td id=\"T_d5208400_2738_11eb_a1f0_1065307ae51arow0_col0\" class=\"data row0 col0\" >1.0000</td>\n",
              "                        <td id=\"T_d5208400_2738_11eb_a1f0_1065307ae51arow0_col1\" class=\"data row0 col1\" >1.0000</td>\n",
              "                        <td id=\"T_d5208400_2738_11eb_a1f0_1065307ae51arow0_col2\" class=\"data row0 col2\" >1.0000</td>\n",
              "                        <td id=\"T_d5208400_2738_11eb_a1f0_1065307ae51arow0_col3\" class=\"data row0 col3\" >1.0000</td>\n",
              "                        <td id=\"T_d5208400_2738_11eb_a1f0_1065307ae51arow0_col4\" class=\"data row0 col4\" >1.0000</td>\n",
              "                        <td id=\"T_d5208400_2738_11eb_a1f0_1065307ae51arow0_col5\" class=\"data row0 col5\" >1.0000</td>\n",
              "                        <td id=\"T_d5208400_2738_11eb_a1f0_1065307ae51arow0_col6\" class=\"data row0 col6\" >1.0000</td>\n",
              "            </tr>\n",
              "            <tr>\n",
              "                        <th id=\"T_d5208400_2738_11eb_a1f0_1065307ae51alevel0_row1\" class=\"row_heading level0 row1\" >1</th>\n",
              "                        <td id=\"T_d5208400_2738_11eb_a1f0_1065307ae51arow1_col0\" class=\"data row1 col0\" >0.7692</td>\n",
              "                        <td id=\"T_d5208400_2738_11eb_a1f0_1065307ae51arow1_col1\" class=\"data row1 col1\" >0.9000</td>\n",
              "                        <td id=\"T_d5208400_2738_11eb_a1f0_1065307ae51arow1_col2\" class=\"data row1 col2\" >0.9000</td>\n",
              "                        <td id=\"T_d5208400_2738_11eb_a1f0_1065307ae51arow1_col3\" class=\"data row1 col3\" >0.8182</td>\n",
              "                        <td id=\"T_d5208400_2738_11eb_a1f0_1065307ae51arow1_col4\" class=\"data row1 col4\" >0.8571</td>\n",
              "                        <td id=\"T_d5208400_2738_11eb_a1f0_1065307ae51arow1_col5\" class=\"data row1 col5\" >0.2642</td>\n",
              "                        <td id=\"T_d5208400_2738_11eb_a1f0_1065307ae51arow1_col6\" class=\"data row1 col6\" >0.2725</td>\n",
              "            </tr>\n",
              "            <tr>\n",
              "                        <th id=\"T_d5208400_2738_11eb_a1f0_1065307ae51alevel0_row2\" class=\"row_heading level0 row2\" >2</th>\n",
              "                        <td id=\"T_d5208400_2738_11eb_a1f0_1065307ae51arow2_col0\" class=\"data row2 col0\" >0.6154</td>\n",
              "                        <td id=\"T_d5208400_2738_11eb_a1f0_1065307ae51arow2_col1\" class=\"data row2 col1\" >0.8167</td>\n",
              "                        <td id=\"T_d5208400_2738_11eb_a1f0_1065307ae51arow2_col2\" class=\"data row2 col2\" >0.6000</td>\n",
              "                        <td id=\"T_d5208400_2738_11eb_a1f0_1065307ae51arow2_col3\" class=\"data row2 col3\" >0.8571</td>\n",
              "                        <td id=\"T_d5208400_2738_11eb_a1f0_1065307ae51arow2_col4\" class=\"data row2 col4\" >0.7059</td>\n",
              "                        <td id=\"T_d5208400_2738_11eb_a1f0_1065307ae51arow2_col5\" class=\"data row2 col5\" >0.1975</td>\n",
              "                        <td id=\"T_d5208400_2738_11eb_a1f0_1065307ae51arow2_col6\" class=\"data row2 col6\" >0.2254</td>\n",
              "            </tr>\n",
              "            <tr>\n",
              "                        <th id=\"T_d5208400_2738_11eb_a1f0_1065307ae51alevel0_row3\" class=\"row_heading level0 row3\" >3</th>\n",
              "                        <td id=\"T_d5208400_2738_11eb_a1f0_1065307ae51arow3_col0\" class=\"data row3 col0\" >0.9231</td>\n",
              "                        <td id=\"T_d5208400_2738_11eb_a1f0_1065307ae51arow3_col1\" class=\"data row3 col1\" >0.9333</td>\n",
              "                        <td id=\"T_d5208400_2738_11eb_a1f0_1065307ae51arow3_col2\" class=\"data row3 col2\" >1.0000</td>\n",
              "                        <td id=\"T_d5208400_2738_11eb_a1f0_1065307ae51arow3_col3\" class=\"data row3 col3\" >0.9091</td>\n",
              "                        <td id=\"T_d5208400_2738_11eb_a1f0_1065307ae51arow3_col4\" class=\"data row3 col4\" >0.9524</td>\n",
              "                        <td id=\"T_d5208400_2738_11eb_a1f0_1065307ae51arow3_col5\" class=\"data row3 col5\" >0.7547</td>\n",
              "                        <td id=\"T_d5208400_2738_11eb_a1f0_1065307ae51arow3_col6\" class=\"data row3 col6\" >0.7785</td>\n",
              "            </tr>\n",
              "            <tr>\n",
              "                        <th id=\"T_d5208400_2738_11eb_a1f0_1065307ae51alevel0_row4\" class=\"row_heading level0 row4\" >4</th>\n",
              "                        <td id=\"T_d5208400_2738_11eb_a1f0_1065307ae51arow4_col0\" class=\"data row4 col0\" >0.9231</td>\n",
              "                        <td id=\"T_d5208400_2738_11eb_a1f0_1065307ae51arow4_col1\" class=\"data row4 col1\" >0.9667</td>\n",
              "                        <td id=\"T_d5208400_2738_11eb_a1f0_1065307ae51arow4_col2\" class=\"data row4 col2\" >0.9000</td>\n",
              "                        <td id=\"T_d5208400_2738_11eb_a1f0_1065307ae51arow4_col3\" class=\"data row4 col3\" >1.0000</td>\n",
              "                        <td id=\"T_d5208400_2738_11eb_a1f0_1065307ae51arow4_col4\" class=\"data row4 col4\" >0.9474</td>\n",
              "                        <td id=\"T_d5208400_2738_11eb_a1f0_1065307ae51arow4_col5\" class=\"data row4 col5\" >0.8060</td>\n",
              "                        <td id=\"T_d5208400_2738_11eb_a1f0_1065307ae51arow4_col6\" class=\"data row4 col6\" >0.8216</td>\n",
              "            </tr>\n",
              "            <tr>\n",
              "                        <th id=\"T_d5208400_2738_11eb_a1f0_1065307ae51alevel0_row5\" class=\"row_heading level0 row5\" >5</th>\n",
              "                        <td id=\"T_d5208400_2738_11eb_a1f0_1065307ae51arow5_col0\" class=\"data row5 col0\" >0.7692</td>\n",
              "                        <td id=\"T_d5208400_2738_11eb_a1f0_1065307ae51arow5_col1\" class=\"data row5 col1\" >0.9333</td>\n",
              "                        <td id=\"T_d5208400_2738_11eb_a1f0_1065307ae51arow5_col2\" class=\"data row5 col2\" >0.8000</td>\n",
              "                        <td id=\"T_d5208400_2738_11eb_a1f0_1065307ae51arow5_col3\" class=\"data row5 col3\" >0.8889</td>\n",
              "                        <td id=\"T_d5208400_2738_11eb_a1f0_1065307ae51arow5_col4\" class=\"data row5 col4\" >0.8421</td>\n",
              "                        <td id=\"T_d5208400_2738_11eb_a1f0_1065307ae51arow5_col5\" class=\"data row5 col5\" >0.4179</td>\n",
              "                        <td id=\"T_d5208400_2738_11eb_a1f0_1065307ae51arow5_col6\" class=\"data row5 col6\" >0.4260</td>\n",
              "            </tr>\n",
              "            <tr>\n",
              "                        <th id=\"T_d5208400_2738_11eb_a1f0_1065307ae51alevel0_row6\" class=\"row_heading level0 row6\" >6</th>\n",
              "                        <td id=\"T_d5208400_2738_11eb_a1f0_1065307ae51arow6_col0\" class=\"data row6 col0\" >0.9231</td>\n",
              "                        <td id=\"T_d5208400_2738_11eb_a1f0_1065307ae51arow6_col1\" class=\"data row6 col1\" >0.9833</td>\n",
              "                        <td id=\"T_d5208400_2738_11eb_a1f0_1065307ae51arow6_col2\" class=\"data row6 col2\" >0.9000</td>\n",
              "                        <td id=\"T_d5208400_2738_11eb_a1f0_1065307ae51arow6_col3\" class=\"data row6 col3\" >1.0000</td>\n",
              "                        <td id=\"T_d5208400_2738_11eb_a1f0_1065307ae51arow6_col4\" class=\"data row6 col4\" >0.9474</td>\n",
              "                        <td id=\"T_d5208400_2738_11eb_a1f0_1065307ae51arow6_col5\" class=\"data row6 col5\" >0.8060</td>\n",
              "                        <td id=\"T_d5208400_2738_11eb_a1f0_1065307ae51arow6_col6\" class=\"data row6 col6\" >0.8216</td>\n",
              "            </tr>\n",
              "            <tr>\n",
              "                        <th id=\"T_d5208400_2738_11eb_a1f0_1065307ae51alevel0_row7\" class=\"row_heading level0 row7\" >7</th>\n",
              "                        <td id=\"T_d5208400_2738_11eb_a1f0_1065307ae51arow7_col0\" class=\"data row7 col0\" >1.0000</td>\n",
              "                        <td id=\"T_d5208400_2738_11eb_a1f0_1065307ae51arow7_col1\" class=\"data row7 col1\" >1.0000</td>\n",
              "                        <td id=\"T_d5208400_2738_11eb_a1f0_1065307ae51arow7_col2\" class=\"data row7 col2\" >1.0000</td>\n",
              "                        <td id=\"T_d5208400_2738_11eb_a1f0_1065307ae51arow7_col3\" class=\"data row7 col3\" >1.0000</td>\n",
              "                        <td id=\"T_d5208400_2738_11eb_a1f0_1065307ae51arow7_col4\" class=\"data row7 col4\" >1.0000</td>\n",
              "                        <td id=\"T_d5208400_2738_11eb_a1f0_1065307ae51arow7_col5\" class=\"data row7 col5\" >1.0000</td>\n",
              "                        <td id=\"T_d5208400_2738_11eb_a1f0_1065307ae51arow7_col6\" class=\"data row7 col6\" >1.0000</td>\n",
              "            </tr>\n",
              "            <tr>\n",
              "                        <th id=\"T_d5208400_2738_11eb_a1f0_1065307ae51alevel0_row8\" class=\"row_heading level0 row8\" >8</th>\n",
              "                        <td id=\"T_d5208400_2738_11eb_a1f0_1065307ae51arow8_col0\" class=\"data row8 col0\" >1.0000</td>\n",
              "                        <td id=\"T_d5208400_2738_11eb_a1f0_1065307ae51arow8_col1\" class=\"data row8 col1\" >1.0000</td>\n",
              "                        <td id=\"T_d5208400_2738_11eb_a1f0_1065307ae51arow8_col2\" class=\"data row8 col2\" >1.0000</td>\n",
              "                        <td id=\"T_d5208400_2738_11eb_a1f0_1065307ae51arow8_col3\" class=\"data row8 col3\" >1.0000</td>\n",
              "                        <td id=\"T_d5208400_2738_11eb_a1f0_1065307ae51arow8_col4\" class=\"data row8 col4\" >1.0000</td>\n",
              "                        <td id=\"T_d5208400_2738_11eb_a1f0_1065307ae51arow8_col5\" class=\"data row8 col5\" >1.0000</td>\n",
              "                        <td id=\"T_d5208400_2738_11eb_a1f0_1065307ae51arow8_col6\" class=\"data row8 col6\" >1.0000</td>\n",
              "            </tr>\n",
              "            <tr>\n",
              "                        <th id=\"T_d5208400_2738_11eb_a1f0_1065307ae51alevel0_row9\" class=\"row_heading level0 row9\" >9</th>\n",
              "                        <td id=\"T_d5208400_2738_11eb_a1f0_1065307ae51arow9_col0\" class=\"data row9 col0\" >1.0000</td>\n",
              "                        <td id=\"T_d5208400_2738_11eb_a1f0_1065307ae51arow9_col1\" class=\"data row9 col1\" >1.0000</td>\n",
              "                        <td id=\"T_d5208400_2738_11eb_a1f0_1065307ae51arow9_col2\" class=\"data row9 col2\" >1.0000</td>\n",
              "                        <td id=\"T_d5208400_2738_11eb_a1f0_1065307ae51arow9_col3\" class=\"data row9 col3\" >1.0000</td>\n",
              "                        <td id=\"T_d5208400_2738_11eb_a1f0_1065307ae51arow9_col4\" class=\"data row9 col4\" >1.0000</td>\n",
              "                        <td id=\"T_d5208400_2738_11eb_a1f0_1065307ae51arow9_col5\" class=\"data row9 col5\" >1.0000</td>\n",
              "                        <td id=\"T_d5208400_2738_11eb_a1f0_1065307ae51arow9_col6\" class=\"data row9 col6\" >1.0000</td>\n",
              "            </tr>\n",
              "            <tr>\n",
              "                        <th id=\"T_d5208400_2738_11eb_a1f0_1065307ae51alevel0_row10\" class=\"row_heading level0 row10\" >Mean</th>\n",
              "                        <td id=\"T_d5208400_2738_11eb_a1f0_1065307ae51arow10_col0\" class=\"data row10 col0\" >0.8923</td>\n",
              "                        <td id=\"T_d5208400_2738_11eb_a1f0_1065307ae51arow10_col1\" class=\"data row10 col1\" >0.9533</td>\n",
              "                        <td id=\"T_d5208400_2738_11eb_a1f0_1065307ae51arow10_col2\" class=\"data row10 col2\" >0.9100</td>\n",
              "                        <td id=\"T_d5208400_2738_11eb_a1f0_1065307ae51arow10_col3\" class=\"data row10 col3\" >0.9473</td>\n",
              "                        <td id=\"T_d5208400_2738_11eb_a1f0_1065307ae51arow10_col4\" class=\"data row10 col4\" >0.9252</td>\n",
              "                        <td id=\"T_d5208400_2738_11eb_a1f0_1065307ae51arow10_col5\" class=\"data row10 col5\" >0.7246</td>\n",
              "                        <td id=\"T_d5208400_2738_11eb_a1f0_1065307ae51arow10_col6\" class=\"data row10 col6\" >0.7346</td>\n",
              "            </tr>\n",
              "            <tr>\n",
              "                        <th id=\"T_d5208400_2738_11eb_a1f0_1065307ae51alevel0_row11\" class=\"row_heading level0 row11\" >SD</th>\n",
              "                        <td id=\"T_d5208400_2738_11eb_a1f0_1065307ae51arow11_col0\" class=\"data row11 col0\" >0.1250</td>\n",
              "                        <td id=\"T_d5208400_2738_11eb_a1f0_1065307ae51arow11_col1\" class=\"data row11 col1\" >0.0567</td>\n",
              "                        <td id=\"T_d5208400_2738_11eb_a1f0_1065307ae51arow11_col2\" class=\"data row11 col2\" >0.1221</td>\n",
              "                        <td id=\"T_d5208400_2738_11eb_a1f0_1065307ae51arow11_col3\" class=\"data row11 col3\" >0.0681</td>\n",
              "                        <td id=\"T_d5208400_2738_11eb_a1f0_1065307ae51arow11_col4\" class=\"data row11 col4\" >0.0915</td>\n",
              "                        <td id=\"T_d5208400_2738_11eb_a1f0_1065307ae51arow11_col5\" class=\"data row11 col5\" >0.3002</td>\n",
              "                        <td id=\"T_d5208400_2738_11eb_a1f0_1065307ae51arow11_col6\" class=\"data row11 col6\" >0.2944</td>\n",
              "            </tr>\n",
              "    </tbody></table>"
            ],
            "text/plain": [
              "<pandas.io.formats.style.Styler at 0x1e61130d518>"
            ]
          },
          "metadata": {},
          "output_type": "display_data"
        }
      ],
      "source": [
        "# Importing module and initializing setup \n",
        "from pycaret.classification import * \n",
        "\n",
        "clf1 = setup(data = data, target = 'status') \n",
        "# train a Light GBM model\n",
        "rf = create_model('rf')\n",
        "# train a bagging classifier on Light GBM\n",
        "bagged_rf = ensemble_model(rf, method = 'Bagging')\n",
        "# train an adaboost classifier on Light GBM with 100 estimators\n",
        "boosted_rf = ensemble_model(rf, method = 'Boosting', n_estimators = 100)"
      ]
    },
    {
      "cell_type": "code",
      "execution_count": null,
      "metadata": {
        "scrolled": false,
        "id": "sGiAQ0kSFsqk",
        "outputId": "0b7a2ebb-49b8-4f9e-8ff0-7117de52f279"
      },
      "outputs": [
        {
          "data": {
            "text/html": [
              "<style  type=\"text/css\" >\n",
              "#T_f84ce70c_2738_11eb_90fa_1065307ae51arow10_col0,#T_f84ce70c_2738_11eb_90fa_1065307ae51arow10_col1,#T_f84ce70c_2738_11eb_90fa_1065307ae51arow10_col2,#T_f84ce70c_2738_11eb_90fa_1065307ae51arow10_col3,#T_f84ce70c_2738_11eb_90fa_1065307ae51arow10_col4,#T_f84ce70c_2738_11eb_90fa_1065307ae51arow10_col5,#T_f84ce70c_2738_11eb_90fa_1065307ae51arow10_col6{\n",
              "            background:  yellow;\n",
              "        }</style><table id=\"T_f84ce70c_2738_11eb_90fa_1065307ae51a\" ><thead>    <tr>        <th class=\"blank level0\" ></th>        <th class=\"col_heading level0 col0\" >Accuracy</th>        <th class=\"col_heading level0 col1\" >AUC</th>        <th class=\"col_heading level0 col2\" >Recall</th>        <th class=\"col_heading level0 col3\" >Prec.</th>        <th class=\"col_heading level0 col4\" >F1</th>        <th class=\"col_heading level0 col5\" >Kappa</th>        <th class=\"col_heading level0 col6\" >MCC</th>    </tr></thead><tbody>\n",
              "                <tr>\n",
              "                        <th id=\"T_f84ce70c_2738_11eb_90fa_1065307ae51alevel0_row0\" class=\"row_heading level0 row0\" >0</th>\n",
              "                        <td id=\"T_f84ce70c_2738_11eb_90fa_1065307ae51arow0_col0\" class=\"data row0 col0\" >0.8462</td>\n",
              "                        <td id=\"T_f84ce70c_2738_11eb_90fa_1065307ae51arow0_col1\" class=\"data row0 col1\" >1.0000</td>\n",
              "                        <td id=\"T_f84ce70c_2738_11eb_90fa_1065307ae51arow0_col2\" class=\"data row0 col2\" >1.0000</td>\n",
              "                        <td id=\"T_f84ce70c_2738_11eb_90fa_1065307ae51arow0_col3\" class=\"data row0 col3\" >0.8182</td>\n",
              "                        <td id=\"T_f84ce70c_2738_11eb_90fa_1065307ae51arow0_col4\" class=\"data row0 col4\" >0.9000</td>\n",
              "                        <td id=\"T_f84ce70c_2738_11eb_90fa_1065307ae51arow0_col5\" class=\"data row0 col5\" >0.5806</td>\n",
              "                        <td id=\"T_f84ce70c_2738_11eb_90fa_1065307ae51arow0_col6\" class=\"data row0 col6\" >0.6396</td>\n",
              "            </tr>\n",
              "            <tr>\n",
              "                        <th id=\"T_f84ce70c_2738_11eb_90fa_1065307ae51alevel0_row1\" class=\"row_heading level0 row1\" >1</th>\n",
              "                        <td id=\"T_f84ce70c_2738_11eb_90fa_1065307ae51arow1_col0\" class=\"data row1 col0\" >0.9231</td>\n",
              "                        <td id=\"T_f84ce70c_2738_11eb_90fa_1065307ae51arow1_col1\" class=\"data row1 col1\" >1.0000</td>\n",
              "                        <td id=\"T_f84ce70c_2738_11eb_90fa_1065307ae51arow1_col2\" class=\"data row1 col2\" >1.0000</td>\n",
              "                        <td id=\"T_f84ce70c_2738_11eb_90fa_1065307ae51arow1_col3\" class=\"data row1 col3\" >0.9091</td>\n",
              "                        <td id=\"T_f84ce70c_2738_11eb_90fa_1065307ae51arow1_col4\" class=\"data row1 col4\" >0.9524</td>\n",
              "                        <td id=\"T_f84ce70c_2738_11eb_90fa_1065307ae51arow1_col5\" class=\"data row1 col5\" >0.7547</td>\n",
              "                        <td id=\"T_f84ce70c_2738_11eb_90fa_1065307ae51arow1_col6\" class=\"data row1 col6\" >0.7785</td>\n",
              "            </tr>\n",
              "            <tr>\n",
              "                        <th id=\"T_f84ce70c_2738_11eb_90fa_1065307ae51alevel0_row2\" class=\"row_heading level0 row2\" >2</th>\n",
              "                        <td id=\"T_f84ce70c_2738_11eb_90fa_1065307ae51arow2_col0\" class=\"data row2 col0\" >0.8462</td>\n",
              "                        <td id=\"T_f84ce70c_2738_11eb_90fa_1065307ae51arow2_col1\" class=\"data row2 col1\" >0.8333</td>\n",
              "                        <td id=\"T_f84ce70c_2738_11eb_90fa_1065307ae51arow2_col2\" class=\"data row2 col2\" >0.9000</td>\n",
              "                        <td id=\"T_f84ce70c_2738_11eb_90fa_1065307ae51arow2_col3\" class=\"data row2 col3\" >0.9000</td>\n",
              "                        <td id=\"T_f84ce70c_2738_11eb_90fa_1065307ae51arow2_col4\" class=\"data row2 col4\" >0.9000</td>\n",
              "                        <td id=\"T_f84ce70c_2738_11eb_90fa_1065307ae51arow2_col5\" class=\"data row2 col5\" >0.5667</td>\n",
              "                        <td id=\"T_f84ce70c_2738_11eb_90fa_1065307ae51arow2_col6\" class=\"data row2 col6\" >0.5667</td>\n",
              "            </tr>\n",
              "            <tr>\n",
              "                        <th id=\"T_f84ce70c_2738_11eb_90fa_1065307ae51alevel0_row3\" class=\"row_heading level0 row3\" >3</th>\n",
              "                        <td id=\"T_f84ce70c_2738_11eb_90fa_1065307ae51arow3_col0\" class=\"data row3 col0\" >0.6923</td>\n",
              "                        <td id=\"T_f84ce70c_2738_11eb_90fa_1065307ae51arow3_col1\" class=\"data row3 col1\" >0.9000</td>\n",
              "                        <td id=\"T_f84ce70c_2738_11eb_90fa_1065307ae51arow3_col2\" class=\"data row3 col2\" >0.7000</td>\n",
              "                        <td id=\"T_f84ce70c_2738_11eb_90fa_1065307ae51arow3_col3\" class=\"data row3 col3\" >0.8750</td>\n",
              "                        <td id=\"T_f84ce70c_2738_11eb_90fa_1065307ae51arow3_col4\" class=\"data row3 col4\" >0.7778</td>\n",
              "                        <td id=\"T_f84ce70c_2738_11eb_90fa_1065307ae51arow3_col5\" class=\"data row3 col5\" >0.2973</td>\n",
              "                        <td id=\"T_f84ce70c_2738_11eb_90fa_1065307ae51arow3_col6\" class=\"data row3 col6\" >0.3175</td>\n",
              "            </tr>\n",
              "            <tr>\n",
              "                        <th id=\"T_f84ce70c_2738_11eb_90fa_1065307ae51alevel0_row4\" class=\"row_heading level0 row4\" >4</th>\n",
              "                        <td id=\"T_f84ce70c_2738_11eb_90fa_1065307ae51arow4_col0\" class=\"data row4 col0\" >0.8462</td>\n",
              "                        <td id=\"T_f84ce70c_2738_11eb_90fa_1065307ae51arow4_col1\" class=\"data row4 col1\" >0.9333</td>\n",
              "                        <td id=\"T_f84ce70c_2738_11eb_90fa_1065307ae51arow4_col2\" class=\"data row4 col2\" >0.8000</td>\n",
              "                        <td id=\"T_f84ce70c_2738_11eb_90fa_1065307ae51arow4_col3\" class=\"data row4 col3\" >1.0000</td>\n",
              "                        <td id=\"T_f84ce70c_2738_11eb_90fa_1065307ae51arow4_col4\" class=\"data row4 col4\" >0.8889</td>\n",
              "                        <td id=\"T_f84ce70c_2738_11eb_90fa_1065307ae51arow4_col5\" class=\"data row4 col5\" >0.6486</td>\n",
              "                        <td id=\"T_f84ce70c_2738_11eb_90fa_1065307ae51arow4_col6\" class=\"data row4 col6\" >0.6928</td>\n",
              "            </tr>\n",
              "            <tr>\n",
              "                        <th id=\"T_f84ce70c_2738_11eb_90fa_1065307ae51alevel0_row5\" class=\"row_heading level0 row5\" >5</th>\n",
              "                        <td id=\"T_f84ce70c_2738_11eb_90fa_1065307ae51arow5_col0\" class=\"data row5 col0\" >1.0000</td>\n",
              "                        <td id=\"T_f84ce70c_2738_11eb_90fa_1065307ae51arow5_col1\" class=\"data row5 col1\" >1.0000</td>\n",
              "                        <td id=\"T_f84ce70c_2738_11eb_90fa_1065307ae51arow5_col2\" class=\"data row5 col2\" >1.0000</td>\n",
              "                        <td id=\"T_f84ce70c_2738_11eb_90fa_1065307ae51arow5_col3\" class=\"data row5 col3\" >1.0000</td>\n",
              "                        <td id=\"T_f84ce70c_2738_11eb_90fa_1065307ae51arow5_col4\" class=\"data row5 col4\" >1.0000</td>\n",
              "                        <td id=\"T_f84ce70c_2738_11eb_90fa_1065307ae51arow5_col5\" class=\"data row5 col5\" >1.0000</td>\n",
              "                        <td id=\"T_f84ce70c_2738_11eb_90fa_1065307ae51arow5_col6\" class=\"data row5 col6\" >1.0000</td>\n",
              "            </tr>\n",
              "            <tr>\n",
              "                        <th id=\"T_f84ce70c_2738_11eb_90fa_1065307ae51alevel0_row6\" class=\"row_heading level0 row6\" >6</th>\n",
              "                        <td id=\"T_f84ce70c_2738_11eb_90fa_1065307ae51arow6_col0\" class=\"data row6 col0\" >1.0000</td>\n",
              "                        <td id=\"T_f84ce70c_2738_11eb_90fa_1065307ae51arow6_col1\" class=\"data row6 col1\" >1.0000</td>\n",
              "                        <td id=\"T_f84ce70c_2738_11eb_90fa_1065307ae51arow6_col2\" class=\"data row6 col2\" >1.0000</td>\n",
              "                        <td id=\"T_f84ce70c_2738_11eb_90fa_1065307ae51arow6_col3\" class=\"data row6 col3\" >1.0000</td>\n",
              "                        <td id=\"T_f84ce70c_2738_11eb_90fa_1065307ae51arow6_col4\" class=\"data row6 col4\" >1.0000</td>\n",
              "                        <td id=\"T_f84ce70c_2738_11eb_90fa_1065307ae51arow6_col5\" class=\"data row6 col5\" >1.0000</td>\n",
              "                        <td id=\"T_f84ce70c_2738_11eb_90fa_1065307ae51arow6_col6\" class=\"data row6 col6\" >1.0000</td>\n",
              "            </tr>\n",
              "            <tr>\n",
              "                        <th id=\"T_f84ce70c_2738_11eb_90fa_1065307ae51alevel0_row7\" class=\"row_heading level0 row7\" >7</th>\n",
              "                        <td id=\"T_f84ce70c_2738_11eb_90fa_1065307ae51arow7_col0\" class=\"data row7 col0\" >1.0000</td>\n",
              "                        <td id=\"T_f84ce70c_2738_11eb_90fa_1065307ae51arow7_col1\" class=\"data row7 col1\" >1.0000</td>\n",
              "                        <td id=\"T_f84ce70c_2738_11eb_90fa_1065307ae51arow7_col2\" class=\"data row7 col2\" >1.0000</td>\n",
              "                        <td id=\"T_f84ce70c_2738_11eb_90fa_1065307ae51arow7_col3\" class=\"data row7 col3\" >1.0000</td>\n",
              "                        <td id=\"T_f84ce70c_2738_11eb_90fa_1065307ae51arow7_col4\" class=\"data row7 col4\" >1.0000</td>\n",
              "                        <td id=\"T_f84ce70c_2738_11eb_90fa_1065307ae51arow7_col5\" class=\"data row7 col5\" >1.0000</td>\n",
              "                        <td id=\"T_f84ce70c_2738_11eb_90fa_1065307ae51arow7_col6\" class=\"data row7 col6\" >1.0000</td>\n",
              "            </tr>\n",
              "            <tr>\n",
              "                        <th id=\"T_f84ce70c_2738_11eb_90fa_1065307ae51alevel0_row8\" class=\"row_heading level0 row8\" >8</th>\n",
              "                        <td id=\"T_f84ce70c_2738_11eb_90fa_1065307ae51arow8_col0\" class=\"data row8 col0\" >1.0000</td>\n",
              "                        <td id=\"T_f84ce70c_2738_11eb_90fa_1065307ae51arow8_col1\" class=\"data row8 col1\" >1.0000</td>\n",
              "                        <td id=\"T_f84ce70c_2738_11eb_90fa_1065307ae51arow8_col2\" class=\"data row8 col2\" >1.0000</td>\n",
              "                        <td id=\"T_f84ce70c_2738_11eb_90fa_1065307ae51arow8_col3\" class=\"data row8 col3\" >1.0000</td>\n",
              "                        <td id=\"T_f84ce70c_2738_11eb_90fa_1065307ae51arow8_col4\" class=\"data row8 col4\" >1.0000</td>\n",
              "                        <td id=\"T_f84ce70c_2738_11eb_90fa_1065307ae51arow8_col5\" class=\"data row8 col5\" >1.0000</td>\n",
              "                        <td id=\"T_f84ce70c_2738_11eb_90fa_1065307ae51arow8_col6\" class=\"data row8 col6\" >1.0000</td>\n",
              "            </tr>\n",
              "            <tr>\n",
              "                        <th id=\"T_f84ce70c_2738_11eb_90fa_1065307ae51alevel0_row9\" class=\"row_heading level0 row9\" >9</th>\n",
              "                        <td id=\"T_f84ce70c_2738_11eb_90fa_1065307ae51arow9_col0\" class=\"data row9 col0\" >0.9167</td>\n",
              "                        <td id=\"T_f84ce70c_2738_11eb_90fa_1065307ae51arow9_col1\" class=\"data row9 col1\" >0.9630</td>\n",
              "                        <td id=\"T_f84ce70c_2738_11eb_90fa_1065307ae51arow9_col2\" class=\"data row9 col2\" >1.0000</td>\n",
              "                        <td id=\"T_f84ce70c_2738_11eb_90fa_1065307ae51arow9_col3\" class=\"data row9 col3\" >0.9000</td>\n",
              "                        <td id=\"T_f84ce70c_2738_11eb_90fa_1065307ae51arow9_col4\" class=\"data row9 col4\" >0.9474</td>\n",
              "                        <td id=\"T_f84ce70c_2738_11eb_90fa_1065307ae51arow9_col5\" class=\"data row9 col5\" >0.7500</td>\n",
              "                        <td id=\"T_f84ce70c_2738_11eb_90fa_1065307ae51arow9_col6\" class=\"data row9 col6\" >0.7746</td>\n",
              "            </tr>\n",
              "            <tr>\n",
              "                        <th id=\"T_f84ce70c_2738_11eb_90fa_1065307ae51alevel0_row10\" class=\"row_heading level0 row10\" >Mean</th>\n",
              "                        <td id=\"T_f84ce70c_2738_11eb_90fa_1065307ae51arow10_col0\" class=\"data row10 col0\" >0.9071</td>\n",
              "                        <td id=\"T_f84ce70c_2738_11eb_90fa_1065307ae51arow10_col1\" class=\"data row10 col1\" >0.9630</td>\n",
              "                        <td id=\"T_f84ce70c_2738_11eb_90fa_1065307ae51arow10_col2\" class=\"data row10 col2\" >0.9400</td>\n",
              "                        <td id=\"T_f84ce70c_2738_11eb_90fa_1065307ae51arow10_col3\" class=\"data row10 col3\" >0.9402</td>\n",
              "                        <td id=\"T_f84ce70c_2738_11eb_90fa_1065307ae51arow10_col4\" class=\"data row10 col4\" >0.9366</td>\n",
              "                        <td id=\"T_f84ce70c_2738_11eb_90fa_1065307ae51arow10_col5\" class=\"data row10 col5\" >0.7598</td>\n",
              "                        <td id=\"T_f84ce70c_2738_11eb_90fa_1065307ae51arow10_col6\" class=\"data row10 col6\" >0.7770</td>\n",
              "            </tr>\n",
              "            <tr>\n",
              "                        <th id=\"T_f84ce70c_2738_11eb_90fa_1065307ae51alevel0_row11\" class=\"row_heading level0 row11\" >SD</th>\n",
              "                        <td id=\"T_f84ce70c_2738_11eb_90fa_1065307ae51arow11_col0\" class=\"data row11 col0\" >0.0960</td>\n",
              "                        <td id=\"T_f84ce70c_2738_11eb_90fa_1065307ae51arow11_col1\" class=\"data row11 col1\" >0.0547</td>\n",
              "                        <td id=\"T_f84ce70c_2738_11eb_90fa_1065307ae51arow11_col2\" class=\"data row11 col2\" >0.1020</td>\n",
              "                        <td id=\"T_f84ce70c_2738_11eb_90fa_1065307ae51arow11_col3\" class=\"data row11 col3\" >0.0642</td>\n",
              "                        <td id=\"T_f84ce70c_2738_11eb_90fa_1065307ae51arow11_col4\" class=\"data row11 col4\" >0.0683</td>\n",
              "                        <td id=\"T_f84ce70c_2738_11eb_90fa_1065307ae51arow11_col5\" class=\"data row11 col5\" >0.2295</td>\n",
              "                        <td id=\"T_f84ce70c_2738_11eb_90fa_1065307ae51arow11_col6\" class=\"data row11 col6\" >0.2191</td>\n",
              "            </tr>\n",
              "    </tbody></table>"
            ],
            "text/plain": [
              "<pandas.io.formats.style.Styler at 0x1e611057c18>"
            ]
          },
          "metadata": {},
          "output_type": "display_data"
        }
      ],
      "source": [
        "# Importing module and initializing setup \n",
        "from pycaret.classification import * \n",
        "\n",
        "clf1 = setup(data = data, target = 'status') \n",
        "# train a Light GBM model\n",
        "lgbm = create_model('lightgbm')\n",
        "# train a bagging classifier on Light GBM\n",
        "bagged_lgbm = ensemble_model(lgbm, method = 'Bagging')\n",
        "# train an adaboost classifier on Light GBM with 100 estimators\n",
        "boosted_lgbm = ensemble_model(lgbm, method = 'Boosting', n_estimators = 100)"
      ]
    },
    {
      "cell_type": "markdown",
      "metadata": {
        "id": "109xxB_1Fsqk"
      },
      "source": [
        "The LightGBM model has the best performance when ensemble techniques such as bagging and boosting are applied."
      ]
    },
    {
      "cell_type": "markdown",
      "metadata": {
        "id": "pAiJc4i7Fsqk"
      },
      "source": [
        "## **Blending Models**"
      ]
    },
    {
      "cell_type": "markdown",
      "metadata": {
        "id": "2m4nAQ7qFsqk"
      },
      "source": [
        "Blending models is a method of ensembling which uses consensus among estimators to generate final predictions. The idea behind blending is to combine different machine learning algorithms and use a majority vote or the average predicted probabilities in case of classification to predict the final outcome. Blending models in PyCaret is as simple as writing blend_models. This function can be used to blend specific trained models that can be passed using estimator_list parameter within blend_models or if no list is passed, it will use all the models in model library. In case of Classification, method parameter can be used to define ‘soft‘ or ‘hard‘ where soft uses predicted probabilities for voting and hard uses predicted labels. This functions returns a table with k-fold cross validated scores of common evaluation metrics along with trained model object. The evaluation metrics used are:\n",
        "\n",
        "- Classification: Accuracy, AUC, Recall, Precision, F1, Kappa, MCC\n",
        "- Regression: MAE, MSE, RMSE, R2, RMSLE, MAPE\n",
        "\n",
        "The number of folds can be defined using fold parameter within blend_models function. By default, the fold is set to 10. All the metrics are rounded to 4 decimals by default by can be changed using round parameter within blend_models."
      ]
    },
    {
      "cell_type": "code",
      "execution_count": null,
      "metadata": {
        "scrolled": false,
        "id": "ZmyrCjNJFsqk",
        "outputId": "1495e248-cbbf-4a69-e17c-24d35bde1cf3"
      },
      "outputs": [
        {
          "data": {
            "text/html": [
              "<style  type=\"text/css\" >\n",
              "#T_c454de64_2739_11eb_9031_1065307ae51arow10_col0,#T_c454de64_2739_11eb_9031_1065307ae51arow10_col1,#T_c454de64_2739_11eb_9031_1065307ae51arow10_col2,#T_c454de64_2739_11eb_9031_1065307ae51arow10_col3,#T_c454de64_2739_11eb_9031_1065307ae51arow10_col4,#T_c454de64_2739_11eb_9031_1065307ae51arow10_col5,#T_c454de64_2739_11eb_9031_1065307ae51arow10_col6{\n",
              "            background:  yellow;\n",
              "        }</style><table id=\"T_c454de64_2739_11eb_9031_1065307ae51a\" ><thead>    <tr>        <th class=\"blank level0\" ></th>        <th class=\"col_heading level0 col0\" >Accuracy</th>        <th class=\"col_heading level0 col1\" >AUC</th>        <th class=\"col_heading level0 col2\" >Recall</th>        <th class=\"col_heading level0 col3\" >Prec.</th>        <th class=\"col_heading level0 col4\" >F1</th>        <th class=\"col_heading level0 col5\" >Kappa</th>        <th class=\"col_heading level0 col6\" >MCC</th>    </tr></thead><tbody>\n",
              "                <tr>\n",
              "                        <th id=\"T_c454de64_2739_11eb_9031_1065307ae51alevel0_row0\" class=\"row_heading level0 row0\" >0</th>\n",
              "                        <td id=\"T_c454de64_2739_11eb_9031_1065307ae51arow0_col0\" class=\"data row0 col0\" >1.0000</td>\n",
              "                        <td id=\"T_c454de64_2739_11eb_9031_1065307ae51arow0_col1\" class=\"data row0 col1\" >0.0000</td>\n",
              "                        <td id=\"T_c454de64_2739_11eb_9031_1065307ae51arow0_col2\" class=\"data row0 col2\" >1.0000</td>\n",
              "                        <td id=\"T_c454de64_2739_11eb_9031_1065307ae51arow0_col3\" class=\"data row0 col3\" >1.0000</td>\n",
              "                        <td id=\"T_c454de64_2739_11eb_9031_1065307ae51arow0_col4\" class=\"data row0 col4\" >1.0000</td>\n",
              "                        <td id=\"T_c454de64_2739_11eb_9031_1065307ae51arow0_col5\" class=\"data row0 col5\" >1.0000</td>\n",
              "                        <td id=\"T_c454de64_2739_11eb_9031_1065307ae51arow0_col6\" class=\"data row0 col6\" >1.0000</td>\n",
              "            </tr>\n",
              "            <tr>\n",
              "                        <th id=\"T_c454de64_2739_11eb_9031_1065307ae51alevel0_row1\" class=\"row_heading level0 row1\" >1</th>\n",
              "                        <td id=\"T_c454de64_2739_11eb_9031_1065307ae51arow1_col0\" class=\"data row1 col0\" >0.8462</td>\n",
              "                        <td id=\"T_c454de64_2739_11eb_9031_1065307ae51arow1_col1\" class=\"data row1 col1\" >0.0000</td>\n",
              "                        <td id=\"T_c454de64_2739_11eb_9031_1065307ae51arow1_col2\" class=\"data row1 col2\" >0.9000</td>\n",
              "                        <td id=\"T_c454de64_2739_11eb_9031_1065307ae51arow1_col3\" class=\"data row1 col3\" >0.9000</td>\n",
              "                        <td id=\"T_c454de64_2739_11eb_9031_1065307ae51arow1_col4\" class=\"data row1 col4\" >0.9000</td>\n",
              "                        <td id=\"T_c454de64_2739_11eb_9031_1065307ae51arow1_col5\" class=\"data row1 col5\" >0.5667</td>\n",
              "                        <td id=\"T_c454de64_2739_11eb_9031_1065307ae51arow1_col6\" class=\"data row1 col6\" >0.5667</td>\n",
              "            </tr>\n",
              "            <tr>\n",
              "                        <th id=\"T_c454de64_2739_11eb_9031_1065307ae51alevel0_row2\" class=\"row_heading level0 row2\" >2</th>\n",
              "                        <td id=\"T_c454de64_2739_11eb_9031_1065307ae51arow2_col0\" class=\"data row2 col0\" >1.0000</td>\n",
              "                        <td id=\"T_c454de64_2739_11eb_9031_1065307ae51arow2_col1\" class=\"data row2 col1\" >0.0000</td>\n",
              "                        <td id=\"T_c454de64_2739_11eb_9031_1065307ae51arow2_col2\" class=\"data row2 col2\" >1.0000</td>\n",
              "                        <td id=\"T_c454de64_2739_11eb_9031_1065307ae51arow2_col3\" class=\"data row2 col3\" >1.0000</td>\n",
              "                        <td id=\"T_c454de64_2739_11eb_9031_1065307ae51arow2_col4\" class=\"data row2 col4\" >1.0000</td>\n",
              "                        <td id=\"T_c454de64_2739_11eb_9031_1065307ae51arow2_col5\" class=\"data row2 col5\" >1.0000</td>\n",
              "                        <td id=\"T_c454de64_2739_11eb_9031_1065307ae51arow2_col6\" class=\"data row2 col6\" >1.0000</td>\n",
              "            </tr>\n",
              "            <tr>\n",
              "                        <th id=\"T_c454de64_2739_11eb_9031_1065307ae51alevel0_row3\" class=\"row_heading level0 row3\" >3</th>\n",
              "                        <td id=\"T_c454de64_2739_11eb_9031_1065307ae51arow3_col0\" class=\"data row3 col0\" >0.9231</td>\n",
              "                        <td id=\"T_c454de64_2739_11eb_9031_1065307ae51arow3_col1\" class=\"data row3 col1\" >0.0000</td>\n",
              "                        <td id=\"T_c454de64_2739_11eb_9031_1065307ae51arow3_col2\" class=\"data row3 col2\" >1.0000</td>\n",
              "                        <td id=\"T_c454de64_2739_11eb_9031_1065307ae51arow3_col3\" class=\"data row3 col3\" >0.9091</td>\n",
              "                        <td id=\"T_c454de64_2739_11eb_9031_1065307ae51arow3_col4\" class=\"data row3 col4\" >0.9524</td>\n",
              "                        <td id=\"T_c454de64_2739_11eb_9031_1065307ae51arow3_col5\" class=\"data row3 col5\" >0.7547</td>\n",
              "                        <td id=\"T_c454de64_2739_11eb_9031_1065307ae51arow3_col6\" class=\"data row3 col6\" >0.7785</td>\n",
              "            </tr>\n",
              "            <tr>\n",
              "                        <th id=\"T_c454de64_2739_11eb_9031_1065307ae51alevel0_row4\" class=\"row_heading level0 row4\" >4</th>\n",
              "                        <td id=\"T_c454de64_2739_11eb_9031_1065307ae51arow4_col0\" class=\"data row4 col0\" >1.0000</td>\n",
              "                        <td id=\"T_c454de64_2739_11eb_9031_1065307ae51arow4_col1\" class=\"data row4 col1\" >0.0000</td>\n",
              "                        <td id=\"T_c454de64_2739_11eb_9031_1065307ae51arow4_col2\" class=\"data row4 col2\" >1.0000</td>\n",
              "                        <td id=\"T_c454de64_2739_11eb_9031_1065307ae51arow4_col3\" class=\"data row4 col3\" >1.0000</td>\n",
              "                        <td id=\"T_c454de64_2739_11eb_9031_1065307ae51arow4_col4\" class=\"data row4 col4\" >1.0000</td>\n",
              "                        <td id=\"T_c454de64_2739_11eb_9031_1065307ae51arow4_col5\" class=\"data row4 col5\" >1.0000</td>\n",
              "                        <td id=\"T_c454de64_2739_11eb_9031_1065307ae51arow4_col6\" class=\"data row4 col6\" >1.0000</td>\n",
              "            </tr>\n",
              "            <tr>\n",
              "                        <th id=\"T_c454de64_2739_11eb_9031_1065307ae51alevel0_row5\" class=\"row_heading level0 row5\" >5</th>\n",
              "                        <td id=\"T_c454de64_2739_11eb_9031_1065307ae51arow5_col0\" class=\"data row5 col0\" >0.9231</td>\n",
              "                        <td id=\"T_c454de64_2739_11eb_9031_1065307ae51arow5_col1\" class=\"data row5 col1\" >0.0000</td>\n",
              "                        <td id=\"T_c454de64_2739_11eb_9031_1065307ae51arow5_col2\" class=\"data row5 col2\" >1.0000</td>\n",
              "                        <td id=\"T_c454de64_2739_11eb_9031_1065307ae51arow5_col3\" class=\"data row5 col3\" >0.9091</td>\n",
              "                        <td id=\"T_c454de64_2739_11eb_9031_1065307ae51arow5_col4\" class=\"data row5 col4\" >0.9524</td>\n",
              "                        <td id=\"T_c454de64_2739_11eb_9031_1065307ae51arow5_col5\" class=\"data row5 col5\" >0.7547</td>\n",
              "                        <td id=\"T_c454de64_2739_11eb_9031_1065307ae51arow5_col6\" class=\"data row5 col6\" >0.7785</td>\n",
              "            </tr>\n",
              "            <tr>\n",
              "                        <th id=\"T_c454de64_2739_11eb_9031_1065307ae51alevel0_row6\" class=\"row_heading level0 row6\" >6</th>\n",
              "                        <td id=\"T_c454de64_2739_11eb_9031_1065307ae51arow6_col0\" class=\"data row6 col0\" >0.9231</td>\n",
              "                        <td id=\"T_c454de64_2739_11eb_9031_1065307ae51arow6_col1\" class=\"data row6 col1\" >0.0000</td>\n",
              "                        <td id=\"T_c454de64_2739_11eb_9031_1065307ae51arow6_col2\" class=\"data row6 col2\" >0.9000</td>\n",
              "                        <td id=\"T_c454de64_2739_11eb_9031_1065307ae51arow6_col3\" class=\"data row6 col3\" >1.0000</td>\n",
              "                        <td id=\"T_c454de64_2739_11eb_9031_1065307ae51arow6_col4\" class=\"data row6 col4\" >0.9474</td>\n",
              "                        <td id=\"T_c454de64_2739_11eb_9031_1065307ae51arow6_col5\" class=\"data row6 col5\" >0.8060</td>\n",
              "                        <td id=\"T_c454de64_2739_11eb_9031_1065307ae51arow6_col6\" class=\"data row6 col6\" >0.8216</td>\n",
              "            </tr>\n",
              "            <tr>\n",
              "                        <th id=\"T_c454de64_2739_11eb_9031_1065307ae51alevel0_row7\" class=\"row_heading level0 row7\" >7</th>\n",
              "                        <td id=\"T_c454de64_2739_11eb_9031_1065307ae51arow7_col0\" class=\"data row7 col0\" >0.9231</td>\n",
              "                        <td id=\"T_c454de64_2739_11eb_9031_1065307ae51arow7_col1\" class=\"data row7 col1\" >0.0000</td>\n",
              "                        <td id=\"T_c454de64_2739_11eb_9031_1065307ae51arow7_col2\" class=\"data row7 col2\" >1.0000</td>\n",
              "                        <td id=\"T_c454de64_2739_11eb_9031_1065307ae51arow7_col3\" class=\"data row7 col3\" >0.9091</td>\n",
              "                        <td id=\"T_c454de64_2739_11eb_9031_1065307ae51arow7_col4\" class=\"data row7 col4\" >0.9524</td>\n",
              "                        <td id=\"T_c454de64_2739_11eb_9031_1065307ae51arow7_col5\" class=\"data row7 col5\" >0.7547</td>\n",
              "                        <td id=\"T_c454de64_2739_11eb_9031_1065307ae51arow7_col6\" class=\"data row7 col6\" >0.7785</td>\n",
              "            </tr>\n",
              "            <tr>\n",
              "                        <th id=\"T_c454de64_2739_11eb_9031_1065307ae51alevel0_row8\" class=\"row_heading level0 row8\" >8</th>\n",
              "                        <td id=\"T_c454de64_2739_11eb_9031_1065307ae51arow8_col0\" class=\"data row8 col0\" >0.8462</td>\n",
              "                        <td id=\"T_c454de64_2739_11eb_9031_1065307ae51arow8_col1\" class=\"data row8 col1\" >0.0000</td>\n",
              "                        <td id=\"T_c454de64_2739_11eb_9031_1065307ae51arow8_col2\" class=\"data row8 col2\" >0.8889</td>\n",
              "                        <td id=\"T_c454de64_2739_11eb_9031_1065307ae51arow8_col3\" class=\"data row8 col3\" >0.8889</td>\n",
              "                        <td id=\"T_c454de64_2739_11eb_9031_1065307ae51arow8_col4\" class=\"data row8 col4\" >0.8889</td>\n",
              "                        <td id=\"T_c454de64_2739_11eb_9031_1065307ae51arow8_col5\" class=\"data row8 col5\" >0.6389</td>\n",
              "                        <td id=\"T_c454de64_2739_11eb_9031_1065307ae51arow8_col6\" class=\"data row8 col6\" >0.6389</td>\n",
              "            </tr>\n",
              "            <tr>\n",
              "                        <th id=\"T_c454de64_2739_11eb_9031_1065307ae51alevel0_row9\" class=\"row_heading level0 row9\" >9</th>\n",
              "                        <td id=\"T_c454de64_2739_11eb_9031_1065307ae51arow9_col0\" class=\"data row9 col0\" >0.9167</td>\n",
              "                        <td id=\"T_c454de64_2739_11eb_9031_1065307ae51arow9_col1\" class=\"data row9 col1\" >0.0000</td>\n",
              "                        <td id=\"T_c454de64_2739_11eb_9031_1065307ae51arow9_col2\" class=\"data row9 col2\" >1.0000</td>\n",
              "                        <td id=\"T_c454de64_2739_11eb_9031_1065307ae51arow9_col3\" class=\"data row9 col3\" >0.9000</td>\n",
              "                        <td id=\"T_c454de64_2739_11eb_9031_1065307ae51arow9_col4\" class=\"data row9 col4\" >0.9474</td>\n",
              "                        <td id=\"T_c454de64_2739_11eb_9031_1065307ae51arow9_col5\" class=\"data row9 col5\" >0.7500</td>\n",
              "                        <td id=\"T_c454de64_2739_11eb_9031_1065307ae51arow9_col6\" class=\"data row9 col6\" >0.7746</td>\n",
              "            </tr>\n",
              "            <tr>\n",
              "                        <th id=\"T_c454de64_2739_11eb_9031_1065307ae51alevel0_row10\" class=\"row_heading level0 row10\" >Mean</th>\n",
              "                        <td id=\"T_c454de64_2739_11eb_9031_1065307ae51arow10_col0\" class=\"data row10 col0\" >0.9301</td>\n",
              "                        <td id=\"T_c454de64_2739_11eb_9031_1065307ae51arow10_col1\" class=\"data row10 col1\" >0.0000</td>\n",
              "                        <td id=\"T_c454de64_2739_11eb_9031_1065307ae51arow10_col2\" class=\"data row10 col2\" >0.9689</td>\n",
              "                        <td id=\"T_c454de64_2739_11eb_9031_1065307ae51arow10_col3\" class=\"data row10 col3\" >0.9416</td>\n",
              "                        <td id=\"T_c454de64_2739_11eb_9031_1065307ae51arow10_col4\" class=\"data row10 col4\" >0.9541</td>\n",
              "                        <td id=\"T_c454de64_2739_11eb_9031_1065307ae51arow10_col5\" class=\"data row10 col5\" >0.8026</td>\n",
              "                        <td id=\"T_c454de64_2739_11eb_9031_1065307ae51arow10_col6\" class=\"data row10 col6\" >0.8137</td>\n",
              "            </tr>\n",
              "            <tr>\n",
              "                        <th id=\"T_c454de64_2739_11eb_9031_1065307ae51alevel0_row11\" class=\"row_heading level0 row11\" >SD</th>\n",
              "                        <td id=\"T_c454de64_2739_11eb_9031_1065307ae51arow11_col0\" class=\"data row11 col0\" >0.0540</td>\n",
              "                        <td id=\"T_c454de64_2739_11eb_9031_1065307ae51arow11_col1\" class=\"data row11 col1\" >0.0000</td>\n",
              "                        <td id=\"T_c454de64_2739_11eb_9031_1065307ae51arow11_col2\" class=\"data row11 col2\" >0.0476</td>\n",
              "                        <td id=\"T_c454de64_2739_11eb_9031_1065307ae51arow11_col3\" class=\"data row11 col3\" >0.0480</td>\n",
              "                        <td id=\"T_c454de64_2739_11eb_9031_1065307ae51arow11_col4\" class=\"data row11 col4\" >0.0369</td>\n",
              "                        <td id=\"T_c454de64_2739_11eb_9031_1065307ae51arow11_col5\" class=\"data row11 col5\" >0.1446</td>\n",
              "                        <td id=\"T_c454de64_2739_11eb_9031_1065307ae51arow11_col6\" class=\"data row11 col6\" >0.1418</td>\n",
              "            </tr>\n",
              "    </tbody></table>"
            ],
            "text/plain": [
              "<pandas.io.formats.style.Styler at 0x1e6112ac780>"
            ]
          },
          "metadata": {},
          "output_type": "display_data"
        }
      ],
      "source": [
        "# Importing module and initializing setup\n",
        "from pycaret.classification import *\n",
        "clf1 = setup(data = data, target = 'status')\n",
        "# train a votingclassifier on all models in library\n",
        "blender = blend_models()\n",
        "# train a voting classifier on specific models\n",
        "et = create_model('et')\n",
        "gbc = create_model('gbc')\n",
        "lightgbm = create_model('lightgbm')\n",
        "rf = create_model('rf')\n",
        "catboost = create_model('catboost')\n",
        "blender_specific = blend_models(estimator_list = [et,gbc,lightgbm,rf,catboost], method = 'soft')\n",
        "# train a voting classifier dynamically\n",
        "blender_specific = blend_models(estimator_list = compare_models(n_select = 5), method = 'hard')"
      ]
    },
    {
      "cell_type": "markdown",
      "metadata": {
        "id": "V4haMXcVFsqk"
      },
      "source": [
        "## **Stacking Models (Training a Meta Classifier)**"
      ]
    },
    {
      "cell_type": "markdown",
      "metadata": {
        "id": "YGhweLGSFsqk"
      },
      "source": [
        "Stacking models is method of ensembling that uses meta learning. The idea behind stacking is to build a meta model that generates the final prediction using the prediction of multiple base estimators. Stacking models in PyCaret is as simple as writing stack_models. This function takes a list of trained models using estimator_list parameter. All these models form the base layer of stacking and their predictions are used as an input for a meta model that can be passed using meta_model parameter. If no meta model is passed, a linear model is used by default. In case of Classification, method parameter can be used to define ‘soft‘ or ‘hard‘ where soft uses predicted probabilities for voting and hard uses predicted labels. This function returns a table with k-fold cross validated scores of common evaluation metrics along with trained model object. The evaluation metrics used are:\n",
        "\n",
        "- Classification: Accuracy, AUC, Recall, Precision, F1, Kappa, MCC\n",
        "- Regression: MAE, MSE, RMSE, R2, RMSLE, MAPE\n",
        "\n",
        "The number of folds can be defined using fold parameter within stack_models function. By default, the fold is set to 10. All the metrics are rounded to 4 decimals by default by can be changed using round parameter within stack_models. restack parameter controls the ability to expose the raw data to meta model. By default, it is set to True. When changed to False, meta-model will only use predictions of base models to generate final predictions."
      ]
    },
    {
      "cell_type": "code",
      "execution_count": null,
      "metadata": {
        "scrolled": false,
        "id": "asVZOEVCFsql",
        "outputId": "0498ac4f-ba94-4b4b-bb2c-53f250f421c1"
      },
      "outputs": [
        {
          "data": {
            "text/html": [
              "<style  type=\"text/css\" >\n",
              "#T_f93c2534_2732_11eb_af10_1065307ae51arow10_col0,#T_f93c2534_2732_11eb_af10_1065307ae51arow10_col1,#T_f93c2534_2732_11eb_af10_1065307ae51arow10_col2,#T_f93c2534_2732_11eb_af10_1065307ae51arow10_col3,#T_f93c2534_2732_11eb_af10_1065307ae51arow10_col4,#T_f93c2534_2732_11eb_af10_1065307ae51arow10_col5,#T_f93c2534_2732_11eb_af10_1065307ae51arow10_col6{\n",
              "            background:  yellow;\n",
              "        }</style><table id=\"T_f93c2534_2732_11eb_af10_1065307ae51a\" ><thead>    <tr>        <th class=\"blank level0\" ></th>        <th class=\"col_heading level0 col0\" >Accuracy</th>        <th class=\"col_heading level0 col1\" >AUC</th>        <th class=\"col_heading level0 col2\" >Recall</th>        <th class=\"col_heading level0 col3\" >Prec.</th>        <th class=\"col_heading level0 col4\" >F1</th>        <th class=\"col_heading level0 col5\" >Kappa</th>        <th class=\"col_heading level0 col6\" >MCC</th>    </tr></thead><tbody>\n",
              "                <tr>\n",
              "                        <th id=\"T_f93c2534_2732_11eb_af10_1065307ae51alevel0_row0\" class=\"row_heading level0 row0\" >0</th>\n",
              "                        <td id=\"T_f93c2534_2732_11eb_af10_1065307ae51arow0_col0\" class=\"data row0 col0\" >0.9231</td>\n",
              "                        <td id=\"T_f93c2534_2732_11eb_af10_1065307ae51arow0_col1\" class=\"data row0 col1\" >1.0000</td>\n",
              "                        <td id=\"T_f93c2534_2732_11eb_af10_1065307ae51arow0_col2\" class=\"data row0 col2\" >1.0000</td>\n",
              "                        <td id=\"T_f93c2534_2732_11eb_af10_1065307ae51arow0_col3\" class=\"data row0 col3\" >0.9091</td>\n",
              "                        <td id=\"T_f93c2534_2732_11eb_af10_1065307ae51arow0_col4\" class=\"data row0 col4\" >0.9524</td>\n",
              "                        <td id=\"T_f93c2534_2732_11eb_af10_1065307ae51arow0_col5\" class=\"data row0 col5\" >0.7547</td>\n",
              "                        <td id=\"T_f93c2534_2732_11eb_af10_1065307ae51arow0_col6\" class=\"data row0 col6\" >0.7785</td>\n",
              "            </tr>\n",
              "            <tr>\n",
              "                        <th id=\"T_f93c2534_2732_11eb_af10_1065307ae51alevel0_row1\" class=\"row_heading level0 row1\" >1</th>\n",
              "                        <td id=\"T_f93c2534_2732_11eb_af10_1065307ae51arow1_col0\" class=\"data row1 col0\" >0.9231</td>\n",
              "                        <td id=\"T_f93c2534_2732_11eb_af10_1065307ae51arow1_col1\" class=\"data row1 col1\" >1.0000</td>\n",
              "                        <td id=\"T_f93c2534_2732_11eb_af10_1065307ae51arow1_col2\" class=\"data row1 col2\" >1.0000</td>\n",
              "                        <td id=\"T_f93c2534_2732_11eb_af10_1065307ae51arow1_col3\" class=\"data row1 col3\" >0.9091</td>\n",
              "                        <td id=\"T_f93c2534_2732_11eb_af10_1065307ae51arow1_col4\" class=\"data row1 col4\" >0.9524</td>\n",
              "                        <td id=\"T_f93c2534_2732_11eb_af10_1065307ae51arow1_col5\" class=\"data row1 col5\" >0.7547</td>\n",
              "                        <td id=\"T_f93c2534_2732_11eb_af10_1065307ae51arow1_col6\" class=\"data row1 col6\" >0.7785</td>\n",
              "            </tr>\n",
              "            <tr>\n",
              "                        <th id=\"T_f93c2534_2732_11eb_af10_1065307ae51alevel0_row2\" class=\"row_heading level0 row2\" >2</th>\n",
              "                        <td id=\"T_f93c2534_2732_11eb_af10_1065307ae51arow2_col0\" class=\"data row2 col0\" >0.9231</td>\n",
              "                        <td id=\"T_f93c2534_2732_11eb_af10_1065307ae51arow2_col1\" class=\"data row2 col1\" >0.9000</td>\n",
              "                        <td id=\"T_f93c2534_2732_11eb_af10_1065307ae51arow2_col2\" class=\"data row2 col2\" >1.0000</td>\n",
              "                        <td id=\"T_f93c2534_2732_11eb_af10_1065307ae51arow2_col3\" class=\"data row2 col3\" >0.9091</td>\n",
              "                        <td id=\"T_f93c2534_2732_11eb_af10_1065307ae51arow2_col4\" class=\"data row2 col4\" >0.9524</td>\n",
              "                        <td id=\"T_f93c2534_2732_11eb_af10_1065307ae51arow2_col5\" class=\"data row2 col5\" >0.7547</td>\n",
              "                        <td id=\"T_f93c2534_2732_11eb_af10_1065307ae51arow2_col6\" class=\"data row2 col6\" >0.7785</td>\n",
              "            </tr>\n",
              "            <tr>\n",
              "                        <th id=\"T_f93c2534_2732_11eb_af10_1065307ae51alevel0_row3\" class=\"row_heading level0 row3\" >3</th>\n",
              "                        <td id=\"T_f93c2534_2732_11eb_af10_1065307ae51arow3_col0\" class=\"data row3 col0\" >1.0000</td>\n",
              "                        <td id=\"T_f93c2534_2732_11eb_af10_1065307ae51arow3_col1\" class=\"data row3 col1\" >1.0000</td>\n",
              "                        <td id=\"T_f93c2534_2732_11eb_af10_1065307ae51arow3_col2\" class=\"data row3 col2\" >1.0000</td>\n",
              "                        <td id=\"T_f93c2534_2732_11eb_af10_1065307ae51arow3_col3\" class=\"data row3 col3\" >1.0000</td>\n",
              "                        <td id=\"T_f93c2534_2732_11eb_af10_1065307ae51arow3_col4\" class=\"data row3 col4\" >1.0000</td>\n",
              "                        <td id=\"T_f93c2534_2732_11eb_af10_1065307ae51arow3_col5\" class=\"data row3 col5\" >1.0000</td>\n",
              "                        <td id=\"T_f93c2534_2732_11eb_af10_1065307ae51arow3_col6\" class=\"data row3 col6\" >1.0000</td>\n",
              "            </tr>\n",
              "            <tr>\n",
              "                        <th id=\"T_f93c2534_2732_11eb_af10_1065307ae51alevel0_row4\" class=\"row_heading level0 row4\" >4</th>\n",
              "                        <td id=\"T_f93c2534_2732_11eb_af10_1065307ae51arow4_col0\" class=\"data row4 col0\" >0.9231</td>\n",
              "                        <td id=\"T_f93c2534_2732_11eb_af10_1065307ae51arow4_col1\" class=\"data row4 col1\" >1.0000</td>\n",
              "                        <td id=\"T_f93c2534_2732_11eb_af10_1065307ae51arow4_col2\" class=\"data row4 col2\" >1.0000</td>\n",
              "                        <td id=\"T_f93c2534_2732_11eb_af10_1065307ae51arow4_col3\" class=\"data row4 col3\" >0.9091</td>\n",
              "                        <td id=\"T_f93c2534_2732_11eb_af10_1065307ae51arow4_col4\" class=\"data row4 col4\" >0.9524</td>\n",
              "                        <td id=\"T_f93c2534_2732_11eb_af10_1065307ae51arow4_col5\" class=\"data row4 col5\" >0.7547</td>\n",
              "                        <td id=\"T_f93c2534_2732_11eb_af10_1065307ae51arow4_col6\" class=\"data row4 col6\" >0.7785</td>\n",
              "            </tr>\n",
              "            <tr>\n",
              "                        <th id=\"T_f93c2534_2732_11eb_af10_1065307ae51alevel0_row5\" class=\"row_heading level0 row5\" >5</th>\n",
              "                        <td id=\"T_f93c2534_2732_11eb_af10_1065307ae51arow5_col0\" class=\"data row5 col0\" >0.7692</td>\n",
              "                        <td id=\"T_f93c2534_2732_11eb_af10_1065307ae51arow5_col1\" class=\"data row5 col1\" >0.7667</td>\n",
              "                        <td id=\"T_f93c2534_2732_11eb_af10_1065307ae51arow5_col2\" class=\"data row5 col2\" >0.9000</td>\n",
              "                        <td id=\"T_f93c2534_2732_11eb_af10_1065307ae51arow5_col3\" class=\"data row5 col3\" >0.8182</td>\n",
              "                        <td id=\"T_f93c2534_2732_11eb_af10_1065307ae51arow5_col4\" class=\"data row5 col4\" >0.8571</td>\n",
              "                        <td id=\"T_f93c2534_2732_11eb_af10_1065307ae51arow5_col5\" class=\"data row5 col5\" >0.2642</td>\n",
              "                        <td id=\"T_f93c2534_2732_11eb_af10_1065307ae51arow5_col6\" class=\"data row5 col6\" >0.2725</td>\n",
              "            </tr>\n",
              "            <tr>\n",
              "                        <th id=\"T_f93c2534_2732_11eb_af10_1065307ae51alevel0_row6\" class=\"row_heading level0 row6\" >6</th>\n",
              "                        <td id=\"T_f93c2534_2732_11eb_af10_1065307ae51arow6_col0\" class=\"data row6 col0\" >1.0000</td>\n",
              "                        <td id=\"T_f93c2534_2732_11eb_af10_1065307ae51arow6_col1\" class=\"data row6 col1\" >1.0000</td>\n",
              "                        <td id=\"T_f93c2534_2732_11eb_af10_1065307ae51arow6_col2\" class=\"data row6 col2\" >1.0000</td>\n",
              "                        <td id=\"T_f93c2534_2732_11eb_af10_1065307ae51arow6_col3\" class=\"data row6 col3\" >1.0000</td>\n",
              "                        <td id=\"T_f93c2534_2732_11eb_af10_1065307ae51arow6_col4\" class=\"data row6 col4\" >1.0000</td>\n",
              "                        <td id=\"T_f93c2534_2732_11eb_af10_1065307ae51arow6_col5\" class=\"data row6 col5\" >1.0000</td>\n",
              "                        <td id=\"T_f93c2534_2732_11eb_af10_1065307ae51arow6_col6\" class=\"data row6 col6\" >1.0000</td>\n",
              "            </tr>\n",
              "            <tr>\n",
              "                        <th id=\"T_f93c2534_2732_11eb_af10_1065307ae51alevel0_row7\" class=\"row_heading level0 row7\" >7</th>\n",
              "                        <td id=\"T_f93c2534_2732_11eb_af10_1065307ae51arow7_col0\" class=\"data row7 col0\" >1.0000</td>\n",
              "                        <td id=\"T_f93c2534_2732_11eb_af10_1065307ae51arow7_col1\" class=\"data row7 col1\" >1.0000</td>\n",
              "                        <td id=\"T_f93c2534_2732_11eb_af10_1065307ae51arow7_col2\" class=\"data row7 col2\" >1.0000</td>\n",
              "                        <td id=\"T_f93c2534_2732_11eb_af10_1065307ae51arow7_col3\" class=\"data row7 col3\" >1.0000</td>\n",
              "                        <td id=\"T_f93c2534_2732_11eb_af10_1065307ae51arow7_col4\" class=\"data row7 col4\" >1.0000</td>\n",
              "                        <td id=\"T_f93c2534_2732_11eb_af10_1065307ae51arow7_col5\" class=\"data row7 col5\" >1.0000</td>\n",
              "                        <td id=\"T_f93c2534_2732_11eb_af10_1065307ae51arow7_col6\" class=\"data row7 col6\" >1.0000</td>\n",
              "            </tr>\n",
              "            <tr>\n",
              "                        <th id=\"T_f93c2534_2732_11eb_af10_1065307ae51alevel0_row8\" class=\"row_heading level0 row8\" >8</th>\n",
              "                        <td id=\"T_f93c2534_2732_11eb_af10_1065307ae51arow8_col0\" class=\"data row8 col0\" >1.0000</td>\n",
              "                        <td id=\"T_f93c2534_2732_11eb_af10_1065307ae51arow8_col1\" class=\"data row8 col1\" >1.0000</td>\n",
              "                        <td id=\"T_f93c2534_2732_11eb_af10_1065307ae51arow8_col2\" class=\"data row8 col2\" >1.0000</td>\n",
              "                        <td id=\"T_f93c2534_2732_11eb_af10_1065307ae51arow8_col3\" class=\"data row8 col3\" >1.0000</td>\n",
              "                        <td id=\"T_f93c2534_2732_11eb_af10_1065307ae51arow8_col4\" class=\"data row8 col4\" >1.0000</td>\n",
              "                        <td id=\"T_f93c2534_2732_11eb_af10_1065307ae51arow8_col5\" class=\"data row8 col5\" >1.0000</td>\n",
              "                        <td id=\"T_f93c2534_2732_11eb_af10_1065307ae51arow8_col6\" class=\"data row8 col6\" >1.0000</td>\n",
              "            </tr>\n",
              "            <tr>\n",
              "                        <th id=\"T_f93c2534_2732_11eb_af10_1065307ae51alevel0_row9\" class=\"row_heading level0 row9\" >9</th>\n",
              "                        <td id=\"T_f93c2534_2732_11eb_af10_1065307ae51arow9_col0\" class=\"data row9 col0\" >0.7500</td>\n",
              "                        <td id=\"T_f93c2534_2732_11eb_af10_1065307ae51arow9_col1\" class=\"data row9 col1\" >0.8889</td>\n",
              "                        <td id=\"T_f93c2534_2732_11eb_af10_1065307ae51arow9_col2\" class=\"data row9 col2\" >0.7778</td>\n",
              "                        <td id=\"T_f93c2534_2732_11eb_af10_1065307ae51arow9_col3\" class=\"data row9 col3\" >0.8750</td>\n",
              "                        <td id=\"T_f93c2534_2732_11eb_af10_1065307ae51arow9_col4\" class=\"data row9 col4\" >0.8235</td>\n",
              "                        <td id=\"T_f93c2534_2732_11eb_af10_1065307ae51arow9_col5\" class=\"data row9 col5\" >0.4000</td>\n",
              "                        <td id=\"T_f93c2534_2732_11eb_af10_1065307ae51arow9_col6\" class=\"data row9 col6\" >0.4082</td>\n",
              "            </tr>\n",
              "            <tr>\n",
              "                        <th id=\"T_f93c2534_2732_11eb_af10_1065307ae51alevel0_row10\" class=\"row_heading level0 row10\" >Mean</th>\n",
              "                        <td id=\"T_f93c2534_2732_11eb_af10_1065307ae51arow10_col0\" class=\"data row10 col0\" >0.9212</td>\n",
              "                        <td id=\"T_f93c2534_2732_11eb_af10_1065307ae51arow10_col1\" class=\"data row10 col1\" >0.9556</td>\n",
              "                        <td id=\"T_f93c2534_2732_11eb_af10_1065307ae51arow10_col2\" class=\"data row10 col2\" >0.9678</td>\n",
              "                        <td id=\"T_f93c2534_2732_11eb_af10_1065307ae51arow10_col3\" class=\"data row10 col3\" >0.9330</td>\n",
              "                        <td id=\"T_f93c2534_2732_11eb_af10_1065307ae51arow10_col4\" class=\"data row10 col4\" >0.9490</td>\n",
              "                        <td id=\"T_f93c2534_2732_11eb_af10_1065307ae51arow10_col5\" class=\"data row10 col5\" >0.7683</td>\n",
              "                        <td id=\"T_f93c2534_2732_11eb_af10_1065307ae51arow10_col6\" class=\"data row10 col6\" >0.7795</td>\n",
              "            </tr>\n",
              "            <tr>\n",
              "                        <th id=\"T_f93c2534_2732_11eb_af10_1065307ae51alevel0_row11\" class=\"row_heading level0 row11\" >SD</th>\n",
              "                        <td id=\"T_f93c2534_2732_11eb_af10_1065307ae51arow11_col0\" class=\"data row11 col0\" >0.0879</td>\n",
              "                        <td id=\"T_f93c2534_2732_11eb_af10_1065307ae51arow11_col1\" class=\"data row11 col1\" >0.0755</td>\n",
              "                        <td id=\"T_f93c2534_2732_11eb_af10_1065307ae51arow11_col2\" class=\"data row11 col2\" >0.0700</td>\n",
              "                        <td id=\"T_f93c2534_2732_11eb_af10_1065307ae51arow11_col3\" class=\"data row11 col3\" >0.0607</td>\n",
              "                        <td id=\"T_f93c2534_2732_11eb_af10_1065307ae51arow11_col4\" class=\"data row11 col4\" >0.0588</td>\n",
              "                        <td id=\"T_f93c2534_2732_11eb_af10_1065307ae51arow11_col5\" class=\"data row11 col5\" >0.2460</td>\n",
              "                        <td id=\"T_f93c2534_2732_11eb_af10_1065307ae51arow11_col6\" class=\"data row11 col6\" >0.2428</td>\n",
              "            </tr>\n",
              "    </tbody></table>"
            ],
            "text/plain": [
              "<pandas.io.formats.style.Styler at 0x1e6112ac470>"
            ]
          },
          "metadata": {},
          "output_type": "display_data"
        }
      ],
      "source": [
        "from pycaret.classification import *\n",
        "clf1 = setup(data = data, target = 'status')\n",
        "# create individual models for stacking\n",
        "et = create_model('et')\n",
        "gbc = create_model('gbc')\n",
        "lightgbm = create_model('lightgbm')\n",
        "qda = create_model('qda')\n",
        "knn = create_model('knn')\n",
        "xgboost = create_model('xgboost')\n",
        "# stacking models\n",
        "stacker = stack_models(estimator_list = [et,gbc,lightgbm,qda,knn], meta_model = xgboost)\n",
        "# stack models dynamically\n",
        "top5 = compare_models(n_select = 5)\n",
        "stacker = stack_models(estimator_list = top5[1:], meta_model = top5[0])"
      ]
    },
    {
      "cell_type": "markdown",
      "metadata": {
        "id": "2S7RtkWEFsql"
      },
      "source": [
        "## **Finalizing Model for Deployment**"
      ]
    },
    {
      "cell_type": "markdown",
      "metadata": {
        "id": "uUdI1YHSFsql"
      },
      "source": [
        "This is the last step in the experiment. The finalize_model() function fits the model onto the complete dataset including the test/hold-out sample (30% in this case). The purpose of this function is to train the model on the complete dataset before it is deployed in production."
      ]
    },
    {
      "cell_type": "code",
      "execution_count": null,
      "metadata": {
        "scrolled": false,
        "id": "I_i8NVMvFsql",
        "outputId": "80219675-d3cf-4d69-d640-5d28d4122436"
      },
      "outputs": [
        {
          "name": "stdout",
          "output_type": "stream",
          "text": [
            "GradientBoostingClassifier(ccp_alpha=0.0, criterion='friedman_mse', init=None,\n",
            "                           learning_rate=0.42, loss='deviance', max_depth=80,\n",
            "                           max_features='sqrt', max_leaf_nodes=None,\n",
            "                           min_impurity_decrease=0.0, min_impurity_split=None,\n",
            "                           min_samples_leaf=4, min_samples_split=2,\n",
            "                           min_weight_fraction_leaf=0.0, n_estimators=155,\n",
            "                           n_iter_no_change=None, presort='deprecated',\n",
            "                           random_state=2964, subsample=0.9000000000000002,\n",
            "                           tol=0.0001, validation_fraction=0.1, verbose=0,\n",
            "                           warm_start=False)\n"
          ]
        }
      ],
      "source": [
        "final_gbc = finalize_model(tuned_gbc)\n",
        "print(final_gbc)"
      ]
    },
    {
      "cell_type": "markdown",
      "metadata": {
        "id": "wObDlGZgFsql"
      },
      "source": [
        "CAUTION: Once the model is finalized using finalize_model(), the entire dataset including the test/hold-out set is used for training. As such, if the model is used for predictions on the hold-out set after finalize_model() is used, the information grid printed will be misleading as you are trying to predict on the same data that was used for modeling."
      ]
    },
    {
      "cell_type": "markdown",
      "metadata": {
        "id": "P7P7eu1EFsql"
      },
      "source": [
        "## **Predicting Unseen Data**"
      ]
    },
    {
      "cell_type": "markdown",
      "metadata": {
        "id": "6Z6Z5kQmFsql"
      },
      "source": [
        "The predict_model() function is also used to predict on the unseen dataset. The only difference is that this time, we will pass the data_unseen parameter.data_unseen is the variable created at the beginning and contains 5% (239 samples) of the original dataset which was never exposed to PyCaret. "
      ]
    },
    {
      "cell_type": "code",
      "execution_count": null,
      "metadata": {
        "id": "cvzlaBjnFsql",
        "outputId": "fd3db4c2-8194-4bb8-c2da-cfd8ddb4198e"
      },
      "outputs": [
        {
          "data": {
            "text/html": [
              "<div>\n",
              "<style scoped>\n",
              "    .dataframe tbody tr th:only-of-type {\n",
              "        vertical-align: middle;\n",
              "    }\n",
              "\n",
              "    .dataframe tbody tr th {\n",
              "        vertical-align: top;\n",
              "    }\n",
              "\n",
              "    .dataframe thead th {\n",
              "        text-align: right;\n",
              "    }\n",
              "</style>\n",
              "<table border=\"1\" class=\"dataframe\">\n",
              "  <thead>\n",
              "    <tr style=\"text-align: right;\">\n",
              "      <th></th>\n",
              "      <th>name</th>\n",
              "      <th>MDVP:Fo(Hz)</th>\n",
              "      <th>MDVP:Fhi(Hz)</th>\n",
              "      <th>MDVP:Flo(Hz)</th>\n",
              "      <th>MDVP:Jitter(%)</th>\n",
              "      <th>MDVP:Jitter(Abs)</th>\n",
              "      <th>MDVP:RAP</th>\n",
              "      <th>MDVP:PPQ</th>\n",
              "      <th>Jitter:DDP</th>\n",
              "      <th>MDVP:Shimmer</th>\n",
              "      <th>...</th>\n",
              "      <th>HNR</th>\n",
              "      <th>status</th>\n",
              "      <th>RPDE</th>\n",
              "      <th>DFA</th>\n",
              "      <th>spread1</th>\n",
              "      <th>spread2</th>\n",
              "      <th>D2</th>\n",
              "      <th>PPE</th>\n",
              "      <th>Label</th>\n",
              "      <th>Score</th>\n",
              "    </tr>\n",
              "  </thead>\n",
              "  <tbody>\n",
              "    <tr>\n",
              "      <th>0</th>\n",
              "      <td>phon_R01_S05_3</td>\n",
              "      <td>153.848</td>\n",
              "      <td>165.738</td>\n",
              "      <td>65.782</td>\n",
              "      <td>0.00840</td>\n",
              "      <td>0.000050</td>\n",
              "      <td>0.00428</td>\n",
              "      <td>0.00450</td>\n",
              "      <td>0.01285</td>\n",
              "      <td>0.03810</td>\n",
              "      <td>...</td>\n",
              "      <td>17.536</td>\n",
              "      <td>1</td>\n",
              "      <td>0.660125</td>\n",
              "      <td>0.704087</td>\n",
              "      <td>-4.095442</td>\n",
              "      <td>0.262564</td>\n",
              "      <td>2.739710</td>\n",
              "      <td>0.365391</td>\n",
              "      <td>1</td>\n",
              "      <td>1.0</td>\n",
              "    </tr>\n",
              "    <tr>\n",
              "      <th>1</th>\n",
              "      <td>phon_R01_S07_1</td>\n",
              "      <td>197.076</td>\n",
              "      <td>206.896</td>\n",
              "      <td>192.055</td>\n",
              "      <td>0.00289</td>\n",
              "      <td>0.000010</td>\n",
              "      <td>0.00166</td>\n",
              "      <td>0.00168</td>\n",
              "      <td>0.00498</td>\n",
              "      <td>0.01098</td>\n",
              "      <td>...</td>\n",
              "      <td>26.775</td>\n",
              "      <td>0</td>\n",
              "      <td>0.422229</td>\n",
              "      <td>0.741367</td>\n",
              "      <td>-7.348300</td>\n",
              "      <td>0.177551</td>\n",
              "      <td>1.743867</td>\n",
              "      <td>0.085569</td>\n",
              "      <td>0</td>\n",
              "      <td>0.0</td>\n",
              "    </tr>\n",
              "    <tr>\n",
              "      <th>2</th>\n",
              "      <td>phon_R01_S17_5</td>\n",
              "      <td>229.401</td>\n",
              "      <td>252.221</td>\n",
              "      <td>221.156</td>\n",
              "      <td>0.00205</td>\n",
              "      <td>0.000009</td>\n",
              "      <td>0.00114</td>\n",
              "      <td>0.00113</td>\n",
              "      <td>0.00342</td>\n",
              "      <td>0.01457</td>\n",
              "      <td>...</td>\n",
              "      <td>26.415</td>\n",
              "      <td>0</td>\n",
              "      <td>0.276850</td>\n",
              "      <td>0.673636</td>\n",
              "      <td>-7.496264</td>\n",
              "      <td>0.056844</td>\n",
              "      <td>2.003032</td>\n",
              "      <td>0.073581</td>\n",
              "      <td>0</td>\n",
              "      <td>0.0</td>\n",
              "    </tr>\n",
              "    <tr>\n",
              "      <th>3</th>\n",
              "      <td>phon_R01_S20_4</td>\n",
              "      <td>95.605</td>\n",
              "      <td>107.715</td>\n",
              "      <td>87.549</td>\n",
              "      <td>0.00702</td>\n",
              "      <td>0.000070</td>\n",
              "      <td>0.00428</td>\n",
              "      <td>0.00371</td>\n",
              "      <td>0.01283</td>\n",
              "      <td>0.03156</td>\n",
              "      <td>...</td>\n",
              "      <td>19.659</td>\n",
              "      <td>1</td>\n",
              "      <td>0.576084</td>\n",
              "      <td>0.778747</td>\n",
              "      <td>-5.132032</td>\n",
              "      <td>0.210458</td>\n",
              "      <td>2.232576</td>\n",
              "      <td>0.260633</td>\n",
              "      <td>1</td>\n",
              "      <td>1.0</td>\n",
              "    </tr>\n",
              "    <tr>\n",
              "      <th>4</th>\n",
              "      <td>phon_R01_S21_4</td>\n",
              "      <td>176.281</td>\n",
              "      <td>227.381</td>\n",
              "      <td>125.610</td>\n",
              "      <td>0.00520</td>\n",
              "      <td>0.000030</td>\n",
              "      <td>0.00287</td>\n",
              "      <td>0.00312</td>\n",
              "      <td>0.00862</td>\n",
              "      <td>0.06511</td>\n",
              "      <td>...</td>\n",
              "      <td>13.922</td>\n",
              "      <td>1</td>\n",
              "      <td>0.602874</td>\n",
              "      <td>0.740837</td>\n",
              "      <td>-5.515071</td>\n",
              "      <td>0.299549</td>\n",
              "      <td>3.136550</td>\n",
              "      <td>0.220968</td>\n",
              "      <td>1</td>\n",
              "      <td>1.0</td>\n",
              "    </tr>\n",
              "  </tbody>\n",
              "</table>\n",
              "<p>5 rows × 26 columns</p>\n",
              "</div>"
            ],
            "text/plain": [
              "             name  MDVP:Fo(Hz)  MDVP:Fhi(Hz)  MDVP:Flo(Hz)  MDVP:Jitter(%)  \\\n",
              "0  phon_R01_S05_3      153.848       165.738        65.782         0.00840   \n",
              "1  phon_R01_S07_1      197.076       206.896       192.055         0.00289   \n",
              "2  phon_R01_S17_5      229.401       252.221       221.156         0.00205   \n",
              "3  phon_R01_S20_4       95.605       107.715        87.549         0.00702   \n",
              "4  phon_R01_S21_4      176.281       227.381       125.610         0.00520   \n",
              "\n",
              "   MDVP:Jitter(Abs)  MDVP:RAP  MDVP:PPQ  Jitter:DDP  MDVP:Shimmer  ...  \\\n",
              "0          0.000050   0.00428   0.00450     0.01285       0.03810  ...   \n",
              "1          0.000010   0.00166   0.00168     0.00498       0.01098  ...   \n",
              "2          0.000009   0.00114   0.00113     0.00342       0.01457  ...   \n",
              "3          0.000070   0.00428   0.00371     0.01283       0.03156  ...   \n",
              "4          0.000030   0.00287   0.00312     0.00862       0.06511  ...   \n",
              "\n",
              "      HNR  status      RPDE       DFA   spread1   spread2        D2       PPE  \\\n",
              "0  17.536       1  0.660125  0.704087 -4.095442  0.262564  2.739710  0.365391   \n",
              "1  26.775       0  0.422229  0.741367 -7.348300  0.177551  1.743867  0.085569   \n",
              "2  26.415       0  0.276850  0.673636 -7.496264  0.056844  2.003032  0.073581   \n",
              "3  19.659       1  0.576084  0.778747 -5.132032  0.210458  2.232576  0.260633   \n",
              "4  13.922       1  0.602874  0.740837 -5.515071  0.299549  3.136550  0.220968   \n",
              "\n",
              "   Label  Score  \n",
              "0      1    1.0  \n",
              "1      0    0.0  \n",
              "2      0    0.0  \n",
              "3      1    1.0  \n",
              "4      1    1.0  \n",
              "\n",
              "[5 rows x 26 columns]"
            ]
          },
          "execution_count": 135,
          "metadata": {},
          "output_type": "execute_result"
        }
      ],
      "source": [
        "unseen_predictions = predict_model(final_gbc, data=data_unseen)\n",
        "unseen_predictions.head()"
      ]
    },
    {
      "cell_type": "markdown",
      "metadata": {
        "id": "9sb-kv08Fsql"
      },
      "source": [
        "The Label and Score columns get added onto the data_unseen set. Label is the prediction and score is the probability of the prediction. Notice that predicted results are concatenated to the original dataset while all the transformations are automatically performed in the background. You can also check the metrics on this since you have actual target column default available. To do that, we will use pycaret.utils module."
      ]
    },
    {
      "cell_type": "code",
      "execution_count": null,
      "metadata": {
        "id": "nRVxPdVAFsql",
        "outputId": "9f0b3a54-05b0-4e2e-af16-076edee3e19f"
      },
      "outputs": [
        {
          "data": {
            "text/plain": [
              "0.9"
            ]
          },
          "execution_count": 136,
          "metadata": {},
          "output_type": "execute_result"
        }
      ],
      "source": [
        "from pycaret.utils import check_metric\n",
        "check_metric(unseen_predictions.status, unseen_predictions['Label'].astype(int), 'Accuracy')"
      ]
    },
    {
      "cell_type": "markdown",
      "metadata": {
        "id": "eusjTeWMFsql"
      },
      "source": [
        "## **Saving the Model**"
      ]
    },
    {
      "cell_type": "markdown",
      "metadata": {
        "id": "SO6qqM9oFsql"
      },
      "source": [
        "We have now finished the experiment by finalizing the tuned_lgbm model which is now stored in final_lgbm variable. We have also used the model stored in final_lgbm to predict data_unseen. This brings us to the end of our experiment."
      ]
    },
    {
      "cell_type": "code",
      "execution_count": null,
      "metadata": {
        "scrolled": true,
        "id": "TG0dxh-kFsql",
        "outputId": "cb380e89-8839-42e2-ffad-9e6590976a2c"
      },
      "outputs": [
        {
          "name": "stdout",
          "output_type": "stream",
          "text": [
            "Transformation Pipeline and Model Succesfully Saved\n"
          ]
        }
      ],
      "source": [
        "save_model(final_gbc,'Final GBC Classifier Model for Parkinson Dataset 15Nov2020')"
      ]
    },
    {
      "cell_type": "markdown",
      "metadata": {
        "id": "Xd8CgoOrFsql"
      },
      "source": [
        "# **Conclusion**"
      ]
    },
    {
      "cell_type": "markdown",
      "metadata": {
        "id": "ZvV6C_uYFsql"
      },
      "source": [
        "OBSERVATION:\n",
        "    The Gradient Boosting Classifier model is the best model of all the models. The precision is 100%, F1 is 98.8% and Recall is 97.6%. The overall Accuracy is 98.2%"
      ]
    },
    {
      "cell_type": "markdown",
      "metadata": {
        "id": "F0Fv5buBFsql"
      },
      "source": [
        "The Gradient Boost Classifier model for the Parkinson dataset has an outstanding performance and is able to predict unseen data with an accuracy of approximately 98.2%%.\n",
        "\n",
        "Reasons for choosing Gradient Boost Classifier Model:\n",
        "- The AUC and ROC values are extremely high which interprets that the model is good for predictions\n",
        "- Upon tuning the Recall metric, the Recall measure is improved. Thus, the model can predict the number of patients with Parkinson's disease correctly\n",
        "- The standard deviation of the model is very low which means that the model is not overfit\n",
        "- All the metrics clock more than 95%, thus the model is not underfit\n",
        "- The accuracy of predicting the test / hold-out data is approximately 98.2% which is an excellent outcome\n",
        "- Lastly, the model is also able to predict the unseen data with an accuracy of approximately 0.9\n"
      ]
    }
  ],
  "metadata": {
    "kernelspec": {
      "display_name": "pycaret",
      "language": "python",
      "name": "pycaretenv"
    },
    "language_info": {
      "codemirror_mode": {
        "name": "ipython",
        "version": 3
      },
      "file_extension": ".py",
      "mimetype": "text/x-python",
      "name": "python",
      "nbconvert_exporter": "python",
      "pygments_lexer": "ipython3",
      "version": "3.6.12"
    },
    "colab": {
      "provenance": []
    }
  },
  "nbformat": 4,
  "nbformat_minor": 0
}